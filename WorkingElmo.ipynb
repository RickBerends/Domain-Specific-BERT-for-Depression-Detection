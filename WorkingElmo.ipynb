{
  "nbformat": 4,
  "nbformat_minor": 0,
  "metadata": {
    "colab": {
      "name": "WorkingElmo.ipynb",
      "provenance": [],
      "collapsed_sections": [],
      "authorship_tag": "ABX9TyN2TagekfX9OhbX/kzKW7oF",
      "include_colab_link": true
    },
    "kernelspec": {
      "name": "python3",
      "display_name": "Python 3"
    },
    "language_info": {
      "name": "python"
    }
  },
  "cells": [
    {
      "cell_type": "markdown",
      "metadata": {
        "id": "view-in-github",
        "colab_type": "text"
      },
      "source": [
        "<a href=\"https://colab.research.google.com/github/RickBerends/Domain-Specific-BERT-for-Depression-Detection/blob/main/WorkingElmo.ipynb\" target=\"_parent\"><img src=\"https://colab.research.google.com/assets/colab-badge.svg\" alt=\"Open In Colab\"/></a>"
      ]
    },
    {
      "cell_type": "code",
      "metadata": {
        "colab": {
          "base_uri": "https://localhost:8080/"
        },
        "id": "6v75Cb5PtsMx",
        "outputId": "deb52873-56ee-4c28-fc0b-259790061b83"
      },
      "source": [
        "from google.colab import drive\n",
        "drive.mount('/content/drive')"
      ],
      "execution_count": null,
      "outputs": [
        {
          "output_type": "stream",
          "text": [
            "Mounted at /content/drive\n"
          ],
          "name": "stdout"
        }
      ]
    },
    {
      "cell_type": "code",
      "metadata": {
        "id": "IwJtEny5ty05"
      },
      "source": [
        "import numpy as np\n",
        "import pandas as pd\n",
        "import torch\n",
        "import tensorflow\n",
        "import os\n",
        "os.environ['TF_CPP_MIN_LOG_LEVEL'] = '3' \n",
        "import glob\n",
        "\n",
        "# For Visualization\n",
        "import matplotlib.pyplot as plt\n",
        "import seaborn as sns"
      ],
      "execution_count": null,
      "outputs": []
    },
    {
      "cell_type": "code",
      "metadata": {
        "colab": {
          "base_uri": "https://localhost:8080/"
        },
        "id": "Mk3qPRGmtzbj",
        "outputId": "6f459111-1593-4cf7-921c-ce8a87451ff2"
      },
      "source": [
        "os.chdir('/content/drive/My Drive/Splits')\n",
        "\n",
        "#Load train, split = 0 for train. \n",
        "df = pd.read_csv(\"train_split.csv\", usecols=[0,1])\n",
        "df['split'] = 0\n",
        "df['Participant_ID'].astype(int)\n",
        "\n",
        "#Load test split, split = 2 for test.\n",
        "df1 = pd.read_csv(\"full_test_split copy.csv\", sep=';', usecols=[0,1])\n",
        "df1['split'] = 2\n",
        "df1['Participant_ID'].astype(int)\n",
        "df1.rename(columns = {'PHQ_Binary':'PHQ8_Binary'}, inplace = True)\n",
        "\n",
        "#Load dev split, split = 1 for dev.\n",
        "df2 = pd.read_csv(\"dev_split.csv\", usecols=[0,1])\n",
        "df2['split'] = 1\n",
        "df2['Participant_ID'].astype(int)\n",
        "\n",
        "#Get them together\n",
        "final_df = pd.concat([df,df1,df2])\n",
        "final_df.sort_values('Participant_ID', inplace=True)\n",
        "\n",
        "#Building data cleaning. \n",
        "\n",
        "import nltk\n",
        "nltk.download('popular')\n",
        "from nltk.corpus import stopwords\n",
        "from nltk.stem import WordNetLemmatizer\n",
        "\n",
        "import re\n",
        "\n",
        "def clean_text(text): \n",
        "  #stop_words = set(stopwords.words('english'))\n",
        "  #lemmatizer = WordNetLemmatizer()\n",
        "\n",
        "  text = text.lower()\n",
        "  text = re.sub(r\"<sync>\", \"\",text)\n",
        "  text = re.sub(r\"he's\", \"he is\", text)\n",
        "  text = re.sub(r\"there's\", \"there is\", text)\n",
        "  text = re.sub(r\"we're\", \"we are\", text)\n",
        "  text = re.sub(r\"That's\", \"That is\", text)\n",
        "  text = re.sub(r\"won't\", \"will not\", text)\n",
        "  text = re.sub(r\"they're\", \"they are\", text)\n",
        "  text = re.sub(r\"can't\", \"cannot\", text)\n",
        "  text = re.sub(r\"wasn't\", \"was not\", text)\n",
        "  text = re.sub(r\"don't\", \"do not\", text)\n",
        "  text = re.sub(r\"aren't\", \"are not\", text)\n",
        "  text = re.sub(r\"isn't\", \"is not\", text)\n",
        "  text = re.sub(r\"what's\", \"what is\", text)\n",
        "  text = re.sub(r\"haven't\", \"have not\", text)\n",
        "  text = re.sub(r\"hasn't\", \"has not\", text)\n",
        "  text = re.sub(r\"there's\", \"there is\", text)\n",
        "  text = re.sub(r\"he's\", \"he is\", text)\n",
        "  text = re.sub(r\"it's\", \"it is\", text)\n",
        "  text = re.sub(r\"you're\", \"you are\", text)\n",
        "  text = re.sub(r\"i'm\", \"i am\", text)\n",
        "  text = re.sub(r\"shouldn't\", \"should not\", text)\n",
        "  text = re.sub(r\"wouldn't\", \"would not\", text)\n",
        "  text = re.sub(r\"isn't\", \"is not\", text)\n",
        "  text = re.sub(r\"here's\", \"here is\", text)\n",
        "  text = re.sub(r\"you've\", \"you have\", text)\n",
        "  text = re.sub(r\"we're\", \"we are\", text)\n",
        "  text = re.sub(r\"what's\", \"what is\", text)\n",
        "  text = re.sub(r\"couldn't\", \"could not\", text)\n",
        "  text = re.sub(r\"we've\", \"we have\", text)\n",
        "  text = re.sub(r\"it's\", \"it is\", text)\n",
        "  text = re.sub(r\"doesn't\", \"does not\", text)\n",
        "  text = re.sub(r\"who's\", \"who is\", text)\n",
        "  text = re.sub(r\"y'all\", \"you all\", text)\n",
        "  text = re.sub(r\"would've\", \"would have\", text)\n",
        "  text = re.sub(r\"it'll\", \"it will\", text)\n",
        "  text = re.sub(r\"we'll\", \"we will\", text)\n",
        "  text = re.sub(r\"we've\", \"we have\", text)\n",
        "  text = re.sub(r\"he'll\", \"he will\", text)\n",
        "  text = re.sub(r\"y'all\", \"you all\", text)\n",
        "  text = re.sub(r\"weren't\", \"Were not\", text)\n",
        "  text = re.sub(r\"didn't\", \"did not\", text)\n",
        "  text = re.sub(r\"they'll\", \"they will\", text)\n",
        "  text = re.sub(r\"they'd\", \"they would\", text)\n",
        "  text = re.sub(r\"don't\", \"do not\", text)\n",
        "  text = re.sub(r\"they've\", \"they have\", text)\n",
        "  text = re.sub(r\"i'd\", \"I would\", text)\n",
        "  text = re.sub(r\"should've\", \"should have\", text)\n",
        "  text = re.sub(r\"where's\", \"where is\", text)\n",
        "  text = re.sub(r\"we'd\", \"we would\", text)\n",
        "  text = re.sub(r\"i'll\", \"i will\", text)\n",
        "  text = re.sub(r\"weren't\", \"were not\", text)\n",
        "  text = re.sub(r\"they're\", \"they are\", text)\n",
        "  text = re.sub(r\"let's\", \"let us\", text)\n",
        "  text = re.sub(r\"it's\", \"it is\", text)\n",
        "  text = re.sub(r\"can't\", \"cannot\", text)\n",
        "  text = re.sub(r\"don't\", \"do not\", text)\n",
        "  text = re.sub(r\"you're\", \"you are\", text)\n",
        "  text = re.sub(r\"i've\", \"i have\", text)\n",
        "  text = re.sub(r\"that's\", \"that is\", text)\n",
        "  text = re.sub(r\"i'll\", \"i will\", text)\n",
        "  text = re.sub(r\"doesn't\", \"does not\", text)\n",
        "  text = re.sub(r\"i'd\", \"i would\", text)\n",
        "  text = re.sub(r\"didn't\", \"did not\", text)\n",
        "  text = re.sub(r\"ain't\", \"am not\", text)\n",
        "  text = re.sub(r\"you'll\", \"you will\", text)\n",
        "  text = re.sub(r\"i've\", \"i have\", text)\n",
        "  text = re.sub(r\"Don't\", \"do not\", text)\n",
        "  text = re.sub(r\"i'll\", \"i will\", text)\n",
        "  text = re.sub(r\"i'd\", \"i would\", text)\n",
        "  text = re.sub(r\"let's\", \"Let us\", text)\n",
        "  text = re.sub(r\"you'd\", \"you would\", text)\n",
        "  text = re.sub(r\"it's\", \"it is\", text)\n",
        "  text = re.sub(r\"ain't\", \"am not\", text)\n",
        "  text = re.sub(r\"haven't\", \"have not\", text)\n",
        "  text = re.sub(r\"could've\", \"could have\", text)\n",
        "  text = re.sub(r\"youve\", \"you have\", text)  \n",
        "  text = re.sub(r\"[-()\\\"#/@;:<>.?,]\",\"\",text)\n",
        "  text = ' '.join(text.split())\n",
        "  text = text.split(' ')\n",
        "  #text = [w for w in text if not w in stop_words]\n",
        "  #text = [lemmatizer.lemmatize(w) for w in text]\n",
        "  text = ' '.join(text)\n",
        "  return text\n",
        "\n",
        "#Loading all the text from the individual transcripts into one dataframe. \n",
        "os.chdir('/content/drive/My Drive/DAICWOZ_transcripts')\n",
        "\n",
        "lst = []\n",
        "labels = []\n",
        "pd.set_option('max_colwidth', 800)\n",
        "\n",
        "for file in glob.glob(\"*.csv\"):\n",
        "    name = file\n",
        "    try: \n",
        "        df = pd.read_csv(name, usecols=[2,3], sep='\\t')\n",
        "        outcome = df['speaker'] == 'Participant' \n",
        "        new_str = ''\n",
        "    except ValueError: \n",
        "        print(name)\n",
        "        continue\n",
        "    for index, j in enumerate(outcome):\n",
        "        if j == False: \n",
        "            continue\n",
        "        else: \n",
        "            response = df['value'][index:index+1]\n",
        "            response = response.to_string(index=False)\n",
        "            new_str+= response\n",
        "    new_str = clean_text(new_str)\n",
        "    lst.append(new_str)\n",
        "    labels.append(name.split('_')[0])\n",
        "\n",
        "final_df['text'] = lst"
      ],
      "execution_count": null,
      "outputs": [
        {
          "output_type": "stream",
          "text": [
            "[nltk_data] Downloading collection 'popular'\n",
            "[nltk_data]    | \n",
            "[nltk_data]    | Downloading package cmudict to /root/nltk_data...\n",
            "[nltk_data]    |   Unzipping corpora/cmudict.zip.\n",
            "[nltk_data]    | Downloading package gazetteers to /root/nltk_data...\n",
            "[nltk_data]    |   Unzipping corpora/gazetteers.zip.\n",
            "[nltk_data]    | Downloading package genesis to /root/nltk_data...\n",
            "[nltk_data]    |   Unzipping corpora/genesis.zip.\n",
            "[nltk_data]    | Downloading package gutenberg to /root/nltk_data...\n",
            "[nltk_data]    |   Unzipping corpora/gutenberg.zip.\n",
            "[nltk_data]    | Downloading package inaugural to /root/nltk_data...\n",
            "[nltk_data]    |   Unzipping corpora/inaugural.zip.\n",
            "[nltk_data]    | Downloading package movie_reviews to\n",
            "[nltk_data]    |     /root/nltk_data...\n",
            "[nltk_data]    |   Unzipping corpora/movie_reviews.zip.\n",
            "[nltk_data]    | Downloading package names to /root/nltk_data...\n",
            "[nltk_data]    |   Unzipping corpora/names.zip.\n",
            "[nltk_data]    | Downloading package shakespeare to /root/nltk_data...\n",
            "[nltk_data]    |   Unzipping corpora/shakespeare.zip.\n",
            "[nltk_data]    | Downloading package stopwords to /root/nltk_data...\n",
            "[nltk_data]    |   Unzipping corpora/stopwords.zip.\n",
            "[nltk_data]    | Downloading package treebank to /root/nltk_data...\n",
            "[nltk_data]    |   Unzipping corpora/treebank.zip.\n",
            "[nltk_data]    | Downloading package twitter_samples to\n",
            "[nltk_data]    |     /root/nltk_data...\n",
            "[nltk_data]    |   Unzipping corpora/twitter_samples.zip.\n",
            "[nltk_data]    | Downloading package omw to /root/nltk_data...\n",
            "[nltk_data]    |   Unzipping corpora/omw.zip.\n",
            "[nltk_data]    | Downloading package wordnet to /root/nltk_data...\n",
            "[nltk_data]    |   Unzipping corpora/wordnet.zip.\n",
            "[nltk_data]    | Downloading package wordnet_ic to /root/nltk_data...\n",
            "[nltk_data]    |   Unzipping corpora/wordnet_ic.zip.\n",
            "[nltk_data]    | Downloading package words to /root/nltk_data...\n",
            "[nltk_data]    |   Unzipping corpora/words.zip.\n",
            "[nltk_data]    | Downloading package maxent_ne_chunker to\n",
            "[nltk_data]    |     /root/nltk_data...\n",
            "[nltk_data]    |   Unzipping chunkers/maxent_ne_chunker.zip.\n",
            "[nltk_data]    | Downloading package punkt to /root/nltk_data...\n",
            "[nltk_data]    |   Unzipping tokenizers/punkt.zip.\n",
            "[nltk_data]    | Downloading package snowball_data to\n",
            "[nltk_data]    |     /root/nltk_data...\n",
            "[nltk_data]    | Downloading package averaged_perceptron_tagger to\n",
            "[nltk_data]    |     /root/nltk_data...\n",
            "[nltk_data]    |   Unzipping taggers/averaged_perceptron_tagger.zip.\n",
            "[nltk_data]    | \n",
            "[nltk_data]  Done downloading collection popular\n"
          ],
          "name": "stdout"
        }
      ]
    },
    {
      "cell_type": "code",
      "metadata": {
        "id": "uBGHYSTFBBey"
      },
      "source": [
        "#Split the text, based on the length of the text. \n",
        "\n",
        "def get_split(text1): \n",
        "  l_total = []\n",
        "  l_partial = []\n",
        "\n",
        "  #Check whether or not the text is bigger than 150 words and should be split.\n",
        "  if len(text1.split())//20>0:\n",
        "    n = len(text1.split())//20\n",
        "  else: \n",
        "    n = 1\n",
        "  \n",
        "  #If that's the case, the first split is smaller than 200, the next split is [150:350], [300:550] etc. \n",
        "  for w in range(n): \n",
        "    if w == 0: \n",
        "      l_partial = text1.split()[:20]\n",
        "      l_total.append(\" \".join(l_partial))\n",
        "\n",
        "    else: \n",
        "      l_partial = text1.split()[w*20: w*20+ 20]\n",
        "      l_total.append(\" \".join(l_partial))\n",
        "  return l_total\n",
        "\n",
        "twohundred_lst = []\n",
        "\n",
        "for i in lst: \n",
        "  twohundred_lst.append(get_split(i))\n",
        "\n",
        "#Finally replace the \"text\" with text, split up in lists.\n",
        "final_df['text'] = twohundred_lst"
      ],
      "execution_count": null,
      "outputs": []
    },
    {
      "cell_type": "code",
      "metadata": {
        "id": "Gy4J1oOjBBx2"
      },
      "source": [
        "df_train = pd.DataFrame()\n",
        "df_val = pd.DataFrame()\n",
        "df_test = pd.DataFrame()\n",
        "\n",
        "df_train = final_df[final_df['split'] == 0]\n",
        "df_val = final_df[final_df['split'] == 1]\n",
        "df_test = final_df[final_df['split'] == 2]"
      ],
      "execution_count": null,
      "outputs": []
    },
    {
      "cell_type": "code",
      "metadata": {
        "id": "8hn4cJbLBBnw"
      },
      "source": [
        "random_seed = 42\n",
        "\n",
        "#Copy dataframe to new dataframe\n",
        "df_train_over = df_train.copy()\n",
        "\n",
        "#Sample random rows\n",
        "n = 77 - 30 \n",
        "\n",
        "#Minority class\n",
        "minor = df_train[df_train['PHQ8_Binary'] == 1]\n",
        "\n",
        "rows = minor.sample(47, replace = True)\n",
        "\n",
        "over_train_df = df_train_over.append(rows, ignore_index=True)\n",
        "df_train = over_train_df"
      ],
      "execution_count": null,
      "outputs": []
    },
    {
      "cell_type": "code",
      "metadata": {
        "colab": {
          "base_uri": "https://localhost:8080/"
        },
        "id": "hYHZHEKsv9iQ",
        "outputId": "ba6fd772-5409-4a67-db7e-10f066614af1"
      },
      "source": [
        "!pip install \"tensorflow>=2.0.0\"\n",
        "!pip install --upgrade tensorflow-hub"
      ],
      "execution_count": null,
      "outputs": [
        {
          "output_type": "stream",
          "text": [
            "Requirement already satisfied: tensorflow>=2.0.0 in /usr/local/lib/python3.7/dist-packages (2.4.1)\n",
            "Requirement already satisfied: tensorflow-estimator<2.5.0,>=2.4.0 in /usr/local/lib/python3.7/dist-packages (from tensorflow>=2.0.0) (2.4.0)\n",
            "Requirement already satisfied: keras-preprocessing~=1.1.2 in /usr/local/lib/python3.7/dist-packages (from tensorflow>=2.0.0) (1.1.2)\n",
            "Requirement already satisfied: astunparse~=1.6.3 in /usr/local/lib/python3.7/dist-packages (from tensorflow>=2.0.0) (1.6.3)\n",
            "Requirement already satisfied: wrapt~=1.12.1 in /usr/local/lib/python3.7/dist-packages (from tensorflow>=2.0.0) (1.12.1)\n",
            "Requirement already satisfied: tensorboard~=2.4 in /usr/local/lib/python3.7/dist-packages (from tensorflow>=2.0.0) (2.4.1)\n",
            "Requirement already satisfied: termcolor~=1.1.0 in /usr/local/lib/python3.7/dist-packages (from tensorflow>=2.0.0) (1.1.0)\n",
            "Requirement already satisfied: absl-py~=0.10 in /usr/local/lib/python3.7/dist-packages (from tensorflow>=2.0.0) (0.12.0)\n",
            "Requirement already satisfied: numpy~=1.19.2 in /usr/local/lib/python3.7/dist-packages (from tensorflow>=2.0.0) (1.19.5)\n",
            "Requirement already satisfied: flatbuffers~=1.12.0 in /usr/local/lib/python3.7/dist-packages (from tensorflow>=2.0.0) (1.12)\n",
            "Requirement already satisfied: h5py~=2.10.0 in /usr/local/lib/python3.7/dist-packages (from tensorflow>=2.0.0) (2.10.0)\n",
            "Requirement already satisfied: protobuf>=3.9.2 in /usr/local/lib/python3.7/dist-packages (from tensorflow>=2.0.0) (3.12.4)\n",
            "Requirement already satisfied: grpcio~=1.32.0 in /usr/local/lib/python3.7/dist-packages (from tensorflow>=2.0.0) (1.32.0)\n",
            "Requirement already satisfied: google-pasta~=0.2 in /usr/local/lib/python3.7/dist-packages (from tensorflow>=2.0.0) (0.2.0)\n",
            "Requirement already satisfied: typing-extensions~=3.7.4 in /usr/local/lib/python3.7/dist-packages (from tensorflow>=2.0.0) (3.7.4.3)\n",
            "Requirement already satisfied: gast==0.3.3 in /usr/local/lib/python3.7/dist-packages (from tensorflow>=2.0.0) (0.3.3)\n",
            "Requirement already satisfied: six~=1.15.0 in /usr/local/lib/python3.7/dist-packages (from tensorflow>=2.0.0) (1.15.0)\n",
            "Requirement already satisfied: wheel~=0.35 in /usr/local/lib/python3.7/dist-packages (from tensorflow>=2.0.0) (0.36.2)\n",
            "Requirement already satisfied: opt-einsum~=3.3.0 in /usr/local/lib/python3.7/dist-packages (from tensorflow>=2.0.0) (3.3.0)\n",
            "Requirement already satisfied: google-auth<2,>=1.6.3 in /usr/local/lib/python3.7/dist-packages (from tensorboard~=2.4->tensorflow>=2.0.0) (1.30.0)\n",
            "Requirement already satisfied: setuptools>=41.0.0 in /usr/local/lib/python3.7/dist-packages (from tensorboard~=2.4->tensorflow>=2.0.0) (56.1.0)\n",
            "Requirement already satisfied: tensorboard-plugin-wit>=1.6.0 in /usr/local/lib/python3.7/dist-packages (from tensorboard~=2.4->tensorflow>=2.0.0) (1.8.0)\n",
            "Requirement already satisfied: google-auth-oauthlib<0.5,>=0.4.1 in /usr/local/lib/python3.7/dist-packages (from tensorboard~=2.4->tensorflow>=2.0.0) (0.4.4)\n",
            "Requirement already satisfied: requests<3,>=2.21.0 in /usr/local/lib/python3.7/dist-packages (from tensorboard~=2.4->tensorflow>=2.0.0) (2.23.0)\n",
            "Requirement already satisfied: markdown>=2.6.8 in /usr/local/lib/python3.7/dist-packages (from tensorboard~=2.4->tensorflow>=2.0.0) (3.3.4)\n",
            "Requirement already satisfied: werkzeug>=0.11.15 in /usr/local/lib/python3.7/dist-packages (from tensorboard~=2.4->tensorflow>=2.0.0) (2.0.0)\n",
            "Requirement already satisfied: pyasn1-modules>=0.2.1 in /usr/local/lib/python3.7/dist-packages (from google-auth<2,>=1.6.3->tensorboard~=2.4->tensorflow>=2.0.0) (0.2.8)\n",
            "Requirement already satisfied: rsa<5,>=3.1.4; python_version >= \"3.6\" in /usr/local/lib/python3.7/dist-packages (from google-auth<2,>=1.6.3->tensorboard~=2.4->tensorflow>=2.0.0) (4.7.2)\n",
            "Requirement already satisfied: cachetools<5.0,>=2.0.0 in /usr/local/lib/python3.7/dist-packages (from google-auth<2,>=1.6.3->tensorboard~=2.4->tensorflow>=2.0.0) (4.2.2)\n",
            "Requirement already satisfied: requests-oauthlib>=0.7.0 in /usr/local/lib/python3.7/dist-packages (from google-auth-oauthlib<0.5,>=0.4.1->tensorboard~=2.4->tensorflow>=2.0.0) (1.3.0)\n",
            "Requirement already satisfied: chardet<4,>=3.0.2 in /usr/local/lib/python3.7/dist-packages (from requests<3,>=2.21.0->tensorboard~=2.4->tensorflow>=2.0.0) (3.0.4)\n",
            "Requirement already satisfied: idna<3,>=2.5 in /usr/local/lib/python3.7/dist-packages (from requests<3,>=2.21.0->tensorboard~=2.4->tensorflow>=2.0.0) (2.10)\n",
            "Requirement already satisfied: urllib3!=1.25.0,!=1.25.1,<1.26,>=1.21.1 in /usr/local/lib/python3.7/dist-packages (from requests<3,>=2.21.0->tensorboard~=2.4->tensorflow>=2.0.0) (1.24.3)\n",
            "Requirement already satisfied: certifi>=2017.4.17 in /usr/local/lib/python3.7/dist-packages (from requests<3,>=2.21.0->tensorboard~=2.4->tensorflow>=2.0.0) (2020.12.5)\n",
            "Requirement already satisfied: importlib-metadata; python_version < \"3.8\" in /usr/local/lib/python3.7/dist-packages (from markdown>=2.6.8->tensorboard~=2.4->tensorflow>=2.0.0) (4.0.1)\n",
            "Requirement already satisfied: pyasn1<0.5.0,>=0.4.6 in /usr/local/lib/python3.7/dist-packages (from pyasn1-modules>=0.2.1->google-auth<2,>=1.6.3->tensorboard~=2.4->tensorflow>=2.0.0) (0.4.8)\n",
            "Requirement already satisfied: oauthlib>=3.0.0 in /usr/local/lib/python3.7/dist-packages (from requests-oauthlib>=0.7.0->google-auth-oauthlib<0.5,>=0.4.1->tensorboard~=2.4->tensorflow>=2.0.0) (3.1.0)\n",
            "Requirement already satisfied: zipp>=0.5 in /usr/local/lib/python3.7/dist-packages (from importlib-metadata; python_version < \"3.8\"->markdown>=2.6.8->tensorboard~=2.4->tensorflow>=2.0.0) (3.4.1)\n",
            "Requirement already up-to-date: tensorflow-hub in /usr/local/lib/python3.7/dist-packages (0.12.0)\n",
            "Requirement already satisfied, skipping upgrade: numpy>=1.12.0 in /usr/local/lib/python3.7/dist-packages (from tensorflow-hub) (1.19.5)\n",
            "Requirement already satisfied, skipping upgrade: protobuf>=3.8.0 in /usr/local/lib/python3.7/dist-packages (from tensorflow-hub) (3.12.4)\n",
            "Requirement already satisfied, skipping upgrade: setuptools in /usr/local/lib/python3.7/dist-packages (from protobuf>=3.8.0->tensorflow-hub) (56.1.0)\n",
            "Requirement already satisfied, skipping upgrade: six>=1.9 in /usr/local/lib/python3.7/dist-packages (from protobuf>=3.8.0->tensorflow-hub) (1.15.0)\n"
          ],
          "name": "stdout"
        }
      ]
    },
    {
      "cell_type": "code",
      "metadata": {
        "colab": {
          "base_uri": "https://localhost:8080/",
          "height": 50
        },
        "id": "-ObLAsQRmjFy",
        "outputId": "bccc3e9e-8add-4841-df1b-dbb65458b2d0"
      },
      "source": [
        "df_train.text[1][1]"
      ],
      "execution_count": null,
      "outputs": [
        {
          "output_type": "execute_result",
          "data": {
            "application/vnd.google.colaboratory.intrinsic+json": {
              "type": "string"
            },
            "text/plain": [
              "'it uh just unemployed at the moment but uh actively seeking uh uh doing what i am supposed to be'"
            ]
          },
          "metadata": {
            "tags": []
          },
          "execution_count": 8
        }
      ]
    },
    {
      "cell_type": "code",
      "metadata": {
        "id": "65Dc8-4C1CXF"
      },
      "source": [
        "# import necessary libraries\n",
        "import tensorflow_hub as hub\n",
        "import tensorflow.compat.v1 as tf\n",
        "tf.disable_eager_execution()\n",
        "tf.get_logger().setLevel('ERROR')\n",
        "  \n",
        "# Load pre trained ELMo model\n",
        "elmo = hub.Module(\"https://tfhub.dev/google/elmo/3\", trainable=True)\n",
        "\n",
        "def get_elmo(dataframe):\n",
        "\n",
        "    \"\"\" This function takes a list of interview data, where every part of the\n",
        "    list is one interview, that consists of multiple sentences\n",
        "\n",
        "    returns: elmo embedding of every sentence in the list\n",
        "    \"\"\"\n",
        "    elmo_embeddings = []\n",
        "\n",
        "    participants = dataframe[\"Participant_ID\"]\n",
        "\n",
        "    # For every participants...\n",
        "    for i, p in enumerate(participants):\n",
        "\n",
        "      \"\"\"if i < 67: \n",
        "        continue\n",
        "      else: \"\"\"\n",
        "\n",
        "      lst = [] \n",
        "\n",
        "      if i < 3: \n",
        "        continue\n",
        "      else: \n",
        "\n",
        "        print(\"Running... {} / {}\".format(i + 1, len(participants)))\n",
        "        print(\"    Currently extracting elmo for participant {}\".format(p))\n",
        "    \n",
        "        # Take the data from the dataframe\n",
        "        transcript = dataframe.text.values[i]\n",
        "\n",
        "        for j in range(0, 128): \n",
        "          try: \n",
        "            embeddings = elmo(\n",
        "              [\n",
        "                df_train.text.values[i][j],\n",
        "              ],\n",
        "            signature=\"default\",\n",
        "            as_dict=True)[\"default\"]\n",
        "            init = tf.initialize_all_variables()\n",
        "            sess = tf.Session()\n",
        "            sess.run(init)\n",
        "\n",
        "            one = sess.run(embeddings[0])\n",
        "            temporary_lst = one.tolist()\n",
        "            lst.append(temporary_lst)\n",
        "            \n",
        "          except:\n",
        "              continue\n",
        "\n",
        "        # Save to file!\n",
        "        filename = str(p) + \"_\" + str(i) + \"_elmo.csv\"\n",
        "        file_path = \"/content/drive/My Drive/elmo_train_1/\" + filename\n",
        "        np.savetxt(file_path, lst, delimiter=',', fmt='%s')\n",
        "    \n",
        "    return elmo_embeddings\n",
        "\n",
        "# References:\n",
        "    # - https://github.com/allenai/allennlp/blob/v0.9.0/tutorials/how_to/elmo.md\n",
        "    # - https://github.com/RicherMans/text_based_depression"
      ],
      "execution_count": null,
      "outputs": []
    },
    {
      "cell_type": "code",
      "metadata": {
        "colab": {
          "base_uri": "https://localhost:8080/"
        },
        "id": "-KRft0043qPD",
        "outputId": "73594915-c2b0-49c8-ab4f-883f9b57263e"
      },
      "source": [
        "get_elmo(df_train)"
      ],
      "execution_count": null,
      "outputs": [
        {
          "output_type": "stream",
          "text": [
            "Running... 4 / 107\n",
            "    Currently extracting elmo for participant 310\n",
            "Running... 5 / 107\n",
            "    Currently extracting elmo for participant 312\n",
            "Running... 6 / 107\n",
            "    Currently extracting elmo for participant 313\n",
            "Running... 7 / 107\n",
            "    Currently extracting elmo for participant 315\n",
            "Running... 8 / 107\n",
            "    Currently extracting elmo for participant 316\n",
            "Running... 9 / 107\n",
            "    Currently extracting elmo for participant 317\n",
            "Running... 10 / 107\n",
            "    Currently extracting elmo for participant 318\n",
            "Running... 11 / 107\n",
            "    Currently extracting elmo for participant 319\n",
            "Running... 12 / 107\n",
            "    Currently extracting elmo for participant 320\n",
            "Running... 13 / 107\n",
            "    Currently extracting elmo for participant 321\n"
          ],
          "name": "stdout"
        }
      ]
    },
    {
      "cell_type": "code",
      "metadata": {
        "colab": {
          "base_uri": "https://localhost:8080/"
        },
        "id": "7YqX0PsUm_iv",
        "outputId": "d11c526a-d491-4a43-ca69-fa31bfce02f9"
      },
      "source": [
        "get_elmo(df_val)\n",
        "#Check how 377 looks."
      ],
      "execution_count": null,
      "outputs": [
        {
          "output_type": "stream",
          "text": [
            "Running... 7 / 35\n",
            "    Currently extracting elmo for participant 377\n",
            "    # of characters: 8\n",
            "['synch sniffle sniffle yes feeling okay little bit tired part feeling pretty good actually originally woodland hill san fernando valley born moved lomita los angeles county mm probably around nineteen ninety three mean twenty three yeah nineteen year living yeah clear throat thing really like would say know beach um know much traffic really care um definitely know kinda like nightlife um know people general like conversing others yeah clear throat right yep yeah actually mean cannot see shoe um yeah actually travel lot place like hawaii caribbean uh let u see make sound mouth um know different place like arizona oregon washington pretty much would say usually mainly like um hawaii caribbean mexico well yep clear throat um think experience know like cannot kinda experience culture um different people know whole background scenery know something new experience would say something know people seen clear throat well let u see recently took trip hawaii couple month ago back december around christmas time new year pretty fun went couple different island went uh let u see think kauai went oahu uh maui know place like clear throat yep um know would say um know probably like hawaii like caribbean know like', \"recently took trip hawaii couple month ago back december around christmas time new year pretty fun went couple different island went uh let u see think kauai went oahu uh maui know place like clear throat yep um know would say um know probably like hawaii like caribbean know like said whole experience factor seeing um know new different thing thing unique clear throat yeah actually study journalism right final semester bout graduate couple month clear throat yep well know kinda funny 'cause know started uh know two year community college know going uh like business management something know think thin basically um accounting know kinda figured decided go journalism 'cause could mean know I would probably still sitting desk know least journalism go field know talk people know kinda know receive information gather information sorta deal know write story thought know lot interesting opposed know kinda crunching number day yep laughter dream job would say um know something maybe radio broadcasting sport broadcasting um know think would really interesting something definitely passion mine clear throat relationship family pretty good know live parent still like said twenty three year old um know certain time little bit shaky little bit rocky\", \"yep laughter dream job would say um know something maybe radio broadcasting sport broadcasting um know think would really interesting something definitely passion mine clear throat relationship family pretty good know live parent still like said twenty three year old um know certain time little bit shaky little bit rocky part pretty good know matured lot last year thing uh know getting back speed would say thing thing going pretty well clear throat know think stem somewhere kind middle know sometimes outgoing talkative people relaxed laidback time kinda much like go shell know time like kinda shy know people well never met one thing kinda ki yeah kinda gotta meet middle know either talk talkative time know little bit shy know get conversation going fairly talkative clear throat laughter um know usually um would listen music know maybe know kinda go drive uh know hang friend know something kinda know ease ease know 'cause know like said sometimes get little bit know tense wanna relax know thing enjoy clear throat know actually better um couple year back know point like pretty much could control temper like whatsoever like li mean would pretty much get angry know littlest thing everything would\", \"ease ease know 'cause know like said sometimes get little bit know tense wanna relax know thing enjoy clear throat know actually better um couple year back know point like pretty much could control temper like whatsoever like li mean would pretty much get angry know littlest thing everything would kinda tick know definitely learned uh know control sorta thing know made better person clear throat well let u see trying think probably something family mother maybe cannot remember top head know always something miniscule probably remember know eventually make apologize know accept know wrong certain cer know certain circumstance clear throat yeah something feel guilty um probably know nice others could past know mean past know like dwell sorta thing think one thing tried work also one thing kinda regret nice clear throat hardest decision ever make uh pretty recent kinda tough uh actually buddy air force recently got diagnosed uh paranoid schizophrenia really tough hard talk know really anymore like used one thing feel like kind ignoring wanna time know tendency could little know crazy probably like know sort like traumatic stress disorder maybe military know yeah clear throat yeah pretty tough know 'cause go way back best\", \"diagnosed uh paranoid schizophrenia really tough hard talk know really anymore like used one thing feel like kind ignoring wanna time know tendency could little know crazy probably like know sort like traumatic stress disorder maybe military know yeah clear throat yeah pretty tough know 'cause go way back best friend sigh since probably five six year old yeah really hard deal know try know try keep back mind know always ever forget yeah clear throat best friend laughter well he'd probably say know pretty pretty earth guy usually pretty honest sometimes brutally honest know try work um he'd probably say pretty funny um like hang know kinda thing know normal activity like person know go beach hang watch movie know grab beer sorta deal yeah clear throat know varies sometimes easier others know really tired know probably good sleep sleeping great last day 'cause know house uh worker roof putting new roofing kinda tough always wake early morning sometimes little bit crabby part usually get pretty good sleep clear throat lately eh feeling pretty good know know thing starting look actually got internship bout month ago um know field journalism good graduate two month looking forward um starting make\", \"putting new roofing kinda tough always wake early morning sometimes little bit crabby part usually get pretty good sleep clear throat lately eh feeling pretty good know know thing starting look actually got internship bout month ago um know field journalism good graduate two month looking forward um starting make little bit money know good uh yeah thing going pretty well right cannot complain clear throat yeah bad know like said could always worse right know enjoying life best part clear throat nope last time felt really happy sigh man laughter know probably going back buddy know still still sanity guess could say um know came back visit air force leave know hanging um know kicking back beer talking life nice miss know clear throat felt great know nothing like best friend conversation know twenty four seven anything tell anything confidence could tell anything confidence like hard find know especially someone known many year cannot really get back yeah clear throat yeah probably one two thing regret um well mean regret reg got d_u_i three four year ago actually four year ago something definitely regret know look back know thing might've different time accept know action know circumstance took place\", \"someone known many year cannot really get back yeah clear throat yeah probably one two thing regret um well mean regret reg got d_u_i three four year ago actually four year ago something definitely regret know look back know thing might've different time accept know action know circumstance took place know manned know guess think better time know always gonna back mind like said one thing deal way clear throat laughter well know one thing like laughter child really know say mean even would listened know know probably would told know careful know make sure best person possibly um basically know always nice honest um caring toward others clear throat um probably going back uh buddy whole uh paranoid schizophrenic thing say wish could erase wish happen like clear throat yeah ideal weekend uh usually keep pretty pretty generic tend hang friend um either know hang day know certain thing like know maybe grab beer um know casual conversation maybe play game watch movie know standard stuff people clear throat thing wish could change um probably know nicer like said um maybe lazy determination mean quite bit determination know wanna life know time kinda get little lackadaisical wish could improve\", \"like know maybe grab beer um know casual conversation maybe play game watch movie know standard stuff people clear throat thing wish could change um probably know nicer like said um maybe lazy determination mean quite bit determination know wanna life know time kinda get little lackadaisical wish could improve upon procrastinate much clear throat um well know tough think back would probably say time someone made feel really bad know would say probably like know kinda getting angry certain people maybe kinda chewing friend probably trying give constructive criticism time knew probably place say kind thing character clear throat best quality would say definitely hardworking determined caring used honest know love talk people like like making new relationship like making people laugh clear throat clear throat something recently really enjoyed um know probably sigh internship know wrote story two felt good know get story done eventually gonna go paper feel accomplished know one thing work something see product right know right face tell know like make feel good yep clear throat um know let u see eh different story eh usually thing well paper's long beach usually know story event taking place long beach yeah clear throat would say\"]\n",
            "    # of sentences: 8\n",
            "0\n",
            "INFO:tensorflow:Saver not created because there are no variables in the graph to restore\n"
          ],
          "name": "stdout"
        },
        {
          "output_type": "stream",
          "text": [
            "INFO:tensorflow:Saver not created because there are no variables in the graph to restore\n"
          ],
          "name": "stderr"
        },
        {
          "output_type": "stream",
          "text": [
            "WARNING:tensorflow:From /usr/local/lib/python3.7/dist-packages/tensorflow/python/util/tf_should_use.py:247: initialize_all_variables (from tensorflow.python.ops.variables) is deprecated and will be removed after 2017-03-02.\n",
            "Instructions for updating:\n",
            "Use `tf.global_variables_initializer` instead.\n"
          ],
          "name": "stdout"
        },
        {
          "output_type": "stream",
          "text": [
            "WARNING:tensorflow:From /usr/local/lib/python3.7/dist-packages/tensorflow/python/util/tf_should_use.py:247: initialize_all_variables (from tensorflow.python.ops.variables) is deprecated and will be removed after 2017-03-02.\n",
            "Instructions for updating:\n",
            "Use `tf.global_variables_initializer` instead.\n"
          ],
          "name": "stderr"
        },
        {
          "output_type": "stream",
          "text": [
            "1\n",
            "INFO:tensorflow:Saver not created because there are no variables in the graph to restore\n"
          ],
          "name": "stdout"
        },
        {
          "output_type": "stream",
          "text": [
            "INFO:tensorflow:Saver not created because there are no variables in the graph to restore\n"
          ],
          "name": "stderr"
        },
        {
          "output_type": "stream",
          "text": [
            "2\n",
            "3\n",
            "4\n",
            "5\n",
            "1024\n"
          ],
          "name": "stdout"
        },
        {
          "output_type": "stream",
          "text": [
            "/usr/local/lib/python3.7/dist-packages/numpy/core/_asarray.py:83: VisibleDeprecationWarning: Creating an ndarray from ragged nested sequences (which is a list-or-tuple of lists-or-tuples-or ndarrays with different lengths or shapes) is deprecated. If you meant to do this, you must specify 'dtype=object' when creating the ndarray\n",
            "  return array(a, dtype, copy=False, order=order)\n"
          ],
          "name": "stderr"
        },
        {
          "output_type": "stream",
          "text": [
            "Running... 8 / 35\n",
            "    Currently extracting elmo for participant 381\n",
            "    # of characters: 12\n",
            "['synch feel pretty good wide awake good breakfast nice cup coffee uh easy day today gonna chat going gym run errand plan nice day today born raised los angeles one local around uh went school away uh one native actually los angeles yes like weather owned vacation house another state found hot humid florida love weather um like culture like diversity like familiarity like beach uh also like hour half away one go desert say palm spring palm desert also another hour half two hour away go arrowhead big bear go snowboarding skiing thing like uh think great place live thank well maybe thing like l_a say california general say like high tax rate state tax rate thirteen point something gonna chase business also regulation small business owner regulation clearly affecting business many peer moved business texas arizona nevada etcetera western state le regulated uh big problem uh uh california really people understand uh also uh know besides high tax know big immigration problem born raised people see big tax social service system make tax uh high really secure border get taken care know people seem want really deal uh deal clearly affect business thing tax high people moving state', \"really people understand uh also uh know besides high tax know big immigration problem born raised people see big tax social service system make tax uh high really secure border get taken care know people seem want really deal uh deal clearly affect business thing tax high people moving state enjoy traveling sixty six country uh travel much used traveled quite bit learned couple language uh served sorry uh really understand uh question said like think understood said go back europe eastern europe asia south america north africa um enjoy enjoy warm climate especially go relax warm water surf 'cause cold water kind make back stiffen also like exercise surf yoga work uh try eat healthy uh big part life oh sure um one favorite trip time used younger see many country could relatively short period time say three four week span ten year ago actually went paris stayed week really got know city even though I would ten time got know city really well great really lived like local rented small flat cooked shopping really many time really never stayed three four day fun stay know almost month uh really get learn city fun even though grew l_a grew\", 'really got know city even though I would ten time got know city really well great really lived like local rented small flat cooked shopping really many time really never stayed three four day fun stay know almost month uh really get learn city fun even though grew l_a grew taking french big spanish speaking population younger mother insisted u kid take french even though spanish would lot valuable took french uh uh elementary junior high uh high school nice practice french even though remember whole lot even though stopped speaking french french know accent greatest couple sentence start talking english laughter uh different degree uh naval science major undergraduate uh fun also master uh degree economics degree crisis management uh found um interesting uh something wanted went college went naval academy went play sport found real interesting southern california going school maryland originally wanted doctor start going school little bit change mind etcetera um actually wholesale business wholesale distributor furniture product family business went work number year ago well know grandfather recently father passed away sort run eighty year old family business pretty interesting like grown around different job past hm actually probably dream job think cooking staying home', \"bit change mind etcetera um actually wholesale business wholesale distributor furniture product family business went work number year ago well know grandfather recently father passed away sort run eighty year old family business pretty interesting like grown around different job past hm actually probably dream job think cooking staying home fun changed much enjoy cooking staying home uh uh would probably like stay home raise kid one daughter uh know get spend much time younger would liked think would better say lot woman know want work actually like cooking hanging around house taking care kid know like always part time basis pretty much worked life seems like boy would fun stay home uh pretty much worked life probably never happen sound something would fun uh think um generally reserved shy stranger get know someone feel comfortable think extrovert whereas stranger might think introverted think feel comfortable certain people know meet stranger totally confident people might've known year either personal business situation um introverted mean go dynamic think outward manifestation little shy general reserved reser use like use term reserved oh wow great idea used uh one uh several computer home used one screensavers uh well usually tend need relax stressful\", \"stranger totally confident people might've known year either personal business situation um introverted mean go dynamic think outward manifestation little shy general reserved reser use like use term reserved oh wow great idea used uh one uh several computer home used one screensavers uh well usually tend need relax stressful day stressful personal event going long walk going long walk going long walk usually find exercise whether yoga going long walk going gym going run going beach know maybe going surfing weather's warm surf cold weather anymore make give like brain freeze even though surfed know thirty year uh usually find exercise help relax best sometimes vegging couch front t_v find relaxing laughter like screensaver used one uh screensavers home yes uh one thing took number year master though relaxation skill probably best twenty year think gotten better uh think key thing think mature learn wish I would learned little skill earlier like think pretty good think lot better well aged um know likely think speak whereas say twenty year ago likely act fought might've said thing whatever tense situation whether personal work situation um never violent temper would temper fly handle instead taking deep breath reflecting think lot better\", \"skill earlier like think pretty good think lot better well aged um know likely think speak whereas say twenty year ago likely act fought might've said thing whatever tense situation whether personal work situation um never violent temper would temper fly handle instead taking deep breath reflecting think lot better say teen twenty think lot come think keyword maturity oh wow know really argument anybody several year would consider traditional argument um probably um ex wife number year ago wehad argument basically daughter anything violent heated basically one reason Were married value different idea parenting uh uh outlook life different think caused u butt head know I would call argument uh one let u agree disagree butt head felt like talking wall actually felt mad learned earlier life boy get married someone child kind discussion people usually really thinking sometimes younger looking boy look great paper looked great paper know pretty easy going different idea raising child wrong right right wrong raised different view never really discussed thing really fundamental reason butted head Were really good match whereas thing looked good know paper u hm one recently father passed away uh recently thank really religion know plan funeral quickly know\", \"pretty easy going different idea raising child wrong right right wrong raised different view never really discussed thing really fundamental reason butted head Were really good match whereas thing looked good know paper u hm one recently father passed away uh recently thank really religion know plan funeral quickly know typically within couple day really invited close friend family member le charge dad remarried widow sort really took care wish invited kept private really told people fact knew would liked come tp service known really invited time pressure really handful people time's passed wish I would invited friend instead two three close friend know ten twenty acquaintance people knew business year really even distant family member really told fact really invite time pressure could easily done via email hard call everybody personally wish something 'cause people expressed little upset family member threw back oh tell 'til fact know passed threw le wish differently best could time really mad something probably prepared also something something coming inevitable um well parent recently uh deceased last couple year brother three younger brother one passed away december super close like always like look family never like norman rockwell uh painting guess also uh different\", \"le wish differently best could time really mad something probably prepared also something something coming inevitable um well parent recently uh deceased last couple year brother three younger brother one passed away december super close like always like look family never like norman rockwell uh painting guess also uh different uh close relationship friend distant relationship family strange wish like boy one family got together every sunday dinner never uh uh different yeah yeah know stranger people say know howdy family everybody's great know think every family sort stuff um thought probably could event life sure therapy past know uh military never really sure exactly think function pretty well sure therapy counseling year enlist officer went one service academy um seventeen started high school went service academy prestige enlisting hard went hardest school america get age everybody else went uh nineteen eighty three um basically anything intense around Were allowed carry ammunition position shelled time poison gas sprayed u anything uh intense lot know service training way intense actual combat situation train well like practice harder play athlete play football practice harder actually play game uh know combat unit well made patriotic grown california whereas people country got meet whereas\", 'carry ammunition position shelled time poison gas sprayed u anything uh intense lot know service training way intense actual combat situation train well like practice harder play athlete play football practice harder actually play game uh know combat unit well made patriotic grown california whereas people country got meet whereas say friend grew affluent los angeles like never really went met lot american people different background ended becoming uh patriotic deeper sense pride country whereas really grow southern california whereas someone texas kentucky tennessee georgia north dakota south dakota montana grows kind uh pride thought good unlike many friend know life malibu manhattan uh went graduate still reserve went graduate school got two graduate degree went work private enterprise uh care joined fire department fire fighter paramedic number year got divorced harder custody situation daughter went work family business pretty much career nutshell um first bearing butt way walked talked officer uh regimented way dressed private time harder took awhile able come back los angeles uh uh different think handled better stronger personality great experience um depends exercise regularly eat late thing going well life generally sleep pretty well even though might get go bathroom night um generally sleep uh', 'officer uh regimented way dressed private time harder took awhile able come back los angeles uh uh different think handled better stronger personality great experience um depends exercise regularly eat late thing going well life generally sleep pretty well even though might get go bathroom night um generally sleep uh generally sleep pretty well feel pretty good lately know like anybody else period blue life boy last month feel great pretty much really seem think seem little happier content lately um thought maybe past family history know anything real debilitating able really function concerned sought counseling really past went mean wish went say uh marriage course uh life think useful however past one grew hearing ridiculous waste money etcetera think useful tool open oh question wanted honest opinion outside friend stranger professional know life relationship sometimes good talking thing professional even though would see someone like real life prefer someone older little life experience someone maybe younger yeah think useful tool really hundred eighty degree switch uh go sorta taking break issue wanna bounce someone go yeah think nice know really go someone good different people sort therapist shopped really tell think think great know always past help talk thought', \"older little life experience someone maybe younger yeah think useful tool really hundred eighty degree switch uh go sorta taking break issue wanna bounce someone go yeah think nice know really go someone good different people sort therapist shopped really tell think think great know always past help talk thought feeling let decide bring little clarity situation like talking someone lot life experience generally feel comfortable talking woman stuff say man um think useful tool got good idea able nice balancing thing totally someone unbiased day day life instead talking romantic partner close friend know sometimes bouncing people stranger good uh morning know weird clearly someone I would say joke friend family associate clearly easy day today 'cause knew nice weather bunch errand run clearly seasonal affective disorder woke happy today know gonna eighty degree weather's nice generally lot happier weather's [laughter] dark blue rainy cold always know term well woke really happy today knew gonna nice day looked forward feeling sun uh friend sort renaissance man know little bit lot subject smart good know lot lot permeable thing pretty rational resourceful people always call issue help talk resourceful tell go whether buy new computer buy new car know great\", \"woke really happy today knew gonna nice day looked forward feeling sun uh friend sort renaissance man know little bit lot subject smart good know lot lot permeable thing pretty rational resourceful people always call issue help talk resourceful tell go whether buy new computer buy new car know great medical diagnosis uh uh know people also say lot fun fun um also lot grey area people either really like like thing pretty much black white b_s know opposite politician tell people want hear rude rude anybody pretty much call thing see pretty much really 'cause everything tactfully like think uh probably probably spent time parent passed busy uh probably wish able spend time daughter younger uh lot typical really think thing little bit little le impulsive pretended impulsive younger think would look thing long term instead looking thing short term know make decision choice um proud daughter nice young lady uh proud public service never done job really money military service fire service um people like background education like public service um proud uh proud certificate hanging wall home degree sort like trophy proud able stay good physical shape year knock wood maintain good health nice meeting bye bye\"]\n",
            "    # of sentences: 12\n",
            "0\n",
            "INFO:tensorflow:Saver not created because there are no variables in the graph to restore\n"
          ],
          "name": "stdout"
        },
        {
          "output_type": "stream",
          "text": [
            "INFO:tensorflow:Saver not created because there are no variables in the graph to restore\n"
          ],
          "name": "stderr"
        },
        {
          "output_type": "stream",
          "text": [
            "1\n",
            "INFO:tensorflow:Saver not created because there are no variables in the graph to restore\n"
          ],
          "name": "stdout"
        },
        {
          "output_type": "stream",
          "text": [
            "INFO:tensorflow:Saver not created because there are no variables in the graph to restore\n"
          ],
          "name": "stderr"
        },
        {
          "output_type": "stream",
          "text": [
            "2\n",
            "INFO:tensorflow:Saver not created because there are no variables in the graph to restore\n"
          ],
          "name": "stdout"
        },
        {
          "output_type": "stream",
          "text": [
            "INFO:tensorflow:Saver not created because there are no variables in the graph to restore\n"
          ],
          "name": "stderr"
        },
        {
          "output_type": "stream",
          "text": [
            "3\n",
            "INFO:tensorflow:Saver not created because there are no variables in the graph to restore\n"
          ],
          "name": "stdout"
        },
        {
          "output_type": "stream",
          "text": [
            "INFO:tensorflow:Saver not created because there are no variables in the graph to restore\n"
          ],
          "name": "stderr"
        },
        {
          "output_type": "stream",
          "text": [
            "4\n",
            "INFO:tensorflow:Saver not created because there are no variables in the graph to restore\n"
          ],
          "name": "stdout"
        },
        {
          "output_type": "stream",
          "text": [
            "INFO:tensorflow:Saver not created because there are no variables in the graph to restore\n"
          ],
          "name": "stderr"
        },
        {
          "output_type": "stream",
          "text": [
            "5\n",
            "1024\n",
            "Running... 9 / 35\n",
            "    Currently extracting elmo for participant 382\n",
            "    # of characters: 3\n",
            "['los angeles california yes um southern california lifestyle beach um active lifestyle traffic pretentious people um teacher um know certain teacher um got uh spiritual teacher um find lot guidance laughter mm like skateboard stay active stay healthy um anything um outdoors active healthy hiking biking rollerblading skateboarding mm mm really position travel financially could sure would enjoy seeing different culture place meeting different people interesting structure uh food meditate skateboard well meditate board mm meditate help relax um sometimes really feel like skating hard go nice uh sunset skate meditate nice two hour skate relax mm hard gotta get skate spot know usually like skating um good good spay skate spot l_a street l_a uh beach always good uh uh really hard sigh situation life right um cannot find fucking job even care good job need job anything pay um get get get hard awhile applied anywhere everywhere entry level management anywhere um cannot find job cannot get job trying trying trying trying trying trying trying yeah pretty depressing hard suck mm yawn yes eh yes happens often uh last night could sleep mm uh thinking situation um car payment due yesterday know take continue know survive day day', 'level management anywhere um cannot find job cannot get job trying trying trying trying trying trying trying yeah pretty depressing hard suck mm yawn yes eh yes happens often uh last night could sleep mm uh thinking situation um car payment due yesterday know take continue know survive day day trying see eat end day um yes mm three year ago four year ago couple year ago mood right always feeling depressed sniffle lack energy always wanting sleep um lack interest gone therapy useful past useful know health insurance um would love talk someone feel like anyone depend anyone oh yeah always felt depressed life mm lack energy wanting sleep lot lack interest appetite uncontrollable either lack gluttonous eating wrong thing yes sister passed away alright six month ago became homeless jobless two week ago got point missed wanted mm pretty dysfunctional family know really cannot depend depend sigh gonna I would like give parent buried daughter six month ago wanna bury daughter sigh know know uh good luck corporate manager twenty year uh would known twenty year ago advice would given tried commit suicide instead returning back work uh rough trying pick piece get life back together um know', 'I would like give parent buried daughter six month ago wanna bury daughter sigh know know uh good luck corporate manager twenty year uh would known twenty year ago advice would given tried commit suicide instead returning back work uh rough trying pick piece get life back together um know advice would give started corporate job twenty year ago know I would twenty year later know really happy um couple day ago week sigh trying make end meet got lot thing sprouting got lot thing happening need like two week l_a connect dot financially take stay two week happy getting call back um sigh thing starting look um time side car packed hitting road taking leaving l_a uh loyal emotional strong um lately um extrovert twenty year corporate manager quite introvert stick uh circumstance life feel confident feel uh charming social mm know hard say cannot really answer one thank bye']\n",
            "    # of sentences: 3\n",
            "0\n",
            "INFO:tensorflow:Saver not created because there are no variables in the graph to restore\n"
          ],
          "name": "stdout"
        },
        {
          "output_type": "stream",
          "text": [
            "INFO:tensorflow:Saver not created because there are no variables in the graph to restore\n"
          ],
          "name": "stderr"
        },
        {
          "output_type": "stream",
          "text": [
            "1\n",
            "INFO:tensorflow:Saver not created because there are no variables in the graph to restore\n"
          ],
          "name": "stdout"
        },
        {
          "output_type": "stream",
          "text": [
            "INFO:tensorflow:Saver not created because there are no variables in the graph to restore\n"
          ],
          "name": "stderr"
        },
        {
          "output_type": "stream",
          "text": [
            "2\n",
            "3\n",
            "4\n",
            "5\n",
            "1024\n",
            "Running... 10 / 35\n",
            "    Currently extracting elmo for participant 388\n",
            "    # of characters: 3\n",
            "['synch yes feel great los angeles california um weather opportunity ocean overcrowded overpriced somewhat dirty well nice see place world meet people culture worked cruise ship musical entertainer traveled alaska aleutian island korea japan caribbean island um galena alaska small airplane traveling snow storm surviving like edge death life lived art business know attracted art young age business went along yes yes able entertain people make feel emotion make enough money comfortable life outgoing um always feel fee feel confident thought like people know say um listen music sit girlfriend calm stressed could work good last night girlfriend asking advice something speaking felt tone voice loud angry irritated told quiet really wanna help wanted relax laughter agree um sometimes thing go way get depressed upset wish could calm realize count blessing look bright side everything matter bad thing get always look bright side goal difficult working seems getting little easier well taking care mother dying c_o_p_d turned lung cancer chose tell condition worsened would fearful sit knowing symptom getting worse could tell truth let think everything okay uh mother sick dependent oxygen three year seeing health decline plague dream thought could erase never happened would feel better oh know try', 'well taking care mother dying c_o_p_d turned lung cancer chose tell condition worsened would fearful sit knowing symptom getting worse could tell truth let think everything okay uh mother sick dependent oxygen three year seeing health decline plague dream thought could erase never happened would feel better oh know try uh grateful alive try focus objective dwell negative thing memory girlfriend good positive po positive influence want better person since met trying make angry make feel negative nurturing positive zenlike man asking something gonna make improve therefore must capitulate easy sleep well sometimes wake nightmare mother something uh go back sleep unknown know happens feeling uh good eh reality hit lot financial uh problem handling ha handling well actually looking girlfriend told need therefore forefront mind right today woke sunny beautiful day lot goal achieve achieving one one one give sense accomplishment happiness ideal weekend would playing music girlfriend something enjoy healthy hea going nice dinner healthy food maybe exercising feeling good body mind spirit uh probably strongwilled person big heart short fuse maybe complains life much wish could complain negative thing happen learn roll punch always look bright side well one time good friend tell one recording thought horrible', 'enjoy healthy hea going nice dinner healthy food maybe exercising feeling good body mind spirit uh probably strongwilled person big heart short fuse maybe complains life much wish could complain negative thing happen learn roll punch always look bright side well one time good friend tell one recording thought horrible felt best thing I would ever done would understand anybody could could feel way know jealousy honest opinion opi evaluation therefore felt bad goal nothing regret felt hmm ten twenty year ago know um sigh well everything enjoy hard pick one exact event really enjoyed uh know put one thing go way finance xxx come get job go qualified feel getting fair chance opportunity frustrating really feel guilty thing sometimes maybe angry feel guilty ever wanna short girlfriend ever would deserve somebody um using vulgar language shouting something wanna way around therefore guilty achievement ability music ability hard work paid uh proud okay thank goodbye']\n",
            "    # of sentences: 3\n",
            "0\n",
            "INFO:tensorflow:Saver not created because there are no variables in the graph to restore\n"
          ],
          "name": "stdout"
        },
        {
          "output_type": "stream",
          "text": [
            "INFO:tensorflow:Saver not created because there are no variables in the graph to restore\n"
          ],
          "name": "stderr"
        },
        {
          "output_type": "stream",
          "text": [
            "1\n",
            "INFO:tensorflow:Saver not created because there are no variables in the graph to restore\n"
          ],
          "name": "stdout"
        },
        {
          "output_type": "stream",
          "text": [
            "INFO:tensorflow:Saver not created because there are no variables in the graph to restore\n"
          ],
          "name": "stderr"
        },
        {
          "output_type": "stream",
          "text": [
            "2\n",
            "3\n",
            "4\n",
            "5\n",
            "1024\n",
            "Running... 11 / 35\n",
            "    Currently extracting elmo for participant 389\n",
            "    # of characters: 6\n",
            "[\"synch okay okay sure well reasonably well santa monica california born raised love ocean um love hiking love little bit every world ocean sea desert weather's great get wear short lot lot time year mhm smog sigh cement road rage uh traffic um lonely town seen shoe well seen shoe uh traveled yes well depends going um love going hawaii um love beach change scenery um temperature water uh different food airport love traveling um recently went europe belgium uh two week um oh ate great food saw family visited museum oh rained california los angeles much uh got take train lot train uh public transportation fun normal fun fu fun fun um yeah got see family nice yes outgoing um gregarious um well crowd group uh good public speaker um yeah uh shy think go fishing two day ago also meditate med also meditate feel moment relaxed peace calm depends situation hmm sigh argued los angeles parking people ticket got agree morphed horrible situation ended conversation wit accepting situation really xxx wanting deal sort like fuck laughter good oh gosh um sale business wish would handled differently um really sell business got scared sold could handled much different way\", \"depends situation hmm sigh argued los angeles parking people ticket got agree morphed horrible situation ended conversation wit accepting situation really xxx wanting deal sort like fuck laughter good oh gosh um sale business wish would handled differently um really sell business got scared sold could handled much different way fear um afraid mounting debt afraid economy good two thousand seven two thousand eight um thinking clearly afraid uh mounting debt afraid um sued employee afraid uh yeah enough money afraid embarrassed embarrassed know running money um sigh yeah would handled much different knowing know today yes could could downsized could downsized sold car got rid car uh could cut hour could reduced expense sat tight worked reacted fear xxx uh um got bachelor's degree political science u_c_l_a finished master's degree education scrubbed_entry mhm dream job dream job work dream job laughter work um service people know uh sigh um wear casual clothes uh particular place particular time uh time enjoy know one thing like like fishing hiking nephew kid um yeah work well um relationship family okay alive today mom father died sixteen stepfather died three year ago mom's alive good relationship like took lot work took year know\", \"wear casual clothes uh particular place particular time uh time enjoy know one thing like like fishing hiking nephew kid um yeah work well um relationship family okay alive today mom father died sixteen stepfather died three year ago mom's alive good relationship like took lot work took year know friend f friend know stuff together um sister life half block away sister life block away got five kid husband family contend sister get spend lot time together anymore got life l life know busy life um rest family uh life belgium went go see uh um family aunt um estranged life northern california never talk um uh ripped family estate grandfather grandf grandparents' estate took money stuff left grandkids know uh sister grandmother's daughter grandkids greatgrandkids got zero f million dollar mhm talk talk talk sad xxx excuse repeat wow positive posi father positive influence really genuine man honest uh funny um handsome um business owner business man worked extremely positive influence least professional life um uh counselor u_c_l_a um totally think often little thing she'd said keep going um sigh life trust process told trust process people trouble trouble take step back say know trust process work way\", \"uh funny um handsome um business owner business man worked extremely positive influence least professional life um uh counselor u_c_l_a um totally think often little thing she'd said keep going um sigh life trust process told trust process people trouble trouble take step back say know trust process work way supposed mhm one positive influence knew hawaii taught um friend mine uh life kauai taught uh enjoy nature taught fish love lot great positive influence healthy healthy influence back problem hard sleep night uh wake middle night sort uh stretching um straightening back back issue sometimes often uh keep sleeping good okay dealing um little depressed uh little depressed working much um um know pain morning evening eveni pain thorughout day back uh little depressing know get depressed also um know thinking business sold know would done general feeling um little depressed past uh couple year actually yes um well diagnosed many many year ago guess depression stay although get treated um uh diagnosed two year ago uh think know asked questionnaire well uh sought treatment uh insurance ran prescription uh could put uh prescription anymore back uh medication med medication know take medication depression therapy absolutely love therapy wow\", 'diagnosed many many year ago guess depression stay although get treated um uh diagnosed two year ago uh think know asked questionnaire well uh sought treatment uh insurance ran prescription uh could put uh prescription anymore back uh medication med medication know take medication depression therapy absolutely love therapy wow huge um confidence self uh confidence um confidence decisionmaking general feeling overall content uh sounding board know stuff bothering cannot go feel cannot go person um go therapist lot time issue resolved big issue worked therapist therapist allowed look different way looking situation way find therapy invaluable actually believe uh yes believe think told psychiatrist within last five year think looking back two thousand thirteen two thousand nine four year ago able deal like shell shocked able deal anything eh irritable phone uh mean uh anything would get fly handle um uh able shell shocked hiding house opening mail mail able concentrate able deal thing felt well bombarding felt overcomed overcomed um psychiatrist said posttraumatic stress disorder um given medication stayed year uh know psychiatry therapist medication um able come shell little bit hmm week ago hike eh malibu uh beautiful labyrinth looked pacific ocean friend lunch laid grass took', \"able concentrate able deal thing felt well bombarding felt overcomed overcomed um psychiatrist said posttraumatic stress disorder um given medication stayed year uh know psychiatry therapist medication um able come shell little bit hmm week ago hike eh malibu uh beautiful labyrinth looked pacific ocean friend lunch laid grass took nap felt content happy moment moment time week ago hmm honest sincere smart um caring um sniffle smart um sigh good question I would think uh yeah regret life know everything work um know could change past would never dropped school long time ago mean since gone back completed lot stuff um probably would gone military think going early twenty fifty five um sort regret um time um regret uh selling business regret course cannot control regret father died young never really got know never really got know regret uh regret seeing grandmother enough she'd passed away regret uh mean thing think right putting away retirement regret money um yeah mean would say stick stick order get go come fear flight get fear flight sometimes sit fear everything work wow proud sigh remained genuine um proud basically comfortable proud changed world wor world know world changed stayed mm thank thank\"]\n",
            "    # of sentences: 6\n",
            "0\n",
            "INFO:tensorflow:Saver not created because there are no variables in the graph to restore\n"
          ],
          "name": "stdout"
        },
        {
          "output_type": "stream",
          "text": [
            "INFO:tensorflow:Saver not created because there are no variables in the graph to restore\n"
          ],
          "name": "stderr"
        },
        {
          "output_type": "stream",
          "text": [
            "1\n",
            "INFO:tensorflow:Saver not created because there are no variables in the graph to restore\n"
          ],
          "name": "stdout"
        },
        {
          "output_type": "stream",
          "text": [
            "INFO:tensorflow:Saver not created because there are no variables in the graph to restore\n"
          ],
          "name": "stderr"
        },
        {
          "output_type": "stream",
          "text": [
            "2\n",
            "INFO:tensorflow:Saver not created because there are no variables in the graph to restore\n"
          ],
          "name": "stdout"
        },
        {
          "output_type": "stream",
          "text": [
            "INFO:tensorflow:Saver not created because there are no variables in the graph to restore\n"
          ],
          "name": "stderr"
        },
        {
          "output_type": "stream",
          "text": [
            "3\n",
            "INFO:tensorflow:Saver not created because there are no variables in the graph to restore\n"
          ],
          "name": "stdout"
        },
        {
          "output_type": "stream",
          "text": [
            "INFO:tensorflow:Saver not created because there are no variables in the graph to restore\n"
          ],
          "name": "stderr"
        },
        {
          "output_type": "stream",
          "text": [
            "4\n",
            "INFO:tensorflow:Saver not created because there are no variables in the graph to restore\n"
          ],
          "name": "stdout"
        },
        {
          "output_type": "stream",
          "text": [
            "INFO:tensorflow:Saver not created because there are no variables in the graph to restore\n"
          ],
          "name": "stderr"
        },
        {
          "output_type": "stream",
          "text": [
            "5\n",
            "1024\n",
            "Running... 12 / 35\n",
            "    Currently extracting elmo for participant 390\n",
            "    # of characters: 3\n",
            "['synch yes fine okay laughter originally san francisco um originally moved gosh nineteen ninety five went chicago san francisco back los angeles probably five year ago lotta moving laughter never um anything anymore uh weather better l_a people san francisco nicer husband prefers pref exhusband prefers moved undergraduate degree psychology uh went law school uh college worked law firm decided really wanted lawyer really interesting stayathome mom scrubbed_entry um love difficult manage life make sure become good successful person uh sigh easy kinda academic stuff like know good hardest thing think guide emotionally help thing hard time um feeling like answer um seeing grow experience new thing learn life world really really cool uh completely different laughter um completely different perfect parent love son take care first priority life Were like um well parent dead speak dad died um sister brother actually know speak either um probably shy consider reserved laughter laughter um like listen music listen sort music favorite relaxing uh eighty music laughter cheesy cheesy true um depends son control temper um exhusband adult mm yeah ye yeah soso um yesterday exhusband dating woman cheating married um found cheating kicked told yesterday continuing date yeah um really angry', \"laughter laughter um like listen music listen sort music favorite relaxing uh eighty music laughter cheesy cheesy true um depends son control temper um exhusband adult mm yeah ye yeah soso um yesterday exhusband dating woman cheating married um found cheating kicked told yesterday continuing date yeah um really angry really hurt um wish talked dad died wish I would settled difference died hardest decision ever make actually ending marriage cheating um would well know mean know I would want erase anything memory make today cannot really think one event would want erase uh get good night's sleep easy wake lot night know wish knew laughter knew could change could try something know um grumpy irritable uh grumpy irritable um mixed anger sigh everything going soontobe exhusband yeah um keep inside mean nothing else really except exce mean deal yes deep breath ten year ago son born nine year ago um felt like could cope life um could felt like could anything go therapy go medication management talk therapy gone therapist help um well sit stare say anything um know wanted talk would others give advice think good point um probably morning playing son really happy thinking crap sigh um\", \"um felt like could cope life um could felt like could anything go therapy go medication management talk therapy gone therapist help um well sit stare say anything um know wanted talk would others give advice think good point um probably morning playing son really happy thinking crap sigh um life could forget feeling really really happy ugh think would describe completely different way would describe um think would describe really sweet uh 'cause really sweet um confident uh outgoing try people think would describe uh wish sad wish confident um yeah lotta thing think uh would give life one particular person husband think would spend ideal weekend sunny place like palm spring son hanging around pool fun going dinner uh one two friend two really good girlfriend think really positive influence life um scrubbed_entry sh life worse mine uh laughter always commiserate together scrubbed_entry really positive mean always happy always always looking bright side helped lot son um went friend's house movie night watched grownup movie dinner wine boy another room watching movie playing video game relaxed fun evening mhm sure laughter bye\"]\n",
            "    # of sentences: 3\n",
            "0\n",
            "INFO:tensorflow:Saver not created because there are no variables in the graph to restore\n"
          ],
          "name": "stdout"
        },
        {
          "output_type": "stream",
          "text": [
            "INFO:tensorflow:Saver not created because there are no variables in the graph to restore\n"
          ],
          "name": "stderr"
        },
        {
          "output_type": "stream",
          "text": [
            "1\n",
            "INFO:tensorflow:Saver not created because there are no variables in the graph to restore\n"
          ],
          "name": "stdout"
        },
        {
          "output_type": "stream",
          "text": [
            "INFO:tensorflow:Saver not created because there are no variables in the graph to restore\n"
          ],
          "name": "stderr"
        },
        {
          "output_type": "stream",
          "text": [
            "2\n",
            "INFO:tensorflow:Saver not created because there are no variables in the graph to restore\n"
          ],
          "name": "stdout"
        },
        {
          "output_type": "stream",
          "text": [
            "INFO:tensorflow:Saver not created because there are no variables in the graph to restore\n"
          ],
          "name": "stderr"
        },
        {
          "output_type": "stream",
          "text": [
            "3\n",
            "4\n",
            "5\n",
            "1024\n",
            "Running... 13 / 35\n",
            "    Currently extracting elmo for participant 395\n",
            "    # of characters: 7\n",
            "['synch yes good today originally chicago illinois moved three yes never go back family issue depends um fast life hollywood compare um cold weather would rather like sun mom dad split laughter okay idea three moved like sunshine like weather like balance weather spring winter fall summer like beach like hollywood like lakers laughter love um people different variety think l_a microcosm united state people world come united state people country world come l_a better opportunity like l_a oh gang violence laughter really traveled one time arizona one time stockton california another time barstow california much traveling right mainly finance studied alcohol drug counseling felt felt heart supposed life helping people overcome addiction um kinda easy choice got advice people went see finished school intership got hired believe supposed life working right actually moved away deep breath married move away moved away rent cheaper actually give job um order make move since came back filling application sending resume trying get interview get back counseling well difficult time um felony uh cannot work youth cannot work elderly regular dope certified certified yet work certain amount hour order certified even allow take test work certain amount hour right trying get um intern', \"move since came back filling application sending resume trying get interview get back counseling well difficult time um felony uh cannot work youth cannot work elderly regular dope certified certified yet work certain amount hour order certified even allow take test work certain amount hour right trying get um intern know try intern show people counselor everything seen resume um yeah want people certified um certified um experience fact felony make hard laughter dream job open facility um author know depends de depends people mainly mainly adapt personality people around people perky gonna perky standoffish may seem shy shy giving 'em space allowing decide wanna open people open right away open right away laughter mainly listen music watch youtube write poetry um close eye lay pretend like sing cannot laughter another thing eat ice cream laughter controlling temper good depends say last time lost temper felt like somebody um scaring mother lost temper ninety nine time hundred lose temper like raise voice like calm cool like everybody comfortable want anybody frightened anything reason anybody frightened u angry know taking past frustration people nothing believe believe um angry outburst link um heart problem high blood pressure definitely want well telling um\", \"mother lost temper ninety nine time hundred lose temper like raise voice like calm cool like everybody comfortable want anybody frightened anything reason anybody frightened u angry know taking past frustration people nothing believe believe um angry outburst link um heart problem high blood pressure definitely want well telling um mother's husband tell truth um could handled differently seen look mama's eye fear lost snapped know told mother uh like um like uh need need take care know long keep composure far 'cause seeing guy mistreat mother mistreat mother husband kept distance relationship saw fear eye triggered part um like much know get angry usually stay angry long time left left went home rested got next morning went church um yeah big time explosion created created lot damage six nine month yeah six nine month cannot get back yes well brother's prison um seem twenty year twenty year sister moved chicago thirteen year ago seen since close mother um son seen five year still looking waiting day see gonna turn know small family family chicago mess around side family um seen heard want happen keep distance someone positive influence inf influence life would say scrubbed_entry taught get temper control express\", \"chicago thirteen year ago seen since close mother um son seen five year still looking waiting day see gonna turn know small family family chicago mess around side family um seen heard want happen keep distance someone positive influence inf influence life would say scrubbed_entry taught get temper control express emotion without expressing emotion threatening someone else taught taught like monitor emotion monitor thought strong thought really strong need quiet intense fizzling subsides speak rationally emotionally um course um one encouraged enc told look drug alcohol counselor um got twenty seven year clean sober right used live skid row h way changed life around know way approached father something never forget feel guilty grandfather um passed away two thousand four time getting prison um two thousand two getting prison came see told many word gonna around much longer get 'cause lot drug alcohol life time life crowded thing considered important plus fact understand saying died figured telling probably spend time time go could see feel think time something erase memory huh would day brother hit mom always replay mind like one memory go without replaying mind yeah day memory right felt conflicting feeling one hand one hand brother protecting getting\", 'plus fact understand saying died figured telling probably spend time time go could see feel think time something erase memory huh would day brother hit mom always replay mind like one memory go without replaying mind yeah day memory right felt conflicting feeling one hand one hand brother protecting getting beat hand hitting mom kinda middle uh night go sleep maybe three morning probably prob likely seven morning get much sleep depends depends environment um sleep well going eventually gonna irritable happen right away depends environment around difficult people gonna challenge um people easygoing one even know get much sleep feeling lately feeling like thing start going better um making better decision um taking advantage opportunity come taking advantage talent taking advantage meeting right people um open right door enthusiastic even happen send million resume care get five interview never stop know know counselor life mission um also destined writer matter time book people um know lot time study human behavior thing like lot offer humanity matter time um public exposed um gathering behavior mellow um laugh humorous let lot thing go used let tick anger thing cannot control like trying control people trying make sure people betray mm cannot', \"matter time book people um know lot time study human behavior thing like lot offer humanity matter time um public exposed um gathering behavior mellow um laugh humorous let lot thing go used let tick anger thing cannot control like trying control people trying make sure people betray mm cannot control think matured mentally psychologically eh um acquisition sense humor major major breakthrough know thought changed thought changing behavior changed still monitor um thought behavior still monitor overall know um back tolerated um actually like um behoove beh behoove feel way last time felt happy last night 'cause lakers basketball game laughter yeah best friend would describe um call truth always tell truth people try hide stuff always reveal cannot hide um statement say see like clear glass nothing see stuff day month start happening know human behavior see sniff real well gift given call truth um interact people people um come clean look know see like said like clear glass nothing yes call truth laughter um wish would never well obviously wish would never went prison um wish could change well um economic status employment status um teeth like problem area lot stupid thing year ago caught take care\", \"um come clean look know see like said like clear glass nothing yes call truth laughter um wish would never well obviously wish would never went prison um wish could change well um economic status employment status um teeth like problem area lot stupid thing year ago caught take care teeth need um confident know always come every know thought like wonder looking teeth wonder looking teeth never get sign si never get impression back mind thought say looking teeth would really change would change physical um size think would like least thirty five pound heavier working twenty year ago would make eighteen would time big time um high school basketball player fremont high school college coming see would given opportunity stay away troublemaker blew opportunity play college basketball duke blue devil know could playing lakers last night hey proud fact know proud mom really really um graduated school fulltime job fulltime job um would wake five morning go work get job three thirty go straight college leave college nine o'clock night five day week still strength maintain um dean's list president's list know say xxx older people cannot thing think dispels rumor um recently got um license evangelist church\"]\n",
            "    # of sentences: 7\n",
            "0\n",
            "INFO:tensorflow:Saver not created because there are no variables in the graph to restore\n"
          ],
          "name": "stdout"
        },
        {
          "output_type": "stream",
          "text": [
            "INFO:tensorflow:Saver not created because there are no variables in the graph to restore\n"
          ],
          "name": "stderr"
        },
        {
          "output_type": "stream",
          "text": [
            "1\n",
            "INFO:tensorflow:Saver not created because there are no variables in the graph to restore\n"
          ],
          "name": "stdout"
        },
        {
          "output_type": "stream",
          "text": [
            "INFO:tensorflow:Saver not created because there are no variables in the graph to restore\n"
          ],
          "name": "stderr"
        },
        {
          "output_type": "stream",
          "text": [
            "2\n",
            "INFO:tensorflow:Saver not created because there are no variables in the graph to restore\n"
          ],
          "name": "stdout"
        },
        {
          "output_type": "stream",
          "text": [
            "INFO:tensorflow:Saver not created because there are no variables in the graph to restore\n"
          ],
          "name": "stderr"
        },
        {
          "output_type": "stream",
          "text": [
            "3\n",
            "INFO:tensorflow:Saver not created because there are no variables in the graph to restore\n"
          ],
          "name": "stdout"
        },
        {
          "output_type": "stream",
          "text": [
            "INFO:tensorflow:Saver not created because there are no variables in the graph to restore\n"
          ],
          "name": "stderr"
        },
        {
          "output_type": "stream",
          "text": [
            "4\n",
            "5\n",
            "1024\n",
            "Running... 14 / 35\n",
            "    Currently extracting elmo for participant 403\n",
            "    # of characters: 3\n",
            "[\"synch yes good michigan two year ago um every three month homey country fastpaced stuff uh work entertainment business pretty easy lived new york first survive new york survive l_a weather course beach uh people much ruder mean used like l_a uh graphic design medium art um high school ahead class credit take college course high school got two year college degree 'cause good yeah yeah wanna go something else um school actually take online class business management laughter um really one day wanna sister wanna uh rental property like uh real estate company six house bought college money wanna eventually one day home apartment complex yeah meeting new people seeing different thing never seen um different language everything seeing world offer oh okay um sister went hawaii last year um believe went hawaii hawa honolulu hmm maui yeah met people hawaii nice could live would um everything memorable probably jetskiing honolulu fun yeah outgoing laughter laughter music music much therapy um well family musically inclined like dad mom's family music always like thing matter feel put music make much better pretty good used box let lot frustration sometimes go gym like kickboxing class never escalated point like blurt control\", \"jetskiing honolulu fun yeah outgoing laughter laughter music music much therapy um well family musically inclined like dad mom's family music always like thing matter feel put music make much better pretty good used box let lot frustration sometimes go gym like kickboxing class never escalated point like blurt control pretty much well live sister argue every day laughter clothes sister clothes always clothes um mother father pastor church grew two sister older brother cop pretty close nephew pretty close like every day see close live house together every single day point lived lived michigan family eh michigan um cheat like right diet sister last night snuck got mcdonalds feel bad sticking cheated pretty much laughter laughter um hmm mm friend mine got said thing Were like hit belt usually spoken like three month know could prevented would sat talked make far yeah um probably moving moving l_a like really like close clo really close family like skype mom dad every day hard go taking care everything sister much different oh goodness uh parent brother dad mom sister family fam great family family definitely um wanna say two year ago three year ago brother shot duty almost lost life reason\", \"like close clo really close family like skype mom dad every day hard go taking care everything sister much different oh goodness uh parent brother dad mom sister family fam great family family definitely um wanna say two year ago three year ago brother shot duty almost lost life reason much try tell 'cause want like need know whatever always think cry like happened yesterday happened three year mere fact almost losing kinda yeah easy work personal assistant administrative assistant casting agent call whenever never never get good night's sleep ever know laughter um zombie laughter pretty much would never know 'cause work professional tired would never know annoyed grouchy slept um sigh tired crazy headache probably getting enough sleep working much yeah tired yeah definitely um shorter people like industry mean people really care self first came personality attitude family love nice showed everybody's kinda self even like girl work learned like cut people short people really see laughter um sigh last saturday weighin lost seven pound like excited laughter last time um care much uh think others she'd probably say care much loving person every friend confide best friend regular friend yeah mom friend um regret anything hmm\"]\n",
            "    # of sentences: 3\n",
            "0\n",
            "INFO:tensorflow:Saver not created because there are no variables in the graph to restore\n"
          ],
          "name": "stdout"
        },
        {
          "output_type": "stream",
          "text": [
            "INFO:tensorflow:Saver not created because there are no variables in the graph to restore\n"
          ],
          "name": "stderr"
        },
        {
          "output_type": "stream",
          "text": [
            "1\n",
            "INFO:tensorflow:Saver not created because there are no variables in the graph to restore\n"
          ],
          "name": "stdout"
        },
        {
          "output_type": "stream",
          "text": [
            "INFO:tensorflow:Saver not created because there are no variables in the graph to restore\n"
          ],
          "name": "stderr"
        },
        {
          "output_type": "stream",
          "text": [
            "2\n",
            "INFO:tensorflow:Saver not created because there are no variables in the graph to restore\n"
          ],
          "name": "stdout"
        },
        {
          "output_type": "stream",
          "text": [
            "INFO:tensorflow:Saver not created because there are no variables in the graph to restore\n"
          ],
          "name": "stderr"
        },
        {
          "output_type": "stream",
          "text": [
            "3\n",
            "INFO:tensorflow:Saver not created because there are no variables in the graph to restore\n"
          ],
          "name": "stdout"
        },
        {
          "output_type": "stream",
          "text": [
            "INFO:tensorflow:Saver not created because there are no variables in the graph to restore\n"
          ],
          "name": "stderr"
        },
        {
          "output_type": "stream",
          "text": [
            "4\n",
            "INFO:tensorflow:Saver not created because there are no variables in the graph to restore\n"
          ],
          "name": "stdout"
        },
        {
          "output_type": "stream",
          "text": [
            "INFO:tensorflow:Saver not created because there are no variables in the graph to restore\n"
          ],
          "name": "stderr"
        },
        {
          "output_type": "stream",
          "text": [
            "5\n",
            "1024\n",
            "Running... 15 / 35\n",
            "    Currently extracting elmo for participant 404\n",
            "    # of characters: 4\n",
            "[\"synch yeah fine um pacific grove california um sigh wholesale opportunity uh store anything could ever ask laughter uh traffic mood people unhealthy pace um uh let u see like culinary really good art music high school uh uh desire want uh get involved music uh uh open uh health practice sort uh changing thing life uh impact others benefit health uh opportunity um sigh buying thing seeing culture relaxing thinking city ah well used go texas every every year uh dad summer always wanted stay live went vacation um likely one trip texas uh would go spend time desert shoot gun ride go karts stuff like laughter uh let u see well um dad uh really talking much uh mom passed away two month ago thanks definitely shy always way uh sigh eh personality grown learning adjust sensitivity grow oh tea um know eating like eat mean calm uh eh good get really upset usually problem work calm sometimes get something stop sometimes learned control extent laughter yesterday arguing sort kind water drinking uh well difference opinion felt though opinion valid um even though uh party's opinion somewhat misinformed um definitely uh every day growing process wish would handled\", \"eh good get really upset usually problem work calm sometimes get something stop sometimes learned control extent laughter yesterday arguing sort kind water drinking uh well difference opinion felt though opinion valid um even though uh party's opinion somewhat misinformed um definitely uh every day growing process wish would handled everything differently every day um make grow try work toward would wanted handle thing every day little little um sigh cannot think anyone right um sigh I would I would I would say uh supporting friend much career choice sigh uh I would rather get laughter deep breath um sigh raw food educator youtube sigh um raw vegan educator detox therapy therap therapy uh expert really inspirational past two month well uh believe um essence nutrition come raw fruit vegetable true many study like colin campbell china study um source information uh good think deserve respect based know real research laughter really easy uh almost got science uh tired feeling better long time uh yeah think uh due transition diet way placebo effect actually know loosening toxin thing accumulated short life time um know toxic choice food drug whatever would deep breath yes um le tense le irritable uh clarity\", 'laughter really easy uh almost got science uh tired feeling better long time uh yeah think uh due transition diet way placebo effect actually know loosening toxin thing accumulated short life time um know toxic choice food drug whatever would deep breath yes um le tense le irritable uh clarity control uh decision want versus need sort thing nope yes extent uh five year ago um sigh lack motivation basically symptom paralleling depression uh loss appetite loss motivation wanting anything wanting social fear uh social situation uh xxx main four five uh believe overcomed chapter life doctor um know taking control health experimenting drug sort took another route alternative started juicing um trying listen maybe needed help uh internet nutrition expert stuff like yes uh believe therapy useful um sigh without looking inward somebody help um hard readjust problem uh resonate subconscious know outburst basically um therapy um help overall health mental health believe everybody last night um made really great vegan uh dinner know meat taco cheese guacamole couple friend really liked lot almost converted laughter yeah uh would say uh know trying listen inner conscious brain want like brain like caffeine sugar whereas know body need uh something', \"health mental health believe everybody last night um made really great vegan uh dinner know meat taco cheese guacamole couple friend really liked lot almost converted laughter yeah uh would say uh know trying listen inner conscious brain want like brain like caffeine sugar whereas know body need uh something xxx example hard daily process um uh handling money uh business partner ended short blame actually formula crunching number made short unaware change made formula blame may took money automatically felt bad uneasy uh uncertainty change formula um twenty year ago two year old ten year ago twelve year old would tell um start eating raw fruit vegetable every day calm um sad maybe smart talented laughter um really enjoyed going uh wholesale food market downtown los angeles um sigh lot food uh great price eat feed whole family third price going normal supermarket uh really get lot enjoyment uh teaching people uh maybe better especially foodwise eating uh eating um watching really good t_v show um insightful uh adjust people's uh sigh uh sigh dunno guess skip question proud um sigh I would say overall situation right could never imagined I would fortunate um situation deep breath hmm sigh\"]\n",
            "    # of sentences: 4\n",
            "0\n",
            "INFO:tensorflow:Saver not created because there are no variables in the graph to restore\n"
          ],
          "name": "stdout"
        },
        {
          "output_type": "stream",
          "text": [
            "INFO:tensorflow:Saver not created because there are no variables in the graph to restore\n"
          ],
          "name": "stderr"
        },
        {
          "output_type": "stream",
          "text": [
            "1\n",
            "INFO:tensorflow:Saver not created because there are no variables in the graph to restore\n"
          ],
          "name": "stdout"
        },
        {
          "output_type": "stream",
          "text": [
            "INFO:tensorflow:Saver not created because there are no variables in the graph to restore\n"
          ],
          "name": "stderr"
        },
        {
          "output_type": "stream",
          "text": [
            "2\n",
            "INFO:tensorflow:Saver not created because there are no variables in the graph to restore\n"
          ],
          "name": "stdout"
        },
        {
          "output_type": "stream",
          "text": [
            "INFO:tensorflow:Saver not created because there are no variables in the graph to restore\n"
          ],
          "name": "stderr"
        },
        {
          "output_type": "stream",
          "text": [
            "3\n",
            "INFO:tensorflow:Saver not created because there are no variables in the graph to restore\n"
          ],
          "name": "stdout"
        },
        {
          "output_type": "stream",
          "text": [
            "INFO:tensorflow:Saver not created because there are no variables in the graph to restore\n"
          ],
          "name": "stderr"
        },
        {
          "output_type": "stream",
          "text": [
            "4\n",
            "INFO:tensorflow:Saver not created because there are no variables in the graph to restore\n"
          ],
          "name": "stdout"
        },
        {
          "output_type": "stream",
          "text": [
            "INFO:tensorflow:Saver not created because there are no variables in the graph to restore\n"
          ],
          "name": "stderr"
        },
        {
          "output_type": "stream",
          "text": [
            "5\n",
            "1024\n",
            "Running... 16 / 35\n",
            "    Currently extracting elmo for participant 406\n",
            "    # of characters: 2\n",
            "['synch yes okay l_a uh smog traffic ticket high rent uh everything um like um cost living smog yeah clear throat anymore uh time um meeting new people food nature explore different area um east coast um going college east coast um went two year uh mean one year like three year yeah came back l_a uh business um graduated high school um knew something else future yeah yes uh sought eh experience got travel clear throat um clear throat uh uh personal trainer real estate um seems like um capable right depends eat work um think negative thing could happen know control temper like going jail know losing everything worked um last time argued somebody um one um close friend um seen couple time upset sigh upset sniffle um uh vehicle bought bought something affordable like vehicle veh car bought um like um something affordable like uh maybe uh something economic um moving los angeles west los angeles clear throat sniffle basically found uncle moved um moved good affordable good right really close um know um sigh um financially stable well ever since moved l_a um try fit job something happens business either lay people sell business um know', \"something economic um moving los angeles west los angeles clear throat sniffle basically found uncle moved um moved good affordable good right really close um know um sigh um financially stable well ever since moved l_a um try fit job something happens business either lay people sell business um know pay cut pay tough really um nobody really um workout able get get body tired go sleep uh uh um tired falling asleep wherever go nothing going um lately meaning today um today uh really tired 'cause went last night um last week last uh weekend uh group friend um good time um outgoing nice funny um good attitude personality character charater character mean um know never somebody uh consistent um start something give cough um always open new idea creative um like go good time um take new route journey um also make make people feel good sometimes um studying test um uh go work um clear throat went swimming um traveled know cannot say um lot thing happened fault uh like um economy going bad um know thing really slow know know certain business go way um um sometimes take long time change career get board make happen\"]\n",
            "    # of sentences: 2\n",
            "0\n",
            "INFO:tensorflow:Saver not created because there are no variables in the graph to restore\n"
          ],
          "name": "stdout"
        },
        {
          "output_type": "stream",
          "text": [
            "INFO:tensorflow:Saver not created because there are no variables in the graph to restore\n"
          ],
          "name": "stderr"
        },
        {
          "output_type": "stream",
          "text": [
            "1\n",
            "INFO:tensorflow:Saver not created because there are no variables in the graph to restore\n"
          ],
          "name": "stdout"
        },
        {
          "output_type": "stream",
          "text": [
            "INFO:tensorflow:Saver not created because there are no variables in the graph to restore\n"
          ],
          "name": "stderr"
        },
        {
          "output_type": "stream",
          "text": [
            "2\n",
            "INFO:tensorflow:Saver not created because there are no variables in the graph to restore\n"
          ],
          "name": "stdout"
        },
        {
          "output_type": "stream",
          "text": [
            "INFO:tensorflow:Saver not created because there are no variables in the graph to restore\n"
          ],
          "name": "stderr"
        },
        {
          "output_type": "stream",
          "text": [
            "3\n",
            "INFO:tensorflow:Saver not created because there are no variables in the graph to restore\n"
          ],
          "name": "stdout"
        },
        {
          "output_type": "stream",
          "text": [
            "INFO:tensorflow:Saver not created because there are no variables in the graph to restore\n"
          ],
          "name": "stderr"
        },
        {
          "output_type": "stream",
          "text": [
            "4\n",
            "INFO:tensorflow:Saver not created because there are no variables in the graph to restore\n"
          ],
          "name": "stdout"
        },
        {
          "output_type": "stream",
          "text": [
            "INFO:tensorflow:Saver not created because there are no variables in the graph to restore\n"
          ],
          "name": "stderr"
        },
        {
          "output_type": "stream",
          "text": [
            "5\n",
            "1024\n",
            "Running... 17 / 35\n",
            "    Currently extracting elmo for participant 413\n",
            "    # of characters: 3\n",
            "[\"yes pretty well new york uh go college well san diego go college later l_a aerospace engineering um really good math science interest airplane life coach uh life coach help people um really really like uh feel help people see grow know made contribution life um like weather great 'cause really like outdoor thing like uh thing ocean traffic laughter crowded yeah um like live girlfriend like uh met e harmony uh really close um meditation teacher um yeah used shy self conscious lot anxiety um I would worry lot future uh took class meditation yoga class uh really helped confident relaxed enjoy life lot uh meditate yoga um let u see really mad um guess know mad get mad often frustrated uh would say like stuck traffic um people mean thing people real reason um usually usually talk somebody cannot usually meditation yoga try let go uh pretty good controlling temper uh girlfriend um driving freeway uh suggested get 'cause road worker side like refused stayed right lane argued bit uh felt like listening almost like purposely suggested defiant um um rollerblade kayak uh sing sing choir um trip took india nepal six week yeah much laughter uh really\", \"controlling temper uh girlfriend um driving freeway uh suggested get 'cause road worker side like refused stayed right lane argued bit uh felt like listening almost like purposely suggested defiant um um rollerblade kayak uh sing sing choir um trip took india nepal six week yeah much laughter uh really love explore loved explore ever since little kid love know seeing new thing discovering thing new culture love backpacking wilderness know exploring nature cool um well went trip india nepal first time ever um first week half big group people meditation yoga retreat went white water rafting ganga river um went rest trip went backpacking nepal uh guide uh really beautiful um anapurna area went uh back india explored um area near tibet uh went uh rajasthan uh tiger park madhya pradesh like really close tiger um uh contacted friend mine told going trip I would always wanted go india decided yeah really fun um caring uh enthusatic life um pretty easy uh sleep well younger part sleep well wake know like four morning five morning want sleep 'till seven able get back sleep um general pretty good uh feel tired motivated usual sometimes wanna take nap know afternoon um\", \"decided yeah really fun um caring uh enthusatic life um pretty easy uh sleep well younger part sleep well wake know like four morning five morning want sleep 'till seven able get back sleep um general pretty good uh feel tired motivated usual sometimes wanna take nap know afternoon um um ten twenty year ago um guess wish would invested money bought like house something younger um would probably advice would give um empathetic people um positive kind positive outlook life um determined decide something uh figure even challenging um creative figuring creative way thing guess probably strongest thing pretty balanced organized also pretty creative um pretty balanced way um pretty close uh much closer younger um although I would say probably closer friend people spiritual community able get family uh outdoors nature exercising also singing um fact gone followed heart wanted versus gong think um guess yesterday spent day beach uh bicycled went skating um visited old friend um felt relaxed uh invigurated um uh also felt like miss living beach used live really close beach guess little bit sad live anymore uh really happy goodbye\"]\n",
            "    # of sentences: 3\n",
            "0\n",
            "INFO:tensorflow:Saver not created because there are no variables in the graph to restore\n"
          ],
          "name": "stdout"
        },
        {
          "output_type": "stream",
          "text": [
            "INFO:tensorflow:Saver not created because there are no variables in the graph to restore\n"
          ],
          "name": "stderr"
        },
        {
          "output_type": "stream",
          "text": [
            "1\n",
            "INFO:tensorflow:Saver not created because there are no variables in the graph to restore\n"
          ],
          "name": "stdout"
        },
        {
          "output_type": "stream",
          "text": [
            "INFO:tensorflow:Saver not created because there are no variables in the graph to restore\n"
          ],
          "name": "stderr"
        },
        {
          "output_type": "stream",
          "text": [
            "2\n",
            "3\n",
            "4\n",
            "5\n",
            "1024\n",
            "Running... 18 / 35\n",
            "    Currently extracting elmo for participant 417\n",
            "    # of characters: 1\n",
            "['synch yes well thank san luis obispo yes four year ago month small quiet fresh air le people nice went school los angeles laughter studied music industry yes work music industry passion mine got school went hard laughter really dream job know exists actually probably changing time laughter depends situation sometimes shy sometimes outgoing well cannot see shoe like travel yes meeting new people seeing new thing exploring landscape uh went alaska fishing trip trip um catching octopus deep sea fishing halibut rather catching halibut lured octopus laughter laughter play golf swim read pretty calm um probably couple day ago musical project involved felt heated laughter quite sure quite sure I would think really sure um bad performance one time wish people knew see Were well rehearsed embarrassed afterwards brother parent divorced pretty close see regularly talk openly subject brother wanna know brother really sure time pretty easy um drink coffee compensate fine p_t_s_d stand um happy time laughter um ambitious gogetter feisty quite sure cannot recall right uh went concert saw live music drank good beer yeah laughter good listener passionate alert ever regard normally regret thing much else live think past laughter okay deep breath question read watch']\n",
            "    # of sentences: 1\n",
            "0\n",
            "INFO:tensorflow:Saver not created because there are no variables in the graph to restore\n"
          ],
          "name": "stdout"
        },
        {
          "output_type": "stream",
          "text": [
            "INFO:tensorflow:Saver not created because there are no variables in the graph to restore\n"
          ],
          "name": "stderr"
        },
        {
          "output_type": "stream",
          "text": [
            "1\n",
            "INFO:tensorflow:Saver not created because there are no variables in the graph to restore\n"
          ],
          "name": "stdout"
        },
        {
          "output_type": "stream",
          "text": [
            "INFO:tensorflow:Saver not created because there are no variables in the graph to restore\n"
          ],
          "name": "stderr"
        },
        {
          "output_type": "stream",
          "text": [
            "2\n",
            "INFO:tensorflow:Saver not created because there are no variables in the graph to restore\n"
          ],
          "name": "stdout"
        },
        {
          "output_type": "stream",
          "text": [
            "INFO:tensorflow:Saver not created because there are no variables in the graph to restore\n"
          ],
          "name": "stderr"
        },
        {
          "output_type": "stream",
          "text": [
            "3\n",
            "INFO:tensorflow:Saver not created because there are no variables in the graph to restore\n"
          ],
          "name": "stdout"
        },
        {
          "output_type": "stream",
          "text": [
            "INFO:tensorflow:Saver not created because there are no variables in the graph to restore\n"
          ],
          "name": "stderr"
        },
        {
          "output_type": "stream",
          "text": [
            "4\n",
            "INFO:tensorflow:Saver not created because there are no variables in the graph to restore\n"
          ],
          "name": "stdout"
        },
        {
          "output_type": "stream",
          "text": [
            "INFO:tensorflow:Saver not created because there are no variables in the graph to restore\n"
          ],
          "name": "stderr"
        },
        {
          "output_type": "stream",
          "text": [
            "5\n",
            "1024\n",
            "Running... 19 / 35\n",
            "    Currently extracting elmo for participant 418\n",
            "    # of characters: 4\n",
            "[\"yes well new york turn volume little bit laughter uh change yeah good wanted wa wanted wanted see los angeles um probably took year two uh know away family away used new york neighborhood people getting acclimated whole new lifestyle uh weather cannot beat weather generally always nice hot cold uh creative like uh know movie uh like beach traffic lot traffic uh sometimes think people little bit colder distant unfriendly place history major uh uh demonstration really rea uh highend supermarket uh screenwriter one reason came los angeles um hard 'cause always maintain uh focus motivation let thing distract laughter uh uh always interested film ever since child always know writing active imagination uh last probably almost ten year traveled past pa well always traveled even kid parent would travel around yes seeing new place seeing uh people different seeing live taking sight uh went kenya probably one best trip ever went um safari going jeep seeing laughter wild animal natural habitat pretty incredible oh yeah one great experience life also got uh place egypt uh end trip um called uh sharm el sheikh right water best scuba diving world hard believe egypt would amazing went go scuba diving\", \"trip ever went um safari going jeep seeing laughter wild animal natural habitat pretty incredible oh yeah one great experience life also got uh place egypt uh end trip um called uh sharm el sheikh right water best scuba diving world hard believe egypt would amazing went go scuba diving went uh snorkeling relax uh like listen music like uh helping watching movie help relax 'cause take know whatever might mind meditate every day um like take walk nature always calming especially uh ocean uh depends laughter sometimes get angry lose temper uh lot time uh like form selfhypnosis calm something recently learned helpful also since meditate get annoyed thing easily past thing make really mad guess uh think injustice world done people uh really need way could get along um make world better laughter uh last night went movie screening independent film think done well much fun argument uh movie like know happened yesterday mind laughter anything regret yeah opportunity life wished uh taken pursued uh certain job know first got los angeles opportunity uh become grip uh probably pursued decide really understand question take advantage every opportunity came way always alway think saying yes uh opportunity important matter\", \"movie like know happened yesterday mind laughter anything regret yeah opportunity life wished uh taken pursued uh certain job know first got los angeles opportunity uh become grip uh probably pursued decide really understand question take advantage every opportunity came way always alway think saying yes uh opportunity important matter feel know confident able achieve wanna depressed life uh part feeling good sometimes uh feel little blue uh think know sometimes allow allo allow regret come mind bring know usually get pretty quickly uh sometimes financial concern sometimes uh opportunity um explain eh sometimes sometimes someti eh financial one way made another decision might money life would different um really mean feel pretty much got seek help laughter let u come back um well okay well generally talking someone helped uh pretty easy problem sleeping uh usually grumpy laughter sleep well uh know feel tired irritable uh would best friend describe good question um friendly f well friendly f definitely friendly outgoing uh little bit secretive um would probably would like see accomplished uh uh attaining goal happier ha maybe little happier think um tough depends sometimes introverted 'cause like write take mean spend time alone come uh extroverted really\", \"describe good question um friendly f well friendly f definitely friendly outgoing uh little bit secretive um would probably would like see accomplished uh uh attaining goal happier ha maybe little happier think um tough depends sometimes introverted 'cause like write take mean spend time alone come uh extroverted really see one hard way depends situation mood best quality um think caring think intelligent uh think funny outgoing um likeable personality know people said um engaging uh oppressive overly engaging sort cool detachment um creative intuitive laughter yes laughter last time felt really happy know woke morning pretty happy breakfast happy sun shining laughter um think like said going kenya memorable experience remember remem scuba uh snorkeling really great experience ex experience remembered know seeing color ocean know feeling sun powerful sun back um almost beyond know beca almost beyond like human way touch like everything universe yeah would nice feel way every moment day proud life think uh helped pft people uh sometimes crisis um know written screenplay scr screenplay um good relationship um good relationship know connected someone else know spending time connecting emotional laughter physical mental level um could song hear radio uh could uh lot time\"]\n",
            "    # of sentences: 4\n",
            "0\n",
            "INFO:tensorflow:Saver not created because there are no variables in the graph to restore\n"
          ],
          "name": "stdout"
        },
        {
          "output_type": "stream",
          "text": [
            "INFO:tensorflow:Saver not created because there are no variables in the graph to restore\n"
          ],
          "name": "stderr"
        },
        {
          "output_type": "stream",
          "text": [
            "1\n",
            "INFO:tensorflow:Saver not created because there are no variables in the graph to restore\n"
          ],
          "name": "stdout"
        },
        {
          "output_type": "stream",
          "text": [
            "INFO:tensorflow:Saver not created because there are no variables in the graph to restore\n"
          ],
          "name": "stderr"
        },
        {
          "output_type": "stream",
          "text": [
            "2\n",
            "INFO:tensorflow:Saver not created because there are no variables in the graph to restore\n"
          ],
          "name": "stdout"
        },
        {
          "output_type": "stream",
          "text": [
            "INFO:tensorflow:Saver not created because there are no variables in the graph to restore\n"
          ],
          "name": "stderr"
        },
        {
          "output_type": "stream",
          "text": [
            "3\n",
            "INFO:tensorflow:Saver not created because there are no variables in the graph to restore\n"
          ],
          "name": "stdout"
        },
        {
          "output_type": "stream",
          "text": [
            "INFO:tensorflow:Saver not created because there are no variables in the graph to restore\n"
          ],
          "name": "stderr"
        },
        {
          "output_type": "stream",
          "text": [
            "4\n",
            "INFO:tensorflow:Saver not created because there are no variables in the graph to restore\n"
          ],
          "name": "stdout"
        },
        {
          "output_type": "stream",
          "text": [
            "INFO:tensorflow:Saver not created because there are no variables in the graph to restore\n"
          ],
          "name": "stderr"
        },
        {
          "output_type": "stream",
          "text": [
            "5\n",
            "1024\n",
            "Running... 20 / 35\n",
            "    Currently extracting elmo for participant 420\n",
            "    # of characters: 4\n",
            "['okay yes pretty good little tired seattle washington uh eighteen mom dad decided wanted move california uh moved pasadena uh actually monrovia first ever since yeah two year ago went work look around area pretty easy actually adapt warm weather rain nine month year um people mainly uh area big traffic first got smog better younger got outta work sure became mom died needed work went job called petitioning uh go front store talk people signing petition awhile get shy talking anybody also school took public speaking learned really liked thought would census job actually got front group people talked showed take test enjoyed right working getting license selling insurance um gonna start work uh trying get money people uh help kid uh world well uh job helping kid also paid job needed paid job uh one insurance getting older needed work steady something till eighty five ninety whatever laughter artist well good art like drawing painting et cetera know could ever make living never really got every time tried seemed never got anywhere maybe get like eighty ninety maybe go ceramic something profession unfortuantely okay mom dad die dead brother sister rest family either moved away talk anymore like', 'artist well good art like drawing painting et cetera know could ever make living never really got every time tried seemed never got anywhere maybe get like eighty ninety maybe go ceramic something profession unfortuantely okay mom dad die dead brother sister rest family either moved away talk anymore like well kind attitude friend okay uh read uh watch sport available uh let u see used play golf may day right cost time people rude well usually ignore morning actually told guy stop got kind argument argument done good bad temper kid told control uh morning guy making lot lot noise uh purpose uh place place mean public place uh little argument done argument say say laughter yes right think uh like read um travel travel uh travel long distance even going riverside kind adventure seeing thing way back talking people maybe well number year ago went drove back east uh massachusetts work back way back took greyhound bus way back washington d_c way back california uh washington first uh worked massachusettes oh uh six month eight month enjoyed area quite bit want snow came uh enjoyed coming back bus people near next almost way different people lot fun yeah', \"uh massachusetts work back way back took greyhound bus way back washington d_c way back california uh washington first uh worked massachusettes oh uh six month eight month enjoyed area quite bit want snow came uh enjoyed coming back bus people near next almost way different people lot fun yeah yeah airforce uh eighteen nineteen sixty five vietnam war great fall montana really year later probably uh learned fact got early maybe stayed stuck tended quit thing younger thing decided never quit anything came uh played pool number year uh finally graduated high school dropped moved uh went college got bachelor's degree a_a degree pasadena cal state l_a started working various job uh took care mom uh business major also studied cyclic anthropology philosphy history et cetera never depressed de lately good fact sleep car cold sometimes get uh thing going life right think thing plus get four thirty morning okay uh tired get little grumpy sometimes much tired thing uh weather sleep uh little bit sometimes maybe started year ago go tell basically stop uh go thing uh improve anymore took year study know call zen uh couple month ago passed test uh medicare medi uh medicare advantage passed\", \"okay uh tired get little grumpy sometimes much tired thing uh weather sleep uh little bit sometimes maybe started year ago go tell basically stop uh go thing uh improve anymore took year study know call zen uh couple month ago passed test uh medicare medi uh medicare advantage passed everyone 'em every company sent 'em stick everything persistent let thing get hand something used uh word put thing anymore uh treat people nicely always given reason talk bad stuff anybody usually laughter thing trained year talk talk people talk uh let u see mother gandy um bertrand russell let u see sure else people remember name teacher et cetera earlier life uh like said uh stopping everything completing thing regret much uh yeah coulda done better probably advice gave get butt go learn get education uh get life something survived well sixty five sleeping car number year went sleeping pavement got car done improved credit rating gotten uh number job happy lot friend homeless ho people homeless homeless uh pretty good health people family died young guess uh good joke uh people happy time going drink somebody occasional basis uh eight month ago last time beer someone let u\"]\n",
            "    # of sentences: 4\n",
            "0\n",
            "INFO:tensorflow:Saver not created because there are no variables in the graph to restore\n"
          ],
          "name": "stdout"
        },
        {
          "output_type": "stream",
          "text": [
            "INFO:tensorflow:Saver not created because there are no variables in the graph to restore\n"
          ],
          "name": "stderr"
        },
        {
          "output_type": "stream",
          "text": [
            "1\n",
            "INFO:tensorflow:Saver not created because there are no variables in the graph to restore\n"
          ],
          "name": "stdout"
        },
        {
          "output_type": "stream",
          "text": [
            "INFO:tensorflow:Saver not created because there are no variables in the graph to restore\n"
          ],
          "name": "stderr"
        },
        {
          "output_type": "stream",
          "text": [
            "2\n",
            "INFO:tensorflow:Saver not created because there are no variables in the graph to restore\n"
          ],
          "name": "stdout"
        },
        {
          "output_type": "stream",
          "text": [
            "INFO:tensorflow:Saver not created because there are no variables in the graph to restore\n"
          ],
          "name": "stderr"
        },
        {
          "output_type": "stream",
          "text": [
            "3\n",
            "INFO:tensorflow:Saver not created because there are no variables in the graph to restore\n"
          ],
          "name": "stdout"
        },
        {
          "output_type": "stream",
          "text": [
            "INFO:tensorflow:Saver not created because there are no variables in the graph to restore\n"
          ],
          "name": "stderr"
        },
        {
          "output_type": "stream",
          "text": [
            "4\n",
            "5\n",
            "1024\n",
            "Running... 21 / 35\n",
            "    Currently extracting elmo for participant 422\n",
            "    # of characters: 5\n",
            "[\"yes okay uh los angeles california originally yes sunshine uh weather's great smog pollution crime um certain thing like yeah one point life military hardly lot traveling seeing different sight different people think people around different type city people peop see meeting different new people uh sigh traveled uh new york one time uh quite different big city different people uh eighteen uh yes laughter uh lot combat training combat mm disciplined uh motivated uh get lot thing done laughter even wanna 'em know go back army day get motivated stuff really needed get done wanna got done uh like uh uh lot cleaning uh wake pretty early lot p_t uh stay like two three o'clock morning wake back four five yes uh laughter certain point yes military joined national guard uh fifteen sixteen year uh uh excuse ma'am hear th quite hear uh made decide uh motivation know really wanted career see could find career helped little bit yeah thank easy uh mean sorry easy bother much go back civilian life yeah bother ju adjusted pretty well uh sigh history basically lot um yeah basically history uh uh disabled oh okay okay heal get better hopefully yes try keep\", \"wanted career see could find career helped little bit yeah thank easy uh mean sorry easy bother much go back civilian life yeah bother ju adjusted pretty well uh sigh history basically lot um yeah basically history uh uh disabled oh okay okay heal get better hopefully yes try keep excuse ma'am guess dream job would probably working others working young people working kid seeing get uh right proper uh uh education know due productive life society live today yeah excuse sigh think 'em think uh uh uh sigh xxx mean sh participate tapicitate life ask question motivated uh really achieve something within life give mm give confidence motivation need life 'cause lot 'em get sigh see people really really stuff really uh sigh really eeks mean really bother people talk give runaround like straight instead giving runaround laughter straight frustrating uh really people really trying find right word stupid stuff laughter really botthers uh spray painting wall uh throwing garbage anywhere picking uh really uh know really hygiene know taking care hygiene know mean yeah sigh annoyed uh get really upset really start really cussing people honest something really uh learning really let go lot know know say hey\", \"stuff laughter really botthers uh spray painting wall uh throwing garbage anywhere picking uh really uh know really hygiene know taking care hygiene know mean yeah sigh annoyed uh get really upset really start really cussing people honest something really uh learning really let go lot know know say hey way like control cannot control yeah control thing really getting upset people really good good oh temper controlled control pretty well uh know think probably sister controlling like life mine tell yeah real close get along 'em real close problem yeah good uh morning laughter yeah wake pretty know first thing wake morning pray spirit connection uh sigh universe world feel pretty good yes uh sigh know motivated get start thing life anything time wanna get something accomplished cannot really get done road block way uh learning uh overcome road block well uh well instance uh looking go school problem uh getting enrolled school talk one social worker willing help get online uh like okay well gonna get done laughter yeah uh repeat one time ma'am uh yes see uh sigh I would say uh last couple week uh noticed go certain situation like talking anger situation like get angry\", \"uh getting enrolled school talk one social worker willing help get online uh like okay well gonna get done laughter yeah uh repeat one time ma'am uh yes see uh sigh I would say uh last couple week uh noticed go certain situation like talking anger situation like get angry time sometimes get angry find causing causing get angry take excuse ma'am uh hard 'cause alls take time reflect everything uh gone uh take good look situation uh go find really bothering seldom uh suffer p_t_s_d uh getting type sleep would would great recurring nightmare incident sigh think know triggered think talking someone seeing someone 'cause veteran uh v_a situation p_t_s_d basically right excuse ma'am uh sigh lot nightmare lot problem lot anger issue uh depression uh noticed uh started started tell needed help basically know know something wrong something right something's right take time know take good look ask something's right something's right fine something's right need take care uh started seeking help yeah somewhat yes somewhat 'cause able sit talk therapist well able sit talk therapist uh tell 'em situation usually go problem uh went class uh uh talking oneonone doctor helping little bit yeah good thing excuse\", \"something's right something's right fine something's right need take care uh started seeking help yeah somewhat yes somewhat 'cause able sit talk therapist well able sit talk therapist uh tell 'em situation usually go problem uh went class uh uh talking oneonone doctor helping little bit yeah good thing excuse ma'am really best friend uh would describe fun loving good person always try help others uh think others really know need thing need done take care know really actually really look lot respect yeah see something wish excuse ma'am uh little bit specific oh okay uh book crossword puzzle uh walking thought think think regret anything way accept keep moving regret anything past wasting time gone past need move need live present prepared future move future yeah sharp inhale uh sigh education uh direct confidence like today yeah lacking maybe twenty year ago uh yes ye yes lot positive people life uh sigh yeah people would uh uh uh well consistently con xxx mean consistently motivate continue pursue certain goal uh thought pretty good really see lot uh gave lot motivation try go try certain thing 'cause anything choice whether choice still done excuse ma'am uh sigh able really able\"]\n",
            "    # of sentences: 5\n",
            "0\n",
            "INFO:tensorflow:Saver not created because there are no variables in the graph to restore\n"
          ],
          "name": "stdout"
        },
        {
          "output_type": "stream",
          "text": [
            "INFO:tensorflow:Saver not created because there are no variables in the graph to restore\n"
          ],
          "name": "stderr"
        },
        {
          "output_type": "stream",
          "text": [
            "1\n",
            "INFO:tensorflow:Saver not created because there are no variables in the graph to restore\n"
          ],
          "name": "stdout"
        },
        {
          "output_type": "stream",
          "text": [
            "INFO:tensorflow:Saver not created because there are no variables in the graph to restore\n"
          ],
          "name": "stderr"
        },
        {
          "output_type": "stream",
          "text": [
            "2\n",
            "3\n",
            "4\n",
            "5\n",
            "1024\n",
            "Running... 22 / 35\n",
            "    Currently extracting elmo for participant 436\n",
            "    # of characters: 5\n",
            "[\"yes okay eh alhambra uh weather's really nice everything's familiar uh sometimes much congestion road much traffic studied art photography uh much decision kept noticing interested yes photographer mhm oh suppose uh um running family portrait studio type photography business uh also apartment manager keep tied um uh fair greatest apartment manager free rent stay lot part free rent part good oh gosh memorable experience hard say um well mean good bad memorable experience oh well guess like sport success high school thing happy art piece made memorable bad thing would father's death know memorable good though uh well parent lot brother sister uh family uh fairly close live around l_a uh far f distant di uh distant brother life new york brother life maui clear throat mhm oh mostly talented s um um involved technology maybe um think hive mind grew seems like hooked social medium uh go walk watch television play computer uh um well uh kind uh injustice happen n big deal example parking situation got worse new district parking eh kind upsetting city seem wanna uh make exception change rule also uh unfair thing work sometimes happen upsetting ups uh upsetting uh yeah worked f school\", 'watch television play computer uh um well uh kind uh injustice happen n big deal example parking situation got worse new district parking eh kind upsetting city seem wanna uh make exception change rule also uh unfair thing work sometimes happen upsetting ups uh upsetting uh yeah worked f school sch uh uh high school sch worked high school dance uh last weekend arrived site people site said could set equipment backdrop thing location assigned go outside get okay go inside outside Were prepared told advance outside um delayed setup time would bothered except monday morning um school called call called bos complained late setting told u wait told would delayed wait still get complaint part upsetting work back u office need please school maintain account uh often something like happens mean send work school would translate le payroll hour photographer job yeah thing upsetting uh time dust resume laughter start looking situation might better um yeah uh pretty good sigh usually xxx might uh moment really lose xxx later might um vent something like spot sp location would um well today um uh schedule sc tight schedule today friend car c sharing car today uh arguing go first um', 'start looking situation might better um yeah uh pretty good sigh usually xxx might uh moment really lose xxx later might um vent something like spot sp location would um well today um uh schedule sc tight schedule today friend car c sharing car today uh arguing go first um compromised thing one thing th one thing gonna thing yeah posttraumatic stress syndrome uh yes oh sigh I would say nineteen eighty yeah think believe nineteen eighty yeah um well father noticed symptom father well passed away psychiatrist um well sleeping laying around house um waking noon laughter something like um focus like getting job clear enough uh remember job interview I would go front door would go laughter think part depression yeah thought problem know uh well eh went three year psychiatrist said thought done laughter uh get much better place watch time see going depression think good day bad day um think therapy make see um like thought filter wearing pair pa put depression pair sunglass really see everything kinda k sort try take glass little bit double check really perceiving thing accurately seeing depressed viewpoint try look clue think um slipping back little bit uh uh well', \"bad day um think therapy make see um like thought filter wearing pair pa put depression pair sunglass really see everything kinda k sort try take glass little bit double check really perceiving thing accurately seeing depressed viewpoint try look clue think um slipping back little bit uh uh well unemployed period noticed path past um right work slow easy slip back sleeping late putting thing schedule's wide open personally depressed person think structure really important um get bed get somewhere time deal interact people beneficial thing someone tends depressed uh well know change little bit tend focused thing probably um uplifting let u say uh negative like ha sort thinking um um soldier past uh know like roman era er era greek gree ancient greek would like frontline battle mm know crude cru kind crude cru opinion crude weapon medical help know seem se mind seems go lot thinking looking look looking reading book um video clip youtube eh thing like um thing thi uh kinda like terrible doom type theme like watching animal show like crocodile attack thing like probably dwell much oh mean life general yeah well think regret finishing college think think wa uh going depression\", 'looking look looking reading book um video clip youtube eh thing like um thing thi uh kinda like terrible doom type theme like watching animal show like crocodile attack thing like probably dwell much oh mean life general yeah well think regret finishing college think think wa uh going depression right coping senior year well um really get college degree although seven year uh big regret um think would um certain point probably sought um sought therapy also probably uh outside help um getting final logistics art major car lot art project thing difficult move back forth also uh meet away location think probably would worth whatever took get car laughter time um well told patient also um original original artistic idea um good quality loyal also um know support friend fairly generous yeah um let u see xxx really enjoyed nice experience uh uh photographing um soccer game recently really enjoyed mhm okay pleasure thank goodbye']\n",
            "    # of sentences: 5\n",
            "0\n",
            "INFO:tensorflow:Saver not created because there are no variables in the graph to restore\n"
          ],
          "name": "stdout"
        },
        {
          "output_type": "stream",
          "text": [
            "INFO:tensorflow:Saver not created because there are no variables in the graph to restore\n"
          ],
          "name": "stderr"
        },
        {
          "output_type": "stream",
          "text": [
            "1\n",
            "INFO:tensorflow:Saver not created because there are no variables in the graph to restore\n"
          ],
          "name": "stdout"
        },
        {
          "output_type": "stream",
          "text": [
            "INFO:tensorflow:Saver not created because there are no variables in the graph to restore\n"
          ],
          "name": "stderr"
        },
        {
          "output_type": "stream",
          "text": [
            "2\n",
            "INFO:tensorflow:Saver not created because there are no variables in the graph to restore\n"
          ],
          "name": "stdout"
        },
        {
          "output_type": "stream",
          "text": [
            "INFO:tensorflow:Saver not created because there are no variables in the graph to restore\n"
          ],
          "name": "stderr"
        },
        {
          "output_type": "stream",
          "text": [
            "3\n",
            "INFO:tensorflow:Saver not created because there are no variables in the graph to restore\n"
          ],
          "name": "stdout"
        },
        {
          "output_type": "stream",
          "text": [
            "INFO:tensorflow:Saver not created because there are no variables in the graph to restore\n"
          ],
          "name": "stderr"
        },
        {
          "output_type": "stream",
          "text": [
            "4\n",
            "5\n",
            "1024\n",
            "Running... 23 / 35\n",
            "    Currently extracting elmo for participant 439\n",
            "    # of characters: 2\n",
            "[\"yes fine tired california hollywood uh much laughter many thing like uh people um clean much crime many drug uh makeup hair laughter little bit uh much survive laughter difficult okay uh getting little old thinking career want probably get married little security wife laughter sigh uh little bit close everybody's pretty much passed away laughter um play farmville facebook yeah good really temper uh exhusband money laughter sigh people lying cheating conniving drug addict know ugly people people hideous inside know uh jesus christ mother alive well still positive influence nobody really jesus laughter uh memorable experience know cannot really think one right laughter uh gosh memorable experience sigh oh guess like maybe modeling pretty cool yeah yeah kind um surreal like see magazine picture stuff know sharp inhale understand could photographer told like well someone might well oh well laughter true laughter cool kinda fell accident always sorry yeah yeah wish took um could really happy laughter remember really uh really best friend laughter sure would wou anybody would describe outgoing yeah yes uh uh nineteen eighty four yeah could deal see psychiatrist um horrified um could sleep um panicked um major anxiety yeah yeah laughter yes yes\", \"yeah yeah wish took um could really happy laughter remember really uh really best friend laughter sure would wou anybody would describe outgoing yeah yes uh uh nineteen eighty four yeah could deal see psychiatrist um horrified um could sleep um panicked um major anxiety yeah yeah laughter yes yes could see right doctor see yeah um give opportunity talk somebody hopefully give answer 'em try find answer inside get good able talk somebody kinda biased neutral really depressed laughter extremely depressed yeah poverty laughter yeah uh huh yeah lot tired sleep longer um drive motivation try strong get know yes really laughter open book yeah um sigh well would say perfectionist really good quality 'cause get dangerous um artistic good lot thing really good lot thing xxx well good good hairdresser makeup artist um uh crochet knit really well make jewelry um good computer phone though electronics yeah um keep perfect house well depressed like perfect wife perfect wife yeah anymore 'cause divorced drug laughter chose eh drug w much problem yeah really hard like drug mistress mhm wh oh yes um well really consider introvert um yeah lot regret really anything could really point regretting 'cause make decision\"]\n",
            "    # of sentences: 2\n",
            "0\n",
            "INFO:tensorflow:Saver not created because there are no variables in the graph to restore\n"
          ],
          "name": "stdout"
        },
        {
          "output_type": "stream",
          "text": [
            "INFO:tensorflow:Saver not created because there are no variables in the graph to restore\n"
          ],
          "name": "stderr"
        },
        {
          "output_type": "stream",
          "text": [
            "1\n",
            "INFO:tensorflow:Saver not created because there are no variables in the graph to restore\n"
          ],
          "name": "stdout"
        },
        {
          "output_type": "stream",
          "text": [
            "INFO:tensorflow:Saver not created because there are no variables in the graph to restore\n"
          ],
          "name": "stderr"
        },
        {
          "output_type": "stream",
          "text": [
            "2\n",
            "3\n",
            "4\n",
            "5\n",
            "1024\n",
            "Running... 24 / 35\n",
            "    Currently extracting elmo for participant 440\n",
            "    # of characters: 4\n",
            "[\"synch yes uh good thanks east coast work uh rarely prefer uh um nice lifestyle like weather better uh lot thing living favorite city uh somewhat um mostly um um like go france lot like food um uh lifestyle shopping sort thing uh art history marketing uh well um became interested high school thought good um classical education uh um interned andy warhol's magazine high school scrubbed_entry hmm yes yes uh eh pretty happy um consulting write marketing plan sort thing um fairly hard writing marketing plan um uh know hard hard um laughter talk someone marketing requires um knowledge uh know done take uh several month one um well guess originally kind shy um become outgoing 'cause work stuff um like exercise uh um hiking dog walk hill couple time good uh remember um know nothing come mind mm um sometimes clean car might get lot dog hair feel bad always stay top getting car wash stuff uh well conflict brother um decide estrangement make sense somewhat difficult decision angry behavior difficult um know wa somewhat difficult loved much um close family um really one um japanese friend uh oh think sensor came japanese friend uh close like kind\", \"bad always stay top getting car wash stuff uh well conflict brother um decide estrangement make sense somewhat difficult decision angry behavior difficult um know wa somewhat difficult loved much um close family um really one um japanese friend uh oh think sensor came japanese friend uh close like kind mother um scrubbed_entry uh met socially um scrubbed_entry uh know nothing come mind talking experimenter talking experimenter talking experimenter talking experimenter talking experimenter talking experimenter um pretty easy 'cause keep regular schedule um jus kind tired maybe little bit irritable uh good um well recovering p_t_s_d um sometimes feel p_t_s_d take medication uh left still sti still stress still treated really um prefer talk um past treated um five year ago uh um sad depressed um also anxiety went doctor um helped uh psychotherapy yeah p_t_s_d though um know guess uh um kind supportive issue family supportive doctor supportive um know uh give good feedback help make good decision sort thing yeah nightmare family sometimes yeah thanks oh uh try uh sleep better xxx xxx xxx go sleep sort like um meditate little bit get calm hope help feel happy time pretty much like dog make happy know life really\", \"know uh give good feedback help make good decision sort thing yeah nightmare family sometimes yeah thanks oh uh try uh sleep better xxx xxx xxx go sleep sort like um meditate little bit get calm hope help feel happy time pretty much like dog make happy know life really happy mhm uh guess know nice person thoughtful um good friend um sigh happy fun person um know mean forty pretty happy know um know uh done lot lot work therapy stuff pretty would really change lot pretty happy mean sound conceited pretty um happy uh well would would um parent abusive talk anymore laughter um know time know uh know said sai terrible thing prefer talk uh let u see um well started reading book like read um cookbook reading book called um french woman cook uh woman's relationship different woman friend different part france cooking really enjoying book mhm um usually know um get grocery shopping done enjoy really really like grocery shopping go place bit cleaning um uh uh relax oh yeah would wou would say um better selfesteem 'cause used low selfesteem know abused um know wish I would happier ha happier past know taken long\", \"mhm um usually know um get grocery shopping done enjoy really really like grocery shopping go place bit cleaning um uh uh relax oh yeah would wou would say um better selfesteem 'cause used low selfesteem know abused um know wish I would happier ha happier past know taken long time become happy um know matter whatever achievement never happy past always know struggling depressed di even know know realize whatever event parent um relationship advice would um relationship um bad like sometimes estrangement best choice abusive relationship um j way live life way treat people think know um know believe like deed important try treat people good way guess know proud know work like decision made um give um know uh job like give lot flexibility know like sigh um know people like work um also dog really proud um yeah guess gu know laughter mhm okay thank bye\"]\n",
            "    # of sentences: 4\n",
            "0\n",
            "INFO:tensorflow:Saver not created because there are no variables in the graph to restore\n"
          ],
          "name": "stdout"
        },
        {
          "output_type": "stream",
          "text": [
            "INFO:tensorflow:Saver not created because there are no variables in the graph to restore\n"
          ],
          "name": "stderr"
        },
        {
          "output_type": "stream",
          "text": [
            "1\n",
            "2\n",
            "3\n",
            "4\n",
            "5\n",
            "1024\n",
            "Running... 25 / 35\n",
            "    Currently extracting elmo for participant 451\n",
            "    # of characters: 7\n",
            "[\"okay mm okay sure mm okay uh l_a yeah like weather like sport team like entertainment yeah uh pretty much year round far well actually weather could good could bad get get four season kinda like mixed bag um guess maybe kinda used it'd kinda nice explore area lived life done much traveling uh little bit uh kind ruttiness uh overall okay uh well took computer programming operation going back seventy technology's changed lot tell laughter last forty odd year laughter major yeah um know kind kind inquisitive use mind uh like know brand new something know novel back old day know back seventy everything computer back sort like sniff something unique um see know many computer around back um worked programming kind logicalness know putting together know solving particular um problem know come step step solution guess sort back kind analytic ana analytical ana analytical ana analyticalanal cannot say word laughter analyticalness um problem mhm uh kinda phased still use computer gotten programming long time um well kinda got another area kinda diversion di uh diversion divorcion diversion another area life uh going back um late seventy kinda took another turn time kinda got back kinda got another field\", 'word laughter analyticalness um problem mhm uh kinda phased still use computer gotten programming long time um well kinda got another area kinda diversion di uh diversion divorcion diversion another area life uh going back um late seventy kinda took another turn time kinda got back kinda got another field never really pursued degree wanted wow good question laughter never thought uh well actually kinda ki ironically ironically actually something pretty simple point time maybe kinda like made little bit depressed um point kind wanted kind nice relaxing job want somewhat challenge want like much much thinking almost like opposite back old day know want nice comfortable relaxing job feel fulfillment wanna tense situation kinda point life want nice relaxing job yeah laughter yeah oh would say well part shy sometimes get going could outgoing um generally speaking shy begin time kinda loosen vocal sometimes take extreme talking much like funny gate open kind laughter open much like back know overall would say kind shy general demeanor oh really laughter laughter yeah laughter oh um well listen music um um well watch t_v um um relax well try uh avoid stressful situation like kinda stay relaxed also talk friend around', 'funny gate open kind laughter open much like back know overall would say kind shy general demeanor oh really laughter laughter yeah laughter oh um well listen music um um well watch t_v um um relax well try uh avoid stressful situation like kinda stay relaxed also talk friend around area around kind comfort area feel safe dialogue people kinda get thinking problem kinda know focus moment um acquaintance acqu friend acquaintance um pretty good really temper problem take lot get uh explode think w younger day think little bit little bit slight bit temper never really bad temper uh uh temper really issue tend pretty mellow easy going yeah wow good question um sure honest um I would think long time laughter honest cannot come answer really part repertoire um nothing come mind top head well um well thing think kinda going way back made bad investment bad investment back ten year ago um trying think word looking trusting people like uh people like uh tisk thought expert field um uh inherited money little bit careless kinda vibe know uh nothing would go wrong kinda little bit naitivity nait naitivity um unfortunately made bad financial decision kinda put bad', \"back ten year ago um trying think word looking trusting people like uh people like uh tisk thought expert field um uh inherited money little bit careless kinda vibe know uh nothing would go wrong kinda little bit naitivity nait naitivity um unfortunately made bad financial decision kinda put bad position rest life unfortunately um medical condition hard rebound know make would say mainly uh financial uh investment decision really regret wow hmm tough one cannot think anything top head laughter okay oh well uh really much family left one um uncle communicate c communicate regular basis um life li life clearwater florida uh okay um uh like eight eighty obviously fifty um kinda small talk kinda concerned well kind somewhat shallow sh shallow level get really deep uh got problem really get deep conversation really really anybody else probably make little bit depressed 'cause really feel anybody really count really confide um challenging uh know medical condition think might part problem um little bit b_p_a ocassionally get go restroom um answer question laughter make long story short laughter um challenging get good night's sleep usually uh wake w wake feeling little bit tired achy difficult uh sigh well feeling\", \"really confide um challenging uh know medical condition think might part problem um little bit b_p_a ocassionally get go restroom um answer question laughter make long story short laughter um challenging get good night's sleep usually uh wake w wake feeling little bit tired achy difficult uh sigh well feeling okay mean um kinda feeling mellow actually um trying address issue taken uh responsibility um feel bit calmness late well say yes filled questionnaire um positive technically diagnosed take uh think called m_m_p_h minnesota multifaceted personality something whether going back six month ago asking question memory also got question well psychologically think answer said advise see psychologist psychiatrist follow philosophical difference uh think might know mild case depression well know um like said kinda like kinda going along life uh okay know kinda life's passing really fulfilled goal know kinda like alone I would like girlfriend girlfriend kind somebody feel get close really kinda transitional period life right uh little bit uncertainty know kinda financial uncertainty um know overall good I would like wow good one laughter really happy um let think minute well actually um long ago actually went um make sound mouth okay know one actually come answer\", 'get close really kinda transitional period life right uh little bit uncertainty know kinda financial uncertainty um know overall good I would like wow good one laughter really happy um let think minute well actually um long ago actually went um make sound mouth okay know one actually come answer um helped lady tradeshow anaheim natural product expo pretty nice uh nice meal afterwards lot exhibiters giving really nice sample anaheim kinda got chance get away l_a um know met interesting people uh outgoing willing like experience product service um around people work uh got socialize uh think pretty happy back uh month ago yeah yeah best friend know really best friend uh would say um hmm know technically really best friend really hard answer uh cannot really come answer honest laughter um like conscientious know flaw every think overall conscientious try honest part major issue might know say little white lie know perfect come serious stuff tend pretty honest hard worker got g got good work ethic um tend pretty calm part um regret well elaborate laughter uh well um well overall um regret uh little assertive earlier uh earlier life um kinda put position going kinda go back', \"white lie know perfect come serious stuff tend pretty honest hard worker got g got good work ethic um tend pretty calm part um regret well elaborate laughter uh well um well overall um regret uh little assertive earlier uh earlier life um kinda put position going kinda go back financial decision sort sort like albatross life made bad decision unfortunately kinda pay price kind like sort like living sort pauper existence right kinda kinda depressing would say probably regret well I would say really know analyze kinda go really feel um think going people's opinion people's advice kinda going away basic beingness know like way really felt like example I would make would aggressive uh investing turned good would like sort like winning lotto would well rest life laughter unfortunately went opposite way many egg basket kinda regretted going gut feeling let people influence uh 'cause nature conservative person really concervative investment area life tend conservative kinda made aggressive financial f financial decision pretty much kinda always go back area far regret yeah wow interesting uh well lot weekend laughter laughter well like like profitable uh like something actually know make money sort like bread butter time 'cause tradeshows\"]\n",
            "    # of sentences: 7\n",
            "0\n",
            "INFO:tensorflow:Saver not created because there are no variables in the graph to restore\n"
          ],
          "name": "stdout"
        },
        {
          "output_type": "stream",
          "text": [
            "INFO:tensorflow:Saver not created because there are no variables in the graph to restore\n"
          ],
          "name": "stderr"
        },
        {
          "output_type": "stream",
          "text": [
            "1\n",
            "2\n",
            "3\n",
            "4\n",
            "5\n",
            "1024\n",
            "Running... 26 / 35\n",
            "    Currently extracting elmo for participant 458\n",
            "    # of characters: 3\n",
            "[\"synch sure well thank southern california weather sigh uh mountain ocean mm traffic air quality lot mm time money studied art sigh studio art always talent desire childhood mm making good living art challenging well need nee time finding niche appeal others able work stay true vision somewhere read walk dog spend time family oh good love family much love much supportive pretty good time great dealing lot rush hour traffic control laughter hmm really remember wanna say probably daughter probably something stupid laughter little stupid thing um daughter um thirty nine beautiful brilliant um talented uh uh goal driven son twenty seven laid back sweet sweet um starting little goal driven um little le satisfied uh daily grind parent um challenging wonderful way um think hardest thing eh fear worry child um today's world um violent scary fear children's safety wellbeing sorry oh gosh um mm friendship frien eh close friendship child uh uh love support joy everyday little thing share oh laughter well talk child anything everything um v open communication parents' generation think child seen heard deep breath hmm sigh well daughter first child young inexperienced mother naive lot way regarding life general think probably eh parent\", \"close friendship child uh uh love support joy everyday little thing share oh laughter well talk child anything everything um v open communication parents' generation think child seen heard deep breath hmm sigh well daughter first child young inexperienced mother naive lot way regarding life general think probably eh parent mm regret uh uh situation may child young Were best deep breath sigh sometimes feel aware younger age mm xxx mm decision situation uh decision make situation find younger naive um even though logically know something could avoided time know get older eh hindsight twenty twenty get older look back wish had've top uh life younger oh gosh honestly cannot think anything hmm um know would want think event know would wanna erase memory eh feel learn everything wanna lose lesson learn experience positive influence life uh daughter son granddaughter um oddly enough author uh carlos castaneda um positive po family's positive influence love support uh reading carlos castaneda's work find brilliant mind practiced talk book experience authentic um uh whereas people know question validity found something extraordinary offer mankind pretty easy laughter fall asleep pretty quick good deep breath mm really always looking next uh um project uh get\", \"family's positive influence love support uh reading carlos castaneda's work find brilliant mind practiced talk book experience authentic um uh whereas people know question validity found something extraordinary offer mankind pretty easy laughter fall asleep pretty quick good deep breath mm really always looking next uh um project uh get started yesterday laughter yesterday mother's day uh child gave flower beautiful gift made wonderful brunch spent day together nice oh um easygoing um easy around um friendly happy deep breath hmm would like work um focused uh project oh gosh probably kid know kid uh kid cruel uh nothing um still age take personally know hold grudge um sure everybody regret best time learn move mm know cannot answer one oh gosh um read great book um last couple day working new painting uh really pleased like way going um kid fact kid uh wonderful human being feel blessed goodbye laughter\"]\n",
            "    # of sentences: 3\n",
            "0\n",
            "INFO:tensorflow:Saver not created because there are no variables in the graph to restore\n"
          ],
          "name": "stdout"
        },
        {
          "output_type": "stream",
          "text": [
            "INFO:tensorflow:Saver not created because there are no variables in the graph to restore\n"
          ],
          "name": "stderr"
        },
        {
          "output_type": "stream",
          "text": [
            "1\n",
            "INFO:tensorflow:Saver not created because there are no variables in the graph to restore\n"
          ],
          "name": "stdout"
        },
        {
          "output_type": "stream",
          "text": [
            "INFO:tensorflow:Saver not created because there are no variables in the graph to restore\n"
          ],
          "name": "stderr"
        },
        {
          "output_type": "stream",
          "text": [
            "2\n",
            "INFO:tensorflow:Saver not created because there are no variables in the graph to restore\n"
          ],
          "name": "stdout"
        },
        {
          "output_type": "stream",
          "text": [
            "INFO:tensorflow:Saver not created because there are no variables in the graph to restore\n"
          ],
          "name": "stderr"
        },
        {
          "output_type": "stream",
          "text": [
            "3\n",
            "INFO:tensorflow:Saver not created because there are no variables in the graph to restore\n"
          ],
          "name": "stdout"
        },
        {
          "output_type": "stream",
          "text": [
            "INFO:tensorflow:Saver not created because there are no variables in the graph to restore\n"
          ],
          "name": "stderr"
        },
        {
          "output_type": "stream",
          "text": [
            "4\n",
            "5\n",
            "1024\n",
            "Running... 27 / 35\n",
            "    Currently extracting elmo for participant 472\n",
            "    # of characters: 5\n",
            "[\"synch yes good uh born hawaii grew colorado yeah yeah seven uh seven eight year ago um try go back year ye twice year yeah um compare l_a um different busy uh thing outdoors mountain uh family fam work yeah love um took year really felt comfortable um got kinda hard year pretty good good time um love go beach uh love warm time uh love met lot people love art much traffic like everyone else um yeah yeah traffic pretty much traffic earthquake much I would like um nice go place new experience something different um xxx went alaska couple year ago really awesome got go fishing ocean got seasick awesome uh cool saw bear real life bear walked yard um really different l_a really cool laughter english creative writing well always wanted tell story made sense work writing somehow aspect yeah t_v show write everyone watch every week awesome really hard 'cause lot people dream yeah outgoing shy uh like talking people enjoy people mm um go movie turn music dance pretty good um sigh work couple month ago ag month ago um got mad someone think giving clear instruction um tried conversation got mad got mad got\", \"awesome really hard 'cause lot people dream yeah outgoing shy uh like talking people enjoy people mm um go movie turn music dance pretty good um sigh work couple month ago ag month ago um got mad someone think giving clear instruction um tried conversation got mad got mad got mad um felt like heard listened felt like Were able real dialogue um could dialogue felt like one listening totally um make sound mouth uh um regret laughter um laughter guess hmm know one mean sure uh one time driving behind someone well cut think it'd one day like year ago two year ago um one day want frustrating day person cut almost got accident followed parking spot actually honked flipped really really got skin someone would cut almost cause accident uh flip followed spot asked said miss flip cut said oh know rough day need attitude daughter told well really setting good example daughter know need petty like wanted guess ooh sigh mm look going deep laughter um oh guess hardest decision coming mom uh telling gay mean hard 'cause right one hard mom conservative trouble accepting took awhile know everything better knew would hard moment know tell something\", \"really setting good example daughter know need petty like wanted guess ooh sigh mm look going deep laughter um oh guess hardest decision coming mom uh telling gay mean hard 'cause right one hard mom conservative trouble accepting took awhile know everything better knew would hard moment know tell something wanna hear okay um little kid um grandfather found dog run road uh scrubbed_entry brought think remember kid uh like seeing death like really threw uh frightened uh one moment guess wish grandmother destroyed sad uh one moment guess need kid really wanna experience like loss like face yeah relationship family pretty good um probably close uh know always talk often talk love always love see um grandmother positive always encouraging told uh know pursue dream let little thing get glad usually easy um sometimes um well job recently start new job uh next week uh working um tend like body want stay later later later trying like fall pattern going sleep like two three getting like eleven keep trying make go sleep like midnight twelve thirty end laying bed like hour hour half sh able go sleep get like nine still wanna stay guess uh little scatterbrained like today\", \"body want stay later later later trying like fall pattern going sleep like two three getting like eleven keep trying make go sleep like midnight twelve thirty end laying bed like hour hour half sh able go sleep get like nine still wanna stay guess uh little scatterbrained like today little scatterbrained 'cause uh tried go sleep early ended tossing turning sigh scatterbrained laughter um well since lot time hand like usually much time hand sometimes frustrating um know working guess um yeah think answer question um maybe little absentminded usual lately uh working thing mm mm um couple day ago got new job laughter got hired um outgoing listening uh attentive um fun loyal think hope um wish uh probably wish looked better wish hair mm losing little bit uh probably wish little skinnier girdle's pretty tight laughter um know sometimes wish money nothing drastic okay yeah oh um mm hmm little kid uh fat f fat kid um gosh remember like going high school like second day remember guy came um like like pretty nice thought realize he'd like like movie right like put bandaids back said like fat cow said like uh like yeah like bunch mean\", \"mm hmm little kid uh fat f fat kid um gosh remember like going high school like second day remember guy came um like like pretty nice thought realize he'd like like movie right like put bandaids back said like fat cow said like uh like yeah like bunch mean stuff know walked around like half hour heard people laughing get finally girl came like hey like bandaids back say mean thing walked away like help take 'em remember like could get 'em trying find 'em um remember like putting head locker like want anyone see cry like put head locker like pretended like looking stuff backpack really know cry fat kid could get mean sticker back mm yeah anything um probably yeah sharp inhale um know would xxx would try keep would try let know look thing positively like worry people think think spent much time like adolescent worrying people thought got older care much started enjoying life lot uh went coachella music festival three day friend boyfriend uh danced went swimming barbecued laughed great time yeah oh sigh um guess career humble may uh really stuck l_a um long time uh like hard stayed stay stuck around quit\"]\n",
            "    # of sentences: 5\n",
            "0\n",
            "INFO:tensorflow:Saver not created because there are no variables in the graph to restore\n"
          ],
          "name": "stdout"
        },
        {
          "output_type": "stream",
          "text": [
            "INFO:tensorflow:Saver not created because there are no variables in the graph to restore\n"
          ],
          "name": "stderr"
        },
        {
          "output_type": "stream",
          "text": [
            "1\n",
            "INFO:tensorflow:Saver not created because there are no variables in the graph to restore\n"
          ],
          "name": "stdout"
        },
        {
          "output_type": "stream",
          "text": [
            "INFO:tensorflow:Saver not created because there are no variables in the graph to restore\n"
          ],
          "name": "stderr"
        },
        {
          "output_type": "stream",
          "text": [
            "2\n",
            "INFO:tensorflow:Saver not created because there are no variables in the graph to restore\n"
          ],
          "name": "stdout"
        },
        {
          "output_type": "stream",
          "text": [
            "INFO:tensorflow:Saver not created because there are no variables in the graph to restore\n"
          ],
          "name": "stderr"
        },
        {
          "output_type": "stream",
          "text": [
            "3\n",
            "INFO:tensorflow:Saver not created because there are no variables in the graph to restore\n"
          ],
          "name": "stdout"
        },
        {
          "output_type": "stream",
          "text": [
            "INFO:tensorflow:Saver not created because there are no variables in the graph to restore\n"
          ],
          "name": "stderr"
        },
        {
          "output_type": "stream",
          "text": [
            "4\n",
            "INFO:tensorflow:Saver not created because there are no variables in the graph to restore\n"
          ],
          "name": "stdout"
        },
        {
          "output_type": "stream",
          "text": [
            "INFO:tensorflow:Saver not created because there are no variables in the graph to restore\n"
          ],
          "name": "stderr"
        },
        {
          "output_type": "stream",
          "text": [
            "5\n",
            "1024\n",
            "Running... 28 / 35\n",
            "    Currently extracting elmo for participant 476\n",
            "    # of characters: 4\n",
            "[\"sure good chicago cold chicago hmm oh think ninety nineteen eighty nine actually oh simple easy oh weather course easily located san diego palm spring la vega san francisco thing like smog course bad crime rate's higher um financial economic problem every year thanksgiving much big family yes much fact love flying airplane love visiting new place even like visiting different airport everyone's different ooh let u see started premed haha ended uh physic yes teach tea teach physic math higher level math well enjoy working kid enjoy teaching mother teacher uh dad truant officer uh enjoyed keep young dream job dream job would judge yes uh youth court would fantastic thought sooner gonna able laughter um enjoy people around people talkative time uh like lot thing social uh believe play bridge play chess watch good old old movie ooh bad driver uh bad law politics often annoyed know really get annoyed much let go worth pain problem could cause cannot straighten problem let go go somewhere else ooh always bridge partner different uh far anything else really argue people argue like confrontation parent course much um great parent uh mother uh parent met tuskegee black college always want go\", \"get annoyed much let go worth pain problem could cause cannot straighten problem let go go somewhere else ooh always bridge partner different uh far anything else really argue people argue like confrontation parent course much um great parent uh mother uh parent met tuskegee black college always want go black college course wanna laughter uh went illinois positive role model certain thing today drink curse look people much respect people lot either one thing um love drive love travel dad used always take u place every weekend would go somewhere 'cause chicago indiana michigan place area would go michigan pick fruit got dog uh puppy farm indiana kinda thing uh uncle lived uh wisconsin dairy farmer dad used love drive love drive also mm hard one lot great experience uh think best one uh went anniversary went europe went paris uh rode orient express went go way istanbul went london venice flew back paris uh probably best experience ever life never really cared europe much united stated much america alaska hawaii said would something different would always wanted go orient express expensive phenomenal trip gotta trip lifetime traveling sooner lot kid younger um lot thing probably done wish gone\", \"london venice flew back paris uh probably best experience ever life never really cared europe much united stated much america alaska hawaii said would something different would always wanted go orient express expensive phenomenal trip gotta trip lifetime traveling sooner lot kid younger um lot thing probably done wish gone chicago chica would always go chicago thanksgiving think gone thanksgiving parent come around christmas time think uh done lot come yes regret could avoided thing could done spending time working concerned getting ahead actually family closest u think people peop people oh yes definitely ooh good question ten twenty year ago would said um take thing seriously relaxed 'em either sometimes uh take thing granted never take anything granted nothing's promised oh heaven forbid laughter laughter easy really problem awhile uh anxious something thing coming due project due get kind uh anxious little bit like late uh like make mistake therefore anxiety issue cause stay night get thing done make sure everything right tired get irritable think uh lethargic maybe little litt little bit good late last night kinda tired usually problem sleeping uh get good night's sleep mhm um came back christmas break laughter relaxed ooh great kid son\", \"therefore anxiety issue cause stay night get thing done make sure everything right tired get irritable think uh lethargic maybe little litt little bit good late last night kinda tired usually problem sleeping uh get good night's sleep mhm um came back christmas break laughter relaxed ooh great kid son u_s_c son u_c_l_a daughter got married proud really proud kid going good life oh yes um enjoyed still enjoy parent forever laughter uh sigh let u see taking care someone else getting started good life think rewarding making sure everything covered need covered kid whether eating sleeping clothes dress make sure content make sure problem school home uh safe physically mentally spiritually everything hmm best friend would say changed since high school laughter uh levelheaded uh great sense humor relaxed take thing seriously ooh love holiday love christmas love everything love preparing house love baking cooking especially baking love experimenting new recipe last couple week holiday season felt fantastic everything quiet work stressed way project due think anyway uh christmas time holiday time really enjoyed recently well christmas course went la vega um twenty seventh december fantastic fantas stayed two day really good time uh saw great show great food\"]\n",
            "    # of sentences: 4\n",
            "0\n",
            "INFO:tensorflow:Saver not created because there are no variables in the graph to restore\n"
          ],
          "name": "stdout"
        },
        {
          "output_type": "stream",
          "text": [
            "INFO:tensorflow:Saver not created because there are no variables in the graph to restore\n"
          ],
          "name": "stderr"
        },
        {
          "output_type": "stream",
          "text": [
            "1\n",
            "INFO:tensorflow:Saver not created because there are no variables in the graph to restore\n"
          ],
          "name": "stdout"
        },
        {
          "output_type": "stream",
          "text": [
            "INFO:tensorflow:Saver not created because there are no variables in the graph to restore\n"
          ],
          "name": "stderr"
        },
        {
          "output_type": "stream",
          "text": [
            "2\n",
            "INFO:tensorflow:Saver not created because there are no variables in the graph to restore\n"
          ],
          "name": "stdout"
        },
        {
          "output_type": "stream",
          "text": [
            "INFO:tensorflow:Saver not created because there are no variables in the graph to restore\n"
          ],
          "name": "stderr"
        },
        {
          "output_type": "stream",
          "text": [
            "3\n",
            "INFO:tensorflow:Saver not created because there are no variables in the graph to restore\n"
          ],
          "name": "stdout"
        },
        {
          "output_type": "stream",
          "text": [
            "INFO:tensorflow:Saver not created because there are no variables in the graph to restore\n"
          ],
          "name": "stderr"
        },
        {
          "output_type": "stream",
          "text": [
            "4\n",
            "INFO:tensorflow:Saver not created because there are no variables in the graph to restore\n"
          ],
          "name": "stdout"
        },
        {
          "output_type": "stream",
          "text": [
            "INFO:tensorflow:Saver not created because there are no variables in the graph to restore\n"
          ],
          "name": "stderr"
        },
        {
          "output_type": "stream",
          "text": [
            "5\n",
            "1024\n",
            "Running... 29 / 35\n",
            "    Currently extracting elmo for participant 477\n",
            "    # of characters: 5\n",
            "['yes okay born mississippi um two half year old actually l_a santa monica yes never two half year old remember anything oh like beach love restaurant um um music scene general excitement oh park yeah um traffic um maintenance street pot hole um um pollution well studied number thing school um studied um um one point majored public relation journalism specialization journalism also studied um pre law major studied law also studied um um human um human service course mhm um mainly people person enjoy helping people wow dream job hm mm dream job hm really one right cannot even see shoe um um listen music watch horror movie love luh love horror flick um fish tank like watch fish also like play tennis able play lately though physical problem um mm um injured uh ankle anemia aneenia um got dizzy one night fell ankle leg waiting really heal planning get back um tennis one thing enjoy really relaxes really temper year learned control probably would yesterday argument nothing recall laughter something feel guilty hm nothing right feel guilty mm oh situation wish handled differently really cannot think one right hardest decision oh um absolute hardest decision ever make um', \"get back um tennis one thing enjoy really relaxes really temper year learned control probably would yesterday argument nothing recall laughter something feel guilty hm nothing right feel guilty mm oh situation wish handled differently really cannot think one right hardest decision oh um absolute hardest decision ever make um uh twin twin twin twin boy grown twin twin teen teenager um lost job living motel rent motel outrageous could longer continue pay um pay type type money wanted briefly um um put son foster care minute hardest decision make scrubbed_entry um schizophrenic um born auditory processing deficit overcame training speech therapist school official also also lost hearing four year old um turned fourteen schizophrenia came um right supportive living environment twenty seven year old um come term mental illness accepts problem past 'cause wanna take medication would give medication he'd hide stick pocket whatever come term come term pretty good scrubbed_entry um son twenty twen twenty seven said 'cause twin um um living texas wife um got promotion um scrubbed_entry california california okay um feel good yeah uh hm well grown child yes laughter grown child yes take back hard parent grown grown child okay younger difficult time okay\", \"good scrubbed_entry um son twenty twen twenty seven said 'cause twin um um living texas wife um got promotion um scrubbed_entry california california okay um feel good yeah uh hm well grown child yes laughter grown child yes take back hard parent grown grown child okay younger difficult time okay difficult period um lot good time yeah difficult time mm well mm difficult time really pretty much already alluded um one twin got diagnosis schizophrenic um um temporarily well one foster care one actually um institution 'cause um um schizophrenia um think lost track question laughter hardest thing parent point point life nothing hard um best thing parent know guess see cough something created um develop know pretty decent human know decent person best thing oh lot way um well actually two parent mother father never father never home lived another state contact um thing differently mother um strong disciplinarian um verbally physically um tendency outgrew tendency critical okay critical um um opinionated laughter religious um sort sort looked people um living life wrong going church reading bible kind thing part question get good night's sleep sleep unless take medication take medication sleep night day take medication man irritable um\", \"um verbally physically um tendency outgrew tendency critical okay critical um um opinionated laughter religious um sort sort looked people um living life wrong going church reading bible kind thing part question get good night's sleep sleep unless take medication take medication sleep night day take medication man irritable um tired laughter well well lately know little anxious really um know um recently um made move new apartment lot expense new expense thing like know new furniture new get um managed um whole thing kind stressful yes mhm p_t_s_d yes um back think two thousand four um um life gotten stressful point either something end something tell truth yeah um yes mhm yeah think useful um know good sounding board know someone throw know concern know discus thing may bothering good thing yeah think therapy medication um since going therapy um change lot change um focused hopeful um hm good experience continue go really happy well feel really happy um occurrence cannot think anything right like go back feeling cannot really pinpoint anything really mean eh eh mean something come unexpectedly thing go right change continue go right opposed thing going wrong time make happy thing go right hm mm\", 'experience continue go really happy well feel really happy um occurrence cannot think anything right like go back feeling cannot really pinpoint anything really mean eh eh mean something come unexpectedly thing go right change continue go right opposed thing going wrong time make happy thing go right hm mm something recently really something recently really enjoyed mean really really enjoyed recently hm cannot think anything best friend um best quality honest person genuinely give people benefit doubt um everyone book appear prove prove differently um generous overly generous laughter um like help people mean help know personal level help people know anything whatever problem give pleasure something somebody else helping mhm anything regret one thing regret um twin became um became old enough um start going um school elementary school level um taking course um pre law major um time married father turned good fit stress involved know knowing gonna end gonna leave um dropped college biggest regret hm stay school matter stay course matter good person good human okay goodbye']\n",
            "    # of sentences: 5\n",
            "0\n",
            "INFO:tensorflow:Saver not created because there are no variables in the graph to restore\n"
          ],
          "name": "stdout"
        },
        {
          "output_type": "stream",
          "text": [
            "INFO:tensorflow:Saver not created because there are no variables in the graph to restore\n"
          ],
          "name": "stderr"
        },
        {
          "output_type": "stream",
          "text": [
            "1\n",
            "INFO:tensorflow:Saver not created because there are no variables in the graph to restore\n"
          ],
          "name": "stdout"
        },
        {
          "output_type": "stream",
          "text": [
            "INFO:tensorflow:Saver not created because there are no variables in the graph to restore\n"
          ],
          "name": "stderr"
        },
        {
          "output_type": "stream",
          "text": [
            "2\n",
            "INFO:tensorflow:Saver not created because there are no variables in the graph to restore\n"
          ],
          "name": "stdout"
        },
        {
          "output_type": "stream",
          "text": [
            "INFO:tensorflow:Saver not created because there are no variables in the graph to restore\n"
          ],
          "name": "stderr"
        },
        {
          "output_type": "stream",
          "text": [
            "3\n",
            "4\n",
            "5\n",
            "1024\n",
            "Running... 30 / 35\n",
            "    Currently extracting elmo for participant 482\n",
            "    # of characters: 3\n",
            "['yes okay atlanta georgia um two thousand six never uh like laughter oh completely boring little l_a preferable think place uh uh engaged fiancee lived florida moved um love water love mountain missed hiking uh love florida tied decided wanted go somewhere could happy also um opportunity business great thing offer laughter easy much like l_a love l_a um think feel magical uh many creative different people age um shape size color race um mountain water uh city thing people meet love everything l_a uh I would rather talk um go college still figuring um know may may something animal dog really love never dog um adult cat uh um think late bloomer working whole conversation really want job want purposeful way create wealth something make money long run depends situation general consider shy although people would consider outgoing mm put classical music laughter music classical music especially ex especially stressed um play dog go walk think really good controlling temper part um came laughter um um financial stress uh um probably lot example think I would rather move another question yeah I would rather talk either laughter I would rather talk easy um lot better recently um history chronic', 'stressed um play dog go walk think really good controlling temper part um came laughter um um financial stress uh um probably lot example think I would rather move another question yeah I would rather talk either laughter I would rather talk easy um lot better recently um history chronic insomnia health problem challenging um feel rested time past week feeling lot better um yes um weather changed spring sprung little warmer um trouble depression winter um trouble tolerating cold lot thing normally also sick flu um past week decided um feeling better enough needed kind get rut start um getting focused around thing thing need day walking dog every day um isolating much seeing friend seeing feeling lot better like making progress um uh past week thing taken positive turn yes uh quite time officially probably know exactly let u see maybe fifteen year ago um feeling suicidal um found better alternative um therapy since eighteen tried variety um method uh started working neurolinguistic programmer um really first person um helped uh make permanent change able get anti depressant well even though struggled bout depression never anything extremely severe um one best thing ever happened well um physically ill', 'found better alternative um therapy since eighteen tried variety um method uh started working neurolinguistic programmer um really first person um helped uh make permanent change able get anti depressant well even though struggled bout depression never anything extremely severe um one best thing ever happened well um physically ill uh chronic fatigue syndrome client referred person um cured disease um um treat multiple issue everything interrelated um first conversation knew right step happy um felt like um felt found answer I would looking given hope uh um laughter cloud nine suffering wh long time felt finally found answer solution looking like best thing ever life best decision ever made felt extremely hopefuly first time long time laughter um went um went music store uh thinking um taking instrument used play violin child uh wanting something would give access creative side felt extremely repressed um went music store try um see would feel like um handle instrument nan see thought something wanted pursue awesome laughter mm yeah I would rather talk laughter um well laughter probably lot um always working optimistic um challenging take time um yeah wish could hear internal voice better laughter yeah regret sure yeah um value']\n",
            "    # of sentences: 3\n",
            "0\n",
            "INFO:tensorflow:Saver not created because there are no variables in the graph to restore\n"
          ],
          "name": "stdout"
        },
        {
          "output_type": "stream",
          "text": [
            "INFO:tensorflow:Saver not created because there are no variables in the graph to restore\n"
          ],
          "name": "stderr"
        },
        {
          "output_type": "stream",
          "text": [
            "1\n",
            "INFO:tensorflow:Saver not created because there are no variables in the graph to restore\n"
          ],
          "name": "stdout"
        },
        {
          "output_type": "stream",
          "text": [
            "INFO:tensorflow:Saver not created because there are no variables in the graph to restore\n"
          ],
          "name": "stderr"
        },
        {
          "output_type": "stream",
          "text": [
            "2\n",
            "INFO:tensorflow:Saver not created because there are no variables in the graph to restore\n"
          ],
          "name": "stdout"
        },
        {
          "output_type": "stream",
          "text": [
            "INFO:tensorflow:Saver not created because there are no variables in the graph to restore\n"
          ],
          "name": "stderr"
        },
        {
          "output_type": "stream",
          "text": [
            "3\n",
            "INFO:tensorflow:Saver not created because there are no variables in the graph to restore\n"
          ],
          "name": "stdout"
        },
        {
          "output_type": "stream",
          "text": [
            "INFO:tensorflow:Saver not created because there are no variables in the graph to restore\n"
          ],
          "name": "stderr"
        },
        {
          "output_type": "stream",
          "text": [
            "4\n",
            "INFO:tensorflow:Saver not created because there are no variables in the graph to restore\n"
          ],
          "name": "stdout"
        },
        {
          "output_type": "stream",
          "text": [
            "INFO:tensorflow:Saver not created because there are no variables in the graph to restore\n"
          ],
          "name": "stderr"
        },
        {
          "output_type": "stream",
          "text": [
            "5\n",
            "1024\n",
            "Running... 31 / 35\n",
            "    Currently extracting elmo for participant 483\n",
            "    # of characters: 1\n",
            "[\"synch yes good new jersey five year ago bout year um weather nice take long art scene music scene always something people laughter um people kinda superficial like art um took lot art course throughout high school um little um I would like create hard outgoing friend tell outgoing listen music read pretty good even remember last time argued someone mm feel guilty anything mm cannot think situation wish handled differently probably moving l_a eh deciding go away family come kind difficult decision yes good still talk um like almost every day see sometimes work mom um kinda taught person today hmm cannot think event wish could erase memory like easy mm yawn lot good um whenever go gym get happy yesterday crazy crazy laughter like way cannot think time someone made feel bad I would tell everything's gonna okay um probably family visit every time go back really nice see family see um really enjoy karaoke recently mm people put people music um art exhibit uh working friendship um good listener really good giving opinion help others\"]\n",
            "    # of sentences: 1\n",
            "0\n",
            "INFO:tensorflow:Saver not created because there are no variables in the graph to restore\n"
          ],
          "name": "stdout"
        },
        {
          "output_type": "stream",
          "text": [
            "INFO:tensorflow:Saver not created because there are no variables in the graph to restore\n"
          ],
          "name": "stderr"
        },
        {
          "output_type": "stream",
          "text": [
            "1\n",
            "INFO:tensorflow:Saver not created because there are no variables in the graph to restore\n"
          ],
          "name": "stdout"
        },
        {
          "output_type": "stream",
          "text": [
            "INFO:tensorflow:Saver not created because there are no variables in the graph to restore\n"
          ],
          "name": "stderr"
        },
        {
          "output_type": "stream",
          "text": [
            "2\n",
            "3\n",
            "4\n",
            "5\n",
            "1024\n",
            "Running... 32 / 35\n",
            "    Currently extracting elmo for participant 484\n",
            "    # of characters: 8\n",
            "[\"synch sigh yes uh okay laughter los angeles weather um variety um environment ocean know various different environment environmental variety laughter um like superficiality people um narcissistic attitude um uh um uh small town sort feel know warmth human sort warmth interactively yeah um um fear flying um developed agoraphobia laughter uh incredibly difficult um yeah guessing mean agoraphobia um fear flying um uh recent um development um um eh progressing pregr progressing um worse uh um uh word um immobilizing um distressing actually mhm laughter yes cope um uh trying um uh best uh try know courage situation challenge um small step um read lot um bibliotherapy reading um try inform um um professional literature um could um hopefully overcome someday mhm um yes definitely um uh certain thing trigger like um enclosed space um car traveling um uh away home um someone else's car uh thing outside uh locus control um uh xxx actually go school right um dream job psychologist laughter um psychologist would make decide um uh lived um challenge like um lived trauma um always interest um since junior high um uh interested people um human interaction human connection um betterment uh thing um bridging\", \"locus control um uh xxx actually go school right um dream job psychologist laughter um psychologist would make decide um uh lived um challenge like um lived trauma um always interest um since junior high um uh interested people um human interaction human connection um betterment uh thing um bridging people together helping people interpersonally challenge chall uh personal uh challenge um uh sort um nutshell um think someone um outgoing um sort um warm friendly presence um easily think exterior um think shy challenge think heart shy um uh challenge completely 'cause love human interaction take risk jump challenge uh last time interacted somebody laughter today think understanding question correctly oh eh think misunderstanding question interacted rachel um um continuously interacting people take taking risk uh good um mm good laughter um last time argued somebody actually cannot remember recent laughter think know yet let think um uh drawing blank um rememeber thing um like twenty one laughter right cannot think anything contemporary right right mind okay uh younger yes um lost um relationship aunt uncle cousin um 'cause twenty one forty five um um uh uh disagreement aunt um said something uh critical um threw home um uh\", \"blank um rememeber thing um like twenty one laughter right cannot think anything contemporary right right mind okay uh younger yes um lost um relationship aunt uncle cousin um 'cause twenty one forty five um um uh uh disagreement aunt um said something uh critical um threw home um uh let back uh apologized immediately let back life um changed mind um regret um assuming mean um feel asked um never uh life leave um uh shattered soul shattered heart shattered well family um good side family um uh uh majority family fa loving aspect family um rest family cruel um like abusive um relationship family like since um uh twenty one since aunt uncle um uh disowned guess right word estranged yeah um gosh um drawing blank bear one second um something could um erase um laughter cannot even get memory um uh example um uh injured wish could get uh away memory yeah um injured um emergency room scrubbed_entry um went food poisoning um ordered go um doctor um collapsed ordered go e_r said food poisoning came um injured neurological syndrome injured um uh call um uh intraveneous procedure um um r_s_d reflex sympathetic dystrophy scene emergency room\", \"get uh away memory yeah um injured um emergency room scrubbed_entry um went food poisoning um ordered go um doctor um collapsed ordered go e_r said food poisoning came um injured neurological syndrome injured um uh call um uh intraveneous procedure um um r_s_d reflex sympathetic dystrophy scene emergency room um control scene problem procedure doctor yelling staff made mistake um eh extremely excruciating um crisis um every time think injury uh disfiguring got disabled um f uh got disabled uh disabled permanently um also um uh disabled employment quite amount quite given amount time well residual um physical trauma disfigurement um severe disability disabil disability limited um um functionality uh right righthanded uh right hand arm thank even know um know really apologize 'cause cannot really probably give uh suitable answer um uh guessing something um cat um um xxx urgent uh um uh call um hurt intensive care veterinary care sure something um would say um uh choosing life path whether scrubbed_entry um uh admitted um program whether gonna go um um art school four year um pick life direction uh traumatic situation um know best answer question cannot um um severe nightmare laughter um nocturnal um uh\", 'veterinary care sure something um would say um uh choosing life path whether scrubbed_entry um uh admitted um program whether gonna go um um art school four year um pick life direction uh traumatic situation um know best answer question cannot um um severe nightmare laughter um nocturnal um uh panic attack also physical illness top excruciating pain yes yes yes uh triggered injury told um triggered family um th treated um said done um triggered um else um um physical um illness um injury physical um illness well um yes um feel ill feel fatigued ill fatigued um sleep get enough sleep um uh anxiety level believe um susceptible feeling distressed um yeah yes um three year ago um recent um diagnosis two thousand one well uh yes um three year ago um um twenty year old um background childhood um family origin um um uh uh know abuse um went uh ultimate um uh uh word um rejection uh estrangement um first uh reason um stopped six month ago sigh um stop um taking break laughter gonna continue yes much helped tremendously um think help anxiety help um um help inspire um create inspiration help um um uh', 'um went uh ultimate um uh uh word um rejection uh estrangement um first uh reason um stopped six month ago sigh um stop um taking break laughter gonna continue yes much helped tremendously um think help anxiety help um um help inspire um create inspiration help um um uh feeling connected um help create um ultimately um goal um give voice um um uh help uh part process um also help um understand um learn um eh many benefit stop right many mhm um last time felt really happy really long time ago um illness um nineteen ninety seven um onset illness july ninety seven um laughter yes um um good place um term career um um term um uh relationship um everything sort best um uh career relationship um personal um uh fulfillment um sort um well um active uh many thing meaningful um build life um um process um uh planning stage life also accomplished time thing going well um really liked uh life really good place many way mhm um wish could change um anxiety um wish could change um agoraphobia p_t_s_d um meaning trauma um um uh else um um insecurity uh far um uh', \"process um uh planning stage life also accomplished time thing going well um really liked uh life really good place many way mhm um wish could change um anxiety um wish could change um agoraphobia p_t_s_d um meaning trauma um um uh else um um insecurity uh far um uh um w people sense always trying make sure um something um hold one second trying make sure um anything um offensive insult um uh disrespectful um feel like overly um cautious um kinda becomes um anxiety unto um definitely think would beneficial uh change um thing I would like change wish could feel um also depression I would like change wish could feel better um wish feel um uh um uh wish burden um family um one um uh else um wish illness physical um excruciating pain uh thing um also wish um um byproduct p_t_s_d wish um uh symptomology p_t_s_d um 'cause definitely um affect one's complete com complete complete life like eh lot affect life uh completely um wish articulate wish um someone wellspoken someone wellwritten um many many um uh thing wish could change improve many sigh um sure uh sniffle maybe um trusting um trusted um\", \"p_t_s_d um 'cause definitely um affect one's complete com complete complete life like eh lot affect life uh completely um wish articulate wish um someone wellspoken someone wellwritten um many many um uh thing wish could change improve many sigh um sure uh sniffle maybe um trusting um trusted um trusted medical professional um know created injury um know uh word expectation sort demand blindly trust um medical profession um sniffle um ask question sort um know trust self um instinct um intuition um would would told little careful um guess useful question sniffle um really enjoy um know cannot think anything specific um um know would um either reading um connecting someone meaningful level sniffle proud um compassion um um uh empathy caring people um despite um mean proud anyways um also particularly sniffle um come um environment opposite um background um taught sniffle um really care people um guess proud also proud um career accomplishment um um tenacity um fierce fie fierce tenacity succeed um sniffle uh know um also get um strength take get um injury uh live live illness um live physical illness um think would sniffle yes okay welcome bye\"]\n",
            "    # of sentences: 8\n",
            "0\n",
            "INFO:tensorflow:Saver not created because there are no variables in the graph to restore\n"
          ],
          "name": "stdout"
        },
        {
          "output_type": "stream",
          "text": [
            "INFO:tensorflow:Saver not created because there are no variables in the graph to restore\n"
          ],
          "name": "stderr"
        },
        {
          "output_type": "stream",
          "text": [
            "1\n",
            "INFO:tensorflow:Saver not created because there are no variables in the graph to restore\n"
          ],
          "name": "stdout"
        },
        {
          "output_type": "stream",
          "text": [
            "INFO:tensorflow:Saver not created because there are no variables in the graph to restore\n"
          ],
          "name": "stderr"
        },
        {
          "output_type": "stream",
          "text": [
            "2\n",
            "INFO:tensorflow:Saver not created because there are no variables in the graph to restore\n"
          ],
          "name": "stdout"
        },
        {
          "output_type": "stream",
          "text": [
            "INFO:tensorflow:Saver not created because there are no variables in the graph to restore\n"
          ],
          "name": "stderr"
        },
        {
          "output_type": "stream",
          "text": [
            "3\n",
            "4\n",
            "5\n",
            "1024\n",
            "Running... 33 / 35\n",
            "    Currently extracting elmo for participant 489\n",
            "    # of characters: 3\n",
            "[\"synch yes huh overwhelmed funeral attend tomorrow found doctor got health issue hard honey putting one foot front trying get done like said overwhelmed cannot stop need united state america born los angeles oh love beach honey like weather um beach weather oh traffic people hollywood type image uh much used europe went uh cruise um several cruise uh jamaica canada mexico spain morocco um london portugal por portugal yeah going hawaii august meeting new people seeing new thing assimilating people's culture uh custom tradition oh best trip ever took student santa monica college took trip tr uh mediterranean cruise oh god best time life oh god um ship felt electrifying uh fulfilled satisfied felt like um eh moved past fear said uh law school xxx gonna gonna attorney always wanted attorney long time coming oh dream job law firm husband living beach community friend know community communit community know kn know small town beach community law firm working husband providing legal service people indigent uh middle um one side like withdraw know wanna front another part personality like oh front gonna seen eh w constantly conflict yeah oh get bike ride bike ooh depends situation need control mm trouble\", \"kn know small town beach community law firm working husband providing legal service people indigent uh middle um one side like withdraw know wanna front another part personality like oh front gonna seen eh w constantly conflict yeah oh get bike ride bike ooh depends situation need control mm trouble made made people back oh god last time really argument know awhile um argument long time cannot even remember oh god let u see sigh goodness mm mm oh dealing sibling family trying diffuse situation get heated remain cool calm collected oh mother passed year ago conflict belonging stuff know stressful time everybody else el everybody's emotion kinda high arguing back forth like distant laughter reality rea amazing people say people grew family fam grew household got older know xxx god take u different path like people grow household 'em wh may say thing know like peaceful living honey pardon oh god positive po um uh positive influence ooh college professor um friend church member um people like ooh god divorce continue education um mother sick primary caretaker put dream aspiration hold um doozies well mom one mother said done wanted right according god would want wanna curse life blessing\", \"oh god positive po um uh positive influence ooh college professor um friend church member um people like ooh god divorce continue education um mother sick primary caretaker put dream aspiration hold um doozies well mom one mother said done wanted right according god would want wanna curse life blessing 'cause bible say honor thy parent mother father thy day live longer wanted blessing curse marriage laughter marriage ugh god negative influence life negative impact taught made today animosity sigh lately difficult 'cause school final midterm coming um sometimes rather difficult irritable annoyed grouchy well stuff going last week real real real real real crazy god pray pray pray pray pray lord pray one thing keeping kinda like grounded going church never yeah went divorce um mother passed really depressed fatigued tired uh xxx xxx xxx matter could get enjoyment feeling emptiness loneliness isolation shock trauma hard har difficult time um time took time process work way got busy life stuff yeah need somebody talk laughter yes oh god loved therapist uh talked thing give different perspective listened oh god well guy church really like like throw kiss oh outgoing um determined yeah trustworthy faithful loyal oh god patient um\"]\n",
            "    # of sentences: 3\n",
            "0\n",
            "INFO:tensorflow:Saver not created because there are no variables in the graph to restore\n"
          ],
          "name": "stdout"
        },
        {
          "output_type": "stream",
          "text": [
            "INFO:tensorflow:Saver not created because there are no variables in the graph to restore\n"
          ],
          "name": "stderr"
        },
        {
          "output_type": "stream",
          "text": [
            "1\n",
            "INFO:tensorflow:Saver not created because there are no variables in the graph to restore\n"
          ],
          "name": "stdout"
        },
        {
          "output_type": "stream",
          "text": [
            "INFO:tensorflow:Saver not created because there are no variables in the graph to restore\n"
          ],
          "name": "stderr"
        },
        {
          "output_type": "stream",
          "text": [
            "2\n",
            "3\n",
            "4\n",
            "5\n",
            "1024\n",
            "Running... 34 / 35\n",
            "    Currently extracting elmo for participant 490\n",
            "    # of characters: 1\n",
            "[\"yeah okay fine pensacola florida uh met wife mississippi stay moved l_a two thousand four yeah sixteen year twelve year ago something like pretty hard know different environment learn different thing weather lot uh many people laughter uh guess whenever uh two year ago uh pretty close nah really guess time cash mm nothing really nothing really make mad anymore yeah good controlling temper mm really sure last time I would say maybe really sure money know money uh read bible uh really really anyone right really cannot think really cannot tell know pretty easy mm sleepy laughter uh behavior got better uh started going church ch gave life lord started going church trying right thing uh knew needed life way whole lot better um good hang around know good uh like make people laugh um look people take know mm know others thing like uh went disneyland son birthday uh daughter really enjoyed yes see someone's look like get raise try know make sure right thing better uh knowing evil world son live used hard prayer know faith everything's gonna alright fast growing thing different know world way worse hmm flying airplane first time yeah nervous 'cause I would\"]\n",
            "    # of sentences: 1\n",
            "0\n",
            "INFO:tensorflow:Saver not created because there are no variables in the graph to restore\n"
          ],
          "name": "stdout"
        },
        {
          "output_type": "stream",
          "text": [
            "INFO:tensorflow:Saver not created because there are no variables in the graph to restore\n"
          ],
          "name": "stderr"
        },
        {
          "output_type": "stream",
          "text": [
            "1\n",
            "INFO:tensorflow:Saver not created because there are no variables in the graph to restore\n"
          ],
          "name": "stdout"
        },
        {
          "output_type": "stream",
          "text": [
            "INFO:tensorflow:Saver not created because there are no variables in the graph to restore\n"
          ],
          "name": "stderr"
        },
        {
          "output_type": "stream",
          "text": [
            "2\n",
            "INFO:tensorflow:Saver not created because there are no variables in the graph to restore\n"
          ],
          "name": "stdout"
        },
        {
          "output_type": "stream",
          "text": [
            "INFO:tensorflow:Saver not created because there are no variables in the graph to restore\n"
          ],
          "name": "stderr"
        },
        {
          "output_type": "stream",
          "text": [
            "3\n",
            "INFO:tensorflow:Saver not created because there are no variables in the graph to restore\n"
          ],
          "name": "stdout"
        },
        {
          "output_type": "stream",
          "text": [
            "INFO:tensorflow:Saver not created because there are no variables in the graph to restore\n"
          ],
          "name": "stderr"
        },
        {
          "output_type": "stream",
          "text": [
            "4\n",
            "INFO:tensorflow:Saver not created because there are no variables in the graph to restore\n"
          ],
          "name": "stdout"
        },
        {
          "output_type": "stream",
          "text": [
            "INFO:tensorflow:Saver not created because there are no variables in the graph to restore\n"
          ],
          "name": "stderr"
        },
        {
          "output_type": "stream",
          "text": [
            "5\n",
            "1024\n",
            "Running... 35 / 35\n",
            "    Currently extracting elmo for participant 492\n",
            "    # of characters: 5\n",
            "['yes pretty good laughter oklahoma mhm yup oklahoma city uh weather great love near ocean palm tree uh mountain love laughter um pretty easy difference huge city compared traffic definitely adjustment laughter um always wanted live california uh hated landlocked oklahoma wanted get west coast near ocean studied psychology minored art um moment um well actually think misunderstood question still working degree working field psychology well got hired working group home teenage boy trouble law dream job oh really know think wanna help people however um like working people realm psychology think may already dream job laughter relax like read watch movie um like go beach watch sunset um hang friend thing make really mad um probably injustice towards people um people mistreated abused um people lied deceived including hate lied laughter annoyed uh depends situation try like count ten take deep breath let emotion cause react negative way try like calm say anything um depends situation like angry um time pretty good controlling sometimes think like like people lash people closest time moment good controlling sigh last time argued someone probably parent um car trouble lately also running low money sure even remember exactly sure kind probably fought fact', 'like calm say anything um depends situation like angry um time pretty good controlling sometimes think like like people lash people closest time moment good controlling sigh last time argued someone probably parent um car trouble lately also running low money sure even remember exactly sure kind probably fought fact know need selfsufficient independent take care laughter thing like car issue close family still oklahoma talk phone time oh definitely mean mom think um probably person closest great role model wonderful person hardworking unselfish wanna like way oh probably time went bungee jumping nile river uganda um still kinda flashback moment freefalling like coolest experience ever love thing crazy like fun time laughter yeah well ha traveled lot nowadays travel much anymore used work cruise line um norwegian cruise line would go travel time also eleven month long trip around world uh mission trip went helped different third world country really cool uh love going different place seeing new place meeting different type people um easy like get absorbed small bubble forget huge world different type people different type belief really cool able branch see meet type people see diversity terrain earth even way earth look different place cool served', \"really cool uh love going different place seeing new place meeting different type people um easy like get absorbed small bubble forget huge world different type people different type belief really cool able branch see meet type people see diversity terrain earth even way earth look different place cool served military laughter nope never formally diagnosed although would say probably diagnosed depression um studied lot psychology throughout year probably ninety nine percent sure struggled depression yeah lately pretty easy throughout year definitely lot issue insomnia um like either able fall asleep like waking constantly throughout night right really experiencing much past definitely ongoing issue pleasant person sleep well sleep extremely like important think maybe lot people like need good sleep function feeling really good um past several month unemployed um coming really really tough um recently got offered job um like last week definitely think going lot crap lot depression like lifted lot lifted pressure longer like gonna make end meet city's really expensive job feel feel much relieved feeling good laughter um yeah well mean like said past week become lot positive kind like feeling bit like hermit way hard like new city really knowing many people course like\", \"like lifted lot lifted pressure longer like gonna make end meet city's really expensive job feel feel much relieved feeling good laughter um yeah well mean like said past week become lot positive kind like feeling bit like hermit way hard like new city really knowing many people course like said job kind cause kind like shell guess kinda um since got offered job much confidence like positivity um thing starting work good laughter oh probably couple day ago actually went um went explore part south bay area really gonna go jog along beach really foggy outside fog started lift um beautiful went drive kind like cliff beautiful scenery I would never seen like overwhelmed pretty like oh cannot believe get live definitely happy moment laughter best friend would probably say daring bold fearless um unique artistic would guess she'd probably say nonconformist really think way lot people question everything good bad thing yeah laughter um probably like fact really try live life like regret try live exciting life way think especially ever since finished college traveling like tried moving different place think fact really afraid let thing hold back want something wanna something guess way like like fact really\", \"good bad thing yeah laughter um probably like fact really try live life like regret try live exciting life way think especially ever since finished college traveling like tried moving different place think fact really afraid let thing hold back want something wanna something guess way like like fact really independent go whatever feel like even hard still proud overcome lot struggle oh like minor thing regret throughout life anything really major 'cause think pretty much everything done learned whether good bad would really change anything oh sigh would say would tell kid keep dreaming big let anything anyone say like stop believing anything's possible um guess grown adult really seen started really believe truly anything possible really want something go get would tell never give always believe wanna oh let u see kind hard laughter um oh guess went home recently christmas back oklahoma um got see friend college seen 'em seen like since graduated um like four year ago um really awesome go went dinner went afterwards good night really really fun cool welcome bye\"]\n",
            "    # of sentences: 5\n",
            "0\n",
            "INFO:tensorflow:Saver not created because there are no variables in the graph to restore\n"
          ],
          "name": "stdout"
        },
        {
          "output_type": "stream",
          "text": [
            "INFO:tensorflow:Saver not created because there are no variables in the graph to restore\n"
          ],
          "name": "stderr"
        },
        {
          "output_type": "stream",
          "text": [
            "1\n",
            "2\n",
            "3\n",
            "4\n",
            "5\n",
            "1024\n"
          ],
          "name": "stdout"
        },
        {
          "output_type": "execute_result",
          "data": {
            "text/plain": [
              "[]"
            ]
          },
          "metadata": {
            "tags": []
          },
          "execution_count": 8
        }
      ]
    },
    {
      "cell_type": "code",
      "metadata": {
        "colab": {
          "base_uri": "https://localhost:8080/"
        },
        "id": "2p_fjTA6m_zg",
        "outputId": "a64ce12b-6262-404e-b0c1-349a8673e0a8"
      },
      "source": [
        "get_elmo(df_test)"
      ],
      "execution_count": null,
      "outputs": [
        {
          "output_type": "stream",
          "text": [
            "Running... 1 / 47\n",
            "    Currently extracting elmo for participant 300\n",
            "    # of characters: 3\n",
            "[\"yes well los angeles greater los angeles area people diversity various entertainment activity um fickle weather traffic litter traveled domestically internationally seeing place people live culture last trip went san diego uh childhood adult um family vacation um baja rosarito beach yeah reason memory come mind um weekend easter usually go easter east easter spring break rosarito baja um bachelor's b bachelor's communication study open field deal um communication interactively performing art telecommunication business entrepreneurship actually unemployed um think business dream dream job company um would like open something like telecommunication area business something online online service um like make thing hand next venture would would create natural soy candle something area um mixture mixture shy outgoing observe people crowd usually make determination remain reserved remain open listen like meditation tape take walk go get massage fair oh man laughter uh probably yesterday morning um usually argument making clear repeating twice usually get person trouble mm redeemed service mechanic fixed transmission warranty wrote department consumer affair guy offered portion settlement agreement decided take small claim court get bigger amount wish would taken offer gave midst dealing third party department consumer affair took small claim court end losing whole settlement offered\", 'twice usually get person trouble mm redeemed service mechanic fixed transmission warranty wrote department consumer affair guy offered portion settlement agreement decided take small claim court get bigger amount wish would taken offer gave midst dealing third party department consumer affair took small claim court end losing whole settlement offered small portion wish would taken higher road taken lower road tend feel guilty many thing hardest decision uh know financially emotionally mm emotionally letting go past relationship hardest thing say hardest thing difficult thing yes relationship seven year um person already moved uh want life hope something go wrong current relationship always something fall back uh yeah hard um event something could erase memory um know laughter lot event automatically erase memory whatever come mind right um probably death relative um alone misinformed know sick know um day numbered could opportunity spend time make better better connection last day um fair midland mm immediate close distant close mother um yes uh encouraged continue education always fall back hobby hope goal dream always encourages always stay aloof looking better opportunity encourages afraid explore venture easy laughter easy laughter feeling well um yes little stressed trying manage leave stressful environment um past', 'fair midland mm immediate close distant close mother um yes uh encouraged continue education always fall back hobby hope goal dream always encourages always stay aloof looking better opportunity encourages afraid explore venture easy laughter easy laughter feeling well um yes little stressed trying manage leave stressful environment um past three year ago um issue learning environment um feeling f feeling emotionally attacked yeah uh issue professor know different personality almost ran crosswalk school felt felt um like dishonest environment felt like wanted get know switch class get another class choice stay deal meanness whole semester um think finding p_t_s_d trying link depression financially capable found counselor willing committed working helping issue find lot counselor listen laugh tell opposite telling mhm mm last time felt really happy really know good question um want relaxed relaxed know know laughter best friend best quality uh hard working reliable excellent friend um energetic go getter thing wish could change probably le sensitive take thing personally um learn help helping others regret life um could thing differently ten year ago probably would focused studied le house hanging friend mm got college education self sufficient pay bill laughter alive goodbye']\n",
            "    # of sentences: 3\n",
            "0\n",
            "INFO:tensorflow:Saver not created because there are no variables in the graph to restore\n"
          ],
          "name": "stdout"
        },
        {
          "output_type": "stream",
          "text": [
            "INFO:tensorflow:Saver not created because there are no variables in the graph to restore\n"
          ],
          "name": "stderr"
        },
        {
          "output_type": "stream",
          "text": [
            "1\n",
            "2\n",
            "3\n",
            "4\n",
            "5\n",
            "1024\n"
          ],
          "name": "stdout"
        },
        {
          "output_type": "stream",
          "text": [
            "/usr/local/lib/python3.7/dist-packages/numpy/core/_asarray.py:83: VisibleDeprecationWarning: Creating an ndarray from ragged nested sequences (which is a list-or-tuple of lists-or-tuples-or ndarrays with different lengths or shapes) is deprecated. If you meant to do this, you must specify 'dtype=object' when creating the ndarray\n",
            "  return array(a, dtype, copy=False, order=order)\n"
          ],
          "name": "stderr"
        },
        {
          "output_type": "stream",
          "text": [
            "Running... 2 / 47\n",
            "    Currently extracting elmo for participant 301\n",
            "    # of characters: 2\n",
            "[\"yes alright los angeles california yep um light big city always something going traffic uh business administration business management uh something else networking moment sigh hmm uh open big clothing line supply whole world clothing laughter yeah definitely uh 'cause laughter often time yeah lied guess people think dumber laughter uh try get away everything go space well great controlling temper sigh um probably like two day ago laughter probably sport real argument sharp inhaling lot travel enough able see get change pace see somebody new see new face new environment mm let see last trip vega know vega go pretty fun lotta lotta drinking lot partying going laughter um pretty openminded kind pretty much everybody pretty evenkeel guy alright could better ma'am nope uh lately pretty tough guess staying late uh fault laughter know guess night owl sudden turning owl sluggish tired day sleep well day laying around much mm laughter oh stay focused listen adult laughter yeah mean selfexplanatory could listened parent adult tried steer right way know stubborn kid uh age like talking life want listen see laughter telling correct um hilarious laughter pretty close uh parent mother father mm recently um new year's eve party time\", \"mm laughter oh stay focused listen adult laughter yeah mean selfexplanatory could listened parent adult tried steer right way know stubborn kid uh age like talking life want listen see laughter telling correct um hilarious laughter pretty close uh parent mother father mm recently um new year's eve party time life fun uh new year's eve went party friend's house baldwin hill area pretty nice house three story house like three hundred fifty people pretty fun also fun many people could really move downfall besides brought new year great ton friend supposed done um generally good mood every day mean waking put good mood guess could say um know good good meal laughter make clicking sound mouth ooh one memorable experience probably uh younger boy scout used go camping time one year went yellowstone yosemite one place work mountain biking merit badge course city like mountain biking ride mountain bike got real mountain got real mountain bike gained new respect mountain bikers pretty fun pretty intense going downhill forty five mile hour dirt bicycle pretty intense never forget mm know tough one answer proud know honestly bye\"]\n",
            "    # of sentences: 2\n",
            "0\n",
            "INFO:tensorflow:Saver not created because there are no variables in the graph to restore\n"
          ],
          "name": "stdout"
        },
        {
          "output_type": "stream",
          "text": [
            "INFO:tensorflow:Saver not created because there are no variables in the graph to restore\n"
          ],
          "name": "stderr"
        },
        {
          "output_type": "stream",
          "text": [
            "1\n",
            "INFO:tensorflow:Saver not created because there are no variables in the graph to restore\n"
          ],
          "name": "stdout"
        },
        {
          "output_type": "stream",
          "text": [
            "INFO:tensorflow:Saver not created because there are no variables in the graph to restore\n"
          ],
          "name": "stderr"
        },
        {
          "output_type": "stream",
          "text": [
            "2\n",
            "INFO:tensorflow:Saver not created because there are no variables in the graph to restore\n"
          ],
          "name": "stdout"
        },
        {
          "output_type": "stream",
          "text": [
            "INFO:tensorflow:Saver not created because there are no variables in the graph to restore\n"
          ],
          "name": "stderr"
        },
        {
          "output_type": "stream",
          "text": [
            "3\n",
            "INFO:tensorflow:Saver not created because there are no variables in the graph to restore\n"
          ],
          "name": "stdout"
        },
        {
          "output_type": "stream",
          "text": [
            "INFO:tensorflow:Saver not created because there are no variables in the graph to restore\n"
          ],
          "name": "stderr"
        },
        {
          "output_type": "stream",
          "text": [
            "4\n",
            "INFO:tensorflow:Saver not created because there are no variables in the graph to restore\n"
          ],
          "name": "stdout"
        },
        {
          "output_type": "stream",
          "text": [
            "INFO:tensorflow:Saver not created because there are no variables in the graph to restore\n"
          ],
          "name": "stderr"
        },
        {
          "output_type": "stream",
          "text": [
            "5\n",
            "1024\n",
            "Running... 3 / 47\n",
            "    Currently extracting elmo for participant 306\n",
            "    # of characters: 3\n",
            "['yes okay laughter fine laughter live hollywood uh seattle laughter uh kind vague question um laughter needed change scenery uh like traveling train favorite thing uh fly cannot stand airplane prefer train yeah laughter uh uh flying airplane clear throat mm probably december nineteen eighty six eighty seven laughter laughter uh nothing uh much tell really usually go l_a seattle vancouver probably main thing took train laughter uh often every five year oh yeah sure absolutely yeah uh depends annoyed could anything depends laughter depends whether uh something someone know eh someone mean uh get physical towards mean clear throat depends done piss mean certainly uh shouting whatever reason depends uh term lashing people physically order let aggression need know punching wall punching something nearby mean trying know long physically hurt know get steam let let steam well normal uh sigh face face uh sigh mm cannot remember long time eh mean eh argue people online stupid shit yeah normal shit far like face face know long time clear throat currently overall one mean someone contact someone maybe past clear throat laughter okay uh mom uh uh boyfriend teenager like father figure fourteen pretty positive influence laughter uh open record', \"eh mean eh argue people online stupid shit yeah normal shit far like face face know long time clear throat currently overall one mean someone contact someone maybe past clear throat laughter okay uh mom uh uh boyfriend teenager like father figure fourteen pretty positive influence laughter uh open record shop yeah uh unemployed office worker right laughter specific laughter sigh going first date girlfriend back uh two thousand seven first met uh clear throat made arrangement meet daughter daughter's friend queen mary long beach uh know cement evening cement day evening together uh hanging eating dinner ate hotel yeah got know way yeah yeah uh well beginning relationship knew know girlfriend time laughter currently yeah yeah uh suck ball hate roommate suck laughter laughter god laughter mm way okay 'cause see much 'cause really around time need need space know uh difficult way get uh get along really see much design cough sigh uh sigh like alone sometimes read mainly like alone maybe maybe nothing depends clear throat sorry repeat necessarily clear throat heavy sleeper clear throat know would call necessarily would call know cheery know necessarily yeah yeah time sigh uh mm hard say know uh sure clear\", \"much design cough sigh uh sigh like alone sometimes read mainly like alone maybe maybe nothing depends clear throat sorry repeat necessarily clear throat heavy sleeper clear throat know would call necessarily would call know cheery know necessarily yeah yeah time sigh uh mm hard say know uh sure clear throat mm know really one one ask know think laughter ask someone else know difficult time answering question laughter proud uh fall drug like lot people know yeah hmm clear throat listening music vinyl around dog mm uh spent new year's eve friend real close friend laughter really laughter laughter laughter laughter glad think uh especially los angeles drive nut cannot stand clear throat uh assume mean posthigh school um uh briefly took basic uh take uh general study remember actually finish quit uh uh go play band skipped lot school really laughter know nothing uh junior college coll community college go university stop going interested laughter interest elsewhere quit going know term oh sure everyone regret something know gonna get specific yeah sure laughter thing regret sure clear throat mm twenty year ago ninety three oh mm well ten year ago uh two thousand three hmm hard say hard\"]\n",
            "    # of sentences: 3\n",
            "0\n",
            "INFO:tensorflow:Saver not created because there are no variables in the graph to restore\n"
          ],
          "name": "stdout"
        },
        {
          "output_type": "stream",
          "text": [
            "INFO:tensorflow:Saver not created because there are no variables in the graph to restore\n"
          ],
          "name": "stderr"
        },
        {
          "output_type": "stream",
          "text": [
            "1\n",
            "INFO:tensorflow:Saver not created because there are no variables in the graph to restore\n"
          ],
          "name": "stdout"
        },
        {
          "output_type": "stream",
          "text": [
            "INFO:tensorflow:Saver not created because there are no variables in the graph to restore\n"
          ],
          "name": "stderr"
        },
        {
          "output_type": "stream",
          "text": [
            "2\n",
            "INFO:tensorflow:Saver not created because there are no variables in the graph to restore\n"
          ],
          "name": "stdout"
        },
        {
          "output_type": "stream",
          "text": [
            "INFO:tensorflow:Saver not created because there are no variables in the graph to restore\n"
          ],
          "name": "stderr"
        },
        {
          "output_type": "stream",
          "text": [
            "3\n",
            "INFO:tensorflow:Saver not created because there are no variables in the graph to restore\n"
          ],
          "name": "stdout"
        },
        {
          "output_type": "stream",
          "text": [
            "INFO:tensorflow:Saver not created because there are no variables in the graph to restore\n"
          ],
          "name": "stderr"
        },
        {
          "output_type": "stream",
          "text": [
            "4\n",
            "INFO:tensorflow:Saver not created because there are no variables in the graph to restore\n"
          ],
          "name": "stdout"
        },
        {
          "output_type": "stream",
          "text": [
            "INFO:tensorflow:Saver not created because there are no variables in the graph to restore\n"
          ],
          "name": "stderr"
        },
        {
          "output_type": "stream",
          "text": [
            "5\n",
            "1024\n",
            "Running... 4 / 47\n",
            "    Currently extracting elmo for participant 308\n",
            "    # of characters: 3\n",
            "[\"synch yes okay virginia wanted live somewhere different virginia little bit diversity um year maybe um lot slower lot le um wanted live somewhere different nicer warmer climate um somewhere lot lot going really easy 'cause wanted something someth different wanted something different like um like thing like museum like beach mountain hiking free thing mm people appreciate come wanna take something wanna give anything back bad driver uh much would like travel whenever usually cannot afford much mm well like taking like taking picture lot like exploring new place wife like see um wildlife hike monument seeing different area um well sigh gone go went uh central california would like able go internationally place take awhile afford gone locally went um went hurst castle see sea lion li um elephant seal thing like um guess uh guess palm spring trip anniversary um eh tram nice hotel jacuzzi romantic dinner good time overall guess somewhere english film well uh told needed go college quite decided yet picked something liked time well wish I would pressured time figure wanted might've done something different like physical therapy uh teaching teaching gymnastics something used um needed starve end bad thought would went ended\", \"good time overall guess somewhere english film well uh told needed go college quite decided yet picked something liked time well wish I would pressured time figure wanted might've done something different like physical therapy uh teaching teaching gymnastics something used um needed starve end bad thought would went ended kinda fun dream money work overall pretty good um remember probably would week ago wife um well anyone ever actually gotten upset yelled always wish would sometimes someone's listening drive crazy um know saying something clearly listening make really upset um sigh know spend lot time 'em know hardest one 'cause eh decide go something know usually good reason well guess feel guilty moving california left family virginia mean pft know always seem miss even though like living know one moved away like abandoned well mean miss virginia miss guess little hard uh good relationship deep breath wife inlaws mom dad sister problem everyone get along well mm close um mean anything anyth anything someone get hurt either uh physically otherwise depends much exercise get lot exercise pretty easy um kind like right little bit slow really um different otherwise um kinda run 'cause um motherinlaw dying spent like three\", \"dad sister problem everyone get along well mm close um mean anything anyth anything someone get hurt either uh physically otherwise depends much exercise get lot exercise pretty easy um kind like right little bit slow really um different otherwise um kinda run 'cause um motherinlaw dying spent like three day uh hospital gonna go back lot time sleep mm um uh slower sl slower tired little um usually havi fun day either wife pretty easy getting outside uh hiking exercising hard sure maybe um maybe mm like eccentric good way hopefully um careful careful job make sure could keep injured um know normal normal kind uh older kinda wisdom sigh mm much say really everyone realizes thing get older wish younger uh wish could get rid back injury could get back shape like used um biggest thing right um much say hurt back work like get past 'cause know holding back lot thing um well like used uh gymnastics trampoline used lot active work work little bit 'cause hurt much um probably like day going sigh going hike park wife uh enjoying taking picture wildlife exercising night um know watch movie go dancing something like um proud um proud\"]\n",
            "    # of sentences: 3\n",
            "0\n",
            "INFO:tensorflow:Saver not created because there are no variables in the graph to restore\n"
          ],
          "name": "stdout"
        },
        {
          "output_type": "stream",
          "text": [
            "INFO:tensorflow:Saver not created because there are no variables in the graph to restore\n"
          ],
          "name": "stderr"
        },
        {
          "output_type": "stream",
          "text": [
            "1\n",
            "INFO:tensorflow:Saver not created because there are no variables in the graph to restore\n"
          ],
          "name": "stdout"
        },
        {
          "output_type": "stream",
          "text": [
            "INFO:tensorflow:Saver not created because there are no variables in the graph to restore\n"
          ],
          "name": "stderr"
        },
        {
          "output_type": "stream",
          "text": [
            "2\n",
            "INFO:tensorflow:Saver not created because there are no variables in the graph to restore\n"
          ],
          "name": "stdout"
        },
        {
          "output_type": "stream",
          "text": [
            "INFO:tensorflow:Saver not created because there are no variables in the graph to restore\n"
          ],
          "name": "stderr"
        },
        {
          "output_type": "stream",
          "text": [
            "3\n",
            "INFO:tensorflow:Saver not created because there are no variables in the graph to restore\n"
          ],
          "name": "stdout"
        },
        {
          "output_type": "stream",
          "text": [
            "INFO:tensorflow:Saver not created because there are no variables in the graph to restore\n"
          ],
          "name": "stderr"
        },
        {
          "output_type": "stream",
          "text": [
            "4\n",
            "INFO:tensorflow:Saver not created because there are no variables in the graph to restore\n"
          ],
          "name": "stdout"
        },
        {
          "output_type": "stream",
          "text": [
            "INFO:tensorflow:Saver not created because there are no variables in the graph to restore\n"
          ],
          "name": "stderr"
        },
        {
          "output_type": "stream",
          "text": [
            "5\n",
            "1024\n",
            "Running... 5 / 47\n",
            "    Currently extracting elmo for participant 309\n",
            "    # of characters: 7\n",
            "[\"ellie start sure yeah great thank asking um know laughter oh awesome uh guatemala parent migrated united state like three year old yeah mhm yeah pretty cool know uh actually back hometown since forever uh know family mom dad cousin aunt uncle practically life probably mean would nice visit know curiousity know gone guess oh okay um love people everyone's nice love diversity know different type people know imagination everything great know everyone's different know one's like least aspect um love scenery love know mountain beautiful know great hike know taking know dog family know nice pretty active yeah uh smog laughter uh like smog know go um know could tell air know know everything's clearer sky bluer laughter um like know traffic laughter nobody like traffic think yeah yeah um yeah know pretty much l_a pretty nice know like um well studying basic know um sure exactly wanna kind know jumping hoop stuff really set yet still trying find interest suppose um dream job hm good one um love working child would say probably child psychologist 'cause know great know learn going young mind know could help child develop better way know make child know help know help know\", \"know jumping hoop stuff really set yet still trying find interest suppose um dream job hm good one um love working child would say probably child psychologist 'cause know great know learn going young mind know could help child develop better way know make child know help know help know grow positive way supposed instead like going wrong track yeah know help child uh depends depends situation sometimes know could like super outgoing like know sometimes like could quiet whatnot paying attention know like class whatever really like everyone talking I would prefer stay away know 'cause need something else concentrate something else know like moment time everything suppose yeah um like kick foot couch like read good book know get mind going another know galaxy universe situation know pretty fun know know reading relaxed know feeling good yeah fun love reading um okay like best know temper controlling person know try best guess could keep better eventually like best mean sometimes outburst know um know guess everyone sure haha know uh huh good question um hm remember laughter uh let u see uh honestly cannot recall maybe uh goodness know laughter uh sometimes passive like let thing go 'cause\", \"know try best guess could keep better eventually like best mean sometimes outburst know um know guess everyone sure haha know uh huh good question um hm remember laughter uh let u see uh honestly cannot recall maybe uh goodness know laughter uh sometimes passive like let thing go 'cause mean point making big deal thing know um huh know cannot honestly cannot tell laughter moment sure yeah probably come back um huh well guess younger know uh could better older sister make feel guilty sure know could better sister better role model laughter know trying best trying make thing better working laughter yeah woo um guess huh hm know mean person event happened life erase something something present self know would change know pretty okay person mean know think would change event know okay know ups down good bad happened yeah uh cannot see shoe um travel lot um kind like explorer guess love explore like even smallest thing like go hiking go trail know find way top know somehow way make know um traveling uh would love know know always circumstance life know always something know getting married child know kind like know would nice guess know would\", 'kind like explorer guess love explore like even smallest thing like go hiking go trail know find way top know somehow way make know um traveling uh would love know know always circumstance life know always something know getting married child know kind like know would nice guess know would nice know love camping kind like know taking day trip camping know fishing laughter yeah um hm summer know husband went camping really nice know like one like beautiful middle wood beautiful lake know really nice yeah yeah yeah yeah really fun like would love know right would great know going love adventure thing nature life know overall yeah uh easy lately able sleep like night right away know know laying like trying go sleep like ugh eventually laughter know probably like need position different side bed like sometimes headboard like ah gotta go side position like go sleep know gotta find position po right position yeah um tired laughter get tired throughout throughout day know kind try shake know kind like feel like new day know try make day great possible know try like make sleeping night day laughter know yeah yeah yeah know okay try make best guess', \"gotta find position po right position yeah um tired laughter get tired throughout throughout day know kind try shake know kind like feel like new day know try make day great possible know try like make sleeping night day laughter know yeah yeah yeah know okay try make best guess go sleep throughout day suck yeah uh laughter uh feeling good yeah feeling really good um know lot thing life know really good year far happy know everything's know going good know yeah except got cold horrible nature laughter immune system work harder laughter yeah um super happy uh doctor told pregnant know really really happy like ah know laughter really really good know excited reading going body going baby oh overwhelming scary time laughter never really like uh know yeah yeah happy uh um know um guess uh know like know could know know cannot really know say specific thing guess mean depends person meet tell cannot really tell like oh know try best try portray something good people tell know compliment yeah um laughter nothing think laughter um like said happy person right know flaw whatever know might whatever flaw people see it'ts okay know okay whatever gonna\", \"thing guess mean depends person meet tell cannot really tell like oh know try best try portray something good people tell know compliment yeah um laughter nothing think laughter um like said happy person right know flaw whatever know might whatever flaw people see it'ts okay know okay whatever gonna cannot change liking people laughter one body one life yeah yeah uh childhood sister family know know learn learn past kind feel like hey know maybe better role model know child child could better role model world could improve um smile happy know whatever hard thing happen know gonna get eventually know thing cannot um know cannot know go back death know could know heartbreak whatever know long alive still gotta keep going yeah laughter um know um pretty huh proud guess trying best best could pretty powerful know know try know better person day try like know improve every day much know would probably something could super proud know much hard laughter gonna lie um really hard know 'cause cannot say know easy bad hard good know know always challenge everything go know life know sometimes know hard know sometimes come easy know get lot practice everything's like great\", \"day much know would probably something could super proud know much hard laughter gonna lie um really hard know 'cause cannot say know easy bad hard good know know always challenge everything go know life know sometimes know hard know sometimes come easy know get lot practice everything's like great day even try laughter know yeah um know loving friendly um outgoing know adventurous guess know guess say laughter know like know least try know least try give best foot forward always much possible know even sometimes even rough day like uh know know wanna take anyone anything know yeah um laughter ideal weekend usually like going park like sitting like tree tree actually tree shade kind like put blanket dog like read book know sometimes dog like little squirrel running around like feed pretty neat know sitting enjoying air noise n noise guess 'cause silence know wind car know really neat yeah awesome thank welcome laughter bye\"]\n",
            "    # of sentences: 7\n",
            "0\n",
            "INFO:tensorflow:Saver not created because there are no variables in the graph to restore\n"
          ],
          "name": "stdout"
        },
        {
          "output_type": "stream",
          "text": [
            "INFO:tensorflow:Saver not created because there are no variables in the graph to restore\n"
          ],
          "name": "stderr"
        },
        {
          "output_type": "stream",
          "text": [
            "1\n",
            "INFO:tensorflow:Saver not created because there are no variables in the graph to restore\n"
          ],
          "name": "stdout"
        },
        {
          "output_type": "stream",
          "text": [
            "INFO:tensorflow:Saver not created because there are no variables in the graph to restore\n"
          ],
          "name": "stderr"
        },
        {
          "output_type": "stream",
          "text": [
            "2\n",
            "INFO:tensorflow:Saver not created because there are no variables in the graph to restore\n"
          ],
          "name": "stdout"
        },
        {
          "output_type": "stream",
          "text": [
            "INFO:tensorflow:Saver not created because there are no variables in the graph to restore\n"
          ],
          "name": "stderr"
        },
        {
          "output_type": "stream",
          "text": [
            "3\n",
            "4\n",
            "5\n",
            "1024\n",
            "Running... 6 / 47\n",
            "    Currently extracting elmo for participant 311\n",
            "    # of characters: 2\n",
            "['synch yes fine um florida um two three month ago back yet um basically nice sunny weather um career purpose um entertainment difficult um people friendly oh definitely weather um upbeat environment um opportunity uh um entertainment career earthquake laughter mm travel lot within united state yes love seeing new place um different scenery meeting new people mm sigh one trip oh utah love scenery utah rock different sculpture rock landscape fascinating mm memorable experience um think really outstanding one um enjoy seeing different scenery think one particular one stand um two year um two year college um social science dream job well assist husband entertainment dream job um guess laughter one day model bit bit old laughter shy laughter guess introvert guess shy mhm laughter oh listen music inspirational music pretty good mm argue daughter um disrespectful felt angry mm great relationship laughter get along well um quite close get along well mm handled different um cannot think right mm probably um mm staying st mm staying away mother good many year oh relationship problem adjust mm really mhm scrubbed_entry guilty mm sometimes eat sweet sweet dessert laughter mm positive influence um husband aunt daughter laughter positive influence um', \"get along well mm handled different um cannot think right mm probably um mm staying st mm staying away mother good many year oh relationship problem adjust mm really mhm scrubbed_entry guilty mm sometimes eat sweet sweet dessert laughter mm positive influence um husband aunt daughter laughter positive influence um well husband's case belief belief achieving setting high goal confident think highly um great area um easy grouchy laughter mm sometimes little tired okay laughter last time felt happy um sigh happy usually feel happy happy um oh get happy gonna travel last time relocating los angeles mm really enjoyed oh weekend went um activity heritage um weekend screening movie really enjoyed weekend mm know laughter calm mm shy laughter mm really know laughter um size weight mm guess whenever called fat laughter fat think patient um love people love helping people uh mm yes laughter bit personal laughter advice would give ten twenty year mm always aim best best best every day mm great kid sometimes get hand sometimes disrespectful overall great yes quite easy um yeah help help help father f father husband disciplinarian bit easy laughter uh sigh best thing parent see see uh uh person gave\"]\n",
            "    # of sentences: 2\n",
            "0\n",
            "INFO:tensorflow:Saver not created because there are no variables in the graph to restore\n"
          ],
          "name": "stdout"
        },
        {
          "output_type": "stream",
          "text": [
            "INFO:tensorflow:Saver not created because there are no variables in the graph to restore\n"
          ],
          "name": "stderr"
        },
        {
          "output_type": "stream",
          "text": [
            "1\n",
            "INFO:tensorflow:Saver not created because there are no variables in the graph to restore\n"
          ],
          "name": "stdout"
        },
        {
          "output_type": "stream",
          "text": [
            "INFO:tensorflow:Saver not created because there are no variables in the graph to restore\n"
          ],
          "name": "stderr"
        },
        {
          "output_type": "stream",
          "text": [
            "2\n",
            "INFO:tensorflow:Saver not created because there are no variables in the graph to restore\n"
          ],
          "name": "stdout"
        },
        {
          "output_type": "stream",
          "text": [
            "INFO:tensorflow:Saver not created because there are no variables in the graph to restore\n"
          ],
          "name": "stderr"
        },
        {
          "output_type": "stream",
          "text": [
            "3\n",
            "4\n",
            "5\n",
            "1024\n",
            "Running... 7 / 47\n",
            "    Currently extracting elmo for participant 314\n",
            "    # of characters: 7\n",
            "[\"hi yes today wonderful day absolutely marvelous born cleveland ohio raised tucson arizona came los angeles sixteen year old yes mm uh back since left whole another community growing glad grew great sense community think los angeles sniffle uh grandmother died left property father came manage property property uh pretty easy still young easy adapt pretty good meeting people uh never problem traveled lot child used moving going new place meeting new people seeing new thing adventure like adventurous life oh one best trip nineteen dating nineteen sixty four sniffle came visit grandmother cleveland ohio went indian reservation got little note card reservation got back home wrote reservation told came ca went back school september would write uh deliver speech rather summer told wanted talk going indian reservation would send something sent huge kachina indian doll wa wonderful experience thing worth still found like quarter million dollar laughter mm one best xxx um could little bit um pretty outgoing 'cause good meeting mee talking people meeting people sometimes little bashful side little shy side little bit studied business administration ad administration uh emphasis marketing advertising um well really started computer science back day computer science today um liked li good\", \"best xxx um could little bit um pretty outgoing 'cause good meeting mee talking people meeting people sometimes little bashful side little shy side little bit studied business administration ad administration uh emphasis marketing advertising um well really started computer science back day computer science today um liked li good interaction people love people wanted something would bring interaction people went marketing working t_v station going school fit line marketing advertising photographer celebrity photographer shoot lot star shoot red carpet shoot lot special event anything else people pay laughter hard passion love like working dream job need get job j job pay pay well lot time photographer lot thing thin event free get known building process relationship still process building relationship get paid job dream job love laughter well really back used got away meditation practice meditation try twice day morning night go sleep work oprah deepak chopra anybody else provides meditation use calm body um generally control temper sometimes get set guess like human person per work trying keep moderate temperate uh temper personality oh wow argued daughter day something said mean say hurt obviously argued intention intention never hurt mm maybe said started argument oh god felt terrible\", \"provides meditation use calm body um generally control temper sometimes get set guess like human person per work trying keep moderate temperate uh temper personality oh wow argued daughter day something said mean say hurt obviously argued intention intention never hurt mm maybe said started argument oh god felt terrible never intended hurt daughter never would wanna hurt felt bad hurt said guard word watch thought well much relationship family f brother sister mother father parent live far away two daughter pretty good relationship know try work daughter's makeup artist photographer work lot together industry sometimes think close need little space yeah say wrong thing laughter never easy parent work progress making right decision thing sometimes love feel feeling accomplishment able raise highest creation planet uh wonderful productive human strict parent give kid little freedom find um real religious like spiritual um brought different religious tip um listen think parent seen heard growing let kids' voice heard one night bad night changed life know wanna go detail feel bad night laughter yeah could stayed home laughter wow trying think situation maybe handling husband divorced think could handled little differently well think really loved lot something come end way separated kind\", \"seen heard growing let kids' voice heard one night bad night changed life know wanna go detail feel bad night laughter yeah could stayed home laughter wow trying think situation maybe handling husband divorced think could handled little differently well think really loved lot something come end way separated kind explosive think u could handled better think played part keeping lot drama going 'cause hurt breaking kinda devastated 'cause wanted child raised father think looking back know hindsight twenty twenty vision could handled thing little better best time knew better would better hardest decision ever make hardest decision ever make way work enrollment counselor plane stroke going make connection get plane go hospital doctor sitting behind told could get plane might another stroke hard decision 'cause dallas texas mean employee would left 'cause employee go montgomery alabama headed make decision stay go life balance made decision stay go hospital hard one sniffle ugh overwhelmed mean way work know flew different state every week uh help kid get get admitted college way work plane feel weird feeling coming left side body say prayer go sleep wake get plane cannot remove luggage overhead compartment every week knew something wrong life whole world\", 'one sniffle ugh overwhelmed mean way work know flew different state every week uh help kid get get admitted college way work plane feel weird feeling coming left side body say prayer go sleep wake get plane cannot remove luggage overhead compartment every week knew something wrong life whole world hand know gonna happen next disturbing traumatic know know happening weirdest thing riding hospital medical ambulance weird experience yeah know survived doctor told nobody survives stroke plane survived universe finished yet know sometimes little problem um sleeping little bit sometimes get wired laughter get wired one real energetic person finish set finish cannot go sleep sometimes hard go sleep time lay go depends going head um sluggish um probably little edge try keep upbeat personality real energetic person try know tired body still talking lately feeling really well um except problem um since stroke nerve damage hand face thought year since stroke thought would gotten little better grateful alive really minor mi minor compared bigger picture fortunately fortunately lose facial structure know face screwed like lot people still use hand still shoot camera even though left hand diminished use shoot right hand photographer still keep work um know keep good', \"since stroke thought would gotten little better grateful alive really minor mi minor compared bigger picture fortunately fortunately lose facial structure know face screwed like lot people still use hand still shoot camera even though left hand diminished use shoot right hand photographer still keep work um know keep good upbeat energy going keep successful went depression uh knocked unconscious five time school teacher every ball could name soccer ball baseball basketball name ball hit head suffered like sleep apnea able sleep hit many time knocked unconscious head go therapy um medical right able get therapy offer people medical hard get sniffle working work yeah suck working right still trying get disability get well 'cause wanna fulfilled human wanna totally know system almost two year go hearing kind depressing think year working since sixteen taking year year stroke february two thousand twelve march two thousand thirteen hearing september two thousand thirteen tell get disability depressing wondering lived saving last year got put daughter college finished take care still looking job life kinda air right 'cause wondering come next praying guidance sniffle feel happy every day every day wake breathe see walk talk still shoot photograph happy good thing present moment\", \"thirteen tell get disability depressing wondering lived saving last year got put daughter college finished take care still looking job life kinda air right 'cause wondering come next praying guidance sniffle feel happy every day every day wake breathe see walk talk still shoot photograph happy good thing present moment alive sniffle mm know figured like good regret cannot change past change right right live li move forward mm advice would give sniffle let anything get way know keep good personality energetic spirit keep pushing energetic talkative uh take answer uh follow reliable um good spirited giving loving um proud able find creative side visual artist never took art lesson taught art sniffle um late twenty even discovered could draw paint um doll collector uh creative side proud able help creative matter even still ill stroke could still go go take picture soothing soul glad creative side found utilized mhm uh huh bye bye bye\"]\n",
            "    # of sentences: 7\n",
            "0\n",
            "INFO:tensorflow:Saver not created because there are no variables in the graph to restore\n"
          ],
          "name": "stdout"
        },
        {
          "output_type": "stream",
          "text": [
            "INFO:tensorflow:Saver not created because there are no variables in the graph to restore\n"
          ],
          "name": "stderr"
        },
        {
          "output_type": "stream",
          "text": [
            "1\n",
            "INFO:tensorflow:Saver not created because there are no variables in the graph to restore\n"
          ],
          "name": "stdout"
        },
        {
          "output_type": "stream",
          "text": [
            "INFO:tensorflow:Saver not created because there are no variables in the graph to restore\n"
          ],
          "name": "stderr"
        },
        {
          "output_type": "stream",
          "text": [
            "2\n",
            "3\n",
            "4\n",
            "5\n",
            "1024\n",
            "Running... 8 / 47\n",
            "    Currently extracting elmo for participant 323\n",
            "    # of characters: 10\n",
            "[\"synch yes uh okay okay uh north carolina yep uh almost four year ago um graduated college internship uh production company started group friend got work enjoyed city much working since yep uh probably three th three time year maybe twice usually holiday maybe one random trip mhm um uh l_a's starting become home sense respect like uh going home going home going home's like going back see family seeing friend um um feel feel like belong los angeles back home uh food um weather go without saying uh th like resource like feeling um like uh thing wanna uh much easier much accessible would north carolina feel like uh uh able uh pursue eh lot passion ambition much functional realistic way living los angeles north carolina uh mean cost living great time always kind tell people like part rent access much um resource resour many resource uh even expensive new york boston uh worst um uh also mean little bit annoying every time wanna go home flight drive cannot mean conceivably con really conceivably drive home holiday 'cause three four day adventure practical uh unfortunate far away respect cannot really change geography uh laughter laughter studied uh history uh\", \"new york boston uh worst um uh also mean little bit annoying every time wanna go home flight drive cannot mean conceivably con really conceivably drive home holiday 'cause three four day adventure practical uh unfortunate far away respect cannot really change geography uh laughter laughter studied uh history uh medium study production uh yes work freelance writer producer um college realized pretty good uh knew way monetize came uh worked little bit uh uh public sector trying know job way realized could make money control schedule life freelance little year um love traveling try uh go somewhere new good period time every uh seven eight month try mix thing barcelona recently planning going um either vietnam even back europe next couple month mhm uh enjoy break routine think uh nice wake kind vague idea day's going uh month get much kinda caught uh pigeonhole guess thought process expectation day love going foreign country waking knowing everything day gonna brand new different would los angeles um routine big fan love food great eat um lot food love place originally created uh yeah sure went uh barcelona uh like said uh month ago mainly friend living uh six seven month kept\", 'love going foreign country waking knowing everything day gonna brand new different would los angeles um routine big fan love food great eat um lot food love place originally created uh yeah sure went uh barcelona uh like said uh month ago mainly friend living uh six seven month kept asking come uh finally point p point work I would working much month end felt like deserved break went two week yeah one healthiest smartest thing done awhile mm reminded uh important least uh travel get world outgoing uh love talking people conversing even virtual people oop lost ya um relax uh listen play music lot like read uh like go see movie uh cook cook lot enjoy cooking um uh girlfriend uh currently separated distance um seen week uh sad obviously talk much uh yeah uh um uh pretty simple taste yep participant talking rachel entered room fix problem ellie laughter awkward um really much temper uh good guess really get angry easily quickly uh usually aware enough kinda formulate feel feeling way want done uh pretty guess pretty easygoing guy respect sigh uh honestly probably something petty like uh misremembering uh something done like date something like fact', \"ellie laughter awkward um really much temper uh good guess really get angry easily quickly uh usually aware enough kinda formulate feel feeling way want done uh pretty guess pretty easygoing guy respect sigh uh honestly probably something petty like uh misremembering uh something done like date something like fact probably anything emotionally fueled uh yeah think probably like trying figure exactly went san francisco even argument much person thinking person's misremembering um know small big situation difficult actually feel enraged uh guess classical sense word um sigh trying think one one regret um um recently uh uh project like film uh subject matter little bit like exgirlfriend mine came time release uh made point wanna send directly 'cause want think xxx face send brother enjoys work always say want see stuff um uh maybe tha might've could misconstrued passiveaggressive know um um yeah mean something thought really regret much like maybe could let uh everyone ever everyone else would necessarily sure stumble upon opposed directing thought sigh laughter hardest decision ever make deep breath ah um sigh uh actually probably uh probably uh ah even even hard decision like said exgirlfriend mentioned probably hard uh knew uh break stuff\", \"like maybe could let uh everyone ever everyone else would necessarily sure stumble upon opposed directing thought sigh laughter hardest decision ever make deep breath ah um sigh uh actually probably uh probably uh ah even even hard decision like said exgirlfriend mentioned probably hard uh knew uh break stuff happened um difficult 'cause cared great deal also tune hard arrive conclusion uh uh break time uh uh easiest thing kinda go process getting rollercoaster much aware mm terrible frightening gonna know get rollercoaster uh yeah I would say probably recent memory ugh abundance laughter reason uh person probably uh best person uh like said uh weigh much much data figure um pretty clear sign regret um uh yeah feel strongly felt still feel strongly made right choice um sigh tough b feel like either exhausted day work know started exercising huge help um I would say kind get bed night never know gonna go sometimes uh sometimes wake within hour falling asleep cannot go back sleep um yeah periodically keep getting um something gotten little better last week uh yeah um like said especially uh current girlfriend uh around like said big source comfort around like uh um travel\", \"night never know gonna go sometimes uh sometimes wake within hour falling asleep cannot go back sleep um yeah periodically keep getting um something gotten little better last week uh yeah um like said especially uh current girlfriend uh around like said big source comfort around like uh um travel lot work something adjust uh uh sleep suffers uh respect someone actually feel like need much sleep get get four six hour pretty good shape day um uh little anxious guess uh little mo um uh whenever get assignment uh always question like going next uh far next um project lined always nervousness um past something usually come precedent usually working always little um uh anxious depressing 'cause like uh um know chosen much lifestyle get lot control autonomy life uh also order know sometimes um jealous idea people waking going office eight hour leaving think work minute leave office kind momentum group people company um carrying um little tough whereas like day sick day um work get done laughter know small business one employee cope um assume mean guess uh people work cope uh maybe better answer would cope lifestyle got much uh much used something still learning figuring\", \"kind momentum group people company um carrying um little tough whereas like day sick day um work get done laughter know small business one employee cope um assume mean guess uh people work cope uh maybe better answer would cope lifestyle got much uh much used something still learning figuring handle uh far like know rewarding work also figuring efficient way live life know uh appropriate way budget finance uh expectation given year realistic hopeful um something sure take year year feel like long getting better uh progress right uh yes uh definitely probably would gone back uh um gone high school probably would second time um yeah diagnosed depression feel like one thing uh something keep check throughout entire life know um feel like pretty happy person part um uh hate annoying like say like people creative people lot stuff mind tends follow get selfesteem thing 'cause hard feel um hard har easy shou suppose get head uh within year probably feeling uh symptom kinda easy figure like ah know kinda happening feeling uh symptom uh uh going emotion feeling like okay first kinda hoping would something could kind work um realized stupid try fight battle went um started\", 'um hard har easy shou suppose get head uh within year probably feeling uh symptom kinda easy figure like ah know kinda happening feeling uh symptom uh uh going emotion feeling like okay first kinda hoping would something could kind work um realized stupid try fight battle went um started seeing therapist uh uh really bad could sleep like would get maybe hour sleep night best um sleeping sigh uh drive anything whether know simple brushing teeth cleaning apartment thing like time simultaneously aware like oh head even like symptom um uh yeah general general malaise come depression uh finished uh finished mean since graduate anything anyth like got point felt like uh um kind talked much could talk I would moved eh place life kind good good work xxx especially like said working something really cared um someone care greatly uh um potential opportunity even worry symptom stuff much uh felt like therapy necessary also really time much work go oh definitely think someone confide uh friend family member know drink tell someone said anything like definitely something beneficial cannot imagine anyone could benefit somewhat routine basis um sigh know firm f kind firm believer thing like thing kinda', \"uh felt like therapy necessary also really time much work go oh definitely think someone confide uh friend family member know drink tell someone said anything like definitely something beneficial cannot imagine anyone could benefit somewhat routine basis um sigh know firm f kind firm believer thing like thing kinda haunt also reason like uh uh sister died uh bout twelve year old younger watching parent like seeing father cry first time kind traumatic thing uh felt like grew lot day um also difficult see see parent deal losing child want forget thing 'cause think integral um cope life perceive uh um hardship obstacle uh image knowing father humanizing 'cause easy kind idolize parent still idolize father know guy like get older um easier identify uh man psh I would uh sixteen six um uh kind like notion uh uh always say would worry much people thought realized people much people think really hard tell sixteen year old know point telling six year old um yeah feel like especially high school get mean nowadays mean live los angeles much caught people think still find someone eh either upset like bother great deal hate letting people would like come healthier place\", 'people think really hard tell sixteen year old know point telling six year old um yeah feel like especially high school get mean nowadays mean live los angeles much caught people think still find someone eh either upset like bother great deal hate letting people would like come healthier place knowing sometimes cannot really control people feel even best intention world uh compassionate guy um friend pretty selfless respect um good humor thing like even laughter even depressed depression joke know morbid depressed aware uh low uh treat know try deny try like pretty like practical person respect think uh even depressed take people think people people told even seem mention cough going like depression one seems like mention one feel like go like oh everyone tell smoking gun sadness basically laughter uh tend carry pretty well uh um lose sight uh reality rea reality know happening mm um uh girlfriend came uh thailand three week supposed go spain two canceled trip came back stayed ten day um yeah know laughter love great um coolest person know much fun uh around make happy uh um ten day like normal rarely get normal couple time like always like oh see five']\n",
            "    # of sentences: 10\n",
            "0\n",
            "INFO:tensorflow:Saver not created because there are no variables in the graph to restore\n"
          ],
          "name": "stdout"
        },
        {
          "output_type": "stream",
          "text": [
            "INFO:tensorflow:Saver not created because there are no variables in the graph to restore\n"
          ],
          "name": "stderr"
        },
        {
          "output_type": "stream",
          "text": [
            "1\n",
            "INFO:tensorflow:Saver not created because there are no variables in the graph to restore\n"
          ],
          "name": "stdout"
        },
        {
          "output_type": "stream",
          "text": [
            "INFO:tensorflow:Saver not created because there are no variables in the graph to restore\n"
          ],
          "name": "stderr"
        },
        {
          "output_type": "stream",
          "text": [
            "2\n",
            "INFO:tensorflow:Saver not created because there are no variables in the graph to restore\n"
          ],
          "name": "stdout"
        },
        {
          "output_type": "stream",
          "text": [
            "INFO:tensorflow:Saver not created because there are no variables in the graph to restore\n"
          ],
          "name": "stderr"
        },
        {
          "output_type": "stream",
          "text": [
            "3\n",
            "INFO:tensorflow:Saver not created because there are no variables in the graph to restore\n"
          ],
          "name": "stdout"
        },
        {
          "output_type": "stream",
          "text": [
            "INFO:tensorflow:Saver not created because there are no variables in the graph to restore\n"
          ],
          "name": "stderr"
        },
        {
          "output_type": "stream",
          "text": [
            "4\n",
            "INFO:tensorflow:Saver not created because there are no variables in the graph to restore\n"
          ],
          "name": "stdout"
        },
        {
          "output_type": "stream",
          "text": [
            "INFO:tensorflow:Saver not created because there are no variables in the graph to restore\n"
          ],
          "name": "stderr"
        },
        {
          "output_type": "stream",
          "text": [
            "5\n",
            "1024\n",
            "Running... 9 / 47\n",
            "    Currently extracting elmo for participant 329\n",
            "    # of characters: 5\n",
            "['synch yes okay feeling little tired uh worried um well looking place live um job right thing sigh thing little shaky staying son venice uh pretty good uh u need space looking another place live originally new york california since early seventy yeah uh moved l_a living portland oregon getting tired weather son seemed like good place um hard uh met people right away um really like uh easy connect people weather laughter number one like people love near ocean um like energy like um like artistic culture mhm uh well everybody love traffic mean love weather hate traffic kinda feel fee feel way um sometimes get little wearing busy fact expensive make difficult uh much I would like fund fu income fund would travel um sigh well mostly um xxx traveled let u see longest uh trip country mexico traveled drove friend uh oaxaca whole trip took mm think took u four week going back uh bay area um yeah fun trip well uh would working together census made trip time invited come along um trip would say oaxaca day dead uh celebrating day dead family little village staying everybody village make altar house uh uh loved one passed', 'took u four week going back uh bay area um yeah fun trip well uh would working together census made trip time invited come along um trip would say oaxaca day dead uh celebrating day dead family little village staying everybody village make altar house uh uh loved one passed away um also decorate clean decorate graf lot flower neat family celebrating uh well studied studi liberal liberal art program stay st stayed stayed school uh college couple year um interested liberal art humanity huh dream job would uh personal assisting somebody creative field getting uh travel go event uh hard break um starting uh minimally somebody volunteer work working building skill fairly kind friendly introvert um know trouble meeting people uh hold back um know xxx shy sh like shy party go talk people um overall kind introverted um prefer oneonone big group um like watch uh well laughter like watch uh improvement show like uh h_g_t_v like watch um like remodel show see transformation watch movie read oh play solitaire uh kindle fire um usually realize mad later laughter laughter really come um tend kind life um situation arise uh sometimes know sometimes road um get little annoyed', \"like watch uh improvement show like uh h_g_t_v like watch um like remodel show see transformation watch movie read oh play solitaire uh kindle fire um usually realize mad later laughter laughter really come um tend kind life um situation arise uh sometimes know sometimes road um get little annoyed uh get annoyed much like people cut anything like um people deliberately rude know honk reason um know get angry maybe done something inadvertent know cut mistake know like get really angry make angry return hmm sigh um yeah like said really get argument um ha friend day um got annoyed felt like correcting really argument know said something heard correction well correction got angry um um well felt criticized felt felt vulnerable eh pretty uncomfortable hmm um well situation correct um sigh think something starting look need right general trying catch let people make mistake without laughter without telling mm hmm boy know um gee tough cannot know much trouble making decision um hmm well uh u uh hard decide uh put cat sleep sick oh wa give cat um moving difficult 'cause um sigh well case first cat one sick um decided vet said thought humane decision um\", \"mm hmm boy know um gee tough cannot know much trouble making decision um hmm well uh u uh hard decide uh put cat sleep sick oh wa give cat um moving difficult 'cause um sigh well case first cat one sick um decided vet said thought humane decision um cat give really decide um moving place could take found somebody could take hmm sigh mm see um gee tough sigh really eh erasing memory part um nothing really wish could erase memory um trying think something done wish done um oh okay remember something wa laughter time class junior college film class uh one um went little film project um supposed bring back class next week uh one film different thing happening life right never went back school never brought film back work done um still feel bad eh pretty easy um sometimes wake early morning hour trouble going back sleep often feeling kind tired low level depressed like feeling lot option yes uh well two time um back like nineteen seventy two nineteen ninetee yeah nine nineteen seventy two three um another time um oh would that've sixteen year ago um feeling like um know feeling feeling thing\", \"back sleep often feeling kind tired low level depressed like feeling lot option yes uh well two time um back like nineteen seventy two nineteen ninetee yeah nine nineteen seventy two three um another time um oh would that've sixteen year ago um feeling like um know feeling feeling thing Were gonna change get help know maybe got medication would help um short term going therapy right uh moving around lot finance really feeling need um starting think might option feel like therapy useful yes well went therapy um helpful somebody listened could also offer impartial suggestion helping improve way feeling deep breath um sigh well beach last weekend uh beautiful day sitting sun uh relaxing notebook writing felt happy content uh kind compassionate good listener intelligent uh good idea um sigh well wish uh sometimes wish wa harder worker um really willing take low wage job even though need work feel like willing anything um um wish could act said good idea um good idea good uh onset really good followthrough lot idea get started take distance probably thing I would like change uh ten twenty year ago I would give advice go back school get degree finish education\"]\n",
            "    # of sentences: 5\n",
            "0\n",
            "INFO:tensorflow:Saver not created because there are no variables in the graph to restore\n"
          ],
          "name": "stdout"
        },
        {
          "output_type": "stream",
          "text": [
            "INFO:tensorflow:Saver not created because there are no variables in the graph to restore\n"
          ],
          "name": "stderr"
        },
        {
          "output_type": "stream",
          "text": [
            "1\n",
            "INFO:tensorflow:Saver not created because there are no variables in the graph to restore\n"
          ],
          "name": "stdout"
        },
        {
          "output_type": "stream",
          "text": [
            "INFO:tensorflow:Saver not created because there are no variables in the graph to restore\n"
          ],
          "name": "stderr"
        },
        {
          "output_type": "stream",
          "text": [
            "2\n",
            "3\n",
            "4\n",
            "5\n",
            "1024\n",
            "Running... 10 / 47\n",
            "    Currently extracting elmo for participant 332\n",
            "    # of characters: 3\n",
            "[\"sync yes fine thank los angeles california variety people multicultural food laughter going movie rude people scary people violent yes experiencing different thing seeing different culture well stationed germany three year great experience food great bavarian alp snow people loved baby well memorable thing life something never forget great one son grown handsome father two actually hard becoming angry quickly able cultivate mind love someone unconditionally well went lot trauma child parent afraid child go trauma tried protect think really hard 'cause never really know people outgoing room people usually first one start talking matter fact fish aquarium keep calm good laughter seems like everyday argue somebody something yesterday um lady tried cut line grocery store politely told line wanna move yes sometimes people want move feel place move hurting people physically uh feel disrespected somebody put hand get ugly like um pulled police uh someone name rude really happy way treated um stay calm someone crossed boundary personal space cannot let people get close lash want anybody area protection guess stay away people laughter stay away hard cannot live world without people sometimes irritate heck assaulted military something wish could forget felt helpless alone ashamed angry wanna go eighteen\", \"way treated um stay calm someone crossed boundary personal space cannot let people get close lash want anybody area protection guess stay away people laughter stay away hard cannot live world without people sometimes irritate heck assaulted military something wish could forget felt helpless alone ashamed angry wanna go eighteen yeah young assaulted fear people uniform like policeman hurting um military veteran hurting explode go issue p_t_s_d cannot remember worked federal government well seemed like normal progression um federal government give ten point preference people military seemed like natural choice organization book rule followed government one government another yes well hard sense military given um told handle handle civilian world go many hoop different people talk get something done administration justice um work anymore oh yeah almost two year feeling always gonna hurt someone get nightmare panic attack anxiety attack outburts outburts anger always emotional pain always wanted hit somebody yes mostly disrespect feel disrespect people getting close feel fear reason cannot remember last time good night's sleep irritable angry moody pissed irrational tired sick world angry world wanting left alone sometimes wanna go yes oh yeah laughter oh yeah well could recognize trigger something gonna trigger least know uh\", \"yes mostly disrespect feel disrespect people getting close feel fear reason cannot remember last time good night's sleep irritable angry moody pissed irrational tired sick world angry world wanting left alone sometimes wanna go yes oh yeah laughter oh yeah well could recognize trigger something gonna trigger least know uh act accordingly want laughter saw grandchild came visit sniff innocent sweet precious joy around make forget pain life sniff sniff planting seed vegetable making garden sniff read somewhere calming soothing work hand dirt decided find sniff plant something watch grow sniff sitting beach looking look facing water thinking talking god wishing somewhere else like hawaii penthouse maui could trust people would lash could sleep night sniff crazy hot headed sniff emotional wrong place wrong time trust anyone careful wary people want son grandchild sniff real family seen brother like twenty thirty year two brother seen mother's family seen year father's family seen year parent dead son life another state wow older people give care sometimes caregiver sometimes people work older wiser sniff loyal spiritual supportive kind generous bye\"]\n",
            "    # of sentences: 3\n",
            "0\n",
            "INFO:tensorflow:Saver not created because there are no variables in the graph to restore\n"
          ],
          "name": "stdout"
        },
        {
          "output_type": "stream",
          "text": [
            "INFO:tensorflow:Saver not created because there are no variables in the graph to restore\n"
          ],
          "name": "stderr"
        },
        {
          "output_type": "stream",
          "text": [
            "1\n",
            "INFO:tensorflow:Saver not created because there are no variables in the graph to restore\n"
          ],
          "name": "stdout"
        },
        {
          "output_type": "stream",
          "text": [
            "INFO:tensorflow:Saver not created because there are no variables in the graph to restore\n"
          ],
          "name": "stderr"
        },
        {
          "output_type": "stream",
          "text": [
            "2\n",
            "3\n",
            "4\n",
            "5\n",
            "1024\n",
            "Running... 11 / 47\n",
            "    Currently extracting elmo for participant 334\n",
            "    # of characters: 8\n",
            "['yes okay um little pensive guess little uh le okay born annapolis maryland east coast originally moved went film school um decided come moved washington d_c work back different um east coast different feel um living l_a different kind um attitude guess little difficult gotten used since uh um left thing got thing sort lost job move kind quick um uh people gonna help sort know estranged right word kind really speaking family old friend often easy kind um miss miss lot people miss old life lost job um miss um friend um miss lot relationship um difficult mean weighs mind lot um feel like failed cannot seem get back foot hard depends situation think outgoing comfortable um extremely outgoing situation comfortable tend lot shy really answer question um [clears throat] certain lot writing um certain music listen writing get really sort shut rest world um music thought kind happening really um soothes like feel relaxed guess um week ago guess I would working book novel really really getting writing um really working good really good felt like accomplishing something felt really relaxed um guy searching something uh last day earth going find person met struck need need find spend', 'really um soothes like feel relaxed guess um week ago guess I would working book novel really really getting writing um really working good really good felt like accomplishing something felt really relaxed um guy searching something uh last day earth going find person met struck need need find spend last minute earth sort uh sort romantic adventure comedy kind thing well always always writer part reason came l_a screenwriting um wrote screenplay uh know little success since since kind gotten tired limitation screenwriting started write short story longer creative writing meaning write novel waiting idea really hit easy [exhale] part part good really good getting sometimes real struggle um find difficult real love hate relationship writing love absolutely love sometimes hate difficult um worth time good good really temper mean anger directed inward opposed outward people um something really really stressful situation like intense confrontation lose probably prob probably happened three four time whole life mean generally pretty much try upset get upset people um last night guess well weh um got argument whether cleaning vegetable necessary forget well whether clean vegetable cut I would already started cutting vegetable thought would okay turned big argument google search figure right', 'happened three four time whole life mean generally pretty much try upset get upset people um last night guess well weh um got argument whether cleaning vegetable necessary forget well whether clean vegetable cut I would already started cutting vegetable thought would okay turned big argument google search figure right wrong ended wrong one yeah blow argument definite argument um uh lot much um uh uh relationship really really um really wanted work uh ended partly due right medication going like everything sort spiraled control feel really guilty way ended mean mean getting messed could stop ended feel really guilty enough know making tell never wanted see pretty pretty tough well medicated properly mean doctor medication completely kind mean still get still get upset still get depressed like completely lose day time um mean know part know logically fault able deal chemical brain would would probably different would would would would probably would gone differently maybe would mean could know know could done anything different thing mean possible uh mean obviously yeah mean take little thing thin mean take little thing think time head drive crazy dwell stuff um like little detail come suddenly remember throw whole day mean still', \"would probably would gone differently maybe would mean could know know could done anything different thing mean possible uh mean obviously yeah mean take little thing thin mean take little thing think time head drive crazy dwell stuff um like little detail come suddenly remember throw whole day mean still still get still get really uncomfortable embarassed feel ashamed stuff high school year year ago even thinking anymore 'cause past still get feeling like right back well easy trying figure way deal mean dealt long time drinking know trying like slow mind way um know since medication better impossible deal easy better um well like said lot know writing anything like kind almost two thing occupy brain completely um watching t_v playing game phone using computer know watching t_v show movie know another window keep mind occupied um need mean wish could sort let thought come deal cannot yet triggered everything pretty much anything see hear somebody dutch last name hear somebody talk wisconsin hear know people talk anything know reach back connect really really know thing mean ever get break yeah um know light sleeper awake asleep awake asleep asl problem going back sleep generally know know never really\", 'everything pretty much anything see hear somebody dutch last name hear somebody talk wisconsin hear know people talk anything know reach back connect really really know thing mean ever get break yeah um know light sleeper awake asleep awake asleep asl problem going back sleep generally know know never really needed much sleep recently really started like feel effect getting enough sleep like would would usually stay two three morning could exhausted could conk wake next day feel fine go work um like cannot still get enough sleep conk still sleep lightly know get toss turn night know yeah sleep great right um pretty mean know hard hard know usually kind power uh like feel bad um think three three four year ago um given taking stuff anxiety year finally got psychiatrist actually sat talked said actually got situation need get medication working need get new medication actually start like even heal little bit yeah kind turning point unfortunately happened everything uh went bad know moment know really think thought much looking back feel really make angry really make know given right make really angry lost everything chemical brain thing could control know people supposed help Were helping mean paying', 'even heal little bit yeah kind turning point unfortunately happened everything uh went bad know moment know really think thought much looking back feel really make angry really make know given right make really angry lost everything chemical brain thing could control know people supposed help Were helping mean paying paying lot money go see doctor know help work know managed find somebody work yeah like thanks guy helping little little late um really choice mess either self medicating affecting work mean everything point really realized mean like make different late know review came month later know everything institutionalized twice stuff know decided worth keeping around laid least firing yeah got help soon enough uh much um go couple meeting go go a_a um know keep control aspect therapy aspect um unfortunately know unemployed unemployment ran know know getting medication city l_a know really position put money seeing somebody psychiatrist go see really seen three time past year basically keep medication coming laughter right well like said mean talk tah mean let u take a_a example probably closest cloth closest seeing therapy um saying stuff outloud like getting getting stuff trying figure take mess stomach brain make word sentence make', \"go see really seen three time past year basically keep medication coming laughter right well like said mean talk tah mean let u take a_a example probably closest cloth closest seeing therapy um saying stuff outloud like getting getting stuff trying figure take mess stomach brain make word sentence make sense actually deal big step like regardless saying whether therapist room full drunk know mean taking stuff really killing making something deal something write something talk opposed letting sit formless thing yeah um know better um mean sort go g ups down um know applying job five six job day know never getting response never getting interview never even getting close self sufficient um hard like real world problem feel like chemical part getting control like depression getting control deal real life challenge yeah um probably know couple year ago um mean thing immediately come mind uh everything going well job making great video person iwas relationship really close fun together went got christmas tree spent time picking perfect christmas tree feeling like part somebody's life feeling like part bigger bigger life know like normal people feel know instant felt like normal person normal thing pretty girl really really liked\", \"job making great video person iwas relationship really close fun together went got christmas tree spent time picking perfect christmas tree feeling like part somebody's life feeling like part bigger bigger life know like normal people feel know instant felt like normal person normal thing pretty girl really really liked lot know everything going really well mean going really well messed instant felt like normal person normal happy person part make hard knowing know ever feel um probably probably educational educary educational series uh educational uh video series national science foundation um really hard end turned really good know hoping help lot kid help world getting kid excited science um world around feel like real contribution made world oh part know part job um trying come new idea uh would put together video stuff give know school everything done decided something really big know lot traveling lot um lot probably biggest project n_s_f decided kind produced right yeah um guess grunt know laughter uh know since really thought know would go somewhere would know thank\"]\n",
            "    # of sentences: 8\n",
            "0\n",
            "INFO:tensorflow:Saver not created because there are no variables in the graph to restore\n"
          ],
          "name": "stdout"
        },
        {
          "output_type": "stream",
          "text": [
            "INFO:tensorflow:Saver not created because there are no variables in the graph to restore\n"
          ],
          "name": "stderr"
        },
        {
          "output_type": "stream",
          "text": [
            "1\n",
            "INFO:tensorflow:Saver not created because there are no variables in the graph to restore\n"
          ],
          "name": "stdout"
        },
        {
          "output_type": "stream",
          "text": [
            "INFO:tensorflow:Saver not created because there are no variables in the graph to restore\n"
          ],
          "name": "stderr"
        },
        {
          "output_type": "stream",
          "text": [
            "2\n",
            "INFO:tensorflow:Saver not created because there are no variables in the graph to restore\n"
          ],
          "name": "stdout"
        },
        {
          "output_type": "stream",
          "text": [
            "INFO:tensorflow:Saver not created because there are no variables in the graph to restore\n"
          ],
          "name": "stderr"
        },
        {
          "output_type": "stream",
          "text": [
            "3\n",
            "INFO:tensorflow:Saver not created because there are no variables in the graph to restore\n"
          ],
          "name": "stdout"
        },
        {
          "output_type": "stream",
          "text": [
            "INFO:tensorflow:Saver not created because there are no variables in the graph to restore\n"
          ],
          "name": "stderr"
        },
        {
          "output_type": "stream",
          "text": [
            "4\n",
            "INFO:tensorflow:Saver not created because there are no variables in the graph to restore\n"
          ],
          "name": "stdout"
        },
        {
          "output_type": "stream",
          "text": [
            "INFO:tensorflow:Saver not created because there are no variables in the graph to restore\n"
          ],
          "name": "stderr"
        },
        {
          "output_type": "stream",
          "text": [
            "5\n",
            "1024\n",
            "Running... 12 / 47\n",
            "    Currently extracting elmo for participant 337\n",
            "    # of characters: 3\n",
            "[\"good um los angeles california um cool weather beach people school um child development yes teacher special education hard 'cause love work child yes dishonesty maybe um like guy like especially come relationship lie something minimal mom wanna say mom um close talk every day close even though live try see much uh okay laughter good yes um friendly quiet 'cause used environment fine like much cost cheap good friendly fine wish little bit could better yeah yes laughter um different option live somebody else still friend female come find connect roommate live kinda regret moving roommate versus supposed move beginning stuck year whatever fine know yeah laughter nothing really get really mad think top head um um maybe come school treat child especially child color maybe really get mad mm yes thing within guess um internally motivated thing guess yeah yeah wow hardly ever argue somebody laughter yeah oh sister guess sister month ago uh felt betrayed belittled little sister disrespecting type way adult yeah feeling situation um getting grown folks' business conversation mother guess overheard said felt like action choosing somebody else family even case know whole situation automatically assumed put stuff facebook disrespecting calling name yeah laughter\", \"sister guess sister month ago uh felt betrayed belittled little sister disrespecting type way adult yeah feeling situation um getting grown folks' business conversation mother guess overheard said felt like action choosing somebody else family even case know whole situation automatically assumed put stuff facebook disrespecting calling name yeah laughter come like stuff facebook one thing like either hate indirect comment like need talk come directly put facebook tell people pet peeve mine really like yeah mean fine good yeah believe people easily gullible gullible guess hearing lately believe anybody anything somebody say without really thinking without prove guess could say let made lot mistake wanna say regretted glad went younger getting older going situation um yeah believe people easily give people much chance yeah went cruise happy experience went cruise mexico family um sixteen six year ago yeah laughter yeah mean yeah guess laughter really want though um trying new thing seeing new view world um trying different type food um seeing government run thing guess um yeah plan go bahamas next year plan lot traveling next year actually yeah pretty good eh somewhat tired laughter kind fall asleep class whatnot yeah fault though um probably today yeah well\", \"new thing seeing new view world um trying different type food um seeing government run thing guess um yeah plan go bahamas next year plan lot traveling next year actually yeah pretty good eh somewhat tired laughter kind fall asleep class whatnot yeah fault though um probably today yeah well fell asleep late laughter fault um feel pretty happy right mhm friendly funny talkative um high school pretty close try talk often possible maybe week try see least every month mm everywhere laughter um yeah comment smarter learning stuff learned back day learning progressing come technology outside always computer phone play outside care nature little thing life yeah come mentality argue smarter 'cause school getting better gonna lie happened okay um last weekend guess right um um boyfriend make really happy hanging last weekend never really get see much yeah 'cause work school different schedule bad laughter um boyfriend knowing six month met mutual friend um l_a guess okay welcome bye\"]\n",
            "    # of sentences: 3\n",
            "0\n",
            "INFO:tensorflow:Saver not created because there are no variables in the graph to restore\n"
          ],
          "name": "stdout"
        },
        {
          "output_type": "stream",
          "text": [
            "INFO:tensorflow:Saver not created because there are no variables in the graph to restore\n"
          ],
          "name": "stderr"
        },
        {
          "output_type": "stream",
          "text": [
            "1\n",
            "INFO:tensorflow:Saver not created because there are no variables in the graph to restore\n"
          ],
          "name": "stdout"
        },
        {
          "output_type": "stream",
          "text": [
            "INFO:tensorflow:Saver not created because there are no variables in the graph to restore\n"
          ],
          "name": "stderr"
        },
        {
          "output_type": "stream",
          "text": [
            "2\n",
            "INFO:tensorflow:Saver not created because there are no variables in the graph to restore\n"
          ],
          "name": "stdout"
        },
        {
          "output_type": "stream",
          "text": [
            "INFO:tensorflow:Saver not created because there are no variables in the graph to restore\n"
          ],
          "name": "stderr"
        },
        {
          "output_type": "stream",
          "text": [
            "3\n",
            "4\n",
            "5\n",
            "1024\n",
            "Running... 13 / 47\n",
            "    Currently extracting elmo for participant 349\n",
            "    # of characters: 5\n",
            "[\"synch yes wonderful california mhm yes weather one 'em uh food um way uh everything centrally located mhm traffic smog um gotten really really overcrowded um would say lot try um travel um least twice every two year um exploring different thing able um different experience um thing nature know learning new thing um different culture uh like um learn different culture travel um get sense um know feedback different culture different area like um well came miami uh last year went miami week half really nice weather great first time going um um weather wonderful people really nice um really great experience went um particular event um um something every year um everyone come uh kinda party hang meet new people really fun um well trip would say um swimming beautiful beautiful beautiful um miami beach water wonderful yeah um child development mhm well um always interested child um since younger um babysat lot lot um experience kid young age grew older um realized something liked um uh um looked child development course thought something um like would enjoy en enjoy um started taking class um rest history yes um fifteen year august yeah dream job would say um\", 'since younger um babysat lot lot um experience kid young age grew older um realized something liked um uh um looked child development course thought something um like would enjoy en enjoy um started taking class um rest history yes um fifteen year august yeah dream job would say um become principal well something um thought um actually began step try get going um gonna back school gonna taking course um make happen dream mine yeah thank um gonna pretty difficult um uh several year schooling ahead um know definitely gonna challenge something dream job mine something willing willing um little bit think little bit shy time um outgoing well um think little bit would say laughter uh meditate big big meditator love meditating love um reading nice quiet peaceful time oh wow good good controlling temper um um series meditation um involves deep breathing um really centering feel heart beat um really feel everything body really really allows destress control anxiety anger thing nature yeah help lot oh wow recently um actually unfortunately last week husband um um way responds sometimes uh little aggressive um trying work respond well aggression totally tune um actually happened yeah felt frustrated um', 'beat um really feel everything body really really allows destress control anxiety anger thing nature yeah help lot oh wow recently um actually unfortunately last week husband um um way responds sometimes uh little aggressive um trying work respond well aggression totally tune um actually happened yeah felt frustrated um actually felt angered um frustrated felt saddened like arguing little bit emotion one time uh sigh situation wish would handled differently honestly situation like year pretty much kind um know kind mastered response um certain um stimulus kinda got hardest decision ever make well sixteen year old became teenage um mother pregnant sixteen um um lot pressure family um give child adoption um abort chose life one hardest decision hardest decision make sixteen year old teenage um teenager whether wanted continue kid teenager whether wanted embark raising life um child think hardest decision make um well mean um son almost nineteen nineteen year later um actually um glad one best thing ever choosing abort choosing choo prolife prochoice prolife um eh regretted decision um child love blessing blessing feel special mom yeah um easy uh definitely um difficulty um anything um end day really rewarding um get see life brought', 'nineteen nineteen year later um actually um glad one best thing ever choosing abort choosing choo prolife prochoice prolife um eh regretted decision um child love blessing blessing feel special mom yeah um easy uh definitely um difficulty um anything um end day really rewarding um get see life brought world raised become productive citizen go society start making way really rewarding really oh wow many way um first way wa uh first way actually listen son um accept feedback even like um allow express self fortunately unfortunately little um lot um conversation parent child um like told know um son give option allow express self allow give feedback um negative positive feel really important child develop voice young age um parent supportive kind um make sure nurture um kind um way develop know really really important different um lot way rite thank um sigh well depends um sometimes really depends depends time go sleep depends time woke lot factor um cannot give one answer um would say varies sometimes go sleep um fall asleep right away time go sleep might take awhile actually fall asleep varies feeling great lately really um cannot um say like said last week affect', \"depends depends time go sleep depends time woke lot factor um cannot give one answer um would say varies sometimes go sleep um fall asleep right away time go sleep might take awhile actually fall asleep varies feeling great lately really um cannot um say like said last week affect um know argument husband feeling really good know honestly feel happy every day know every day wake happy chance take advantage carpe diem seize day um feel blessed every morning wake blessing know realize people wake people homeless people going many situation really disheartening feel really really blessed every day thank um um nurturing patient loving friendly um kind reserved um well wish um already completed college master's degree sometimes wish little bit knowledgeable certain subject um change change anything would change two thing also would um little bit outgoing le introvert know regret regret um live learn um nothing perfect um everything gone made person today would change anything happy person today oh sigh man stay school stay school get education put first foremost relationship even career um really really uh would would told um stay focused get great education proud um come um teenage mother um statistic actually\"]\n",
            "    # of sentences: 5\n",
            "0\n",
            "INFO:tensorflow:Saver not created because there are no variables in the graph to restore\n"
          ],
          "name": "stdout"
        },
        {
          "output_type": "stream",
          "text": [
            "INFO:tensorflow:Saver not created because there are no variables in the graph to restore\n"
          ],
          "name": "stderr"
        },
        {
          "output_type": "stream",
          "text": [
            "1\n",
            "INFO:tensorflow:Saver not created because there are no variables in the graph to restore\n"
          ],
          "name": "stdout"
        },
        {
          "output_type": "stream",
          "text": [
            "INFO:tensorflow:Saver not created because there are no variables in the graph to restore\n"
          ],
          "name": "stderr"
        },
        {
          "output_type": "stream",
          "text": [
            "2\n",
            "INFO:tensorflow:Saver not created because there are no variables in the graph to restore\n"
          ],
          "name": "stdout"
        },
        {
          "output_type": "stream",
          "text": [
            "INFO:tensorflow:Saver not created because there are no variables in the graph to restore\n"
          ],
          "name": "stderr"
        },
        {
          "output_type": "stream",
          "text": [
            "3\n",
            "INFO:tensorflow:Saver not created because there are no variables in the graph to restore\n"
          ],
          "name": "stdout"
        },
        {
          "output_type": "stream",
          "text": [
            "INFO:tensorflow:Saver not created because there are no variables in the graph to restore\n"
          ],
          "name": "stderr"
        },
        {
          "output_type": "stream",
          "text": [
            "4\n",
            "5\n",
            "1024\n",
            "Running... 14 / 47\n",
            "    Currently extracting elmo for participant 354\n",
            "    # of characters: 3\n",
            "[\"synch hello yeah alright little tired uh live culver city um originally grew venice um beach fast driver um city lived utah really like anything else city um know many people live anymore uh traffic big home laughter uh country time uh seeing new n clear throat seeing new place fourteen went costa rica visit father two week last time costa rica um seeing father first time year definitely shocker um joy happy excited kinda scared decision mom's she'd planned trip yeah uh wanted art major understand math class among class thought wasting time decided really wanna moved back l_a really dream job uh would like selfemployed though right thinking going school become personal trainer really sure uh around new people reserved people know lot outgoing talkative laughter um relax go walk walk dog lot um call girlfriend wanna calm also uh meditation selfhypnosis try depends wha feeling upset calm trying really upset lot harder calm bring meditation selfhypnosis yeah um alright sometimes lose yell lose temper put hole wall yet sigh last night mom got argument buying ticket last night greyhound go utah going work week make little bit money needed buy ticket week advance want last night situation\", \"trying really upset lot harder calm bring meditation selfhypnosis yeah um alright sometimes lose yell lose temper put hole wall yet sigh last night mom got argument buying ticket last night greyhound go utah going work week make little bit money needed buy ticket week advance want last night situation last night wish blown gotten raged enraged situation 'cause escalated little sister close um fifteen year old turn sixteen day uh would anything world mom um fight push other's button believe view father belief succeed anything sad okay um wish could forget high school year sophomore year uh like high school sophomore year uh getting sober going uh drug rehab um sixteen got um sigh started different drug got hand guess mom trying get help want help kept uh escaping different place running away wanting place finally agreed go utah try get sober scrubbed_entry um best friend entire life ever since remember grew together used use drug sober year almost impossible um either sleep night get hour sleep well taking pill stopped smoking marijuana sleep past week yeah fun lay bed finally fall asleep early morning watch t_v late night netflix tired groggy lot likely anger lot likely come alright\", \"since remember grew together used use drug sober year almost impossible um either sleep night get hour sleep well taking pill stopped smoking marijuana sleep past week yeah fun lay bed finally fall asleep early morning watch t_v late night netflix tired groggy lot likely anger lot likely come alright weekend better girlfriend stayed place entire weekend happy um deep breath sigh irritable yes probably believe twelve first time diagnosed diagnosed multiple time though um recent time le year ago uh mom sought help saw unhappy became worried uh stopped june first graduated uh drug rehab program utah last year learned coping skill able calm angry easier know stay away trigger point getting away staying away angry becoming depressed person's willing change wanting two day ago girlfriend moment overwhelmed happiness guess laughter trustworthy um funny shit um outgoing smart athletic would um yeah wish short fused wish depressed wish feel like needed something help sleep wish completely dependable um younger father would uh hit dog front 'cause mad started hitting dog probably biggest thing xxx little remember sad yeah everyone something regret deep breath sigh naive hmm uh went hypnosis appointment hypnosis day ago really relaxing really calming feel like\"]\n",
            "    # of sentences: 3\n",
            "0\n",
            "INFO:tensorflow:Saver not created because there are no variables in the graph to restore\n"
          ],
          "name": "stdout"
        },
        {
          "output_type": "stream",
          "text": [
            "INFO:tensorflow:Saver not created because there are no variables in the graph to restore\n"
          ],
          "name": "stderr"
        },
        {
          "output_type": "stream",
          "text": [
            "1\n",
            "INFO:tensorflow:Saver not created because there are no variables in the graph to restore\n"
          ],
          "name": "stdout"
        },
        {
          "output_type": "stream",
          "text": [
            "INFO:tensorflow:Saver not created because there are no variables in the graph to restore\n"
          ],
          "name": "stderr"
        },
        {
          "output_type": "stream",
          "text": [
            "2\n",
            "INFO:tensorflow:Saver not created because there are no variables in the graph to restore\n"
          ],
          "name": "stdout"
        },
        {
          "output_type": "stream",
          "text": [
            "INFO:tensorflow:Saver not created because there are no variables in the graph to restore\n"
          ],
          "name": "stderr"
        },
        {
          "output_type": "stream",
          "text": [
            "3\n",
            "INFO:tensorflow:Saver not created because there are no variables in the graph to restore\n"
          ],
          "name": "stdout"
        },
        {
          "output_type": "stream",
          "text": [
            "INFO:tensorflow:Saver not created because there are no variables in the graph to restore\n"
          ],
          "name": "stderr"
        },
        {
          "output_type": "stream",
          "text": [
            "4\n",
            "INFO:tensorflow:Saver not created because there are no variables in the graph to restore\n"
          ],
          "name": "stdout"
        },
        {
          "output_type": "stream",
          "text": [
            "INFO:tensorflow:Saver not created because there are no variables in the graph to restore\n"
          ],
          "name": "stderr"
        },
        {
          "output_type": "stream",
          "text": [
            "5\n",
            "1024\n",
            "Running... 15 / 47\n",
            "    Currently extracting elmo for participant 359\n",
            "    # of characters: 5\n",
            "[\"yes okay laryngitis uh cleveland ohio uh seventy nine think laughter mhm um year something like le um uh lot um little narrow minded back republican laughter um well originally show business probably get away uh cleveland difficult first um used uh change like change much know uh meet new people figure make living well like um different opportunity different health consciousness movie um variety thing place go weather um driving congestion superficial attitude importance mhm um well lot came back vega visit relative met going mexico um next month um well seeing different culture like europe greece france p um italy um like going place mexico gonna sunny lying went last year went arizona never saw sedona really uh experience pure peaceful sedona yeah well sedona's energetic place um thought desert like flat kind desert looking rocky land flagstaff beautiful uh pine tree elevation high coming sedona beautiful day pain back went away month even though went bed late got early energy really um mystical life laughter sedona life um well stage boston um great loved um um friend laughing highest moment laughing hysterically well um know particular situation decorate special event um worked somebody regular basis would find\", 'pain back went away month even though went bed late got early energy really um mystical life laughter sedona life um well stage boston um great loved um um friend laughing highest moment laughing hysterically well um know particular situation decorate special event um worked somebody regular basis would find humor everything laugh cannot think particular situation laughing somebody tune sense humor uh get joke know get um enjoying moment um speech drama majored uh always interested um musical comedy child would sing along record living room always choir school uh went high school joined drama club always interest always big personality well laughter um know dream job anymore sixty know aspiration anymore towards towards anything right I would rather work laughter um relax travel um like creative way like independence kind right okay um well watch favorite television show recorded also buddhist buddhist um gosh since nineteen eighty eight um district leader community meeting really help center bring higher self get tense nervous chant um sometimes okay sometimes lot yes yes laughter le le though happening le le um yeah sometimes got um created difficulty well cannot c sigh cannot remember argument remember getting angry like trip vega driving', 'um district leader community meeting really help center bring higher self get tense nervous chant um sometimes okay sometimes lot yes yes laughter le le though happening le le um yeah sometimes got um created difficulty well cannot c sigh cannot remember argument remember getting angry like trip vega driving g_p_s said stay left lane stayed left lane got freeway brought onto ramp went back onto freeway four mile way got angry thirty second calm say okay alright gonna late know talk really argument anybody felt kind bad overreacted um mean life laughter manys yes um gosh many laughter wish somebody tell disappointing information like gonna use job something would take attitude um find something better okay move opposed feeling wrong know something wrong get angry know whole uh thought process really help situation often since started chanting know always high life condition laughter um find lot situation laughter hard make like know television buy something laughter um um guess gue guess hardest decision would one biggest consequence um um leaving comfort zone z place decision meant leave comfort place would difficult decision probably leaving relationship hard know get dependent relationship usually live til know leave something know hard make', \"make like know television buy something laughter um um guess gue guess hardest decision would one biggest consequence um um leaving comfort zone z place decision meant leave comfort place would difficult decision probably leaving relationship hard know get dependent relationship usually live til know leave something know hard make decision right move usually make decision end suffering longer mhm move um well uh hard um know pain back neck difficult stay asleep I would get um deep sleep um uh well okay hard say right cold two week taking nyquil putting sleep um sleeping better last night woke coughing hard tell happened um finding difficult stay asleep therefore tired day uh sometimes groggy sometimes irritable yeah really sure related pain back emotional thing sorry could repeat studied change behavior uh laughter mm mm oh happy last week laughter know well uh going um vega meet family family flying cleveland uh relative uh vega drove friend brother law's seventieth birthday went good time vega mean struggling cold fun nice well laughter uh think funny um feel say like um understand say understand laughter people understand think sometimes know take 'cause say something sometimes come come across sarcastic ju way talk\", \"uh relative uh vega drove friend brother law's seventieth birthday went good time vega mean struggling cold fun nice well laughter uh think funny um feel say like um understand say understand laughter people understand think sometimes know take 'cause say something sometimes come come across sarcastic ju way talk um um anger sometimes well know although really made think lot person know experience make handle make low really know high cannot really go back regret know wish certain thing happen whatever really matter today handle today wish well wish know le moment blurt know anger something wish would happen le anger part would happen le guess laughter happen le um give hope live moment um everything everything work everything work believe really nothing fear um fact past twenty year twenty year cultivating become become um compassionate person able um uh s understand people better see know suffering s suffering treat people respect problem suffering problem able live better life allowing affect taking personally time becoming compassionate person compassionate happy life happy okay\"]\n",
            "    # of sentences: 5\n",
            "0\n",
            "INFO:tensorflow:Saver not created because there are no variables in the graph to restore\n"
          ],
          "name": "stdout"
        },
        {
          "output_type": "stream",
          "text": [
            "INFO:tensorflow:Saver not created because there are no variables in the graph to restore\n"
          ],
          "name": "stderr"
        },
        {
          "output_type": "stream",
          "text": [
            "1\n",
            "INFO:tensorflow:Saver not created because there are no variables in the graph to restore\n"
          ],
          "name": "stdout"
        },
        {
          "output_type": "stream",
          "text": [
            "INFO:tensorflow:Saver not created because there are no variables in the graph to restore\n"
          ],
          "name": "stderr"
        },
        {
          "output_type": "stream",
          "text": [
            "2\n",
            "INFO:tensorflow:Saver not created because there are no variables in the graph to restore\n"
          ],
          "name": "stdout"
        },
        {
          "output_type": "stream",
          "text": [
            "INFO:tensorflow:Saver not created because there are no variables in the graph to restore\n"
          ],
          "name": "stderr"
        },
        {
          "output_type": "stream",
          "text": [
            "3\n",
            "INFO:tensorflow:Saver not created because there are no variables in the graph to restore\n"
          ],
          "name": "stdout"
        },
        {
          "output_type": "stream",
          "text": [
            "INFO:tensorflow:Saver not created because there are no variables in the graph to restore\n"
          ],
          "name": "stderr"
        },
        {
          "output_type": "stream",
          "text": [
            "4\n",
            "INFO:tensorflow:Saver not created because there are no variables in the graph to restore\n"
          ],
          "name": "stdout"
        },
        {
          "output_type": "stream",
          "text": [
            "INFO:tensorflow:Saver not created because there are no variables in the graph to restore\n"
          ],
          "name": "stderr"
        },
        {
          "output_type": "stream",
          "text": [
            "5\n",
            "1024\n",
            "Running... 16 / 47\n",
            "    Currently extracting elmo for participant 361\n",
            "    # of characters: 3\n",
            "['synch yes okay um santiago chile mm permanently nineteen seventy seven mm every three four year similar uh parent moved easy mm variety culture um uh thing many thing many option traffic um pressure live standard high standard expensive um sociology psychology deep breath uh uh got job social service field education felt education would much better equipped uh provide service population working yes tisk uh uh nonprofit organization provides um service woman um considered marginalized population mm like travel um travel lot oh sigh different culture different architect um knowledge acquire um variety food mm tisk okay mm tell one favorite place sedona arizona beautiful clean open um neither really shy uh force outgoing though think uh people perceive outgoing mm go uh facebook check email watch movie comme ci comme ca sometimes really good part time um feeling stressed uh temper outburst uh anger outburst know sigh um maybe um thirty day ago inadequate parenting skill xxx um ashamed angry confused uh um also felt like needed uh perspective understood four kid three boy one girl scrubbed_entry uh oldest son uh living mar vista menial job um creative artistic really good heart um uh third son second son', \"maybe um thirty day ago inadequate parenting skill xxx um ashamed angry confused uh um also felt like needed uh perspective understood four kid three boy one girl scrubbed_entry uh oldest son uh living mar vista menial job um creative artistic really good heart um uh third son second son uh son 'cause third child um life alabama daughter also menial job um uh moved daughter together uh daughter's mother um funny really smart um sigh wickedly clever uh third son youngest living los angeles living um working menial job kind finding extremely kind sensitive caring loving um tends uh pretty hard um lot opinion lot thing mm love parent parent easy um unconditional love feel child tolerating um shortcoming suffering feeling like regret done better job um think tell child love proud um much open communication uh accepting choice uh make even though might agree uh close sister um pretty distant mother um close younger father passed away twenty five college professor um think uh uh helped perceive different perspective uh human being um made altruistic um open le judgment judgmental poor unsuccessful deep breath mm think could made um better choice eh regarding father child stepfather maybe xxx\", 'pretty distant mother um close younger father passed away twenty five college professor um think uh uh helped perceive different perspective uh human being um made altruistic um open le judgment judgmental poor unsuccessful deep breath mm think could made um better choice eh regarding father child stepfather maybe xxx sigh um uh left kid um first marriage uh really uh immature unknowledgeable felt um could provide child made choice leave father period time um regret um thirty six diagnosed cancer um make choice uh leaving kid perspective father um uh got better able um fulltime mother yeah separation kid really hard separation kid really hard um feel ashamed guilt remorse um stable uh uh financial um hmm uh uh financial emotional psychological foundation might ability caused um problem today mm sometimes good really tired um sometimes good mm ineffective mm ineffective deep breath sigh think making conscientious effort um get organized uh um take um step uh physical health um wellbeing um getting forcing uh participate life yes um originally think diagnosed nineteen eighty maybe never formal diagnosis um tried commit suicide yes sometimes um uh longer uh truly suicidal mm know two thousand six two thousand seven deep']\n",
            "    # of sentences: 3\n",
            "0\n",
            "INFO:tensorflow:Saver not created because there are no variables in the graph to restore\n"
          ],
          "name": "stdout"
        },
        {
          "output_type": "stream",
          "text": [
            "INFO:tensorflow:Saver not created because there are no variables in the graph to restore\n"
          ],
          "name": "stderr"
        },
        {
          "output_type": "stream",
          "text": [
            "1\n",
            "INFO:tensorflow:Saver not created because there are no variables in the graph to restore\n"
          ],
          "name": "stdout"
        },
        {
          "output_type": "stream",
          "text": [
            "INFO:tensorflow:Saver not created because there are no variables in the graph to restore\n"
          ],
          "name": "stderr"
        },
        {
          "output_type": "stream",
          "text": [
            "2\n",
            "INFO:tensorflow:Saver not created because there are no variables in the graph to restore\n"
          ],
          "name": "stdout"
        },
        {
          "output_type": "stream",
          "text": [
            "INFO:tensorflow:Saver not created because there are no variables in the graph to restore\n"
          ],
          "name": "stderr"
        },
        {
          "output_type": "stream",
          "text": [
            "3\n",
            "INFO:tensorflow:Saver not created because there are no variables in the graph to restore\n"
          ],
          "name": "stdout"
        },
        {
          "output_type": "stream",
          "text": [
            "INFO:tensorflow:Saver not created because there are no variables in the graph to restore\n"
          ],
          "name": "stderr"
        },
        {
          "output_type": "stream",
          "text": [
            "4\n",
            "INFO:tensorflow:Saver not created because there are no variables in the graph to restore\n"
          ],
          "name": "stdout"
        },
        {
          "output_type": "stream",
          "text": [
            "INFO:tensorflow:Saver not created because there are no variables in the graph to restore\n"
          ],
          "name": "stderr"
        },
        {
          "output_type": "stream",
          "text": [
            "5\n",
            "1024\n",
            "Running... 17 / 47\n",
            "    Currently extracting elmo for participant 365\n",
            "    # of characters: 9\n",
            "[\"yes quite well feel good los angeles california mhm one um native born los angelinos uh home school ten year old son uh home maker five child married twenty two year mhm full time job huh uh somewhat went israel two month ago um pilgrimmage church yeah would say yes traveled bit uh well recently like two month ago went israel pilgrimmage gone nine day fabulous spent first five day chorazine near uh galilee place called uh uh mean name area chorazine uh stayed place called adonis galilea um house welcome um christian uh pilgrim well jewish pilgrim um enjoy like really important thing enjoy like meeting people course seeing history mean especially israel mean totally ancient um enjoy people think uh get better understanding different culture um live know life always open uh willing socialize remember younger brother always um joking saying would talk anybody talk anybody enjoy learning people um time like end day cooked dinner dinner together family um word game computer like play little um watch t_v cocktail husband relax know 'cause lot going stay late like watch crime drama um really mad probably lot um get frustrated example daughter clean room almost ever get angry\", \"people um time like end day cooked dinner dinner together family um word game computer like play little um watch t_v cocktail husband relax know 'cause lot going stay late like watch crime drama um really mad probably lot um get frustrated example daughter clean room almost ever get angry um term like really um getting like heatedly angry mean like little thing child know especially oldest child twenty one know confrontational nothing get like really angry felt um contributing society helping uh helping raise um responsible people guess um course love affection um fun excitement go stage go mean like really right stage child either adult teenager one eleven year old rest teenager adult really fun able um talk current event kind stuff going world know uh challenging discussion sort thing different level taking care baby know changing diaper kind stuff hardest thing twenty four seven um never parent know accept remember first first child um thinking know brought home hospital mean going back cannot um change mean guess could something horrible mean normal circumstance cannot change um permanent thing um uh way take away freedom way give different sort freedom mhm always sorry get said um thing that've\", \"know accept remember first first child um thinking know brought home hospital mean going back cannot um change mean guess could something horrible mean normal circumstance cannot change um permanent thing um uh way take away freedom way give different sort freedom mhm always sorry get said um thing that've positive influence life importantly church um faith uh also husband really um kind like logical thinking know grounded get emotional get upset something always balance likewise upset something able balance great gift life um think I would categorized somebody temper um occasionally occasionally get angry like like rarely outburst um likely know say feel let build know like husband rarely fight like argument yelling screaming anything like almost never happens like said type person communicates spot thinking something usually communicate right away instead letting build um usually arguing older son um know think know everything twenty one year old know mentality telling know know life go learn confident self uh self uh word self assured think know everything correct still lot learning mhm mhm think um many um spoiled live environment uh instant gratification um think gonna um detrimental future country um know given technology really way go back um\", 'mentality telling know know life go learn confident self uh self uh word self assured think know everything correct still lot learning mhm mhm think um many um spoiled live environment uh instant gratification um think gonna um detrimental future country um know given technology really way go back um hope um mean think country built uh hard work ethic uh hopefully next generation generation maintain um standard living know possible mm loving nurturing um funny laugh lot um caring honest thing uh mean best well actually best friend two people two sister grew um year took care mother alzheimers parent got sick close close relationship still um considered fourth sister would say best friend um love much good relationship yes mostly mm minorly depression anxiety um probably um um probably five six year mean life never diagnosed originally like teenager think first started anxiety um know depression kind go anxiety control um control great huh um think call free [flee] float free floating anxiety uh organic um reason word chemical imbalance brain feeling pretty good actually holiday great um good family gathering little stressed um making big decision right help parent um dad really sick um offered move big', 'anxiety control um control great huh um think call free [flee] float free floating anxiety uh organic um reason word chemical imbalance brain feeling pretty good actually holiday great um good family gathering little stressed um making big decision right help parent um dad really sick um offered move big home would lot renovation help obviously moving around throw um big big change looking forward really want parent alone get eighty get closer death want family um easy usually life think always mean always um least wake least middle night um go bathroom basically uh mean sleep well mean sleep well sometimes wake like really early morning cannot go back sleep get maybe work computer go back bed go back sleep idepends schedule kid school early lot factor yeah sometimes mm probably basically think might complain bit like oh tired body hurt whatever know um think overall probably kid know tell kid oh really tired understand older daughter really helpful daughter try cook dinner something like know may pitch little bit uh really really anything significant huh um actually yes feel like therapy useful um well uh situation daughter um also suffers anxiety um therapy time recently finish group six', \"tell kid oh really tired understand older daughter really helpful daughter try cook dinner something like know may pitch little bit uh really really anything significant huh um actually yes feel like therapy useful um well uh situation daughter um also suffers anxiety um therapy time recently finish group six month um uh group d_b_t called like first time first time documenting using teenager um really good helpful live moment know actual physical mental um strategy keep uh keep mind going crazy know worrying thing know case kid tried harm whatever um focus therapy really good husband going daughter really um really informational really helpful think oh daughter um bad way know suffering lot knew um acted um like really joyful happy would say probably probably would israel renewed marriage vow knaan uh um know wedding kana took place really moving beautiful um happened anniversary left anniversary day flew israel right time beautiful meaningful would say know like uh joyful occasion know like christmas know family gathering know dad's birthday turned eighty three christmas eve know kinda thing um um interesting question would say um get like thing done need like lot chore [ch] lot either work around house errand\", \"right time beautiful meaningful would say know like uh joyful occasion know like christmas know family gathering know dad's birthday turned eighty three christmas eve know kinda thing um um interesting question would say um get like thing done need like lot chore [ch] lot either work around house errand run get done feel like sense accomplishment know much like mean worked many year administrative manager u_c_l_a um know get project done get whatever month end stuff done lot different thing meet deadline uh feeling like yeah got done know think would know um recent um way feeling good feeling know like feeling accomplished dream job hm think already lived also birth doula um yeah um attended lot birth really family friend um rewarding thing could possibly ask involved birth bringing new life world would say probably dream job know trained much know managerial stuff um awesome awesome work hospital anymore actually hospital worked closed um like said family member um attended friend mine's birth accident uh o_b child um came bring food husband labor know close friend labor picked quite bit got know wanted stay want leave planned first birth attended outside know giving birth whole different experience really\", \"anymore actually hospital worked closed um like said family member um attended friend mine's birth accident uh o_b child um came bring food husband labor know close friend labor picked quite bit got know wanted stay want leave planned first birth attended outside know giving birth whole different experience really interesting interested possibly study un nurse midwifery discovered thing called doula really give even lot hand uh one one contact patient like trained hospital inglewood um fifteen year ago 'cause son fifteen year old sixteen year old um yeah um well challenging term hour depends long woman's labor uh know also like always tell friend family want doula cannot guarantee hundred percent business way like back doula case sick unavailable somebody else fill um far woman that've asked able reason um uh one missed one friend mine church wanted go second baby first labor went fast even call [laughter] middle night like two hour labor would even called would time [laughter] um went really fast know um yeah able attend birth people asked um life job uh probably birth mean birth child um like extreme sense joy excitement relief course pain like matter know going forward like something cannot explain\", \"night like two hour labor would even called would time [laughter] um went really fast know um yeah able attend birth people asked um life job uh probably birth mean birth child um like extreme sense joy excitement relief course pain like matter know going forward like something cannot explain awesome give birth experienced way done um natural last child via c_section um experience um third child kind crazy nurse little psychotic laugh labor funny um doctor mean third child born quickly broke water oof husband doctor got lot trouble like two contraction daughter born bed great 'cause go labor um sure Were happy fill lot paper work would give mysef ten twenty year ago um ten twenty year ago probably um relaxed um like feel age um concern worry uh worry people think worry know know like noticed daughter's oh mom cannot wear people gonna say say care know still frame mind oh mom dress like dress like whatever would probably wisdom achieve age see life many thing important life worrying little thing proud life proud um probably family husband child mean fact stayed married tact family um kid see every day friend suffer come divorced family single parent\"]\n",
            "    # of sentences: 9\n",
            "0\n",
            "INFO:tensorflow:Saver not created because there are no variables in the graph to restore\n"
          ],
          "name": "stdout"
        },
        {
          "output_type": "stream",
          "text": [
            "INFO:tensorflow:Saver not created because there are no variables in the graph to restore\n"
          ],
          "name": "stderr"
        },
        {
          "output_type": "stream",
          "text": [
            "1\n",
            "INFO:tensorflow:Saver not created because there are no variables in the graph to restore\n"
          ],
          "name": "stdout"
        },
        {
          "output_type": "stream",
          "text": [
            "INFO:tensorflow:Saver not created because there are no variables in the graph to restore\n"
          ],
          "name": "stderr"
        },
        {
          "output_type": "stream",
          "text": [
            "2\n",
            "3\n",
            "4\n",
            "5\n",
            "1024\n",
            "Running... 18 / 47\n",
            "    Currently extracting elmo for participant 373\n",
            "    # of characters: 4\n",
            "[\"synch yes pretty good grew boston thirty year ago yep often maybe year sometimes le oh love living l_a ever wanna live anywhere else well came go college wanted far away parent weather good part uh easy well maybe somewhat easy beginning first week really hard new environment away everybody knew week great broadcast journalism well something I would wanted since twelve everything time twelve went college sort pursuit dream laughter well kind long story got laid first job twenty done work realized really wanted cutthroat business really suited make happy yep sigh dream job working football player helping recover concussion injury deep breath well work hard good hard part finding right people making connection work used travel much right love seeing different place different thing like love going place like favorite trip went australia thirtieth birthday 'cause wanted lose thirtieth birthday crossed international date line went really small sigh place uh west coast australia called shark's bay native dolphin live swim isolated part got whole week really pretty much wild dolphin come swim amazing beautiful beautiful spot world shy sigh deep breath sigh hmm good question um partly first thing think 'cause always way maybe excuse know um deep\", \"place uh west coast australia called shark's bay native dolphin live swim isolated part got whole week really pretty much wild dolphin come swim amazing beautiful beautiful spot world shy sigh deep breath sigh hmm good question um partly first thing think 'cause always way maybe excuse know um deep breath prefer quiet I would rather fewer people lot people sigh deep breath watch t_v sigh lot probably best alternative something also walk beach 'cause live close beach one favorite thing relax deep breath pretty good depends situation time pretty good deep breath um think tend argue people think get mad situation people directly sigh sigh hmm sigh know feel guilty anything moment sure one moment deep breath noise people's noise make really mad um live across street bar people rude obnoxious considerate neighbor make really mad sigh yeah sigh hmm sigh well one come mind top head bought condo felt like really hard decision time know know could sure money um felt like really difficult decision hindsight course turned great decision time really difficult pretty easy sleep pretty well sigh deep breath part good really worried money sigh moment biggest cannot say like great 'cause worried know also confident\", \"felt like really hard decision time know know could sure money um felt like really difficult decision hindsight course turned great decision time really difficult pretty easy sleep pretty well sigh deep breath part good really worried money sigh moment biggest cannot say like great 'cause worried know also confident thing gonna work nope sigh nope sigh hmm sigh know cannot remember mean feel super happy time feel unhappy either sort like uh even keel well got go um friend work motion picture academy get see xxx oscarnominated movie scrubbed_entry one night uh really enjoyed catching seeing pleasant sigh deep breath think would say um reliable loyal sigh considerate thoughtful deep breath sigh really worked hard think lot thing maybe would differently nothing really regret um deep breath well think thing um sigh like worth wasting energy think thing regret lot xxx regret thing deep breath oh good question sigh um sigh worry small stuff save money laughter like deep breath well uh know normal thing like I would lose weight would um uh sigh think little fearless maybe sigh little bold think deep breath well selfemployed work time laughter ideal weekend lot client um something enjoy um would would\", \"um sigh worry small stuff save money laughter like deep breath well uh know normal thing like I would lose weight would um uh sigh think little fearless maybe sigh little bold think deep breath well selfemployed work time laughter ideal weekend lot client um something enjoy um would would ideal point weekend really busy deep breath really able take care know done pretty much everything said wanted done regret thing nothing really eh un feel undone life sure plenty thing still wanna um feel like done said gonna deep breath yeah sigh great well okay um parent deceased sister brother um feel closer brother sister um live east coast live l_a um ha sister two girl feel close niece although talk much used 'cause teenager thing mind deep breath um probably teacher person learned holistic body work really like sigh model work way like good role model way hold work way life life deep breath um pretty close know best friend know call time need um sigh put good mood sigh usually friend going dinner um sigh yeah spending time friend okay thanks sigh bye\"]\n",
            "    # of sentences: 4\n",
            "0\n",
            "INFO:tensorflow:Saver not created because there are no variables in the graph to restore\n"
          ],
          "name": "stdout"
        },
        {
          "output_type": "stream",
          "text": [
            "INFO:tensorflow:Saver not created because there are no variables in the graph to restore\n"
          ],
          "name": "stderr"
        },
        {
          "output_type": "stream",
          "text": [
            "1\n",
            "INFO:tensorflow:Saver not created because there are no variables in the graph to restore\n"
          ],
          "name": "stdout"
        },
        {
          "output_type": "stream",
          "text": [
            "INFO:tensorflow:Saver not created because there are no variables in the graph to restore\n"
          ],
          "name": "stderr"
        },
        {
          "output_type": "stream",
          "text": [
            "2\n",
            "INFO:tensorflow:Saver not created because there are no variables in the graph to restore\n"
          ],
          "name": "stdout"
        },
        {
          "output_type": "stream",
          "text": [
            "INFO:tensorflow:Saver not created because there are no variables in the graph to restore\n"
          ],
          "name": "stderr"
        },
        {
          "output_type": "stream",
          "text": [
            "3\n",
            "INFO:tensorflow:Saver not created because there are no variables in the graph to restore\n"
          ],
          "name": "stdout"
        },
        {
          "output_type": "stream",
          "text": [
            "INFO:tensorflow:Saver not created because there are no variables in the graph to restore\n"
          ],
          "name": "stderr"
        },
        {
          "output_type": "stream",
          "text": [
            "4\n",
            "INFO:tensorflow:Saver not created because there are no variables in the graph to restore\n"
          ],
          "name": "stdout"
        },
        {
          "output_type": "stream",
          "text": [
            "INFO:tensorflow:Saver not created because there are no variables in the graph to restore\n"
          ],
          "name": "stderr"
        },
        {
          "output_type": "stream",
          "text": [
            "5\n",
            "1024\n",
            "Running... 19 / 47\n",
            "    Currently extracting elmo for participant 378\n",
            "    # of characters: 3\n",
            "['synch yes good born lynwood like sightseeing clothing store well thing graffiti um basically wrongdoing criminal activity bad stuff traveled past um really go state basically budget money money budget expense limit go another state studied automotive technology welding passion car since little uh always basically wanted work car pretty yeah really love working car dream job would probably probably automotive shop barber shop basically probably master welder consider little outgoing like fun uh fun friend able anything please basically smoke free time sometimes lay watch movie listen music basically hip hop music maybe good comedy movie uh fairly easy really let go get let bad side get emotion probably earlier today girlfriend wife basically gonna go eat felt desperate answer tell wanted go eat since would make mind kinda made uneasy probably relax stay calm outburst raise voice wrongdoing past basically anything could changed mm better basically uh something better job maybe uh job greatest hardest decision would uh plan family probably uh basically making sure situation supposed talking partner really ready begin family clear throat basically love bond wife um basically might like crash accident uh basically pretty horrific scary experience uh almost crashed freeway barrier car spun', \"better job maybe uh job greatest hardest decision would uh plan family probably uh basically making sure situation supposed talking partner really ready begin family clear throat basically love bond wife um basically might like crash accident uh basically pretty horrific scary experience uh almost crashed freeway barrier car spun basically almost ended little hill pretty scary experience far uh car able control vehicle hoping gonna okay fairly easy except exc long good dinner early day fairly would go sleep pretty good restless little stressed constant thing would mind lack energy maybe xxx pretty relaxed calm really old day day try stay happy relaxed calm try stay positive energy diagnosed diagnosed depression um earlier today food um pretty close bonded good talk lot necessary stuff try help time uh father sister mother well father's long mother helped much possible school clothing hmm uh take sister basically graduated college like mentor kind look far graduating school everything try keep going mm pretty fun outbursting mind basically smarter kinda seem advanced thinking compared kid probably thinking back old age learn thing little quicker uh majorly thing could thought could done better little differently uh like building car differently um getting traffic violation\", 'kind look far graduating school everything try keep going mm pretty fun outbursting mind basically smarter kinda seem advanced thinking compared kid probably thinking back old age learn thing little quicker uh majorly thing could thought could done better little differently uh like building car differently um getting traffic violation basically uh kinda wish would nota sped intersection gotten ticket received record yeah would basically realize first time try mistake happen uh persona kind far uh whenever angry find way easygoing maybe try much negative thinker time thing get little harder clear throat uh basically somebody accuses wrongdoing probably done um basically police officer tell done wrong clearly know done anything wrong probably earlier year basically police officer pulled thinking drunk driver made feel really really dumb tried accuse wrongdoing drinking smoking cause tired night twelve a_m therefore trying looked probably little sleepy uh fun cool easygoing good attitude um loyal l xxx loyal um drifting drifting two forty s_x um spending quality time wife kid um basically everything done graduated high school thank bye']\n",
            "    # of sentences: 3\n",
            "0\n",
            "INFO:tensorflow:Saver not created because there are no variables in the graph to restore\n"
          ],
          "name": "stdout"
        },
        {
          "output_type": "stream",
          "text": [
            "INFO:tensorflow:Saver not created because there are no variables in the graph to restore\n"
          ],
          "name": "stderr"
        },
        {
          "output_type": "stream",
          "text": [
            "1\n",
            "INFO:tensorflow:Saver not created because there are no variables in the graph to restore\n"
          ],
          "name": "stdout"
        },
        {
          "output_type": "stream",
          "text": [
            "INFO:tensorflow:Saver not created because there are no variables in the graph to restore\n"
          ],
          "name": "stderr"
        },
        {
          "output_type": "stream",
          "text": [
            "2\n",
            "INFO:tensorflow:Saver not created because there are no variables in the graph to restore\n"
          ],
          "name": "stdout"
        },
        {
          "output_type": "stream",
          "text": [
            "INFO:tensorflow:Saver not created because there are no variables in the graph to restore\n"
          ],
          "name": "stderr"
        },
        {
          "output_type": "stream",
          "text": [
            "3\n",
            "INFO:tensorflow:Saver not created because there are no variables in the graph to restore\n"
          ],
          "name": "stdout"
        },
        {
          "output_type": "stream",
          "text": [
            "INFO:tensorflow:Saver not created because there are no variables in the graph to restore\n"
          ],
          "name": "stderr"
        },
        {
          "output_type": "stream",
          "text": [
            "4\n",
            "INFO:tensorflow:Saver not created because there are no variables in the graph to restore\n"
          ],
          "name": "stdout"
        },
        {
          "output_type": "stream",
          "text": [
            "INFO:tensorflow:Saver not created because there are no variables in the graph to restore\n"
          ],
          "name": "stderr"
        },
        {
          "output_type": "stream",
          "text": [
            "5\n",
            "1024\n",
            "Running... 20 / 47\n",
            "    Currently extracting elmo for participant 384\n",
            "    # of characters: 1\n",
            "['good atlanta georgia um parent um love like weather like opportunity um yes um took minute somewhat easy congestion um took business administration uh yeah break right plan going back uh next semester uh probably open business um specific reason travel lot pretty local year little bit specific answer like reading book enjoy enjoy cooking um exercising great pretty good um yeah um probably two week ago uh frustrated um like bias um like um someone say gonna something uh somewhat friendship like play sport enjoy uh going friend family playing game grandparent parent um yeah mean always given great advice always kept real real close would say going college right high school well would done know would probably field career field uh taking job street sure could yes sure maybe graduated high school well uh um got diploma diploma finished school met requirement high school approved go whatever wanted living um alright could better uh pretty easy uh yes repeat irritated um lazy um day weather great sun different le le um interested uh shut uh two week ago uh yeah friend mine annoying cut [laughter] alright friendship chocolate tall thin thank bye bye']\n",
            "    # of sentences: 1\n",
            "0\n",
            "INFO:tensorflow:Saver not created because there are no variables in the graph to restore\n"
          ],
          "name": "stdout"
        },
        {
          "output_type": "stream",
          "text": [
            "INFO:tensorflow:Saver not created because there are no variables in the graph to restore\n"
          ],
          "name": "stderr"
        },
        {
          "output_type": "stream",
          "text": [
            "1\n",
            "INFO:tensorflow:Saver not created because there are no variables in the graph to restore\n"
          ],
          "name": "stdout"
        },
        {
          "output_type": "stream",
          "text": [
            "INFO:tensorflow:Saver not created because there are no variables in the graph to restore\n"
          ],
          "name": "stderr"
        },
        {
          "output_type": "stream",
          "text": [
            "2\n",
            "INFO:tensorflow:Saver not created because there are no variables in the graph to restore\n"
          ],
          "name": "stdout"
        },
        {
          "output_type": "stream",
          "text": [
            "INFO:tensorflow:Saver not created because there are no variables in the graph to restore\n"
          ],
          "name": "stderr"
        },
        {
          "output_type": "stream",
          "text": [
            "3\n",
            "INFO:tensorflow:Saver not created because there are no variables in the graph to restore\n"
          ],
          "name": "stdout"
        },
        {
          "output_type": "stream",
          "text": [
            "INFO:tensorflow:Saver not created because there are no variables in the graph to restore\n"
          ],
          "name": "stderr"
        },
        {
          "output_type": "stream",
          "text": [
            "4\n",
            "5\n",
            "1024\n",
            "Running... 21 / 47\n",
            "    Currently extracting elmo for participant 387\n",
            "    # of characters: 4\n",
            "[\"synch yes okay santa monica uh people mostly sigh well people also laughter laughter uh lot well cannot afford travel much I would like mm english major uh liked reading lot time sounded like best thing well fun thing study anymore oh guess dream job would manage uh soccer club oh it'd pretty much impossible um experience laughter field shy play music sigh annoyed know um annoyed cannot think anything know think yeah anything specifically uh pretty good would say good lose temper often mm last time argued someone sigh cannot remember uh yeah lot conflict people cannot remember last time argued someone sigh well let u see um little kid outside grandparents' uh restaurant robbery saw well saw robber leaving um yeah maybe would want erase memory could well know happening moment feel bad time felt bad afterward um know mother upset mother call police disturbing see know really disturbed way time actually happened really upset aftermath mm wa laughter sigh situation sniffle sigh know um well think um probably million situation would laughter wish would handled differently cannot think one particular um maybe think kid um well think let u see well okay good one um marry girl\", 'disturbed way time actually happened really upset aftermath mm wa laughter sigh situation sniffle sigh know um well think um probably million situation would laughter wish would handled differently cannot think one particular um maybe think kid um well think let u see well okay good one um marry girl think married big one yeah well w together four year uh think took granted uh commit um long time ago many year realize well know realization think yeah wife meant made selfishness uh fear commitment time felt like uh done smart thing would sigh well last thing think would say feel guilty sigh feel lot guilt friendship feel like good friend could time really know exactly uh could better friend feel little guilty cannot help people anyone problem cannot never feel like help anyone know problem oh happens every day guess happens everyone know everyone relative friend feel like really give anything help life know well um distant cordial uh uh know word kept surface level think know think family really know well uh know well either true sense yeah think lot family way bother mine way oh easy sleep lot um yeah problem sleeping really would say way way', \"give anything help life know well um distant cordial uh uh know word kept surface level think know think family really know well uh know well either true sense yeah think lot family way bother mine way oh easy sleep lot um yeah problem sleeping really would say way way think whole life even little kid slept lot also think changed much mm pretty like said way could say yeah feeling really always way hard say consistently way yes long oh long time ago um ten year old around uh missing lot school wanna go school eventually uh sent therapist psychologist psychiatrist uh went gone therapy since teenager well feel helping one day decided wanna go anymore eh uh well like said feel helped um guess know affected much would say disturbing mm well feel pretty happy whenever see nephew uh best friend's child feel like nephew niece pretty happy around uh ideal weekend would um would travel tr would probably traveling would really enjoy getting city every weekend um eh going anywhere really anywhere city uh seeing way different people live people different wherever go really think people different go different place interact see world different food um also\", 'around uh ideal weekend would um would travel tr would probably traveling would really enjoy getting city every weekend um eh going anywhere really anywhere city uh seeing way different people live people different wherever go really think people different go different place interact see world different food um also like historical place history enjoy um visiting anywhere sort historical significance laughter oh taken trip long time um last trip really took went france year ago wedding really good time always wanted go paris got go paris went little town um hour away paris actual wedding yeah really fun think church wedding uh like thousand year old yeah really cool trip sigh sigh like know laughter know would would considered memorable uh memorable experience probably memorable experience guess would nothing particular living girl told earlier think gotten married um something stay memory saying memorable still um eh something think know well know never forget mm particular day particular moment know oh lot um wish could healthier one thing uh energetic um friendly well think pretty friendly uh outgoing social uh social um two thing mainly guess would like social enthusiastic healthier oh good question best friend would best friend describe']\n",
            "    # of sentences: 4\n",
            "0\n",
            "INFO:tensorflow:Saver not created because there are no variables in the graph to restore\n"
          ],
          "name": "stdout"
        },
        {
          "output_type": "stream",
          "text": [
            "INFO:tensorflow:Saver not created because there are no variables in the graph to restore\n"
          ],
          "name": "stderr"
        },
        {
          "output_type": "stream",
          "text": [
            "1\n",
            "INFO:tensorflow:Saver not created because there are no variables in the graph to restore\n"
          ],
          "name": "stdout"
        },
        {
          "output_type": "stream",
          "text": [
            "INFO:tensorflow:Saver not created because there are no variables in the graph to restore\n"
          ],
          "name": "stderr"
        },
        {
          "output_type": "stream",
          "text": [
            "2\n",
            "3\n",
            "4\n",
            "5\n",
            "1024\n",
            "Running... 22 / 47\n",
            "    Currently extracting elmo for participant 396\n",
            "    # of characters: 3\n",
            "[\"yes fine yes weather weather mainly yeah main weather sorry people well people stuff like people okay cutting much used um used school used travel lot place conference thing like school right later get back school travel right doubt enjoy traveling uh good question actually pretty good um studied physic aerospace engineering physic mainly yes actually right teach community college physic astronomy uh still research physic also like type thing going back grad school hopefully nervous sometimes questionnaire impressive professor place like u_s_c u_c l_a like professor three hour work week grad student rest actually pretty good sigh lot people first one guess physic teacher a_p physic teacher high school even though led engineer instead physic major um still good influence told know first one taught school grade learning okay pretty good think single get many argument um probably brother always like uh play video game together know pretty old play video game actually pretty good um probably something like getting angry trying defend right fairly close um see pretty pretty often parent see couple time week getting older helping grocery thing like brother see amount amo time sister tutor kid nephew uh see 'em week also interesting yes spend\", \"play video game actually pretty good um probably something like getting angry trying defend right fairly close um see pretty pretty often parent see couple time week getting older helping grocery thing like brother see amount amo time sister tutor kid nephew uh see 'em week also interesting yes spend long period time math reading talking anybody introverted guess play video game work work think lot try least roll eye told bad thing um think deep breath bad parenting basically parent selfcentered unlike previous generation kid want parent fo parent parent personal per personal opinion sigh um guess scrubbed_entry um scrubbed_entry scrubbed_entry thank really best friend introverted remember biased obviously really good math really sure cannot saying cannot get better math thing get reach certain confidence matter need learn math always figure um patient think disciplined spend spend many hour many many many hour reading book might important might important anyway type thing good workout well video game small little thing like um really happy research type thing mathematical physic type thing go well must put mood mo put good mood thank right fact research make far research wise interesting um start school read einstein thing like general xxx hero\", 'anyway type thing good workout well video game small little thing like um really happy research type thing mathematical physic type thing go well must put mood mo put good mood thank right fact research make far research wise interesting um start school read einstein thing like general xxx hero particle physic idea know complicated thing like quantum mechanic still realized interested sure actually make eventually step lot time go wish time go get closer closer eventually make goal eventually realize good einstein research physic add mass knowledge science impressive see kid okay um week ago got good grade class thank yes briefly many year ago ag yes know always growing always thought always thought dream kid went um national guard think eighteen nineteen got commissioned twenty twenty one year left twenty twenty two yes really think think something grew something abo something grew already expecting change much graduate school physic nope depends workout really hard night bef day day workout pretty hard bad workout know eh hard guess moderately thank yes okay probably like normal think happy everything still pretty okay still function maybe slightly sorry yes yes change thought um applying grad school awhile slightly apprehensive happy look']\n",
            "    # of sentences: 3\n",
            "0\n",
            "INFO:tensorflow:Saver not created because there are no variables in the graph to restore\n"
          ],
          "name": "stdout"
        },
        {
          "output_type": "stream",
          "text": [
            "INFO:tensorflow:Saver not created because there are no variables in the graph to restore\n"
          ],
          "name": "stderr"
        },
        {
          "output_type": "stream",
          "text": [
            "1\n",
            "INFO:tensorflow:Saver not created because there are no variables in the graph to restore\n"
          ],
          "name": "stdout"
        },
        {
          "output_type": "stream",
          "text": [
            "INFO:tensorflow:Saver not created because there are no variables in the graph to restore\n"
          ],
          "name": "stderr"
        },
        {
          "output_type": "stream",
          "text": [
            "2\n",
            "INFO:tensorflow:Saver not created because there are no variables in the graph to restore\n"
          ],
          "name": "stdout"
        },
        {
          "output_type": "stream",
          "text": [
            "INFO:tensorflow:Saver not created because there are no variables in the graph to restore\n"
          ],
          "name": "stderr"
        },
        {
          "output_type": "stream",
          "text": [
            "3\n",
            "INFO:tensorflow:Saver not created because there are no variables in the graph to restore\n"
          ],
          "name": "stdout"
        },
        {
          "output_type": "stream",
          "text": [
            "INFO:tensorflow:Saver not created because there are no variables in the graph to restore\n"
          ],
          "name": "stderr"
        },
        {
          "output_type": "stream",
          "text": [
            "4\n",
            "5\n",
            "1024\n",
            "Running... 23 / 47\n",
            "    Currently extracting elmo for participant 399\n",
            "    # of characters: 1\n",
            "[\"sure okay small town outside cinncinatti ohio three year ago uh year small uh came work grad school yeah trying easy people suck prejudice different weather flashiness ridiculously rich everybody um selfishness people music um guess kinda like thing love um singing metropolitan opera pretty hard laughter shy always laughter take walk uh okay uh three day ago dude cut driving laid horn got pissed got pissed mm really people really shit l_a wanna act mad anything know could uh done prepare work lot harder last set uh interview fall know really really schedule performing schedule prep schedule uh term bringing like piece music people know could spend like twelve hour day working stuff training music um yeah uh always always something yeah mm uh grad school audition juilliard stressful like top ten people past fifty year field room either love hate yeah pretty shitty uh deciding marry fiancee pursue career instead know bad um fairly close guess cannot see cannot see shoe laughter uh little bit uh different place went san diego like month half ago true hm um know like finishing high school glad leaving easy 'cause cannot sleep know everything work usual lot plate lot order get\"]\n",
            "    # of sentences: 1\n",
            "0\n",
            "INFO:tensorflow:Saver not created because there are no variables in the graph to restore\n"
          ],
          "name": "stdout"
        },
        {
          "output_type": "stream",
          "text": [
            "INFO:tensorflow:Saver not created because there are no variables in the graph to restore\n"
          ],
          "name": "stderr"
        },
        {
          "output_type": "stream",
          "text": [
            "1\n",
            "INFO:tensorflow:Saver not created because there are no variables in the graph to restore\n"
          ],
          "name": "stdout"
        },
        {
          "output_type": "stream",
          "text": [
            "INFO:tensorflow:Saver not created because there are no variables in the graph to restore\n"
          ],
          "name": "stderr"
        },
        {
          "output_type": "stream",
          "text": [
            "2\n",
            "3\n",
            "4\n",
            "5\n",
            "1024\n",
            "Running... 24 / 47\n",
            "    Currently extracting elmo for participant 405\n",
            "    # of characters: 2\n",
            "[\"yes great originally venezuela two year old yes um family anymore uh uh sibling live florida nowadays wow many thing like l_a like weather like people overall think weather lucky traffic uh traveled meeting new people new learning new culture enjoy language uh traveling traveled italy uh lived seven half year studied abroad uh visit country europe real good time um probably traveling uh rail along europe getting know city way totally outgoing meditation um usually practice becomes natural body's able um sense feeling ease naturally um breathe start meditation process mm could hard practice every day able quiet mind however um meditate long time becomes practice like going gym drinking daily water um naturally learn meditate think pretty good typically argue uh remember instance arguing someone recently maybe freeway taking wrong exit laughter would probably paid attention uh uh probably g_p_s confident hardest decision ever make uh guess moving back europe l_a coming back home laughter miss friend time come back done schooling time come back home see parent join family love family core life nephew uh six year old love life love teacher uh parent definitely mentor well think anything bad want erase memory um cannot think sorry\", \"back europe l_a coming back home laughter miss friend time come back done schooling time come back home see parent join family love family core life nephew uh six year old love life love teacher uh parent definitely mentor well think anything bad want erase memory um cannot think sorry laughter guilty think anything feel guilty however sometimes feel guilty eat lot cooky 'cause good health laughter easy sleep like baby hit bed laughter feeling good felt really happy two month ago went friend's birthday celebrated casino city away los angeles san bernadino playing twenty five cent quarter like seventy five dollar machine cool laughter uh outgoing always planning something exciting um outspoken mm know oh always want life short um always keep learning uh want lose two pound blessed never really felt anyone make feel bad usually interact well everyone meet blessed everyone nice great listener uh spend quality time friend family uh quantity necessarily quality time supportive love pretty much listen listen listen sometimes people need went school um two degree um business management um uh degree also language degree learned language little uh opportunity travel easier keep learning language uh business part enjoy interacting people creating um\"]\n",
            "    # of sentences: 2\n",
            "0\n",
            "INFO:tensorflow:Saver not created because there are no variables in the graph to restore\n"
          ],
          "name": "stdout"
        },
        {
          "output_type": "stream",
          "text": [
            "INFO:tensorflow:Saver not created because there are no variables in the graph to restore\n"
          ],
          "name": "stderr"
        },
        {
          "output_type": "stream",
          "text": [
            "1\n",
            "2\n",
            "3\n",
            "4\n",
            "5\n",
            "1024\n",
            "Running... 25 / 47\n",
            "    Currently extracting elmo for participant 407\n",
            "    # of characters: 2\n",
            "[\"synch yes feel great saint louis missouri born raised yes couple time recently moved back two month ago saint louis quite slower uh take care good friend ill thank jumped right back bandwagon climate restaurant dirt traffic yes uh road map following road map maybe driving well recently got back uh colorado went mountain saw snow enjoyed little fine dining colorado uh actually going um horseback riding royal gorge yes would outgoing people person laughter listen jazz music also draw probably mastered controlling temper age mm would husband financial issue unsure un unsure unstable like loud talking mm loud emotion like sit methodically logically talk thing raise voice hmm recently illness friend wish would handled sister little differently far thing wanted really needed tell otherwise way really needed done took advice um engaged fifteen year ago recently called guess five year ago told diagnosed cancer always maintained friendship asked husband could go help time need um lot thing one good friend mine sister moved well two son wanted start career three love weather think moment laughter mhm uh would death youngest son know start far born premature since born early five month versus nine made decision take life support 'cause\", \"could go help time need um lot thing one good friend mine sister moved well two son wanted start career three love weather think moment laughter mhm uh would death youngest son know start far born premature since born early five month versus nine made decision take life support 'cause getting better would hardest decision made husband mhm um really wanna erase anything memory actually um learn experience gain knowledge thing happen s one put thing erase thing mind categorize place memory uh close lost mother young age uh u sibling father still remain close mm father oh health conscious energetic exercise e uh exercise spirituality uh want well contentment portrays would like well problem confused um skittish guess would word lately fine f fine except fact um good friend helping take care got hospital little hectic last two day um lately um excited um good friend good company say um got back concert outside enjoyable music good friend ate well enjoyed moment uh giving spiritual normal person know laughter um cannot think anything I would wanna change except maybe exercise little cannot recall one hand save money try accomplish everything started cosmetology went um college college mathematics finance traveling\"]\n",
            "    # of sentences: 2\n",
            "0\n",
            "INFO:tensorflow:Saver not created because there are no variables in the graph to restore\n"
          ],
          "name": "stdout"
        },
        {
          "output_type": "stream",
          "text": [
            "INFO:tensorflow:Saver not created because there are no variables in the graph to restore\n"
          ],
          "name": "stderr"
        },
        {
          "output_type": "stream",
          "text": [
            "1\n",
            "2\n",
            "3\n",
            "4\n",
            "5\n",
            "1024\n",
            "Running... 26 / 47\n",
            "    Currently extracting elmo for participant 408\n",
            "    # of characters: 1\n",
            "[\"yes fine um ohio mmm laughter bigger city opportunity um bigger city big city often um know uh phone call um let u see water ocean um big city lot lot people um mountainous skiing kind stuff traffic close 'cause like talk uh maybe running company politics parent laughter guess play guitar um depends laughter would sure okay um exgirlfriend remember mm close lot year know 'em long time little patient huh uh okay eh helped um stuff marine fun uh lived country whi one living country helping marine yes bout first one go living country 'cause parent lived li parent lived country lived know uh used um sigh different scenery difference period different uh one one europe france uh yeah cool great learning different language seeing different culture different people enlightening mind mind expansion definitely mm say least berlin wall uh overwhelmed hmm 'cause atrocity stuff went clear throat war uh good question depends well depends sleeping sleeping somebody laughter yeah mm agitated guess know okay girlfriend may say laughter know clue sh could tell clue nope nope whirlwind guess doer persistence mm achievement goal accomplishment race motocross one first black professional yeah joking wow laughter yeah pretty pretty\"]\n",
            "    # of sentences: 1\n",
            "0\n",
            "INFO:tensorflow:Saver not created because there are no variables in the graph to restore\n"
          ],
          "name": "stdout"
        },
        {
          "output_type": "stream",
          "text": [
            "INFO:tensorflow:Saver not created because there are no variables in the graph to restore\n"
          ],
          "name": "stderr"
        },
        {
          "output_type": "stream",
          "text": [
            "1\n",
            "INFO:tensorflow:Saver not created because there are no variables in the graph to restore\n"
          ],
          "name": "stdout"
        },
        {
          "output_type": "stream",
          "text": [
            "INFO:tensorflow:Saver not created because there are no variables in the graph to restore\n"
          ],
          "name": "stderr"
        },
        {
          "output_type": "stream",
          "text": [
            "2\n",
            "INFO:tensorflow:Saver not created because there are no variables in the graph to restore\n"
          ],
          "name": "stdout"
        },
        {
          "output_type": "stream",
          "text": [
            "INFO:tensorflow:Saver not created because there are no variables in the graph to restore\n"
          ],
          "name": "stderr"
        },
        {
          "output_type": "stream",
          "text": [
            "3\n",
            "INFO:tensorflow:Saver not created because there are no variables in the graph to restore\n"
          ],
          "name": "stdout"
        },
        {
          "output_type": "stream",
          "text": [
            "INFO:tensorflow:Saver not created because there are no variables in the graph to restore\n"
          ],
          "name": "stderr"
        },
        {
          "output_type": "stream",
          "text": [
            "4\n",
            "5\n",
            "1024\n",
            "Running... 27 / 47\n",
            "    Currently extracting elmo for participant 410\n",
            "    # of characters: 1\n",
            "[\"hi sure fine tired bike back sweaty l_a um place go always thing um driver trying audio engineering working music yeah graduating two year uh working recording studio probably soundtrack music idea laughter idea laughter always either l_a home ride bike make music sit home watch movie driver people gangster know laughter go ride bike take walk pretty good get angry often uh let u see sigh hmm make sound mouth girlfriend wanna go friend's house hiss sound happened happened yeah laughter um thing make music ride bike um hang friend normal kid stuff laughter um live mom right live dad pretty close okay uh let u see really know bunch people guess cannot really pick one right nope want nope laughter um mean usually stay pretty late usually fault go sleep early wake really late afternoon kind hard um little drowsy tend go sleep earlier um nothing still active really change um fine happy normal mm birthday two day ago two three day ago um got got gift girlfriend pretty cool laughter um sigh cool funny energetic smart um active music make mm couple thing cannot name 'em right probably thing high school laughter um let u see would\"]\n",
            "    # of sentences: 1\n",
            "0\n",
            "INFO:tensorflow:Saver not created because there are no variables in the graph to restore\n"
          ],
          "name": "stdout"
        },
        {
          "output_type": "stream",
          "text": [
            "INFO:tensorflow:Saver not created because there are no variables in the graph to restore\n"
          ],
          "name": "stderr"
        },
        {
          "output_type": "stream",
          "text": [
            "1\n",
            "INFO:tensorflow:Saver not created because there are no variables in the graph to restore\n"
          ],
          "name": "stdout"
        },
        {
          "output_type": "stream",
          "text": [
            "INFO:tensorflow:Saver not created because there are no variables in the graph to restore\n"
          ],
          "name": "stderr"
        },
        {
          "output_type": "stream",
          "text": [
            "2\n",
            "INFO:tensorflow:Saver not created because there are no variables in the graph to restore\n"
          ],
          "name": "stdout"
        },
        {
          "output_type": "stream",
          "text": [
            "INFO:tensorflow:Saver not created because there are no variables in the graph to restore\n"
          ],
          "name": "stderr"
        },
        {
          "output_type": "stream",
          "text": [
            "3\n",
            "INFO:tensorflow:Saver not created because there are no variables in the graph to restore\n"
          ],
          "name": "stdout"
        },
        {
          "output_type": "stream",
          "text": [
            "INFO:tensorflow:Saver not created because there are no variables in the graph to restore\n"
          ],
          "name": "stderr"
        },
        {
          "output_type": "stream",
          "text": [
            "4\n",
            "INFO:tensorflow:Saver not created because there are no variables in the graph to restore\n"
          ],
          "name": "stdout"
        },
        {
          "output_type": "stream",
          "text": [
            "INFO:tensorflow:Saver not created because there are no variables in the graph to restore\n"
          ],
          "name": "stderr"
        },
        {
          "output_type": "stream",
          "text": [
            "5\n",
            "1024\n",
            "Running... 28 / 47\n",
            "    Currently extracting elmo for participant 411\n",
            "    # of characters: 2\n",
            "['synch uh yeah sure laughter alright uh weird test study right uh los angeles mhm s kind different thing city uh well know area little different hard get boring around oh know traffic smog much I would like mm money mainly lack money like seeing world seeing different place went uh went russia three year ago yeah like go church huge trip church area uh music part uh playing music long time yeah xxx musician touring performing musician really really really hard s lot competition luck involved agree little suppose laughter probably play lot music sit guitar little would say good think calm person difficulty even remembering laughter uh nothing big long time mm difficulty thinking one spot right hardest decision ever make laughter uh sure cannot think anything guilty um laughter laughter boy stole little golden bicycle old lady proud laughter laughter um nan t ideal live parent twenty three year old becoming awkward think know think thing improving need move need get apartment uh come back around friend sure parent uh lot positive laughter influence life got good group friend know family love nonetheless easy would say mhm um uh uh groggy people get know general uh well', \"three year old becoming awkward think know think thing improving need move need get apartment uh come back around friend sure parent uh lot positive laughter influence life got good group friend know family love nonetheless easy would say mhm um uh uh groggy people get know general uh well I would say thing alright um nothing huge mm mm last time really good band practice last night friend felt really good mhm think generally funny good around uh work ethic think big one sure uh know lot project planned life difficulty completing like use space excuse goto one uh good studio record music um well okay uh current band working um told part time member band told uh know officially core group stuff felt pretty bad day alright laughter uh life maybe going maybe finishing college might something um know never never came pas would transfer four year university get bachelor's degree best quality think generally easygoingness good sense humor recently really enjoyed last weekend went camping beach bunch friend nice yeah proud um guess know musical accomplishment put lot work finding success way laughter thank thank interesting goodbye\"]\n",
            "    # of sentences: 2\n",
            "0\n",
            "INFO:tensorflow:Saver not created because there are no variables in the graph to restore\n"
          ],
          "name": "stdout"
        },
        {
          "output_type": "stream",
          "text": [
            "INFO:tensorflow:Saver not created because there are no variables in the graph to restore\n"
          ],
          "name": "stderr"
        },
        {
          "output_type": "stream",
          "text": [
            "1\n",
            "INFO:tensorflow:Saver not created because there are no variables in the graph to restore\n"
          ],
          "name": "stdout"
        },
        {
          "output_type": "stream",
          "text": [
            "INFO:tensorflow:Saver not created because there are no variables in the graph to restore\n"
          ],
          "name": "stderr"
        },
        {
          "output_type": "stream",
          "text": [
            "2\n",
            "INFO:tensorflow:Saver not created because there are no variables in the graph to restore\n"
          ],
          "name": "stdout"
        },
        {
          "output_type": "stream",
          "text": [
            "INFO:tensorflow:Saver not created because there are no variables in the graph to restore\n"
          ],
          "name": "stderr"
        },
        {
          "output_type": "stream",
          "text": [
            "3\n",
            "INFO:tensorflow:Saver not created because there are no variables in the graph to restore\n"
          ],
          "name": "stdout"
        },
        {
          "output_type": "stream",
          "text": [
            "INFO:tensorflow:Saver not created because there are no variables in the graph to restore\n"
          ],
          "name": "stderr"
        },
        {
          "output_type": "stream",
          "text": [
            "4\n",
            "INFO:tensorflow:Saver not created because there are no variables in the graph to restore\n"
          ],
          "name": "stdout"
        },
        {
          "output_type": "stream",
          "text": [
            "INFO:tensorflow:Saver not created because there are no variables in the graph to restore\n"
          ],
          "name": "stderr"
        },
        {
          "output_type": "stream",
          "text": [
            "5\n",
            "1024\n",
            "Running... 29 / 47\n",
            "    Currently extracting elmo for participant 421\n",
            "    # of characters: 5\n",
            "[\"hi yeah okay great yeah um los angeles born santa monica yeah um like um know nothing mean really like much guess like know still nature like new york like city guess know okay laughter um like traffic like crowded crowd make really nervous like um smog pollution stuff laughter travel anywhere really laughter um studied um psychology went s_m_c took psychology class um psychology major took anthropology class took math good math laughter uh currently school right um yeah home laughter dream job would um would like help people long something helping people uh would like help people like p_t_s_d problem stuff uh yeah long know helping people smile know relating problem people um pretty pr close well really close grandma um eh family eh like close kinda argue lot laughter yeah um sorry introvert okay annoyed um well try relax minute usually try take deep breath hard laughter yeah good uh temper's gotten little worse um good really controlling temper um need help laughter um really mean guess like bad like people never like fight anything yeah um argued mom sister yesterday something stupid like sister sitting sitting front seat kid like front seat asked sit back course\", \"yeah good uh temper's gotten little worse um good really controlling temper um need help laughter um really mean guess like bad like people never like fight anything yeah um argued mom sister yesterday something stupid like sister sitting sitting front seat kid like front seat asked sit back course start like yelling arguing like really annoying laughter yeah thanks grandma always giving encouragement um therapist licensed therapist always know made really really um easy someone talk could always go help yeah yeah memorable experience well one really good experience um went horseback riding really really made happy uh love horse nature biggest thing love made happy relaxed memorable experience laughter um caring caring always talk um judge never judge never cranky never never ever get like angry anybody else like family know yeah nice caring stuff laughter um thing put good mood like uh music nature um like cook lot like cook know family talking put really good mood love meeting new people meeting new people put best mood uh easy um hard um sometimes really hard um usually sleep well um yeah trouble falling asleep mostly um guess like mind racing lot know sometimes flashback bad memory um\", \"lot like cook know family talking put really good mood love meeting new people meeting new people put best mood uh easy um hard um sometimes really hard um usually sleep well um yeah trouble falling asleep mostly um guess like mind racing lot know sometimes flashback bad memory um know thinking much laughter um know um think uh stress know lot stress every day everyday stress uh yeah pretty much trigger laughter um try stay positive try think like okay well know one day thing get better um try call somebody talk trouble like grandma yeah thanks sleep well um well start like cry lot start get really irritable um get really depressed make feel well get uh really really bad get sleep yeah yeah thanks yes diagnosed um three year ago uh really know going realized okay well diagnosed um like okay well problem wanted help mind like like awful mind taking control like yeah yeah hard um yeah yeah definitely always thought problem always thought something like really wrong um always like kinda nervous around people like never really like look anybody eye 'cause nervous eye always kind like racing um would sweat situation um reminded situation\", \"like awful mind taking control like yeah yeah hard um yeah yeah definitely always thought problem always thought something like really wrong um always like kinda nervous around people like never really like look anybody eye 'cause nervous eye always kind like racing um would sweat situation um reminded situation like try avoid reminds brings flashback yeah oh um feeling good getting every day trying um guess walking keep mind p_t_s_d symptom trying walk help thanks um yeah depression um yeah um help yeah actually help lot um currently one right actually getting new one day though like kind mixup yeah really really help um noticed le flashback um relaxed guess um yeah know trying keep occupied yeah help um last time felt really happy um guess um know um today 'cause mean glad part laughter um proud uh well sigh um trying think proud um think proud like fact able know like well mean people know like deny problem proud actually like know person realize okay problem need help lot people know take medication untreated um wanna get help glad get help wanna feel way wanna get help problem instead oh gosh lot regret yeah lot um regret know\", 'able know like well mean people know like deny problem proud actually like know person realize okay problem need help lot people know take medication untreated um wanna get help glad get help wanna feel way wanna get help problem instead oh gosh lot regret yeah lot um regret know uh drug abuse know part know p_t_s_d regret um lot uh mistake know relationship stuff like wow um would told um guess advice would given try keep mind relaxed guess yeah um well nice person always like smile people always saying smile lot um smile guess kind hide like inside know pretty depressed know try keep smiling always like lend hand help make people feel better fun um like go mall lot fun like go mall like go grandma go place go shopping love shopping um like go um play like game like like play video game fun stuff like okay thanks goodbye']\n",
            "    # of sentences: 5\n",
            "0\n",
            "INFO:tensorflow:Saver not created because there are no variables in the graph to restore\n"
          ],
          "name": "stdout"
        },
        {
          "output_type": "stream",
          "text": [
            "INFO:tensorflow:Saver not created because there are no variables in the graph to restore\n"
          ],
          "name": "stderr"
        },
        {
          "output_type": "stream",
          "text": [
            "1\n",
            "INFO:tensorflow:Saver not created because there are no variables in the graph to restore\n"
          ],
          "name": "stdout"
        },
        {
          "output_type": "stream",
          "text": [
            "INFO:tensorflow:Saver not created because there are no variables in the graph to restore\n"
          ],
          "name": "stderr"
        },
        {
          "output_type": "stream",
          "text": [
            "2\n",
            "INFO:tensorflow:Saver not created because there are no variables in the graph to restore\n"
          ],
          "name": "stdout"
        },
        {
          "output_type": "stream",
          "text": [
            "INFO:tensorflow:Saver not created because there are no variables in the graph to restore\n"
          ],
          "name": "stderr"
        },
        {
          "output_type": "stream",
          "text": [
            "3\n",
            "4\n",
            "5\n",
            "1024\n",
            "Running... 30 / 47\n",
            "    Currently extracting elmo for participant 424\n",
            "    # of characters: 2\n",
            "[\"yeah okay um chicago illinois mhm uh husband's work eighty four easy took three year um move moved away family uncomfortable know anyone even though make friend felt place uh often would like used go back like least year last year diminished would say like every three year weather laughter love weather beach um know long people know nice people um people people laughter um yeah also um would say economy difficult make los angeles business computer graphic working right working retail eh could find work settle right tough um would like human resource representative mhm um like talk people much understand know lot subject go interested finding people sitting next somebody strike conversation find um know I would like talk people enjoy quiet um let u see rude people um people harm child elderly el elderly make angry uh war control temper problem get quiet feel angry try think act last time argued someone month ago daughter um arguing therapy cancer um telling enough giving enough information made angry frustrated angry yeah hard laughter watching child fail trying hard seeing hurt trying prepare listen advice uh feel like sometimes need trust mhm um love child yeah uh uh playing\", \"act last time argued someone month ago daughter um arguing therapy cancer um telling enough giving enough information made angry frustrated angry yeah hard laughter watching child fail trying hard seeing hurt trying prepare listen advice uh feel like sometimes need trust mhm um love child yeah uh uh playing granddaughter month ago excited happy um care gone thinking anything except fun good time yeah best laughter yes um five year ago could function could drive could sleep could eat um could anything completely shut felt like felt like looking window life going outside window stuck behind glass could participate um knew something right lately feeling depressed mhm good night's sleep year would say regular pattern maybe sleep hour three hour interval keep waking never quite get deep sleep um groggy energy hard uh difficult work difficult concentrate make mistake forget lot mhm um yes mhm yes therapy right could afford continue sorry sure yes yeah um feel uh relaxed feel like worry lifted uh think clearer using tool learned therapy mhm child mhm um know laughter friendly think horrible laughter um feel um child neglected today fault parent think um think society forgot take village raise child nobody want\"]\n",
            "    # of sentences: 2\n",
            "0\n",
            "INFO:tensorflow:Saver not created because there are no variables in the graph to restore\n"
          ],
          "name": "stdout"
        },
        {
          "output_type": "stream",
          "text": [
            "INFO:tensorflow:Saver not created because there are no variables in the graph to restore\n"
          ],
          "name": "stderr"
        },
        {
          "output_type": "stream",
          "text": [
            "1\n",
            "INFO:tensorflow:Saver not created because there are no variables in the graph to restore\n"
          ],
          "name": "stdout"
        },
        {
          "output_type": "stream",
          "text": [
            "INFO:tensorflow:Saver not created because there are no variables in the graph to restore\n"
          ],
          "name": "stderr"
        },
        {
          "output_type": "stream",
          "text": [
            "2\n",
            "INFO:tensorflow:Saver not created because there are no variables in the graph to restore\n"
          ],
          "name": "stdout"
        },
        {
          "output_type": "stream",
          "text": [
            "INFO:tensorflow:Saver not created because there are no variables in the graph to restore\n"
          ],
          "name": "stderr"
        },
        {
          "output_type": "stream",
          "text": [
            "3\n",
            "INFO:tensorflow:Saver not created because there are no variables in the graph to restore\n"
          ],
          "name": "stdout"
        },
        {
          "output_type": "stream",
          "text": [
            "INFO:tensorflow:Saver not created because there are no variables in the graph to restore\n"
          ],
          "name": "stderr"
        },
        {
          "output_type": "stream",
          "text": [
            "4\n",
            "INFO:tensorflow:Saver not created because there are no variables in the graph to restore\n"
          ],
          "name": "stdout"
        },
        {
          "output_type": "stream",
          "text": [
            "INFO:tensorflow:Saver not created because there are no variables in the graph to restore\n"
          ],
          "name": "stderr"
        },
        {
          "output_type": "stream",
          "text": [
            "5\n",
            "1024\n",
            "Running... 31 / 47\n",
            "    Currently extracting elmo for participant 431\n",
            "    # of characters: 4\n",
            "[\"synch yes fine oh san fernando valley uh well really like culture love going museum able go night lot people around spread lot pain as drive everywhere good public transportation system uh really like go camping really travel um think sigh might've around six month ago went trip geology class yeah fun hmm sigh think tough say um well think first time went camping probably really memorable went death valley got see lot really cool thing hang friend night philosophy yes um hmm know think sort happened wanted journalist really long time kind grew disillusioned liked different way different thing could philosophy huh know really like child really like studying behavior think something along line might think generally pretty outgoing tend shy around family around friend stuff think pretty friendly um lot time watch t_v read um yeah think pretty good really get mad try think thing start getting mad um start trying focus breathing think last time argued someone probably boyfriend um trouble remembering last thing argued um think wa feeling well trouble deciding whether wanted go department's end year party getting frustrated thought inconsiderate 'cause feeling well begin well felt like really taking feeling consideration really hate get\", \"um start trying focus breathing think last time argued someone probably boyfriend um trouble remembering last thing argued um think wa feeling well trouble deciding whether wanted go department's end year party getting frustrated thought inconsiderate 'cause feeling well begin well felt like really taking feeling consideration really hate get stressed get angry easily see unnecessary stress hmm think lot time oldest youngest brother oldest little brother uh something wrong tend harsh um close sister youngest brother tends hostile back think little bit gentle might easier communicate hmm um nineteen came home party think around four a_m sunday morning dad got really mad yelled said lot nice thing speak year uh well relationship mom lot better live home um used really frustrated time 'cause really quick temper think got little bit distance see best could um sigh love sibling little sister get along really well four year younger around twelve around sixteen really difficult 'cause really harsh temper always moody place patient sort stuff fought time anymore really great get along okay uh older little brother fifteen think get along pretty well youngest brother twelve scrubbed_entry one first first one first philosophy professor really loved class really good uh class\", \"around sixteen really difficult 'cause really harsh temper always moody place patient sort stuff fought time anymore really great get along okay uh older little brother fifteen think get along pretty well youngest brother twelve scrubbed_entry one first first one first philosophy professor really loved class really good uh class professor really cared really engaged people really motivating since class like think pretty easy mean sometimes trouble going sleep generally bad think usually harder wake morning um well really tired get grumpy think usually groggy pretty good little anxious um getting job gonna taking summer school one class lot free time um yeah sigh well mean end world get job know eventually mostly think try think much try pessimistic hmm well think last time felt really happy went party boyfriend end department party um know knew couple people felt comfortable also able meet new people couple kid splashing around pool couple drink ate food fun um would probably say smart uh pretty intellectual love read watch really like serious film t_v um would probably also say fun 'cause like go fun lot well kinda ki really disorganized get trouble sometimes um major one procrastinating hmm um got little bit trouble\", \"couple drink ate food fun um would probably say smart uh pretty intellectual love read watch really like serious film t_v um would probably also say fun 'cause like go fun lot well kinda ki really disorganized get trouble sometimes um major one procrastinating hmm um got little bit trouble month back go court uh uh given eh sixty hour community service course procrastinated show court get extension judge mean seem mean yelled seem like gave much thought seemed like sort stock speech gave everyone thought needed yelling understand 'cause job great 'cause really anxious situation well would twelve two um think think would told twelve hard hard parent 'cause think little selfish selfinvolved back cannot really think anything mean regret treated mother kid everyone um regret couple semester ago well school got w work get transcript think think focusing school time see counselor school anything definitely could done hmm think I would probably spend ideal weekend sleeping saturday going hiking maybe going duck pond house feeding duck picking orange maybe going breakfast sunday like window shopping maybe watching little bit t_v huh well youngest brother autistic mom dad always working growing ten year older oldest always always took care\"]\n",
            "    # of sentences: 4\n",
            "0\n",
            "INFO:tensorflow:Saver not created because there are no variables in the graph to restore\n"
          ],
          "name": "stdout"
        },
        {
          "output_type": "stream",
          "text": [
            "INFO:tensorflow:Saver not created because there are no variables in the graph to restore\n"
          ],
          "name": "stderr"
        },
        {
          "output_type": "stream",
          "text": [
            "1\n",
            "INFO:tensorflow:Saver not created because there are no variables in the graph to restore\n"
          ],
          "name": "stdout"
        },
        {
          "output_type": "stream",
          "text": [
            "INFO:tensorflow:Saver not created because there are no variables in the graph to restore\n"
          ],
          "name": "stderr"
        },
        {
          "output_type": "stream",
          "text": [
            "2\n",
            "3\n",
            "4\n",
            "5\n",
            "1024\n",
            "Running... 32 / 47\n",
            "    Currently extracting elmo for participant 432\n",
            "    # of characters: 5\n",
            "[\"yes okay greenwich connecticut yes um moved two thousand eight five year ago um try go back least year sometimes go sometimes le um overall think like better l_a general um think somewhere familiar type people type used le superficial tisk um moved college graduated high school mom sister live california um initially easy felt like new experience kind adapt experiencing everything first year really set different life became difficult originally uh fine art photography um interested photography since high school um lot program got award thing like publishments decided pursue art um yes fine art degree got last year scrubbed_entry yeah really enjoy working interning forensics um like better initially wanted freelance photography feel like secure job interesting um interesting question guess childhood general growing um well family's close um extended family well live li live within area east coast general would always large family uh party thing holiday religious purpose thing like yeah really fun try get together much possible difficult since everyone spread amongst different state country um consider shy um watch reality television think kind funny lighthearted um watch like bravo t_v like real housewife show like funny thing really need pay attention um good guess\", \"religious purpose thing like yeah really fun try get together much possible difficult since everyone spread amongst different state country um consider shy um watch reality television think kind funny lighthearted um watch like bravo t_v like real housewife show like funny thing really need pay attention um good guess really like temper stressed definitely show attitude really like anger um well boyfriend like bicker time laughter like like insignificant thing um argument dad day ago um like tension going since went visited holiday past winter thing girlfriend think one make kind effort relationship although whatever reason think go way like thirtieth time phone sigh telling need call speak told going past weekend 'cause jewish holiday kind like mature telling oh forget want hear kind like could care le care relationship wanna hear know easier um mean every time mean recurring argument lot wish could sometimes wish time turn explosive fight could bite tongue thing say certain thing untrue thing know like tick really nasty saying kind like lose cannot really mm like say anything um well guess hardest decision made realized hardest decision like looking back decide graduate high school go college basically changed entire life moved away seem\", \"fight could bite tongue thing say certain thing untrue thing know like tick really nasty saying kind like lose cannot really mm like say anything um well guess hardest decision made realized hardest decision like looking back decide graduate high school go college basically changed entire life moved away seem like hard decision time felt like like progression next step looking back probably one hardest decision made um well wish could erase event seeing grandmother's funeral obviously would change anything seeing something I would wanna like memory um positive influence always judgmental um mean parent great role model general mean successful people whether like disagreement separate people kind good role model term wanna older um usually easy problem staying alseep matter late go bed whether ten p_m four a_m like clockwork seven thirty eight o'clock morning latest every single day cannot seem figure cannot stay asleep longer morning guess lighter sleeper wake like cannot stay asleep anymore never used problem consistent cannot remember last time slept past eight thirty morning tisk mean make stuff day make lot tiring really used really change mood part everyday um know kind feel mm like extreme high extreme low kind one note land mean\", \"sleeper wake like cannot stay asleep anymore never used problem consistent cannot remember last time slept past eight thirty morning tisk mean make stuff day make lot tiring really used really change mood part everyday um know kind feel mm like extreme high extreme low kind one note land mean nothing like lately um like recently would say period year kind progressively become seclusive reserved outgoing diagnosed anxiety um breathing problem day two go hospital um 'cause thought serious 'cause could breathe said physical manifestation anxiety think right setting person open minded therapist helpful good yeah therapy since kid um went parent thought would good idea like deal whatever issue never mean sat around talked day feel like needed therapy time really get much sigh well happy back home boyfriend's house family new year's holiday always save money complete vacation worry paying bill worry tomorrow deal every morning wake hang enjoy day general um regret college chose go east coast whole collegiate system set lot differently university tight knit california school system researching college kind thought santa monica college general college like boston college back home know school name college end realize know end first year even like transfer school\", \"enjoy day general um regret college chose go east coast whole collegiate system set lot differently university tight knit california school system researching college kind thought santa monica college general college like boston college back home know school name college end realize know end first year even like transfer school like cannot even realize could get bachelor's degree went kind create created problem sigh well considering twenty two sigh I would probably say ten year ago would give advice probably stay closer home really pursued option rather completely invested moving california um best friend would describe great charismatic funny outgoing socially enjoyable person different people good friend would describe mean mean outgoing great time friend element around stranger like uncomfortable group thing shy really speak much um recently friend visiting went clipper basketball game week ago really enjoyed yeah um caring good judge character mean guess mean consider quality qu quality um affectionate aff mean affectionate mean guess guess thanks\"]\n",
            "    # of sentences: 5\n",
            "0\n",
            "INFO:tensorflow:Saver not created because there are no variables in the graph to restore\n"
          ],
          "name": "stdout"
        },
        {
          "output_type": "stream",
          "text": [
            "INFO:tensorflow:Saver not created because there are no variables in the graph to restore\n"
          ],
          "name": "stderr"
        },
        {
          "output_type": "stream",
          "text": [
            "1\n",
            "INFO:tensorflow:Saver not created because there are no variables in the graph to restore\n"
          ],
          "name": "stdout"
        },
        {
          "output_type": "stream",
          "text": [
            "INFO:tensorflow:Saver not created because there are no variables in the graph to restore\n"
          ],
          "name": "stderr"
        },
        {
          "output_type": "stream",
          "text": [
            "2\n",
            "INFO:tensorflow:Saver not created because there are no variables in the graph to restore\n"
          ],
          "name": "stdout"
        },
        {
          "output_type": "stream",
          "text": [
            "INFO:tensorflow:Saver not created because there are no variables in the graph to restore\n"
          ],
          "name": "stderr"
        },
        {
          "output_type": "stream",
          "text": [
            "3\n",
            "4\n",
            "5\n",
            "1024\n",
            "Running... 33 / 47\n",
            "    Currently extracting elmo for participant 435\n",
            "    # of characters: 5\n",
            "[\"synch yes fine thank detroit michigan yes moved l_a two thousand seven family came many year ago like forty year ago uh go back detroit anymore really like weather really reason immediate family california uh completely different um detroit cold best personality prefer l_a open space warmer climate warmer people different different uh vibe like better husband relationship ended family thought would easier start place lived stay extremely easy came every year visit college extremely used plus also taken um six month school lived went school completely used well like said weather number one uh le crowded open space calmer friendlier vibe le rushed smog would one drive traffic certain area um general lot like l like guess overall threat earthquake really much factor 'cause rarely happens price real estate laughter another one necessarily like cannot see shoe cannot see shoe travel much used traveled worldwide new experience well used international flight attendant later traveled work cruise line international sale account executive traveled lot different place um say pretty much enjoyable 'cause know different culture different thing see learn enjoy experience uh experience would say um europe visiting moreso also visited uh south south america guess 'cause culture different would\", \"international flight attendant later traveled work cruise line international sale account executive traveled lot different place um say pretty much enjoyable 'cause know different culture different thing see learn enjoy experience uh experience would say um europe visiting moreso also visited uh south south america guess 'cause culture different would probably say shy um general um compared people know really really outgoing although describe outgoing like read like walk power walk hike listen music know good controlling temper oh probably married husband many year ago could many thing even know specific anything general pretty much could turn debate slash argument could could choice uh instance might've know got emotional let bother made big deal something rather um know seen something respond perhaps would always also pushed answer know cannot always say ignore person 'cause many time matter ignoring situation escalate people know respond socalled norm ignore mm uh know deescalate always case taught middle school kid try calm um method always work always teacher maintain know professional demeanor cannot really um even know kid something outrageous possibly dangerous kid well could several mm um guess decision um along mom deciding let relative surgery uh know outcome uncertain could go either\", \"always case taught middle school kid try calm um method always work always teacher maintain know professional demeanor cannot really um even know kid something outrageous possibly dangerous kid well could several mm um guess decision um along mom deciding let relative surgery uh know outcome uncertain could go either way case died know uh pretty hard decision 'cause know also know could serious outcome well mhm sigh oh many different thing could occur know life always second guessing thing might could also learning experience necessarily good thing erase know look positive sometimes people strong reaction really look past uh impact event 'cause might something gain grew home dysfunction domestic abuse know um many incidence cannot say one 'cause lot traumatic thing also would different outcome say learning deal thing occur life adult sometimes see among acquaintance friend really strong experience fall apart difficult time dealing um listen know 'cause understand everybody's experience know walk level understanding know know someone balance background information help pull see know thing progress better way knowing like end world terrible seems could also relate experience thing worse know seem course always general mean look calamity world know thing affecting u people know provides u\", \"understand everybody's experience know walk level understanding know know someone balance background information help pull see know thing progress better way knowing like end world terrible seems could also relate experience thing worse know seem course always general mean look calamity world know thing affecting u people know provides u perspective know pull someone necessarily say selfabsorption seemingly intensity experience right moment well good relationship eh part different level um stress trauma sibling experienced made interact life people know intensely others um much experience life help deal thing know different way always evolving walk positivity lead know uh way respond uh try engender positive response rather feed sometimes um strong reaction response interaction may pardon di hear could repeat hmm hmm mother different teacher friend well mother always calm um person part easygoing even though experienced lot negativity teacher um um positive po positive proactive know taught independent thinking technique rise thing occurring various friend know would see handling situation sometimes much difficult know dealing thing depends part know pretty good um depends dealing lot thing studying know um trying get hour day 'cause need get thing done know le um general problem sleeping make stay awake aw stay stuff\", \"rise thing occurring various friend know would see handling situation sometimes much difficult know dealing thing depends part know pretty good um depends dealing lot thing studying know um trying get hour day 'cause need get thing done know le um general problem sleeping make stay awake aw stay stuff wanna get done feeling okay uh le know stressful xxx go general 'cause got several project working um general good like mean particular mean seems um le stressful get stuff done stress come sometimes lot thing shorter period time know reorganizing thing need done know smoothe know something lot uh say veteran particular people well several guess um happiness come small large thing general every day every day every every moment mean mea mean every day every morning great wonderful know day happiness um far big celebratory kind thing big high low like think something continuum know every day really great meal could great view could know moment shared someone know even even keel um uh uh perseverant um know continue forth um positive upbeat um maybe thing differently younger like spending money differently spending time know little differently hard say like okay get older see know could done thing\"]\n",
            "    # of sentences: 5\n",
            "0\n",
            "INFO:tensorflow:Saver not created because there are no variables in the graph to restore\n"
          ],
          "name": "stdout"
        },
        {
          "output_type": "stream",
          "text": [
            "INFO:tensorflow:Saver not created because there are no variables in the graph to restore\n"
          ],
          "name": "stderr"
        },
        {
          "output_type": "stream",
          "text": [
            "1\n",
            "INFO:tensorflow:Saver not created because there are no variables in the graph to restore\n"
          ],
          "name": "stdout"
        },
        {
          "output_type": "stream",
          "text": [
            "INFO:tensorflow:Saver not created because there are no variables in the graph to restore\n"
          ],
          "name": "stderr"
        },
        {
          "output_type": "stream",
          "text": [
            "2\n",
            "3\n",
            "4\n",
            "5\n",
            "1024\n",
            "Running... 34 / 47\n",
            "    Currently extracting elmo for participant 438\n",
            "    # of characters: 2\n",
            "[\"yes okay uh los angeles california yes like weather um basically like people different uh thing mm really sure get excuse xxx um would say someone rude uh someone bullying somebody negative attitude annoyed depends hmm might make comment something like uh might absorb something know think depends situation uh think disagreement know last time argument really long time basically disagreement argued anyone someone quite time cannot even recall uh family matter brother disagreement one brother know upset return got little upset know mean laughter mean hard excuse laughter excuse laughing oh could go question okay listen music somewhat know guess know little bit ask ask huh basic uh thing english math why'd ask question though uh um trying find employment right job enjoy going really dream job uh kid child small playing 'em last time really recall easy hmm trying give guidance advice listen parent know connected someone know family someone love someone love much tell sigh mean child know well child one child two uh son older adult think kinda close mean think today's kid mean sigh think uh think respectful young kid think got disrespectful uh uh maybe may six month ago something like way feeling know\", \"family someone love someone love much tell sigh mean child know well child one child two uh son older adult think kinda close mean think today's kid mean sigh think uh think respectful young kid think got disrespectful uh uh maybe may six month ago something like way feeling know feeling good feeling sad know sleeping good know feeling right problem way feeling whole purpose going seek kinda help feel alright ever right oh sleep good know answer answer would sleep better um know never never therapy best friend couple think good quality think basically good person uh company uh associate usually hanging uh friend hanging laughing talking drinking beer yeah felt alright completed college said got many 'em hmm well lot 'em um sigh getting morning memorable 'cause new day thankful b living today mhm sigh man uh would say father father know uh memorable mem good experience excuse scuse uh cannot um sigh couple 'em guess uh people associated probably uh one think thank alright bye\"]\n",
            "    # of sentences: 2\n",
            "0\n",
            "INFO:tensorflow:Saver not created because there are no variables in the graph to restore\n"
          ],
          "name": "stdout"
        },
        {
          "output_type": "stream",
          "text": [
            "INFO:tensorflow:Saver not created because there are no variables in the graph to restore\n"
          ],
          "name": "stderr"
        },
        {
          "output_type": "stream",
          "text": [
            "1\n",
            "INFO:tensorflow:Saver not created because there are no variables in the graph to restore\n"
          ],
          "name": "stdout"
        },
        {
          "output_type": "stream",
          "text": [
            "INFO:tensorflow:Saver not created because there are no variables in the graph to restore\n"
          ],
          "name": "stderr"
        },
        {
          "output_type": "stream",
          "text": [
            "2\n",
            "INFO:tensorflow:Saver not created because there are no variables in the graph to restore\n"
          ],
          "name": "stdout"
        },
        {
          "output_type": "stream",
          "text": [
            "INFO:tensorflow:Saver not created because there are no variables in the graph to restore\n"
          ],
          "name": "stderr"
        },
        {
          "output_type": "stream",
          "text": [
            "3\n",
            "INFO:tensorflow:Saver not created because there are no variables in the graph to restore\n"
          ],
          "name": "stdout"
        },
        {
          "output_type": "stream",
          "text": [
            "INFO:tensorflow:Saver not created because there are no variables in the graph to restore\n"
          ],
          "name": "stderr"
        },
        {
          "output_type": "stream",
          "text": [
            "4\n",
            "INFO:tensorflow:Saver not created because there are no variables in the graph to restore\n"
          ],
          "name": "stdout"
        },
        {
          "output_type": "stream",
          "text": [
            "INFO:tensorflow:Saver not created because there are no variables in the graph to restore\n"
          ],
          "name": "stderr"
        },
        {
          "output_type": "stream",
          "text": [
            "5\n",
            "1024\n",
            "Running... 35 / 47\n",
            "    Currently extracting elmo for participant 442\n",
            "    # of characters: 8\n",
            "['yeah cool hanging know adventure chilling culver city california yeah yeah different microcosm different place people scene stuff know big vast crazy know cannot mean course bunch thing could say uh know mean like l_a like even bad know part experience general know laughter yeah around country bunch uh like going another world like quantum leap get transport whole another nother realm people uh know learn stuff hang drink beer smoke weed write rap drug hang sort shit man crazy laughter oh really oh oh oh oh okay um yo went san francisco recently like eight day rapped house party san jose real quick went davis thing took train chilled san francisco hung middle school friend hella long uh yeah crazy walking usually ride bike everywhere like walking whole time cool mad exploring got um got back home eventually went directly texas show way going texas stayed eight day wa gnarly crazy even know man much happened know fun um went place called salton sea bunch bicycle friend um sniffle got car went way desert um yeah tight burning stuff burned car drove car like road warrior type car um crazy man like like fifteen nigger one car like gnarly', 'gnarly crazy even know man much happened know fun um went place called salton sea bunch bicycle friend um sniffle got car went way desert um yeah tight burning stuff burned car drove car like road warrior type car um crazy man like like fifteen nigger one car like gnarly got naked went stream hella shrooms hella molly smoked ridiculous amount weed got retarded drunk somebody tried give mescaline wanna like march went trip like precursor trip salton sea trip yeah tight saw lot nakedness trip yeah really hella outgoing outgoing sure smoke weed laughter study uh um oh studying laughter um photography photojournalism uh yeah yeah got use computer free got get use baller as camera free would little uh would man street type shit student man street one take picture like forgot called long ago nah nah nah anymore j hanging rap little show around country stuff got little fan base always know art draw dream job working job dream job getting paid yeah pretty good like two week ago hour one already like super drunk two hour three hour like man bunch pen dude took pen away clear throat pen like fanny pack like fanny pack pen', \"little fan base always know art draw dream job working job dream job getting paid yeah pretty good like two week ago hour one already like super drunk two hour three hour like man bunch pen dude took pen away clear throat pen like fanny pack like fanny pack pen 'cause art like nah dog cannot take like okay sure let leave 'em right get 'em come like okay come gone accidentally knock beer get mad like gotta go like fault fault happened homie getting like ambushed three big old security guard know saw put hand friend really lost like better let go friend right like gonna ese spanish like gonna like threw ground arm put arm threw ground got broken last time got angry cool fun life know huh made gibberish maybe maybe situation could handled differently could handled differently would handling thing differently would react like mad acting reaction react like like justice like could unjust like mean person saw one loved one get attacked like come like know like react hot know mean like yo ya nigga tripping like yo chill tiny little white dude humongous as mexican nigga like need fall back know mean crazy laughter\", \"reaction react like like justice like could unjust like mean person saw one loved one get attacked like come like know like react hot know mean like yo ya nigga tripping like yo chill tiny little white dude humongous as mexican nigga like need fall back know mean crazy laughter guilty uh know steal shit sometime store hungry got money guess really guilty 'cause know actually yeah feel guilty food free know mean um yeah know lie guess lie l everybody lie sometime lie sometimes maybe like little like idle exaggeration okay ok nah nah never hardest guess really know hardest decision get faced hard decision would like got many friend sometimes cannot really hang everybody one weekend like gotta make decision like go sector town gonna hang x z nigga go x z nigga like heavy know hard decision 'cause never like let anybody uh yeah stuff like deciding friend hang ouch cool live mom come home like every three four day could repeat question um aunty oh really nice like little sweet little blind old lady cook really good tight know something could erase memory would wanna erase anything memory 'cause like like experience go make think weak\", \"friend hang ouch cool live mom come home like every three four day could repeat question um aunty oh really nice like little sweet little blind old lady cook really good tight know something could erase memory would wanna erase anything memory 'cause like like experience go make think weak people like wanna erase thing block thing like exist mean shit hard would never say would want happen 'cause know must gotta learn experience know mean better shit like like test know bad experience test gotta overcome stronger like curl like oh god life's hard oh know shit weak people believe compassion people get wanna stuff like still like see logic mm mean stay pretty late sort reckless as shit uh home pretty easy could go sleep know get tired get tired yeah lately like partying hella tough lately like oh god least six day like today coming talk first time able come back culver city since like friday 'cause downtown like cinco de mayo like know random as party went homies smoking ridiculous amount cigarette drinking beer fucking molly fucking coke fucking shit crazy yo like uh rockstar weekend week type stuff post traumatic stress syndrome get oh mean\", \"time able come back culver city since like friday 'cause downtown like cinco de mayo like know random as party went homies smoking ridiculous amount cigarette drinking beer fucking molly fucking coke fucking shit crazy yo like uh rockstar weekend week type stuff post traumatic stress syndrome get oh mean shoot saturday hella happy laughter great influence still great know mad empathic like mad like flirty mm freestyling like g like kicking hella rhyme sniffle uh dope know analyzing life realized stuff gonna change life uh yeah ball great awesome xxx oh yeah even crazy comedown like chilling definitely gained couple pound last week drinking lot beer feeling little extraneous besides ready hmm okay know lovable dude people loving man like love shit crazy know try happy try make people happy know sniffle real posicore said like hella positive p positive know man really wish could mean I would lose weight guess besides mean ride bike every day like leg pretty strong maybe I would get buff arm thing would change really r really hurry change like happens living biking yeah cool n know abrupt change need mean gradual change sure know yeah would change anything would would really nothing\", \"weight guess besides mean ride bike every day like leg pretty strong maybe I would get buff arm thing would change really r really hurry change like happens living biking yeah cool n know abrupt change need mean gradual change sure know yeah would change anything would would really nothing 'cause chilling right uh know got broken like august made feel bad guess yeah somebody going broke like shit sucked probably last time like felt really bad cough um exactly wanna know oh like um know going hella jealous going phone sometimes accusing shit ended breaking 'cause wanted like mess around people relationship nutshell uh life suck gotta adapt change man know mean walk run what'd say yeah bitch gave s_t_ds shit suck fucking thing regret yeah man cold game got shot cool like boom clean know cool person still hang know keep losing gonna keep winning know mean run run know mean laughter wait wait ten ten twenty year ago seven year old tell seven year old self would able comprehend advice would give w what'd say oh oh oh yeah would um able comprehend advice I would give I would like um fucking read little book something dude\", \"run know mean laughter wait wait ten ten twenty year ago seven year old tell seven year old self would able comprehend advice would give w what'd say oh oh oh yeah would um able comprehend advice I would give I would like um fucking read little book something dude like uh know man fucking gonna okay great keep t cool shit ball know would know would wanna alter young actually say would tell young self something differently would grown person right even able tell young self something law quantum physic shit real time travel know anything past would life would variable going back telling something differently alter course history time stream may may cease exist know saying really would wanna like fuck fuck even yeah make mistake 'cause way better person make hella mistake know least least like reckless like mindstate like yo gonna fuck fuck hard 'cause learn know say say um experience best professor know saying basically jive know mean sniffle proud life stuff like laughter like like stoked around country people's album write voiceover work time time yeah people know rap ride bike infiltrated multiple subculturals mean subculture type people city scrubbed_entry um yeah man know\"]\n",
            "    # of sentences: 8\n",
            "0\n",
            "INFO:tensorflow:Saver not created because there are no variables in the graph to restore\n"
          ],
          "name": "stdout"
        },
        {
          "output_type": "stream",
          "text": [
            "INFO:tensorflow:Saver not created because there are no variables in the graph to restore\n"
          ],
          "name": "stderr"
        },
        {
          "output_type": "stream",
          "text": [
            "1\n",
            "2\n",
            "3\n",
            "4\n",
            "5\n",
            "1024\n",
            "Running... 36 / 47\n",
            "    Currently extracting elmo for participant 450\n",
            "    # of characters: 2\n",
            "[\"synch yes bad little tired okay uh saint louis missouri yep uh two month ago uh often think good uh smaller town le people everyone kinda act different pace life slower uh looking work game designer game developer try something new new place new people uh guess still getting used um guess people different know little shop everywhere everything's different uh man weather's great people really nice like look mountain beach nice better geography um traffic guess commute sometimes maybe many people laughter really never outside u_s uh never opportunity I would love go though uh game design graphic design sort oh love uh mm playing video game since kid like guy age like making people happy kinda easy game laughter uh work make game write paycheck guess uh pretty hard trying past couple year little difficult guess kinda shy depends people environment guess laughter uh play guitar listen music talk friend I would say pretty good controlling temper type guy get angry really easily uh probably girlfriend something silly cannot even remember uh sigh know think really guilty anything try avoid guilty hmm know cannot really think anything leaving saint louis one 'cause friend family uh guess benefit outweighed\", \"talk friend I would say pretty good controlling temper type guy get angry really easily uh probably girlfriend something silly cannot even remember uh sigh know think really guilty anything try avoid guilty hmm know cannot really think anything leaving saint louis one 'cause friend family uh guess benefit outweighed know con definitely huh sigh maybe getting kicked high school first time uh ended getting friend trouble good kinda look back guess something past wish would done different uh followed laughter rule guess good student would helped uh really close family got small family anyway saint louis would see couple time year really strong tie uh guess friend always support encourage help say pretty easy every awhile night cannot sleep pretty rare mm tired groggy guess mind's unfocused day go heck lot longer uh pretty good really much say uh maybe little bit depressed 'cause away friend family nothing unmanageable uh try talk 'em think something else think happy time uh sigh guess drive 'cause new experience exhilarating um think graduating college 'cause really proud really looking forward future guess kind euphoria standing seemed kinda surreal su surreal uh funny caring nice guy easy get along uh sigh pretty happy\"]\n",
            "    # of sentences: 2\n",
            "0\n",
            "INFO:tensorflow:Saver not created because there are no variables in the graph to restore\n"
          ],
          "name": "stdout"
        },
        {
          "output_type": "stream",
          "text": [
            "INFO:tensorflow:Saver not created because there are no variables in the graph to restore\n"
          ],
          "name": "stderr"
        },
        {
          "output_type": "stream",
          "text": [
            "1\n",
            "INFO:tensorflow:Saver not created because there are no variables in the graph to restore\n"
          ],
          "name": "stdout"
        },
        {
          "output_type": "stream",
          "text": [
            "INFO:tensorflow:Saver not created because there are no variables in the graph to restore\n"
          ],
          "name": "stderr"
        },
        {
          "output_type": "stream",
          "text": [
            "2\n",
            "3\n",
            "4\n",
            "5\n",
            "1024\n",
            "Running... 37 / 47\n",
            "    Currently extracting elmo for participant 452\n",
            "    # of characters: 5\n",
            "['yeah sigh nebraska uh work coming year officially moved couple year ago um good day bad day guess gotten used gonna know make sense um sigh accessibility different thing um compared nebraska um know opportunity different thing explore different thing area interest uh crime um attitude laughter um uh lack lack uh uh work ethic lack uh kindness people um cutthroat yeah used quite bit uh sense freedom uh adventure um okay want tell trip laughter uh egypt yeah uh went mother family friend went eight day cruise nile saw uh pyramid giza um incredible adventure get away everything everybody uh close friend great time yeah um really um uh uh history um abuse neglect uh real functional family dysfunctional definitely keyword family thank um really talked lot um okay sigh um sigh laughter really hard say good uh uh positive role model um um ask question sigh well maybe best mother uh also negative uh aspect life um uh yeah guess cannot really identify anybody real real positive influence life um trip um used work used yoga used um used meditate used exercise used um used lot thing lately um find uh hard relax uh outlet uh s pursue', 'best mother uh also negative uh aspect life um uh yeah guess cannot really identify anybody real real positive influence life um trip um used work used yoga used um used meditate used exercise used um used lot thing lately um find uh hard relax uh outlet uh s pursue much anymore guess lost motivation something depressed know guess right um pretty good temper far getting point uh uh physicality ever um uh stand ground um control temper never lose control really um sigh last time uh probably um recently know last month maybe argued um uh acquaintance um uh laughter uh know come back question yes um well officially october last year think depressed longer officially october last year um actually uh treated medical issue um depression notable doctor yeah yeah um well never suicidal often thought um eh much reason live used think purpose um really anybody life um think care enough uh really rea even dead uh um kind lost um used used enough um enough uh know purpuse life um lost quite bit motivation motiv yeah well trying pull together trying um sigh get back sense get inspired every awhile um overall seem making much progress', \"um think care enough uh really rea even dead uh um kind lost um used used enough um enough uh know purpuse life um lost quite bit motivation motiv yeah well trying pull together trying um sigh get back sense get inspired every awhile um overall seem making much progress yeah would really call therapy therapist per se nurse practitioner prescribes medication nobody really talk psychosocial issue um uh huh say suck eh okay uh yeah um overwhelmed preoccupied um uh trying stay alive stay top thing uh easy um yeah get chance fall asleep problem um even distracted uh um um even uh lackluster guess word whatever uh best friend um sigh know um sigh maybe lot positive adjective know uh people say proud 'cause surviving hard time people think uh loser laughter um know sigh maybe um survivor uh persistent um um well used proud career um kinda giving back people giving back society um 'cause given lot felt like um sigh proud uh much sense pride anymore quite honest um uh know sigh laughter psychology um well initially yeah um really per se although current career involves lot uh psychology lot um uh aspect know trying say\", \"giving back people giving back society um 'cause given lot felt like um sigh proud uh much sense pride anymore quite honest um uh know sigh laughter psychology um well initially yeah um really per se although current career involves lot uh psychology lot um uh aspect know trying say um part p part center um well guess career still going uh nursing um sick lately depression healthcare problem uh uh found necessary apply disability social security income starting process 'cause working sigh educating people um making difference mean used dream job dream job uh know future hold uh work um something suppose working people health uh helping way um lately depression time used say never regretted anything 'cause would make best decision thing front um wish time um choice would laughter better 'cause choice seem made made um made world kind shitty lack better word shitty understand sigh strong um believe remember survived lot thing survive get as move um sigh confidence faith um sigh murphy's law kicked as much know uh seems like tried make world better keep getting knocked um almost like wanna give um every time try move forward get knocked back get get exhausting support\", \"um believe remember survived lot thing survive get as move um sigh confidence faith um sigh murphy's law kicked as much know uh seems like tried make world better keep getting knocked um almost like wanna give um every time try move forward get knocked back get get exhausting support system really nobody really sigh um loyal um hardworking um dependable um uh capable um well least used uh intelligent comtemplative um eh uh deep superficial person um yeah guess many year ago um used lot confidence used pretty dynamic person used people would wou say used say centered person knew used help people shoe seem able help sigh sigh cannot think anything right laughter cannot think really anything right much anything fun anymore used however um go movie entertainment venue travel go dinner friend thing um lately really pursuit good day happy day fun day day without something going wrong basically laughter mhm yeah bye\"]\n",
            "    # of sentences: 5\n",
            "0\n",
            "INFO:tensorflow:Saver not created because there are no variables in the graph to restore\n"
          ],
          "name": "stdout"
        },
        {
          "output_type": "stream",
          "text": [
            "INFO:tensorflow:Saver not created because there are no variables in the graph to restore\n"
          ],
          "name": "stderr"
        },
        {
          "output_type": "stream",
          "text": [
            "1\n",
            "INFO:tensorflow:Saver not created because there are no variables in the graph to restore\n"
          ],
          "name": "stdout"
        },
        {
          "output_type": "stream",
          "text": [
            "INFO:tensorflow:Saver not created because there are no variables in the graph to restore\n"
          ],
          "name": "stderr"
        },
        {
          "output_type": "stream",
          "text": [
            "2\n",
            "INFO:tensorflow:Saver not created because there are no variables in the graph to restore\n"
          ],
          "name": "stdout"
        },
        {
          "output_type": "stream",
          "text": [
            "INFO:tensorflow:Saver not created because there are no variables in the graph to restore\n"
          ],
          "name": "stderr"
        },
        {
          "output_type": "stream",
          "text": [
            "3\n",
            "INFO:tensorflow:Saver not created because there are no variables in the graph to restore\n"
          ],
          "name": "stdout"
        },
        {
          "output_type": "stream",
          "text": [
            "INFO:tensorflow:Saver not created because there are no variables in the graph to restore\n"
          ],
          "name": "stderr"
        },
        {
          "output_type": "stream",
          "text": [
            "4\n",
            "INFO:tensorflow:Saver not created because there are no variables in the graph to restore\n"
          ],
          "name": "stdout"
        },
        {
          "output_type": "stream",
          "text": [
            "INFO:tensorflow:Saver not created because there are no variables in the graph to restore\n"
          ],
          "name": "stderr"
        },
        {
          "output_type": "stream",
          "text": [
            "5\n",
            "1024\n",
            "Running... 38 / 47\n",
            "    Currently extracting elmo for participant 453\n",
            "    # of characters: 4\n",
            "[\"yes really good granada hill california um san fernando valley part los angeles love weather like diversity people like go neighborhood one race kind food love beach activity could go theme park aquarium stuff like museum smog um lot creepy guy laughter laughter pretty much traveled around l_a cross country back three time twice seventeen like meeting new people trying different food seeing people live um seventeen ran away boyfriend upstate new york watertown uh like navy army kind town apartment snowed lot sold antique living laughter um getting pass press pass sunset strip music festival friend getting meet rockstars hang like private party laughter outgoing love people um go gym work quite bit find help relieve stress keep energy level going realized rea noticed work couple day feel little tired normal help feel good pretty good calm um worked lot event job dealing like thousand people day people need talk remain calm know customer make feel wanted good realize getting paid 'cause money spending good resolving reso resolving like consumer conflict stuff job drunk friend falling around yelling saying rude thing people kinda started getting loud like telling stop embarrasing saying people mean know wonder like talking people like\", \"talk remain calm know customer make feel wanted good realize getting paid 'cause money spending good resolving reso resolving like consumer conflict stuff job drunk friend falling around yelling saying rude thing people kinda started getting loud like telling stop embarrasing saying people mean know wonder like talking people like might like could attack something know never know l_a laughter really feel guilty anything decision made life think made really good decision always stick moral compass grew church gone year still value know rule ten commandment stuff head slum lord landlord um wish called know proper authority followed court case instead letting like kind bully code year back dating guy wanted move back month know coming l_a going back home decided move started know business event planning picking decided leave try know east coast work tough deciding like leave l_a make jump trace something new experience something new stay degree dental assisting like year like studying communication like radio television broadcasting journalism um somewhat event work wrote magazine couple year trying like get website going like controlling writing going instead know writing wri writing someone else always wanted write always news music art growing really like connie chung like channel\", \"dental assisting like year like studying communication like radio television broadcasting journalism um somewhat event work wrote magazine couple year trying like get website going like controlling writing going instead know writing wri writing someone else always wanted write always news music art growing really like connie chung like channel four newscaster eighty love barbara walter nerd laughter um sister talk family good relationship mom um never really knew dad bother cousin stuff everyone's scattered across country really talk phone communicate facebook like twitter oh go right sleep get tired go sleep pretty good energetic motivated go look event work know event planning stuff really grinding mean kinda hard 'cause gotta talk people get trust see could plan event meet people convince pay event someone else mean generally pretty happy unless something devastating happens like someone get cancer someone know dy would say super like oh god happy time like even keel feel pretty good time talkative friendly could approach stranger talk ease could adapt different situation even scene situation group people used could still jump talk people comfortable make friend adapt wanna make money laughter laughter remember like second grade people used make fun 'cause tall skinny like straight\", \"even keel feel pretty good time talkative friendly could approach stranger talk ease could adapt different situation even scene situation group people used could still jump talk people comfortable make friend adapt wanna make money laughter laughter remember like second grade people used make fun 'cause tall skinny like straight a's one highest grade class people would make fun call giraffe stuff like laughter talkative would say talk everyone laughter friendly need help help someone know oh recently went oceanside visited friend known year went burger hung beach got two year old son like took park played really nice cool visiting seen six month really fun wanna go like area mhm guess maybe could trying find work like business instead working people think pursue think maybe could put little time day really know anything like would wanna erase happen feel good choice made think right path lot thing wanted ball rolling getting g know getting thing done big wanna feel like way um like ten year ago would told work daytime instead going much um friend call mojo laughter um mojo magazine wrote year really push like keep writing keep event keep ball rolling one biggest people know life telling\"]\n",
            "    # of sentences: 4\n",
            "0\n",
            "INFO:tensorflow:Saver not created because there are no variables in the graph to restore\n"
          ],
          "name": "stdout"
        },
        {
          "output_type": "stream",
          "text": [
            "INFO:tensorflow:Saver not created because there are no variables in the graph to restore\n"
          ],
          "name": "stderr"
        },
        {
          "output_type": "stream",
          "text": [
            "1\n",
            "INFO:tensorflow:Saver not created because there are no variables in the graph to restore\n"
          ],
          "name": "stdout"
        },
        {
          "output_type": "stream",
          "text": [
            "INFO:tensorflow:Saver not created because there are no variables in the graph to restore\n"
          ],
          "name": "stderr"
        },
        {
          "output_type": "stream",
          "text": [
            "2\n",
            "INFO:tensorflow:Saver not created because there are no variables in the graph to restore\n"
          ],
          "name": "stdout"
        },
        {
          "output_type": "stream",
          "text": [
            "INFO:tensorflow:Saver not created because there are no variables in the graph to restore\n"
          ],
          "name": "stderr"
        },
        {
          "output_type": "stream",
          "text": [
            "3\n",
            "INFO:tensorflow:Saver not created because there are no variables in the graph to restore\n"
          ],
          "name": "stdout"
        },
        {
          "output_type": "stream",
          "text": [
            "INFO:tensorflow:Saver not created because there are no variables in the graph to restore\n"
          ],
          "name": "stderr"
        },
        {
          "output_type": "stream",
          "text": [
            "4\n",
            "INFO:tensorflow:Saver not created because there are no variables in the graph to restore\n"
          ],
          "name": "stdout"
        },
        {
          "output_type": "stream",
          "text": [
            "INFO:tensorflow:Saver not created because there are no variables in the graph to restore\n"
          ],
          "name": "stderr"
        },
        {
          "output_type": "stream",
          "text": [
            "5\n",
            "1024\n",
            "Running... 39 / 47\n",
            "    Currently extracting elmo for participant 461\n",
            "    # of characters: 12\n",
            "['yeah okay originally like suburb su suburb l_a san gabriel valley like diversity like vibe city lived place happy feel like really thrive like l_a like thing close together lot interesting thing totally different part city mile away uh like traffic like car live mean much like studied music um vocal performance studied music technology thing like yes right um sing opera company day job pay much unless actually working l_a opera day job work call center caters mostly performer actor thing like really good get call call change shift easily actually pretty good gig uh technology gig sometimes know recording live sound stuff kinda wanna get away video work sometimes wanna get away wanna go back find performing interesting like talent like crew laughter kinda wanna get away side start working toward actually wanna life sometimes mean per personal life yeah shell put deal people home know I would kinda rather keep husband cat whatever talk family really many close friend clear throat yeah know I would rather keep uh moderately close family left actually lost lot family last ten year like thank laughter like uh close husband know got couple cousin talk aunt aunt talk bit like interacting', 'kinda rather keep husband cat whatever talk family really many close friend clear throat yeah know I would rather keep uh moderately close family left actually lost lot family last ten year like thank laughter like uh close husband know got couple cousin talk aunt aunt talk bit like interacting every day close together somewhat close mostly sing read write hang try clear mind thought sometimes work try try clear everything see start coming back sometimes s sometimes work sometimes mostly creating thing um contacting family know facebook whatever work mostly free time create thing I would like travel like travel car lot um mean idea like birthday celebration would go road trip like travel um would love travel work thing whatever get much opportunity would like travel seeing see uh particularly traveling car seeing like landscape change seeing people change seeing know feeling vibration area change like seeing seeing know bigger world outside live world like see like leave go back world laughter laughter clear throat um let u see xxx trip like take make drive nevada whether go way vega go state line um cousin would take call exit one trip get first exit highway either another state', \"know bigger world outside live world like see like leave go back world laughter laughter clear throat um let u see xxx trip like take make drive nevada whether go way vega go state line um cousin would take call exit one trip get first exit highway either another state end highway would take would sort impromptu like li day two notice move thing around take actually trip like making mak 'cause take come back sometimes day sometimes overnight small short trip involved get go see thing see um know desert landscape look different season people react different time year different area close home close home close home uh still world away 'cause really time take like two week vacation whatever little thing kinda put thing back perspective clear head thing like mean 'cause sort sense meditation zen get highway get driving freeway like like last time happened may last year last time able actually aunt came cousin ten year younger kinda grew like sister move away inland empire live kinda took last hurrah drove vega looked around came back 'cause actually lived vega awhile like kinda showed show showed local site around came back know overnight trip driving entire\", \"year last time able actually aunt came cousin ten year younger kinda grew like sister move away inland empire live kinda took last hurrah drove vega looked around came back 'cause actually lived vega awhile like kinda showed show showed local site around came back know overnight trip driving entire time laughter kind interesting uh thing inherently unfair people mean elderly child animal people cannot fight back mean cannot fight back actually like see people strong st strong people mean standing advocate think one thing make really mad cruel mean reason know people pe people cannot fight back people who've done nothing deserve kinda really make mad annoyed try walk away situation situation insists following wind lashing somehow either know verbally cutting 'em quip know mean rarely rarely yell somebody try know try walk away defuse work let know annoying get away laughter usually work like legal trouble anything usually find way get leave alone um really like big trouble 'cause think 'cause offputting expected exp expected reaction actually kind cultivated expected reaction 'cause know work get people away really trouble trouble usually trouble person's perspective affect usually situation get long leave alone know walk away uh last time argued\", \"find way get leave alone um really like big trouble 'cause think 'cause offputting expected exp expected reaction actually kind cultivated expected reaction 'cause know work get people away really trouble trouble usually trouble person's perspective affect usually situation get long leave alone know walk away uh last time argued somebody like person per like person per like family member outsider somebody uh last thing think argued husband care motherinlaw 'cause got dementia one reason came inland empire take care 'cause go anywhere l_a mean like hardcore angelino like know know nature also know cheaper live elsewhere laughter um came take care want able stay apartment want move u would cheaper faster easier safer lived u want stay 'cause cannot see inherent danger disease process want stay want able want 'cause mama's boy like mama's girl even though lost mom like four year ago still mama's girl still st still know brings sense satisfaction carry wish care much want wanna get 'em know know happened growing tried give want wanted wanna like sort giving back somebody care somebody feel deserves kinda dangerous know want thing thi something happen yet want remain long 'cause know disease gonna erase eventually eventually put\", \"know brings sense satisfaction carry wish care much want wanna get 'em know know happened growing tried give want wanted wanna like sort giving back somebody care somebody feel deserves kinda dangerous know want thing thi something happen yet want remain long 'cause know disease gonna erase eventually eventually put place give twenty four hour medically trained care handle know amongst 'cause bad getting really shou business living anymore solution right stay time go back house get stressful get annoying handle outside thing run errand take store thing like day day thing make sure ha eats make sure know clean clothes thing like mean partnership dual effort much dual effort would like move u like source really like yelling screaming argument lively discussion laughter know debate meh insurmountable mean life's gonna easy ever worry somebody pull rug long top thing present life gonna easy deal move uh positive influence think probably mother grandmother 'cause mom pretty much single mom grandmother helped raise actually gave lot confidence realistic mean think sort realistic sort downer temperment laughter helped see something cannot get know life's gonna go know mom would say forty forty whether working mcdonald's want life think big influence lived lived\", \"probably mother grandmother 'cause mom pretty much single mom grandmother helped raise actually gave lot confidence realistic mean think sort realistic sort downer temperment laughter helped see something cannot get know life's gonna go know mom would say forty forty whether working mcdonald's want life think big influence lived lived life since passed regret taking care last year mother's life think may clouded decision underlying condition everybody family diabetic take care last year life 'cause busy wanting get home focus get home eat right take insulin right um wound making insulin resistant year 'cause blood sugar high eh like year eating horrible food eat really took toll really actually made sick wondering well would taken care head completely straight vision vi vision thought Were completely complete Were clouded would made better decision behalf especially needed 'em needed step make decision uh wound health catastrophe 'cause kidney well kidney damage wound kidney failure health insurance provider missed wound sort whole catastrophe everything started breaking wound stroke like fifty one small stroke kinda went thinking well taken care better care would able take better care know anything would able prevent death would able make easier would taken care like one huge regret\", \"kidney failure health insurance provider missed wound sort whole catastrophe everything started breaking wound stroke like fifty one small stroke kinda went thinking well taken care better care would able take better care know anything would able prevent death would able make easier would taken care like one huge regret oh know laughter xxx desire take responsibility everyone everything care taking responsibility life mine know people cannot really direct vision individual being cannot know want know going still know ideal want way want everything go want everybody care happy able fit life way best way possible know 'cause being know gonna able gonna able still ideal laughter sometimes look go well want want want thei decision mine usually know really care somebody gonna support go still kinda hard laughter know gotta get um ten twenty year ago probably assertive starting life wound taking care mother mean got sick literally weekend graduated college laughter job lined pull needed take care think would aggressive starting life getting job outside house addition caring getting uh job history credit history thing like thing like built instead becoming totally daughter ten year think probably would done um tell keep learn separate feel need family keep\", \"graduated college laughter job lined pull needed take care think would aggressive starting life getting job outside house addition caring getting uh job history credit history thing like thing like built instead becoming totally daughter ten year think probably would done um tell keep learn separate feel need family keep sense probably would thing keep sense probably advance advice would give ten year ago laughter probably 'cause gone doctor laughter 'cause wanna know mean know there've time life severely depressed usually circumstance pull I would rather pull resorting treatment get ge um mother died mean it'd long battle year lost know blame like logically knew could convince um two week died wound pulmonary embolism one lung take care year figured oh thirty year old know whatever get laughter turn laughter um mean wound take medication uh fight get health back get able get depression 'cause much life based mother's daughter sudden like rug pulled like bottom fell world prilly pretty much sent deep depression um almost got divorced want anything anymore really distant husband time married two year point started getting distant pushing everything away know figuring well gonna rest life fight know mean time could get stay bed sleep\", \"sudden like rug pulled like bottom fell world prilly pretty much sent deep depression um almost got divorced want anything anymore really distant husband time married two year point started getting distant pushing everything away know figuring well gonna rest life fight know mean time could get stay bed sleep day know realizing mother died four cat look two mine two wound adopting two mean well choice whether go get food get know supply took responsibility one motivating factor choice whether gonna get provide mean could go without eating could go without taking care could know eh actually got made go face thing even though want kinda wanted curl die would choice mean would happen take care would know sent shelter whatever probably maybe would readopt home adopted somebody else maybe would killed mean making selfish decision like need somebody take care get bed laughter actually motivating factor 'cause figured I would able live without lot stuff mean would able live car wanted would big deal would care long wanted life family look go thing know go look legitimate work know day know day job know trying strike balance two wanna life yet take care family working balance two laughter\", \"I would able live without lot stuff mean would able live car wanted would big deal would care long wanted life family look go thing know go look legitimate work know day know day job know trying strike balance two wanna life yet take care family working balance two laughter worth mean would I would lot le thing worry lived car said forget laughter keeping residence paying bill thing like difficult know want want anything anyth ever want anything life go know get hard sometimes wanna give like well alternative mean think could live comfortable life 'cause would anything laughter slightly uncomfortable gonna anything gonna content hang day stay bed hang cat whatever would get anything done uh anxious nervous mean find enough know enough work able pay rent whatever um know cannot keep semblance stability life actually hard work stable laughter know hard work stable know eh lot ifs think thing happened stupid pointless worry thing happened know still happens ha still creep actually source anxiety try let anxiety go getting thing done figuring thing making solid plan going know cycle go really anxious oh god gonna gonna saying okay fundamental thing need take mean wha extraneous c actual\", \"think thing happened stupid pointless worry thing happened know still happens ha still creep actually source anxiety try let anxiety go getting thing done figuring thing making solid plan going know cycle go really anxious oh god gonna gonna saying okay fundamental thing need take mean wha extraneous c actual non issue actual issue figure figure thing way anxiety start go away little bit something'll pop ifs come mm uh figure laughter know cycle know um seems huge surface start chipping away get pretty quickly get last time felt really happy know zz um huh laughter good question actually ac actually surprisingly stumped feel happy sometimes sometimes much sometimes kinda eh middle um really like overjoyously happy know cannot think happened know know perception people mean probably somebody oddly enough somebody laid back know handle thing come see probably think foot afraid hussle butt whatever survive get thing done um creatively try strive balance probably probably best thing laughter basically want life even though easy um know financially well anything still lot lot people say life 'cause aunt really talk reason talk always miserable mean got career job fell 'cause older aunt uh love animal wanna veterinarian became dog groomer\"]\n",
            "    # of sentences: 12\n",
            "0\n",
            "INFO:tensorflow:Saver not created because there are no variables in the graph to restore\n"
          ],
          "name": "stdout"
        },
        {
          "output_type": "stream",
          "text": [
            "INFO:tensorflow:Saver not created because there are no variables in the graph to restore\n"
          ],
          "name": "stderr"
        },
        {
          "output_type": "stream",
          "text": [
            "1\n",
            "INFO:tensorflow:Saver not created because there are no variables in the graph to restore\n"
          ],
          "name": "stdout"
        },
        {
          "output_type": "stream",
          "text": [
            "INFO:tensorflow:Saver not created because there are no variables in the graph to restore\n"
          ],
          "name": "stderr"
        },
        {
          "output_type": "stream",
          "text": [
            "2\n",
            "INFO:tensorflow:Saver not created because there are no variables in the graph to restore\n"
          ],
          "name": "stdout"
        },
        {
          "output_type": "stream",
          "text": [
            "INFO:tensorflow:Saver not created because there are no variables in the graph to restore\n"
          ],
          "name": "stderr"
        },
        {
          "output_type": "stream",
          "text": [
            "3\n",
            "INFO:tensorflow:Saver not created because there are no variables in the graph to restore\n"
          ],
          "name": "stdout"
        },
        {
          "output_type": "stream",
          "text": [
            "INFO:tensorflow:Saver not created because there are no variables in the graph to restore\n"
          ],
          "name": "stderr"
        },
        {
          "output_type": "stream",
          "text": [
            "4\n",
            "INFO:tensorflow:Saver not created because there are no variables in the graph to restore\n"
          ],
          "name": "stdout"
        },
        {
          "output_type": "stream",
          "text": [
            "INFO:tensorflow:Saver not created because there are no variables in the graph to restore\n"
          ],
          "name": "stderr"
        },
        {
          "output_type": "stream",
          "text": [
            "5\n",
            "1024\n",
            "Running... 40 / 47\n",
            "    Currently extracting elmo for participant 462\n",
            "    # of characters: 6\n",
            "[\"synch yes okay pretty good feeling little tired uh feeling pretty good part um redondo beach yep like beach like mountain love could go surfing morning go snowboarding day um like go hiking mountain santa monica mountain exact like traffic like congestion people like price cost living specific area uh trying actually um last year summer really road tripping getting girlfriend um looking go costa rica hopefully south america summer maybe even road trip south see southern state uh canada mexico ecuador various state trying get love meeting new people love experiencing new thing trying different diffing different food native local area part journey love exploring know planet call earth um recently went seattle canada couple friend uh gorgeous uh flew seattle saw city first two three day rented car headed vancouver canada saw british columbia boy gorgeous lush beautiful tree uh climate nice ocean right people great fun trip around yeah deep breath sigh one memorable sigh memorable experience probably uh trip took colorado last summer uh girlfriend flew denver really plan knew knew couple people living um day uh contacted telling 'em coming area showed great hospitality picked u airport let u crash place couple day even let\", \"around yeah deep breath sigh one memorable sigh memorable experience probably uh trip took colorado last summer uh girlfriend flew denver really plan knew knew couple people living um day uh contacted telling 'em coming area showed great hospitality picked u airport let u crash place couple day even let u use car explore state go wyoming see neighbor north great trip great people everything worked well every day something new fun yeah uh studied business management uh economics right um always wanted business figured management good uh foundation build uh learn decided go management see various aspect take really manage business um economics long term investment really wanted start earning stock e_t_fs mutual fund start buidling portfolio figured economics would great way long term investment financially economics yeah really stoked one best decision probably life yeah consider outgoing pretty friendly mind open people stuff sigh like outside like go hiking like go um working gym mostly like outdoors love nature outside put ease pretty good part pretty mellow chill guy get angry uh last like couple minute know blow tend hold thing stay angry hold grudge 'cause need life's short um see cannot even remember last time argued anybody\", \"hiking like go um working gym mostly like outdoors love nature outside put ease pretty good part pretty mellow chill guy get angry uh last like couple minute know blow tend hold thing stay angry hold grudge 'cause need life's short um see cannot even remember last time argued anybody idea probably uh brother girlfriend got little little argument uh like two birthday ago awkward kinda ever since um wish would handled right rather letting stretch long awkward party wish would communicated told 'em know set difference aside let u communicate try see come solution awkward yeah hardest decision ever make man toughy think many tough decision really say hardest decision ever make um maybe moving colorado undergrad two three year ago little tough 'cause kinda think nothing really tough life really hard decision really feel guilty anything pretty good person think part could think anything something could wish could erase memory um nothing really honest love memory usually positive part know kinda weird somebody say lived pretty good life happy yeah uh cool um pretty independent part see 'em go long period time contact maybe couple week sometimes even month uh see 'em good know like say hi show\", \"erase memory um nothing really honest love memory usually positive part know kinda weird somebody say lived pretty good life happy yeah uh cool um pretty independent part see 'em go long period time contact maybe couple week sometimes even month uh see 'em good know like say hi show 'em love 'em still mean like contact 'em could always contact uh good part guess young adult mm girlfriend's family uh positive life uh think I would different direction 'cause high school really care higher education care really thinking long term uh seeing th family think differently like higher education get somewhere life thing could lead successful uh accounting practice seeing influenced achieve higher life yeah pretty easy part close eye wake morning tired sometimes could sense little drained uh maybe get little groggy feeling pretty good part little stressed 'cause final uh next week uh really really wanna well know close last semester graduate two week um part thing really nervous part really excited looking forward going maui week graduation fired fired see future hold gonna live l girlfriend gonna live trip planned summer excited done school little yeah never diagnosed p_t_s_d never diagnosed depression sigh last time felt\", \"know close last semester graduate two week um part thing really nervous part really excited looking forward going maui week graduation fired fired see future hold gonna live l girlfriend gonna live trip planned summer excited done school little yeah never diagnosed p_t_s_d never diagnosed depression sigh last time felt really happy probably seeing girlfriend graduate couple day ago uh graduated nursing school monday uh see walk across stage stuff 'cause together six year seeing go nursing program five seeing ups down really good see somebody strive achieve want achieve made really proud yeah probably outgoing friendly positive vibe around adventurous love sport team player know leader uh get little outspoken sometimes really part really little motivated used motivated right maybe 'cause done school feel motivated wanna motivated determined right going way right mhm biggie sigh oh man could cannot really think time went caving two week ago lot fun uh went sequoia national park uh went caving r_t_m class like uh recreational tourism management class caving elective professor like world renowned cave specialist took u various cave uh sequoia stranger classmate becoming really good friend end lot fun rappelling cave climbing back going different room chute lot fun yeah\", \"uh went sequoia national park uh went caving r_t_m class like uh recreational tourism management class caving elective professor like world renowned cave specialist took u various cave uh sequoia stranger classmate becoming really good friend end lot fun rappelling cave climbing back going different room chute lot fun yeah ten twenty year ago I would probably say stay focused school little le social aspect uh kinda stick one sport see far could get ya um sigh sometimes playing hockey uh middle school hockey sometimes someti mean middle school high school sometimes um pretty much proud sigh uh really proud graduating getting bachelor's looking get full time job work law firm something going um really proud motivated determined person long term wise w long term thinking wise wellrounded person really wanna explore world kinda proud opened eye different perspective really open mind people rather judging 'em know liberty let 'em want uh really proud finally getting bachelor's hopefully going m_b_a couple year sure bye\"]\n",
            "    # of sentences: 6\n",
            "0\n",
            "INFO:tensorflow:Saver not created because there are no variables in the graph to restore\n"
          ],
          "name": "stdout"
        },
        {
          "output_type": "stream",
          "text": [
            "INFO:tensorflow:Saver not created because there are no variables in the graph to restore\n"
          ],
          "name": "stderr"
        },
        {
          "output_type": "stream",
          "text": [
            "1\n",
            "INFO:tensorflow:Saver not created because there are no variables in the graph to restore\n"
          ],
          "name": "stdout"
        },
        {
          "output_type": "stream",
          "text": [
            "INFO:tensorflow:Saver not created because there are no variables in the graph to restore\n"
          ],
          "name": "stderr"
        },
        {
          "output_type": "stream",
          "text": [
            "2\n",
            "INFO:tensorflow:Saver not created because there are no variables in the graph to restore\n"
          ],
          "name": "stdout"
        },
        {
          "output_type": "stream",
          "text": [
            "INFO:tensorflow:Saver not created because there are no variables in the graph to restore\n"
          ],
          "name": "stderr"
        },
        {
          "output_type": "stream",
          "text": [
            "3\n",
            "INFO:tensorflow:Saver not created because there are no variables in the graph to restore\n"
          ],
          "name": "stdout"
        },
        {
          "output_type": "stream",
          "text": [
            "INFO:tensorflow:Saver not created because there are no variables in the graph to restore\n"
          ],
          "name": "stderr"
        },
        {
          "output_type": "stream",
          "text": [
            "4\n",
            "5\n",
            "1024\n",
            "Running... 41 / 47\n",
            "    Currently extracting elmo for participant 465\n",
            "    # of characters: 3\n",
            "[\"yes okay um pennsylvania mhm um well boston couple year moved three half year ago um satisfied quality life um maybe twice last year got back year um definitely safer um definitely um well miss 'cause lot family back l_a okay mean everyone love climate um easy two really good friend boyfriend three year help um definitely took bit adjustment um advertising communication um currently working actually working right moment um wanna osteopathic physician um basically versus western medicine osteopathic physician someone help someone symptom treat symptom treat whole person look nutrition look diet exercise um variety thing actually get someone live healthier life versus medication thing commonly prescribed western medicine um well one great thing came l_a um exposed degree never heard living east coast um sometimes um well particular people like surround um eh like socialize lot people mean tend um like small intimate group tend like larger bigger group um eh people take account people's feeling um usually try go walk get laughter irritated um usually really good really take lot spill yell become upset um sigh let u see uh mm lawyer handling case yeah uh know think little bit mediocre best lawyer idea laughter um\", \"bigger group um eh people take account people's feeling um usually try go walk get laughter irritated um usually really good really take lot spill yell become upset um sigh let u see uh mm lawyer handling case yeah uh know think little bit mediocre best lawyer idea laughter um trustworthy loyal um care deeply like try help people um always like try cheer people laughter think would 'em yes um month ago last six month um experiencing mental issue I would never really came across paranoia anxiety knew um knew could overcome um lot better lot yoga meditation um kinda seeing thing different per view another ano per pe per view different view um helped definitely time kind sink back thinking event especially event caused stop working um think know difficulty public um still dealing anxiety paranoia something may happen um lot time day happened comfortable going day tend go morning evening um like go place one way one way um well gradually trying increase much outside um usually deep breathing um lot breathing exercise try say basically thinking going real um try laughter try get go place gradually lot better since uh last couple month much pretty much\", \"go morning evening um like go place one way one way um well gradually trying increase much outside um usually deep breathing um lot breathing exercise try say basically thinking going real um try laughter try get go place gradually lot better since uh last couple month much pretty much stayed home um good um good hear someone's feedback um feel like gotten help inner talk kind sitting journaling um sigh well feel like like huge improvement um cautious er guarded way thought um decision well oh know really think consequence thing want life um gotten better okay ok better um first three month difficult could sleep night woke maybe two three time would awake couple hour um sleeping night um feel f groggy sigh k feel foggy um low kind depressed mm sigh um think awhile um working laughter bit workaholic um spending time family um yeah outside enjoying nature reading um close um scrubbed_entry um well parent 'cause always supporting loving um giving feedback decision choosing allowing make um decision choice life sister always um know always checking baby youngest family always um looking checking boyfriend xxx um incident happened um uh usually supportive letting kind talk work\"]\n",
            "    # of sentences: 3\n",
            "0\n",
            "INFO:tensorflow:Saver not created because there are no variables in the graph to restore\n"
          ],
          "name": "stdout"
        },
        {
          "output_type": "stream",
          "text": [
            "INFO:tensorflow:Saver not created because there are no variables in the graph to restore\n"
          ],
          "name": "stderr"
        },
        {
          "output_type": "stream",
          "text": [
            "1\n",
            "INFO:tensorflow:Saver not created because there are no variables in the graph to restore\n"
          ],
          "name": "stdout"
        },
        {
          "output_type": "stream",
          "text": [
            "INFO:tensorflow:Saver not created because there are no variables in the graph to restore\n"
          ],
          "name": "stderr"
        },
        {
          "output_type": "stream",
          "text": [
            "2\n",
            "INFO:tensorflow:Saver not created because there are no variables in the graph to restore\n"
          ],
          "name": "stdout"
        },
        {
          "output_type": "stream",
          "text": [
            "INFO:tensorflow:Saver not created because there are no variables in the graph to restore\n"
          ],
          "name": "stderr"
        },
        {
          "output_type": "stream",
          "text": [
            "3\n",
            "4\n",
            "5\n",
            "1024\n",
            "Running... 42 / 47\n",
            "    Currently extracting elmo for participant 466\n",
            "    # of characters: 5\n",
            "['yes good thank um born mexico city yes um thirty four year ago yeah laughter um try go back year three year um time traveled place planning going back probably next year um well cannot ever see moving back mexico city huge huge city like l_a opportunity feel home family moved um like said young parent moved um california work stayed um love traveling traveled much would like um love travel um seeing new thing meeting people country um feeling relaxed worry vacation um love place um last trip took seven day cruise went saint thomas barbados saint lucia um saint martin amazing would love trip um think sigh going mexico last time went pyramid teotihuacan many year amazing see pyramid cannot even imagine able build great um structure uh consider shy um social situation kind feel uncomfortable um one go people start conversation um people come course talk feel slightly awkward kind place party um actually studied history laughter um always interested history wanted learn history culture course u_s history uh history um actually working uh education field dream job would actually um traveling around world show like travel channel laughter would dream job would get paid travel something', 'slightly awkward kind place party um actually studied history laughter um always interested history wanted learn history culture course u_s history uh history um actually working uh education field dream job would actually um traveling around world show like travel channel laughter would dream job would get paid travel something enjoy um would love job laughter laughter um love reading love taking bath relax like take bath read bath um also like going gym help uh deal stress actually relaxes even though exercising um used good controlling kid would get mad um easily sometimes adult still get angry easily gotten lot better trying think thing first saying outburst thing like um last time argued somebody probably week ago um best friend actually kid reason thought think think better person went school home kid know able thing um think ever made feel definitely know feel like better reason accused argument um well situation wish handled differently um talking upset started pretty calm trying reason let know certaintly feel like better towards end conversation kinda turned yelling match two u wish able stay calm maybe asked call later calmed instead continuing argument um angry first hung felt really bad situation felt maybe', 'well situation wish handled differently um talking upset started pretty calm trying reason let know certaintly feel like better towards end conversation kinda turned yelling match two u wish able stay calm maybe asked call later calmed instead continuing argument um angry first hung felt really bad situation felt maybe could let let feeling try speak calmly um instead yelling oh wow um tough one think um gosh think one toughest tough hardest decision make breaking boyfriend seven year um although knew right thing kind hanging fact together many year kinda felt ending relationship um would wasted last seven year life pretty tough decision make realized best decision time actually glad went meet um husband laughter thank um well would say maybe fifteen year ago hanging couple friend club met guy um invited u back place really wanna go know people mean knew name friend really wanted go one driving decided go along back house um one guy actually pulled room tried got scared yelled tried choke thought gonna die right right thought gonna kill luckily one friend knocked door heard scream left could worse situation still think wish could erase mind um pretty good relationship close sister brother um', \"decided go along back house um one guy actually pulled room tried got scared yelled tried choke thought gonna die right right thought gonna kill luckily one friend knocked door heard scream left could worse situation still think wish could erase mind um pretty good relationship close sister brother um sister two year younger brother two year older get along pretty well um sister used best friend grew apart um actually closer think ever pretty good relationship parent um dad still treat like little kid sometimes laughter annoys think pretty good solid relationship yeah um sigh usually wake time throughout night um think rare sleep uh whole night ever um feel little like tired morning wake hard morning person definitely um yeah kinda hard get good night's sleep um know hard time falling asleep sometimes bad dream need get use restroom um yeah remember last time actually slept whole night without waking least um emotionally good um actually vacation right work really nice um physically feel good gym kinda make feel bad um 'cause like working um health wise good laughter um last la past weekend actually went town husband go far went santa barbara really enjoyed um went wine\", \"without waking least um emotionally good um actually vacation right work really nice um physically feel good gym kinda make feel bad um 'cause like working um health wise good laughter um last la past weekend actually went town husband go far went santa barbara really enjoyed um went wine tasting went beach really good time um would probably describe good caring person um patient shy um she'd probably say hard time saying people ask favor 'cause always thing people um yeah think would describe wish outgoing um wish else definitely outgoing um could friend large group friend shy um also wish could patience laughter sometimes short patience um wish could find better job could traveling um yes actually took really long time high school go back school get degree really wish could know taken care lot sooner um also regret spending seven year life ex boyfriend um would told stay focused school going hanging know going party um important thought education always come first um proud many year school able go u_c_l_a get degree um yeah would proudest achievement laughter okay thank bye\"]\n",
            "    # of sentences: 5\n",
            "0\n",
            "INFO:tensorflow:Saver not created because there are no variables in the graph to restore\n"
          ],
          "name": "stdout"
        },
        {
          "output_type": "stream",
          "text": [
            "INFO:tensorflow:Saver not created because there are no variables in the graph to restore\n"
          ],
          "name": "stderr"
        },
        {
          "output_type": "stream",
          "text": [
            "1\n",
            "INFO:tensorflow:Saver not created because there are no variables in the graph to restore\n"
          ],
          "name": "stdout"
        },
        {
          "output_type": "stream",
          "text": [
            "INFO:tensorflow:Saver not created because there are no variables in the graph to restore\n"
          ],
          "name": "stderr"
        },
        {
          "output_type": "stream",
          "text": [
            "2\n",
            "INFO:tensorflow:Saver not created because there are no variables in the graph to restore\n"
          ],
          "name": "stdout"
        },
        {
          "output_type": "stream",
          "text": [
            "INFO:tensorflow:Saver not created because there are no variables in the graph to restore\n"
          ],
          "name": "stderr"
        },
        {
          "output_type": "stream",
          "text": [
            "3\n",
            "INFO:tensorflow:Saver not created because there are no variables in the graph to restore\n"
          ],
          "name": "stdout"
        },
        {
          "output_type": "stream",
          "text": [
            "INFO:tensorflow:Saver not created because there are no variables in the graph to restore\n"
          ],
          "name": "stderr"
        },
        {
          "output_type": "stream",
          "text": [
            "4\n",
            "INFO:tensorflow:Saver not created because there are no variables in the graph to restore\n"
          ],
          "name": "stdout"
        },
        {
          "output_type": "stream",
          "text": [
            "INFO:tensorflow:Saver not created because there are no variables in the graph to restore\n"
          ],
          "name": "stderr"
        },
        {
          "output_type": "stream",
          "text": [
            "5\n",
            "1024\n",
            "Running... 43 / 47\n",
            "    Currently extracting elmo for participant 467\n",
            "    # of characters: 9\n",
            "['sure pretty good new york uh moved l_a seventy yeah lived lot different place um guess every year travel lot lived lived africa lived spain switzerland hong kong um different culture food music ritual uh everything smell color make feel alive excuse one trip uh lived kenya year um I would say love horseback riding uh viewing animal kind disguised scent horse approach animal lot closer um great seeing red orange fall sunset riding along know uh seeing many animal yeah kenya um probably went masai village happened used live hawaii tahiti wearing one pareos hand painted tied left shoulder twisted knot happened enter masai village first time uh day looked around men wearing clothing exactly twist laughter shoulder came said dressed masai uh laughter um came back gave appeared uh large looked like beaded leather bookmark actually earring would like weighed ear straight um gave bracelet uh wear something around waist said look proper masai laughter yeah lot uh think living getting chance live different country around world uh feel alive sens completely know uh awoken yeah sigh think clear cut think lot people hybrid mean think extremely shy sometimes extremely brazen uh courageous time probably one best virtue', \"around waist said look proper masai laughter yeah lot uh think living getting chance live different country around world uh feel alive sens completely know uh awoken yeah sigh think clear cut think lot people hybrid mean think extremely shy sometimes extremely brazen uh courageous time probably one best virtue gutsy person really feel passionate something risk everything go achieve sometimes um believe um usually well make decision quickly find friend make decision slowly said tell make decision quicker told said well case always choice say mean hundred choice said really gut wise one really matter waste time physical energy emotional energy mental energy reflecting gut wise always know choice really wanna matter whether ninety eight percent chance failure even two percent chance success go one may yield joy always go waste total time energy even think another choice 'cause care remain unscathed yield joy uh pardon said put fish annoyed um sigh tisk think annoyed sometimes sometimes need little patient um guess really put somebody else's shoe rather way would react empathy um really think reason enjoy traveling much 'cause put situation forced um understand people's life lot regardless different uh different situation many third world country lived many\", \"annoyed um sigh tisk think annoyed sometimes sometimes need little patient um guess really put somebody else's shoe rather way would react empathy um really think reason enjoy traveling much 'cause put situation forced um understand people's life lot regardless different uh different situation many third world country lived many different situation help create travel really best education sigh let think um tisk uh sigh last time argued something um god trying remember laughter um oh think somebody respect actually privacy something um uh sigh oh know um somebody belonged uh uh scientology faith um uh inherited inherited um possibly uh immune disorder mother mother died lupus um uh sometimes even right like skin rash welt everything photo sensitive um tisk know episode big flare really feeling well felt flushed everything scientologist tell needed audited um said something aware past life told buddhist kind curious going try recruit somebody convert religion least find person religion even informed able talk said aware um tisk something past go yes believe many religion uh including buddhism scientology believe thing ha history sometimes affect thing keep anger issue bitterness um resulting even past relationship parent affect make even sick make even cancer yes believe\", \"religion least find person religion even informed able talk said aware um tisk something past go yes believe many religion uh including buddhism scientology believe thing ha history sometimes affect thing keep anger issue bitterness um resulting even past relationship parent affect make even sick make even cancer yes believe also also believe said know power person god like buddha like nature go ahead make even verge possibly probably get one cold maybe every fifteen year tendency sick large part think think verge take sort like even child uh seven would fold boo boo would take ta would say would good part know help bad part laughter simplistic way term child would actually even severe car accident got cut glass whole back concentrated healing went back hospital doctor actually nurse come say incredible jj last week back severely cut incredible healing thing believe uh um uh think annoyed irritated little scientologist told taken twenty forty course certificate wall felt enlightened even matter said whether um whether took twenty forty course whether I would practicing buddhism whether five ten fifteen twenty year whether somebody'd practicing type christianity fifty year bending sitting church pew every day mean person could never attended church\", \"scientologist told taken twenty forty course certificate wall felt enlightened even matter said whether um whether took twenty forty course whether I would practicing buddhism whether five ten fifteen twenty year whether somebody'd practicing type christianity fifty year bending sitting church pew every day mean person could never attended church spiritual somebody know thinking antithesis somebody say enlightened way guess kept cramming uh know faith throat pretty patient pompous became irritated especially kept telling audited yet person needed hip surgery uh following week point 'cause wanna get one could say hey bad hip 'cause need audited something past otherwise would need get hip surgery mean believe extent thing caused people flippantly said well aware scientologists believe past life also affect know thinking buddhist religion kind like well known know believing cause effect past life situation found thought really read trying convert people laughter religion um tisk know know know care fact would drop laughter mean sigh um uh sigh sometimes little tact guess term patience think right away guess uh disconnecting father like vegetable hospital mm sigh mm brother uh supposed strong one supposedly medical field sister said well know medical one probably used seeing time turn weakest one even\", \"fact would drop laughter mean sigh um uh sigh sometimes little tact guess term patience think right away guess uh disconnecting father like vegetable hospital mm sigh mm brother uh supposed strong one supposedly medical field sister said well know medical one probably used seeing time turn weakest one even know bos father kept know um um know bucking body would actually fighting artificial respirator kind thing see jerking body movement stuff hard mm know uh know even physician even uh pastor particular uh hospital ho know hospital said longer like even awaken brain function would b know negligible yeah mhm hm mm think really many thing traumatic happened block really know within makeup make feel like need like keep friend unmitigated issue even aware affect behavior maybe bitterness anger hatred fear reason feel blessed really cannot really even think something mean bad situation happen reason traumatized affecting know behavior would block aware something hold residual negativity reason really cannot think anything mean bad thing happen know like feel like necessary block 'cause able know um accept sometimes sometimes unfortunate thing happened pretty easy usually make sleep self sleep situation one hour flight san francisco could kind lean window pillow\", \"would block aware something hold residual negativity reason really cannot think anything mean bad thing happen know like feel like necessary block 'cause able know um accept sometimes sometimes unfortunate thing happened pretty easy usually make sleep self sleep situation one hour flight san francisco could kind lean window pillow blanket even hour flight pas plane even taken ground j literally little sleep uh high energy really need much sleep say like africa tisk bumpy potholed unpaved road suddenly saw need moment sleep prop something put elbow window say think gonna take nap laughter fifteen minute go like jostling coud take nap fifteen minute really ha problem okay pretty okay mean could deal without skin flare ups know photo sensitivity pretty good spirt uh huh ever studied studied uh could still could hear sorry ever studied change ch change behavior word um uh uh um sigh know friend everything even past week seeing friend enjoy great meal laughing know good time listening music regret entire life mean talking recently talking mm know funny uh find lot negative experience life happened also uh um opened experience also great overlooked example got totally ripped business partner tune whole wh whole saving start\", \"past week seeing friend enjoy great meal laughing know good time listening music regret entire life mean talking recently talking mm know funny uh find lot negative experience life happened also uh um opened experience also great overlooked example got totally ripped business partner tune whole wh whole saving start sometimes people sat like sure okay pretending okay angry wanna seek revenge know 'cause business partner essentially ripped knew other's family even difficult way um uh stole essentially whole life's saving essentially way w got sent prison f_b_i involved interpol involved uh living switzerland father sick going back forth um tisk uh know get involved ha gotten involved business would lot rich experience think sometimes reason know positive person reason uh able purposely trying see positiveness even horrible situation would gotten live barcelona zurich would learned speak good spanish german g german uh lived europe gotten involved business business partner ended ripping lot experience different friendship developed period time way total different life uh different world would know would never um chance know live involved know course cost financially always type person know money everything think least cared money made go laughter example one favorite time life probably lived kenya\", \"ended ripping lot experience different friendship developed period time way total different life uh different world would know would never um chance know live involved know course cost financially always type person know money everything think least cared money made go laughter example one favorite time life probably lived kenya would think know lot people really bad vision maybe looking living mud dung hut something living primitively mean like would think least amount uh technological tech technological innovation stuff like mean actually really know much many many material good time mean blast probably one best year life living kenya thing probably fifteen sixteen um live life passion like choose way saying earlier making decision make decision gut wise give sense awe wonderment would make give joy regardless percentage even one percent chance success go towards 'cause thing yield know happiness life tisk fact adhered brazen whatever wanna say ball chutzpah cojones go ahead follow passion know guess people call sometimes strong decision usually decision easy ea remain unscathed usually yield joy murphy's law way sure bye\"]\n",
            "    # of sentences: 9\n",
            "0\n",
            "INFO:tensorflow:Saver not created because there are no variables in the graph to restore\n"
          ],
          "name": "stdout"
        },
        {
          "output_type": "stream",
          "text": [
            "INFO:tensorflow:Saver not created because there are no variables in the graph to restore\n"
          ],
          "name": "stderr"
        },
        {
          "output_type": "stream",
          "text": [
            "1\n",
            "INFO:tensorflow:Saver not created because there are no variables in the graph to restore\n"
          ],
          "name": "stdout"
        },
        {
          "output_type": "stream",
          "text": [
            "INFO:tensorflow:Saver not created because there are no variables in the graph to restore\n"
          ],
          "name": "stderr"
        },
        {
          "output_type": "stream",
          "text": [
            "2\n",
            "INFO:tensorflow:Saver not created because there are no variables in the graph to restore\n"
          ],
          "name": "stdout"
        },
        {
          "output_type": "stream",
          "text": [
            "INFO:tensorflow:Saver not created because there are no variables in the graph to restore\n"
          ],
          "name": "stderr"
        },
        {
          "output_type": "stream",
          "text": [
            "3\n",
            "INFO:tensorflow:Saver not created because there are no variables in the graph to restore\n"
          ],
          "name": "stdout"
        },
        {
          "output_type": "stream",
          "text": [
            "INFO:tensorflow:Saver not created because there are no variables in the graph to restore\n"
          ],
          "name": "stderr"
        },
        {
          "output_type": "stream",
          "text": [
            "4\n",
            "INFO:tensorflow:Saver not created because there are no variables in the graph to restore\n"
          ],
          "name": "stdout"
        },
        {
          "output_type": "stream",
          "text": [
            "INFO:tensorflow:Saver not created because there are no variables in the graph to restore\n"
          ],
          "name": "stderr"
        },
        {
          "output_type": "stream",
          "text": [
            "5\n",
            "1024\n",
            "Running... 44 / 47\n",
            "    Currently extracting elmo for participant 469\n",
            "    # of characters: 3\n",
            "['yes good new york city well uh originally born uh spent time back east um moved back um basically sort raised enjoying great weather um uh amusement park lot scenery lot people uh lot energy excitement many thing really like l_a see uh lot congestion pollution try uh nice open road uh mm potentially potelingly time think life shy sometimes find hard express thought well mentioned fish tank uh view spent time many waiting room fishtanks uh uh staring fishtanks could one uh also enjoy walking uh lifting weight reading going movie say thing uh good moderate uh good um control argued today okay last argument today got um say taking bus stop uh uh making arrangement feel guilty taking better care pet sure like bird one pet bird uh recently let bird wild sort wish planned better um future bird uh sort wish bird uh closer hm would say get argument people close friend sometimes handle well reactive wish uh I would like see improve uh um least know sort legal trouble uh think know kind way would like handled guess hardest decision proceed moving forward eh job opportunity decide whether would suffer emotional pain leaving family whether financial', 'get argument people close friend sometimes handle well reactive wish uh I would like see improve uh um least know sort legal trouble uh think know kind way would like handled guess hardest decision proceed moving forward eh job opportunity decide whether would suffer emotional pain leaving family whether financial gain uh knowledge experience would outweigh benefit uh yes yes well small family um mother uh sister brother uh two younger niece older grown adult uh good relationship uh thing could better um sometimes sort difficult pain staking uh relationship time uh day need time would rather give time people rather take time experience uh caused lot lot emotional pain uh little bit spiritual uh anxiety future continue sort thing wow many thing laughter know anything would say uh well um recent um well thing going pretty good cannot really say anything yet would really want change anything regret remember pretty good uh uh I would say okay uh handling sleep pretty well sleep well sometimes irritable um sometimes okay uh uh would say also time unhappy try get much sleep need yes believe uh nineteen uh glad yes uh sort uh yes um well uh guess suppose made confident', \"pretty good uh uh I would say okay uh handling sleep pretty well sleep well sometimes irritable um sometimes okay uh uh would say also time unhappy try get much sleep need yes believe uh nineteen uh glad yes uh sort uh yes um well uh guess suppose made confident person um tune uh uh country living people uh noticeable watchful live um hanging friend uh really nice weekend uh boat uh skiff really small boat um trying fish felt uh free alive um happy um uninhibited uh strong confident uh mature military uh military took time evaluate thought uh future um sort took uh necessary step uh move ahead uh sort hard um uh easy uh lot family uh help um community uh took adjusting easy uh uh know week um partially today happy's uh happy sort often happy content happy happy know uh usually happy try stay center line weekend um early um get enjoy day um hook friend uh little bit socializing uh maybe get form uh view form artistic expression maybe like museum uh stare art uh maybe something local community maybe street art uh perhaps something music uh something something nature wish perhaps uh thing\"]\n",
            "    # of sentences: 3\n",
            "0\n",
            "INFO:tensorflow:Saver not created because there are no variables in the graph to restore\n"
          ],
          "name": "stdout"
        },
        {
          "output_type": "stream",
          "text": [
            "INFO:tensorflow:Saver not created because there are no variables in the graph to restore\n"
          ],
          "name": "stderr"
        },
        {
          "output_type": "stream",
          "text": [
            "1\n",
            "INFO:tensorflow:Saver not created because there are no variables in the graph to restore\n"
          ],
          "name": "stdout"
        },
        {
          "output_type": "stream",
          "text": [
            "INFO:tensorflow:Saver not created because there are no variables in the graph to restore\n"
          ],
          "name": "stderr"
        },
        {
          "output_type": "stream",
          "text": [
            "2\n",
            "INFO:tensorflow:Saver not created because there are no variables in the graph to restore\n"
          ],
          "name": "stdout"
        },
        {
          "output_type": "stream",
          "text": [
            "INFO:tensorflow:Saver not created because there are no variables in the graph to restore\n"
          ],
          "name": "stderr"
        },
        {
          "output_type": "stream",
          "text": [
            "3\n",
            "INFO:tensorflow:Saver not created because there are no variables in the graph to restore\n"
          ],
          "name": "stdout"
        },
        {
          "output_type": "stream",
          "text": [
            "INFO:tensorflow:Saver not created because there are no variables in the graph to restore\n"
          ],
          "name": "stderr"
        },
        {
          "output_type": "stream",
          "text": [
            "4\n",
            "5\n",
            "1024\n",
            "Running... 45 / 47\n",
            "    Currently extracting elmo for participant 470\n",
            "    # of characters: 4\n",
            "[\"yes uh fine today today daughter's birthday california yes um beach love water gang violence violence um lost lot friend growing um elementary high school losing gang violence yeah thank pretty tough laughter um place california yet really um optician certified optician also associate's degree um actually went really know wanted first applied knew wanted change life something successful um settled know daughter everything um actually guidance counselor kind helped always thought like cool 'cause white long lab coat optometrist um 'cause already optician like first step um good question would able business would something successful leave daughter would really want anything would like family business help community well something could leave daughter uh daughter five year old uh starting elementary school next week today birthday uh five year ago laughter um smart um taught home home schooled five year um adorable heart like hardest job ever laughter hard providing providing uh making sure wash clothes um 'cause 'cause mean hard enough um parent young parent little mature father um providing part would basically say making sure everything need complicated let alone um give enthusiasm go extra mile um even today probably would still bed today daughter's party trying make\", \"providing uh making sure wash clothes um 'cause 'cause mean hard enough um parent young parent little mature father um providing part would basically say making sure everything need complicated let alone um give enthusiasm go extra mile um even today probably would still bed today daughter's party trying make whatever extra little money could make know make sure good day uh going extra mile anything provide pro provide hard job um moment day child tell much care um daughter favorite thing tell heart know many mean call name sense reality um called mom call call dad like infatuates also let know like reality life living right good feeling best part parent thank um lot different thing actually taking care daughter laughter um uh raised grandparent mean really get know mom til sixteen father mean could point street sidewalk know feel um different matter hard job getting give yeah um guess yawning oh excuse um lot different people positive life say um sister good influence get medical field uh l_v_a um one older sister um say believing god life god life also kept strong know take world god um hm know really look lot different people people lie could think\", \"guess yawning oh excuse um lot different people positive life say um sister good influence get medical field uh l_v_a um one older sister um say believing god life god life also kept strong know take world god um hm know really look lot different people people lie could think positive think outgoing laughter used shy um coming kid know know happened uh one day broke shell um accurate showing personality laughter um actually like wave collapse rock beach like sit zone everybody else rub toe sand relaxing um yawning excuse sorry um learned uh 'cause form form knowing control life someone else's feel temper controlling temper showing charge life even let stuff get even really remember last time control temper much try block negativity mm probably husband yawning daughter's father um uh probably like uh know dish like small thing uh physical altercation like another human wow um honest kind feel guilty thing like uh basically thing ended um mom passed wish could helped little even though people tell feel bad um really growing kind feel guilty like know much could passed away think something um still feel guilty um going mom passing away um felt like clearing throat\", \"kind feel guilty thing like uh basically thing ended um mom passed wish could helped little even though people tell feel bad um really growing kind feel guilty like know much could passed away think something um still feel guilty um going mom passing away um felt like clearing throat felt like um basically felt kind robbed sense like felt everyone else parent grew grandparent go many year without actual know mom dad get eighteen year old leaf kind like um know nerve wracking felt robbed know like year older even um signing paper c section time daughter nervous scared um really know take mean like scary um safest way bringing daughter world yes hard laughter even sleep last night yawning yarning um uh kind tend try everything get back stage think well give time um little like actually little nicer today laughter um groggy um yawning lately feeling confident um positive going extra mile good parent uh yawning yeah actually really care people think anymore used let bother um uh today 'cause happy brought brung daughter world today birthday um getting know people mhm mm moment go uh watch associate weight laughter uh would say grandma mm um uh\"]\n",
            "    # of sentences: 4\n",
            "0\n",
            "INFO:tensorflow:Saver not created because there are no variables in the graph to restore\n"
          ],
          "name": "stdout"
        },
        {
          "output_type": "stream",
          "text": [
            "INFO:tensorflow:Saver not created because there are no variables in the graph to restore\n"
          ],
          "name": "stderr"
        },
        {
          "output_type": "stream",
          "text": [
            "1\n",
            "INFO:tensorflow:Saver not created because there are no variables in the graph to restore\n"
          ],
          "name": "stdout"
        },
        {
          "output_type": "stream",
          "text": [
            "INFO:tensorflow:Saver not created because there are no variables in the graph to restore\n"
          ],
          "name": "stderr"
        },
        {
          "output_type": "stream",
          "text": [
            "2\n",
            "3\n",
            "4\n",
            "5\n",
            "1024\n",
            "Running... 46 / 47\n",
            "    Currently extracting elmo for participant 480\n",
            "    # of characters: 3\n",
            "['yes okay uh los angeles laughter um know laughter um kinda dirty expected big city um last class took sociology class um n really sure going school thinking sex education think really important job um uh feel like uh kind uh stigma guess talking sex lead like lot unsafe sex lot unplanned pregnancy feel like important job world laughter know laughter um lack fund um depends people I would say uh generally shy uh course people know well like closer outgoing um play dog uh know uh nice day go walk um nice day cold something uh maybe watch show t_v like read book something I would say pretty good controlling temper um cannot remember think last person argued boyfriend probably last week even remember laughter um think really feel guilty anything I would say regret thing think difference guilt regret um like think guilt like feeling bad regret like um feeling like made different decision think help make better decision future whereas guilt feel bad reason useless laughter um regret better uh high school um uh mean getting better grade um regret uh like getting involved certain people past mean sure laughter think right laughter hm um uh yeah', 'um feeling like made different decision think help make better decision future whereas guilt feel bad reason useless laughter um regret better uh high school um uh mean getting better grade um regret uh like getting involved certain people past mean sure laughter think right laughter hm um uh yeah mean mean past uh yeah could made different decision mean obviously thing know entirely control going feel going regret thing power um sure would want erase memory wish happen uh uh time raped laughter cannot really think hard decision um hm cannot think laughter hm sure laughter cannot think uh pretty good relationship family um uh would say really close mother mean get along well close sister basically best friend um hm think mother positive influence life uh always able provide always mean made like mistake sometimes think always needed um best raise think big positive influence uh easy lately uh sometimes trouble sleeping uh lately problem um depends long gone without sleep anywhere like groggy like um really edge like um extremely tired laughter know um feeling pretty good uh like general anxiety kind time bad past feeling mostly pretty good um think actually feeling happier lately would say', 'uh sometimes trouble sleeping uh lately problem um depends long gone without sleep anywhere like groggy like um really edge like um extremely tired laughter know um feeling pretty good uh like general anxiety kind time bad past feeling mostly pretty good um think actually feeling happier lately would say like really happy time mostly kind like um neutral feeling positive lately actually sure diagnosed p_t_s_d um uh know seeing uh psychologist psyc psychologist like since sixteen um depression uh think first psychologist saw year thought p_t_s_d sure ever made diagnosis um sure laughter uh laughter know yes um helpful uh talk someone kind um guide talking something figure thing figure feeling thing sort guess like help talk somebody figure feeling certain way something mean think sometimes uh talking somebody help think um hm sure laughter um sure laughter um sure laughter uh think would spend mostly home um would sunny would go outside little bit I would play dog uh I would probably boyfriend um I would eat food like like food like like favorite food um watch movie t_v show like um kind like relaxing time nice mm would tell uh uh better school throughout high school kind']\n",
            "    # of sentences: 3\n",
            "0\n",
            "INFO:tensorflow:Saver not created because there are no variables in the graph to restore\n"
          ],
          "name": "stdout"
        },
        {
          "output_type": "stream",
          "text": [
            "INFO:tensorflow:Saver not created because there are no variables in the graph to restore\n"
          ],
          "name": "stderr"
        },
        {
          "output_type": "stream",
          "text": [
            "1\n",
            "INFO:tensorflow:Saver not created because there are no variables in the graph to restore\n"
          ],
          "name": "stdout"
        },
        {
          "output_type": "stream",
          "text": [
            "INFO:tensorflow:Saver not created because there are no variables in the graph to restore\n"
          ],
          "name": "stderr"
        },
        {
          "output_type": "stream",
          "text": [
            "2\n",
            "INFO:tensorflow:Saver not created because there are no variables in the graph to restore\n"
          ],
          "name": "stdout"
        },
        {
          "output_type": "stream",
          "text": [
            "INFO:tensorflow:Saver not created because there are no variables in the graph to restore\n"
          ],
          "name": "stderr"
        },
        {
          "output_type": "stream",
          "text": [
            "3\n",
            "INFO:tensorflow:Saver not created because there are no variables in the graph to restore\n"
          ],
          "name": "stdout"
        },
        {
          "output_type": "stream",
          "text": [
            "INFO:tensorflow:Saver not created because there are no variables in the graph to restore\n"
          ],
          "name": "stderr"
        },
        {
          "output_type": "stream",
          "text": [
            "4\n",
            "INFO:tensorflow:Saver not created because there are no variables in the graph to restore\n"
          ],
          "name": "stdout"
        },
        {
          "output_type": "stream",
          "text": [
            "INFO:tensorflow:Saver not created because there are no variables in the graph to restore\n"
          ],
          "name": "stderr"
        },
        {
          "output_type": "stream",
          "text": [
            "5\n",
            "1024\n",
            "Running... 47 / 47\n",
            "    Currently extracting elmo for participant 481\n",
            "    # of characters: 3\n",
            "['yes okay uh born downtown los angeles love l_a love traffic four five love beach live near beach love much love lo love weather love nothing little bit uh guess visiting family destination uh last flew cedar rapid visit friend couple week flying back february eleventh see old friend uh pretty outgoing talk people enjoy talking people talk people airport um garden little bit read little bit watch t_v basketball fan go beach weather nice go pool uh annoying people rude people people drive consideration others swear lot laughter oh alright get mad awhile oh probably daughter twenty one almost twenty two uh probably life college come home weekend probably room probably mess fight year yeah yeah better live together time though uh guess making right decision like start started little education right school go right activity um setting good example good role model oh everything kid greatest joy life love much get um enriched fulfilled kid little see thing eye exciting wanna share everything older son financial analyst daughter college liberal study major gonna teacher uh business uh yes office manager laughter um dream job wow hard um know like job good like people enjoy fun uh son told', \"love much get um enriched fulfilled kid little see thing eye exciting wanna share everything older son financial analyst daughter college liberal study major gonna teacher uh business uh yes office manager laughter um dream job wow hard um know like job good like people enjoy fun uh son told called teacup generation fragile laughter think pain ass 'em yeah maybe month ago mm new boyfriend thing going really great going laughter great okay guess newness wore hard hard really sorry know know mean mm k yes oh know year feel well could feel right could pull yeah oh sad lack energy really really motivated really really happy self therapy yes well many change cha still feel great good talk someone tell feel even get something chest tired sad depressed blue happy feel good happy stay st stay stay go friend much used hard terrible sleep thank oh crazy distracted hard cope thing easy know mundane thing difficult well around kid fun uh oh went son son daughterinlaw daughter went hawaiian food got together always fun get together got together house christmas enjoyed getting together uh take better care health guess uh know know mm well daughter's pretty positive upbeat\", \"hard cope thing easy know mundane thing difficult well around kid fun uh oh went son son daughterinlaw daughter went hawaiian food got together always fun get together got together house christmas enjoyed getting together uh take better care health guess uh know know mm well daughter's pretty positive upbeat uh parent gone pretty positive um suppose going trip canada daughter memorable uh flew detroit best friend life stayed went drove detroit canada niagara fall went buffalo three girl daughter think know third fourth grade something like fun u get together thing yep laughter exactly like outgoing outspoken tell like um high energy people lot anxiety like lot thing oh know three four week ago well say feeling attributed weather like cold weather comfortable whenever weather change sorta get well funny hardworking uh care everyone kind compassionate person sympathy everyone reach someone see store anywhere need help suppose raising kid good people turned sure bye\"]\n",
            "    # of sentences: 3\n",
            "0\n",
            "INFO:tensorflow:Saver not created because there are no variables in the graph to restore\n"
          ],
          "name": "stdout"
        },
        {
          "output_type": "stream",
          "text": [
            "INFO:tensorflow:Saver not created because there are no variables in the graph to restore\n"
          ],
          "name": "stderr"
        },
        {
          "output_type": "stream",
          "text": [
            "1\n",
            "INFO:tensorflow:Saver not created because there are no variables in the graph to restore\n"
          ],
          "name": "stdout"
        },
        {
          "output_type": "stream",
          "text": [
            "INFO:tensorflow:Saver not created because there are no variables in the graph to restore\n"
          ],
          "name": "stderr"
        },
        {
          "output_type": "stream",
          "text": [
            "2\n",
            "3\n",
            "4\n",
            "5\n",
            "1024\n"
          ],
          "name": "stdout"
        },
        {
          "output_type": "execute_result",
          "data": {
            "text/plain": [
              "[]"
            ]
          },
          "metadata": {
            "tags": []
          },
          "execution_count": 10
        }
      ]
    },
    {
      "cell_type": "code",
      "metadata": {
        "colab": {
          "base_uri": "https://localhost:8080/"
        },
        "id": "AsFD4M2jwznP",
        "outputId": "31d21753-45c7-4b77-dd09-df8cd4908cdb"
      },
      "source": [
        "os.chdir('/content/drive/My Drive/elmo')\n",
        "i = 0\n",
        "for file in glob.glob(\"*.csv\"):\n",
        "  name = file\n",
        "  print(name)"
      ],
      "execution_count": null,
      "outputs": [
        {
          "output_type": "stream",
          "text": [
            "303_elmo.csv\n",
            "304_elmo.csv\n",
            "305_elmo.csv\n",
            "310_elmo.csv\n",
            "312_elmo.csv\n",
            "313_elmo.csv\n",
            "315_elmo.csv\n",
            "316_elmo.csv\n",
            "317_elmo.csv\n",
            "318_elmo.csv\n",
            "322_elmo.csv\n",
            "324_elmo.csv\n",
            "325_elmo.csv\n",
            "326_elmo.csv\n",
            "327_elmo.csv\n",
            "328_elmo.csv\n",
            "333_elmo.csv\n",
            "336_elmo.csv\n",
            "340_elmo.csv\n",
            "341_elmo.csv\n",
            "343_elmo.csv\n",
            "345_elmo.csv\n",
            "352_elmo.csv\n",
            "357_elmo.csv\n",
            "358_elmo.csv\n",
            "360_elmo.csv\n",
            "363_elmo.csv\n",
            "364_elmo.csv\n",
            "366_elmo.csv\n",
            "368_elmo.csv\n",
            "369_elmo.csv\n",
            "370_elmo.csv\n",
            "371_elmo.csv\n",
            "374_elmo.csv\n",
            "375_elmo.csv\n",
            "379_elmo.csv\n",
            "380_elmo.csv\n",
            "383_elmo.csv\n",
            "385_elmo.csv\n",
            "386_elmo.csv\n",
            "391_elmo.csv\n",
            "392_elmo.csv\n",
            "393_elmo.csv\n",
            "397_elmo.csv\n",
            "400_elmo.csv\n",
            "401_elmo.csv\n",
            "402_elmo.csv\n",
            "409_elmo.csv\n",
            "412_elmo.csv\n",
            "415_elmo.csv\n",
            "416_elmo.csv\n",
            "419_elmo.csv\n",
            "423_elmo.csv\n",
            "425_elmo.csv\n",
            "427_elmo.csv\n",
            "428_elmo.csv\n",
            "429_elmo.csv\n",
            "430_elmo.csv\n",
            "433_elmo.csv\n",
            "434_elmo.csv\n",
            "437_elmo.csv\n",
            "443_elmo.csv\n",
            "444_elmo.csv\n",
            "445_elmo.csv\n",
            "446_elmo.csv\n",
            "447_elmo.csv\n",
            "449_elmo.csv\n",
            "454_elmo.csv\n",
            "455_elmo.csv\n",
            "456_elmo.csv\n",
            "457_elmo.csv\n",
            "463_elmo.csv\n",
            "464_elmo.csv\n",
            "468_elmo.csv\n",
            "471_elmo.csv\n",
            "473_elmo.csv\n",
            "474_elmo.csv\n",
            "475_elmo.csv\n",
            "478_elmo.csv\n",
            "479_elmo.csv\n",
            "485_elmo.csv\n",
            "486_elmo.csv\n",
            "487_elmo.csv\n",
            "488_elmo.csv\n",
            "491_elmo.csv\n",
            "350_elmo.csv\n",
            "448_elmo.csv\n",
            "339_elmo.csv\n",
            "351_elmo.csv\n",
            "348_elmo.csv\n",
            "319_elmo.csv\n",
            "426_elmo.csv\n",
            "355_elmo.csv\n",
            "372_elmo.csv\n",
            "344_elmo.csv\n",
            "320_elmo.csv\n",
            "353_elmo.csv\n",
            "459_elmo.csv\n",
            "356_elmo.csv\n",
            "441_elmo.csv\n",
            "330_elmo.csv\n",
            "347_elmo.csv\n",
            "362_elmo.csv\n",
            "338_elmo.csv\n",
            "321_elmo.csv\n",
            "414_elmo.csv\n",
            "376_elmo.csv\n"
          ],
          "name": "stdout"
        }
      ]
    },
    {
      "cell_type": "code",
      "metadata": {
        "colab": {
          "base_uri": "https://localhost:8080/",
          "height": 268
        },
        "id": "jg1R1FJFydQi",
        "outputId": "0db3fcc4-d60c-4e82-d4e6-6f0b739bbc14"
      },
      "source": [
        "df = pd.read_csv('303_elmo.csv', header=None, delimiter='delimiter', index_col = False)\n",
        "array = df.to_numpy()\n",
        "lst = []\n",
        "lst.append(array[0][0])\n",
        "lst.append(array[1][0])\n",
        "lst.append(array[2][0])\n",
        "lst.append(array[3][0])\n",
        "lst.append(array[4][0])\n",
        "\n",
        "lst[4]"
      ],
      "execution_count": null,
      "outputs": [
        {
          "output_type": "stream",
          "text": [
            "/usr/local/lib/python3.7/dist-packages/ipykernel_launcher.py:1: ParserWarning: Falling back to the 'python' engine because the 'c' engine does not support regex separators (separators > 1 char and different from '\\s+' are interpreted as regex); you can avoid this warning by specifying engine='python'.\n",
            "  \"\"\"Entry point for launching an IPython kernel.\n"
          ],
          "name": "stderr"
        },
        {
          "output_type": "execute_result",
          "data": {
            "application/vnd.google.colaboratory.intrinsic+json": {
              "type": "string"
            },
            "text/plain": [
              "'[[0.0, 0.0, 0.0, 0.0, 0.0, 0.0, 0.0, 0.0, 0.0, 0.0, 0.0, 0.0, 0.0, 0.0, 0.0, 0.0, 0.0, 0.0, 0.0, 0.0, 0.0, 0.0, 0.0, 0.0, 0.0, 0.0, 0.0, 0.0, 0.0, 0.0, 0.0, 0.0, 0.0, 0.0, 0.0, 0.0, 0.0, 0.0, 0.0, 0.0, 0.0, 0.0, 0.0, 0.0, 0.0, 0.0, 0.0, 0.0, 0.0, 0.0, 0.0, 0.0, 0.0, 0.0, 0.0, 0.0, 0.0, 0.0, 0.0, 0.0, 0.0, 0.0, 0.0, 0.0, 0.0, 0.0, 0.0, 0.0, 0.0, 0.0, 0.0, 0.0, 0.0, 0.0, 0.0, 0.0, 0.0, 0.0, 0.0, 0.0, 0.0, 0.0, 0.0, 0.0, 0.0, 0.0, 0.0, 0.0, 0.0, 0.0, 0.0, 0.0, 0.0, 0.0, 0.0, 0.0, 0.0, 0.0, 0.0, 0.0, 0.0, 0.0, 0.0, 0.0, 0.0, 0.0, 0.0, 0.0, 0.0, 0.0, 0.0, 0.0, 0.0, 0.0, 0.0, 0.0, 0.0, 0.0, 0.0, 0.0, 0.0, 0.0, 0.0, 0.0, 0.0, 0.0, 0.0, 0.0, 0.0, 0.0, 0.0, 0.0, 0.0, 0.0, 0.0, 0.0, 0.0, 0.0, 0.0, 0.0, 0.0, 0.0, 0.0, 0.0, 0.0, 0.0, 0.0, 0.0, 0.0, 0.0, 0.0, 0.0, 0.0, 0.0, 0.0, 0.0, 0.0, 0.0, 0.0, 0.0, 0.0, 0.0, 0.0, 0.0, 0.0, 0.0, 0.0, 0.0, 0.0, 0.0, 0.0, 0.0, 0.0, 0.0, 0.0, 0.0, 0.0, 0.0, 0.0, 0.0, 0.0, 0.0, 0.0, 0.0, 0.0, 0.0, 0.0, 0.0, 0.0, 0.0, 0.0, 0.0, 0.0, 0.0, 0.0, 0.0, 0.0, 0.0, 0.0, 0.0, 0.0, 0.0, 0.0, 0.0, 0.0, 0.0, 0.0, 0.0, 0.0, 0.0, 0.0, 0.0, 0.0, 0.0, 0.0, 0.0, 0.0, 0.0, 0.0, 0.0, 0.0, 0.0, 0.0, 0.0, 0.0, 0.0, 0.0, 0.0, 0.0, 0.0, 0.0, 0.0, 0.0, 0.0, 0.0, 0.0, 0.0, 0.0, 0.0, 0.0, 0.0, 0.0, 0.0, 0.0, 0.0, 0.0, 0.0, 0.0, 0.0, 0.0, 0.0, 0.0, 0.0, 0.0, 0.0, 0.0, 0.0, 0.0, 0.0, 0.0, 0.0, 0.0, 0.0, 0.0, 0.0, 0.0, 0.0, 0.0, 0.0, 0.0, 0.0, 0.0, 0.0, 0.0, 0.0, 0.0, 0.0, 0.0, 0.0, 0.0, 0.0, 0.0, 0.0, 0.0, 0.0, 0.0, 0.0, 0.0, 0.0, 0.0, 0.0, 0.0, 0.0, 0.0, 0.0, 0.0, 0.0, 0.0, 0.0, 0.0, 0.0, 0.0, 0.0, 0.0, 0.0, 0.0, 0.0, 0.0, 0.0, 0.0, 0.0, 0.0, 0.0, 0.0, 0.0, 0.0, 0.0, 0.0, 0.0, 0.0, 0.0, 0.0, 0.0, 0.0, 0.0, 0.0, 0.0, 0.0, 0.0, 0.0, 0.0, 0.0, 0.0, 0.0, 0.0, 0.0, 0.0, 0.0, 0.0, 0.0, 0.0, 0.0, 0.0, 0.0, 0.0, 0.0, 0.0, 0.0, 0.0, 0.0, 0.0, 0.0, 0.0, 0.0, 0.0, 0.0, 0.0, 0.0, 0.0, 0.0, 0.0, 0.0, 0.0, 0.0, 0.0, 0.0, 0.0, 0.0, 0.0, 0.0, 0.0, 0.0, 0.0, 0.0, 0.0, 0.0, 0.0, 0.0, 0.0, 0.0, 0.0, 0.0, 0.0, 0.0, 0.0, 0.0, 0.0, 0.0, 0.0, 0.0, 0.0, 0.0, 0.0, 0.0, 0.0, 0.0, 0.0, 0.0, 0.0, 0.0, 0.0, 0.0, 0.0, 0.0, 0.0, 0.0, 0.0, 0.0, 0.0, 0.0, 0.0, 0.0, 0.0, 0.0, 0.0, 0.0, 0.0, 0.0, 0.0, 0.0, 0.0, 0.0, 0.0, 0.0, 0.0, 0.0, 0.0, 0.0, 0.0, 0.0, 0.0, 0.0, 0.0, 0.0, 0.0, 0.0, 0.0, 0.0, 0.0, 0.0, 0.0, 0.0, 0.0, 0.0, 0.0, 0.0, 0.0, 0.0, 0.0, 0.0, 0.0, 0.0, 0.0, 0.0, 0.0, 0.0, 0.0, 0.0, 0.0, 0.0, 0.0, 0.0, 0.0, 0.0, 0.0, 0.0, 0.0, 0.0, 0.0, 0.0, 0.0, 0.0, 0.0, 0.0, 0.0, 0.0, 0.0, 0.0, 0.0, 0.0, 0.0, 0.0, 0.0, 0.0, 0.0, 0.0, 0.0, 0.0, 0.0, 0.0, 0.0, 0.0, 0.0, 0.0, 0.0, 0.0, 0.0, 0.0, 0.0, 0.0, 0.0, 0.0, 0.0, 0.0, 0.0, 0.0, 0.0, 0.0, 0.0, 0.0, 0.0, 0.0, 0.0, 0.0, 0.0, 0.0, 0.0, 0.0, 0.0, 0.0, 0.0, 0.0, 0.0, 0.0, 0.0, 0.0, 0.0, 0.0, 0.0, 0.0, 0.0, 0.0, 0.0, 0.0, 0.0, 0.0, 0.0, 0.0, 0.0, 0.0, 0.0, 0.0, 0.0, 0.0, 0.0, 0.0, 0.0, 0.0, 0.0, 0.0, 0.0, 0.0, 0.0, 0.0, 0.0, 0.0, 0.0, 0.0, 0.0, 0.0, 0.0, 0.0, 0.0, 0.0, 0.0, 0.0, 0.0, 0.0, 0.0, 0.0, 0.0, 0.0, 0.0, 0.0, 0.0, 0.0, 0.0, 0.0, 0.0, 0.0, 0.0, 0.0, 0.0, 0.0, 0.0, 0.0, 0.0, 0.0, 0.0, 0.0, 0.0, 0.0, 0.0, 0.0, 0.0, 0.0, 0.0, 0.0, 0.0, 0.0, 0.0, 0.0, 0.0, 0.0, 0.0, 0.0, 0.0, 0.0, 0.0, 0.0, 0.0, 0.0, 0.0, 0.0, 0.0, 0.0, 0.0, 0.0, 0.0, 0.0, 0.0, 0.0, 0.0, 0.0, 0.0, 0.0, 0.0, 0.0, 0.0, 0.0, 0.0, 0.0, 0.0, 0.0, 0.0, 0.0, 0.0, 0.0, 0.0, 0.0, 0.0, 0.0, 0.0, 0.0, 0.0, 0.0, 0.0, 0.0, 0.0, 0.0, 0.0, 0.0, 0.0, 0.0, 0.0, 0.0, 0.0, 0.0, 0.0, 0.0, 0.0, 0.0, 0.0, 0.0, 0.0, 0.0, 0.0, 0.0, 0.0, 0.0, 0.0, 0.0, 0.0, 0.0, 0.0, 0.0, 0.0, 0.0, 0.0, 0.0, 0.0, 0.0, 0.0, 0.0, 0.0, 0.0, 0.0, 0.0, 0.0, 0.0, 0.0, 0.0, 0.0, 0.0, 0.0, 0.0, 0.0, 0.0, 0.0, 0.0, 0.0, 0.0, 0.0, 0.0, 0.0, 0.0, 0.0, 0.0, 0.0, 0.0, 0.0, 0.0, 0.0, 0.0, 0.0, 0.0, 0.0, 0.0, 0.0, 0.0, 0.0, 0.0, 0.0, 0.0, 0.0, 0.0, 0.0, 0.0, 0.0, 0.0, 0.0, 0.0, 0.0, 0.0, 0.0, 0.0, 0.0, 0.0, 0.0, 0.0, 0.0, 0.0, 0.0, 0.0, 0.0, 0.0, 0.0, 0.0, 0.0, 0.0, 0.0, 0.0, 0.0, 0.0, 0.0, 0.0, 0.0, 0.0, 0.0, 0.0, 0.0, 0.0, 0.0, 0.0, 0.0, 0.0, 0.0, 0.0, 0.0, 0.0, 0.0, 0.0, 0.0, 0.0, 0.0, 0.0, 0.0, 0.0, 0.0, 0.0, 0.0, 0.0, 0.0, 0.0, 0.0, 0.0, 0.0, 0.0, 0.0, 0.0, 0.0, 0.0, 0.0, 0.0, 0.0, 0.0, 0.0, 0.0, 0.0, 0.0, 0.0, 0.0, 0.0, 0.0, 0.0, 0.0, 0.0, 0.0, 0.0, 0.0, 0.0, 0.0, 0.0, 0.0, 0.0, 0.0, 0.0, 0.0, 0.0, 0.0, 0.0, 0.0, 0.0, 0.0, 0.0, 0.0, 0.0, 0.0, 0.0, 0.0, 0.0, 0.0, 0.0, 0.0, 0.0, 0.0, 0.0, 0.0, 0.0, 0.0, 0.0, 0.0, 0.0, 0.0, 0.0, 0.0, 0.0, 0.0, 0.0, 0.0, 0.0, 0.0, 0.0, 0.0, 0.0, 0.0, 0.0, 0.0, 0.0, 0.0, 0.0, 0.0, 0.0, 0.0, 0.0, 0.0, 0.0, 0.0, 0.0, 0.0, 0.0, 0.0, 0.0, 0.0, 0.0, 0.0, 0.0, 0.0, 0.0, 0.0, 0.0, 0.0, 0.0, 0.0, 0.0, 0.0, 0.0, 0.0, 0.0, 0.0, 0.0, 0.0, 0.0, 0.0, 0.0, 0.0, 0.0, 0.0, 0.0, 0.0, 0.0, 0.0, 0.0, 0.0, 0.0, 0.0, 0.0, 0.0, 0.0, 0.0, 0.0, 0.0, 0.0, 0.0, 0.0, 0.0, 0.0, 0.0, 0.0, 0.0, 0.0, 0.0, 0.0, 0.0, 0.0, 0.0, 0.0, 0.0, 0.0, 0.0, 0.0, 0.0, 0.0, 0.0, 0.0, 0.0, 0.0, 0.0, 0.0, 0.0, 0.0, 0.0, 0.0, 0.0, 0.0, 0.0, 0.0, 0.0, 0.0, 0.0, 0.0, 0.0, 0.0, 0.0, 0.0, 0.0, 0.0, 0.0, 0.0, 0.0, 0.0, 0.0, 0.0, 0.0, 0.0, 0.0, 0.0, 0.0, 0.0, 0.0, 0.0, 0.0, 0.0, 0.0, 0.0, 0.0, 0.0, 0.0, 0.0, 0.0, 0.0, 0.0, 0.0, 0.0, 0.0, 0.0, 0.0, 0.0, 0.0, 0.0, 0.0, 0.0, 0.0, 0.0, 0.0, 0.0, 0.0, 0.0, 0.0, 0.0, 0.0, 0.0, 0.0, 0.0, 0.0, 0.0, 0.0, 0.0, 0.0, 0.0, 0.0, 0.0, 0.0, 0.0, 0.0, 0.0, 0.0, 0.0, 0.0, 0.0, 0.0, 0.0, 0.0, 0.0], [0.0, 0.0, 0.0, 0.0, 0.0, 0.0, 0.0, 0.0, 0.0, 0.0, 0.0, 0.0, 0.0, 0.0, 0.0, 0.0, 0.0, 0.0, 0.0, 0.0, 0.0, 0.0, 0.0, 0.0, 0.0, 0.0, 0.0, 0.0, 0.0, 0.0, 0.0, 0.0, 0.0, 0.0, 0.0, 0.0, 0.0, 0.0, 0.0, 0.0, 0.0, 0.0, 0.0, 0.0, 0.0, 0.0, 0.0, 0.0, 0.0, 0.0, 0.0, 0.0, 0.0, 0.0, 0.0, 0.0, 0.0, 0.0, 0.0, 0.0, 0.0, 0.0, 0.0, 0.0, 0.0, 0.0, 0.0, 0.0, 0.0, 0.0, 0.0, 0.0, 0.0, 0.0, 0.0, 0.0, 0.0, 0.0, 0.0, 0.0, 0.0, 0.0, 0.0, 0.0, 0.0, 0.0, 0.0, 0.0, 0.0, 0.0, 0.0, 0.0, 0.0, 0.0, 0.0, 0.0, 0.0, 0.0, 0.0, 0.0, 0.0, 0.0, 0.0, 0.0, 0.0, 0.0, 0.0, 0.0, 0.0, 0.0, 0.0, 0.0, 0.0, 0.0, 0.0, 0.0, 0.0, 0.0, 0.0, 0.0, 0.0, 0.0, 0.0, 0.0, 0.0, 0.0, 0.0, 0.0, 0.0, 0.0, 0.0, 0.0, 0.0, 0.0, 0.0, 0.0, 0.0, 0.0, 0.0, 0.0, 0.0, 0.0, 0.0, 0.0, 0.0, 0.0, 0.0, 0.0, 0.0, 0.0, 0.0, 0.0, 0.0, 0.0, 0.0, 0.0, 0.0, 0.0, 0.0, 0.0, 0.0, 0.0, 0.0, 0.0, 0.0, 0.0, 0.0, 0.0, 0.0, 0.0, 0.0, 0.0, 0.0, 0.0, 0.0, 0.0, 0.0, 0.0, 0.0, 0.0, 0.0, 0.0, 0.0, 0.0, 0.0, 0.0, 0.0, 0.0, 0.0, 0.0, 0.0, 0.0, 0.0, 0.0, 0.0, 0.0, 0.0, 0.0, 0.0, 0.0, 0.0, 0.0, 0.0, 0.0, 0.0, 0.0, 0.0, 0.0, 0.0, 0.0, 0.0, 0.0, 0.0, 0.0, 0.0, 0.0, 0.0, 0.0, 0.0, 0.0, 0.0, 0.0, 0.0, 0.0, 0.0, 0.0, 0.0, 0.0, 0.0, 0.0, 0.0, 0.0, 0.0, 0.0, 0.0, 0.0, 0.0, 0.0, 0.0, 0.0, 0.0, 0.0, 0.0, 0.0, 0.0, 0.0, 0.0, 0.0, 0.0, 0.0, 0.0, 0.0, 0.0, 0.0, 0.0, 0.0, 0.0, 0.0, 0.0, 0.0, 0.0, 0.0, 0.0, 0.0, 0.0, 0.0, 0.0, 0.0, 0.0, 0.0, 0.0, 0.0, 0.0, 0.0, 0.0, 0.0, 0.0, 0.0, 0.0, 0.0, 0.0, 0.0, 0.0, 0.0, 0.0, 0.0, 0.0, 0.0, 0.0, 0.0, 0.0, 0.0, 0.0, 0.0, 0.0, 0.0, 0.0, 0.0, 0.0, 0.0, 0.0, 0.0, 0.0, 0.0, 0.0, 0.0, 0.0, 0.0, 0.0, 0.0, 0.0, 0.0, 0.0, 0.0, 0.0, 0.0, 0.0, 0.0, 0.0, 0.0, 0.0, 0.0, 0.0, 0.0, 0.0, 0.0, 0.0, 0.0, 0.0, 0.0, 0.0, 0.0, 0.0, 0.0, 0.0, 0.0, 0.0, 0.0, 0.0, 0.0, 0.0, 0.0, 0.0, 0.0, 0.0, 0.0, 0.0, 0.0, 0.0, 0.0, 0.0, 0.0, 0.0, 0.0, 0.0, 0.0, 0.0, 0.0, 0.0, 0.0, 0.0, 0.0, 0.0, 0.0, 0.0, 0.0, 0.0, 0.0, 0.0, 0.0, 0.0, 0.0, 0.0, 0.0, 0.0, 0.0, 0.0, 0.0, 0.0, 0.0, 0.0, 0.0, 0.0, 0.0, 0.0, 0.0, 0.0, 0.0, 0.0, 0.0, 0.0, 0.0, 0.0, 0.0, 0.0, 0.0, 0.0, 0.0, 0.0, 0.0, 0.0, 0.0, 0.0, 0.0, 0.0, 0.0, 0.0, 0.0, 0.0, 0.0, 0.0, 0.0, 0.0, 0.0, 0.0, 0.0, 0.0, 0.0, 0.0, 0.0, 0.0, 0.0, 0.0, 0.0, 0.0, 0.0, 0.0, 0.0, 0.0, 0.0, 0.0, 0.0, 0.0, 0.0, 0.0, 0.0, 0.0, 0.0, 0.0, 0.0, 0.0, 0.0, 0.0, 0.0, 0.0, 0.0, 0.0, 0.0, 0.0, 0.0, 0.0, 0.0, 0.0, 0.0, 0.0, 0.0, 0.0, 0.0, 0.0, 0.0, 0.0, 0.0, 0.0, 0.0, 0.0, 0.0, 0.0, 0.0, 0.0, 0.0, 0.0, 0.0, 0.0, 0.0, 0.0, 0.0, 0.0, 0.0, 0.0, 0.0, 0.0, 0.0, 0.0, 0.0, 0.0, 0.0, 0.0, 0.0, 0.0, 0.0, 0.0, 0.0, 0.0, 0.0, 0.0, 0.0, 0.0, 0.0, 0.0, 0.0, 0.0, 0.0, 0.0, 0.0, 0.0, 0.0, 0.0, 0.0, 0.0, 0.0, 0.0, 0.0, 0.0, 0.0, 0.0, 0.0, 0.0, 0.0, 0.0, 0.0, 0.0, 0.0, 0.0, 0.0, 0.0, 0.0, 0.0, 0.0, 0.0, 0.0, 0.0, 0.0, 0.0, 0.0, 0.0, 0.0, 0.0, 0.0, 0.0, 0.0, 0.0, 0.0, 0.0, 0.0, 0.0, 0.0, 0.0, 0.0, 0.0, 0.0, 0.0, 0.0, 0.0, 0.0, 0.0, 0.0, 0.0, 0.0, 0.0, 0.0, 0.0, 0.0, 0.0, 0.0, 0.0, 0.0, 0.0, 0.0, 0.0, 0.0, 0.0, 0.0, 0.0, 0.0, 0.0, 0.0, 0.0, 0.0, 0.0, 0.0, 0.0, 0.0, 0.0, 0.0, 0.0, 0.0, 0.0, 0.0, 0.0, 0.0, 0.0, 0.0, 0.0, 0.0, 0.0, 0.0, 0.0, 0.0, 0.0, 0.0, 0.0, 0.0, 0.0, 0.0, 0.0, 0.0, 0.0, 0.0, 0.0, 0.0, 0.0, 0.0, 0.0, 0.0, 0.0, 0.0, 0.0, 0.0, 0.0, 0.0, 0.0, 0.0, 0.0, 0.0, 0.0, 0.0, 0.0, 0.0, 0.0, 0.0, 0.0, 0.0, 0.0, 0.0, 0.0, 0.0, 0.0, 0.0, 0.0, 0.0, 0.0, 0.0, 0.0, 0.0, 0.0, 0.0, 0.0, 0.0, 0.0, 0.0, 0.0, 0.0, 0.0, 0.0, 0.0, 0.0, 0.0, 0.0, 0.0, 0.0, 0.0, 0.0, 0.0, 0.0, 0.0, 0.0, 0.0, 0.0, 0.0, 0.0, 0.0, 0.0, 0.0, 0.0, 0.0, 0.0, 0.0, 0.0, 0.0, 0.0, 0.0, 0.0, 0.0, 0.0, 0.0, 0.0, 0.0, 0.0, 0.0, 0.0, 0.0, 0.0, 0.0, 0.0, 0.0, 0.0, 0.0, 0.0, 0.0, 0.0, 0.0, 0.0, 0.0, 0.0, 0.0, 0.0, 0.0, 0.0, 0.0, 0.0, 0.0, 0.0, 0.0, 0.0, 0.0, 0.0, 0.0, 0.0, 0.0, 0.0, 0.0, 0.0, 0.0, 0.0, 0.0, 0.0, 0.0, 0.0, 0.0, 0.0, 0.0, 0.0, 0.0, 0.0, 0.0, 0.0, 0.0, 0.0, 0.0, 0.0, 0.0, 0.0, 0.0, 0.0, 0.0, 0.0, 0.0, 0.0, 0.0, 0.0, 0.0, 0.0, 0.0, 0.0, 0.0, 0.0, 0.0, 0.0, 0.0, 0.0, 0.0, 0.0, 0.0, 0.0, 0.0, 0.0, 0.0, 0.0, 0.0, 0.0, 0.0, 0.0, 0.0, 0.0, 0.0, 0.0, 0.0, 0.0, 0.0, 0.0, 0.0, 0.0, 0.0, 0.0, 0.0, 0.0, 0.0, 0.0, 0.0, 0.0, 0.0, 0.0, 0.0, 0.0, 0.0, 0.0, 0.0, 0.0, 0.0, 0.0, 0.0, 0.0, 0.0, 0.0, 0.0, 0.0, 0.0, 0.0, 0.0, 0.0, 0.0, 0.0, 0.0, 0.0, 0.0, 0.0, 0.0, 0.0, 0.0, 0.0, 0.0, 0.0, 0.0, 0.0, 0.0, 0.0, 0.0, 0.0, 0.0, 0.0, 0.0, 0.0, 0.0, 0.0, 0.0, 0.0, 0.0, 0.0, 0.0, 0.0, 0.0, 0.0, 0.0, 0.0, 0.0, 0.0, 0.0, 0.0, 0.0, 0.0, 0.0, 0.0, 0.0, 0.0, 0.0, 0.0, 0.0, 0.0, 0.0, 0.0, 0.0, 0.0, 0.0, 0.0, 0.0, 0.0, 0.0, 0.0, 0.0, 0.0, 0.0, 0.0, 0.0, 0.0, 0.0, 0.0, 0.0, 0.0, 0.0, 0.0, 0.0, 0.0, 0.0, 0.0, 0.0, 0.0, 0.0, 0.0, 0.0, 0.0, 0.0, 0.0, 0.0, 0.0, 0.0, 0.0, 0.0, 0.0, 0.0, 0.0, 0.0, 0.0, 0.0, 0.0, 0.0, 0.0, 0.0, 0.0, 0.0, 0.0, 0.0, 0.0, 0.0, 0.0, 0.0, 0.0, 0.0, 0.0, 0.0, 0.0, 0.0, 0.0, 0.0, 0.0, 0.0, 0.0, 0.0, 0.0, 0.0, 0.0, 0.0, 0.0, 0.0, 0.0, 0.0, 0.0, 0.0, 0.0, 0.0, 0.0, 0.0, 0.0, 0.0, 0.0, 0.0, 0.0, 0.0, 0.0, 0.0, 0.0, 0.0, 0.0, 0.0, 0.0, 0.0, 0.0, 0.0, 0.0, 0.0, 0.0, 0.0, 0.0, 0.0, 0.0, 0.0, 0.0, 0.0, 0.0, 0.0, 0.0, 0.0, 0.0, 0.0, 0.0, 0.0, 0.0, 0.0, 0.0, 0.0, 0.0, 0.0, 0.0, 0.0, 0.0, 0.0, 0.0, 0.0, 0.0, 0.0, 0.0, 0.0, 0.0, 0.0, 0.0, 0.0, 0.0, 0.0, 0.0, 0.0, 0.0, 0.0, 0.0, 0.0, 0.0, 0.0, 0.0, 0.0, 0.0, 0.0, 0.0, 0.0, 0.0, 0.0, 0.0, 0.0, 0.0, 0.0, 0.0, 0.0, 0.0, 0.0, 0.0, 0.0, 0.0], [0.0, 0.0, 0.0, 0.0, 0.0, 0.0, 0.0, 0.0, 0.0, 0.0, 0.0, 0.0, 0.0, 0.0, 0.0, 0.0, 0.0, 0.0, 0.0, 0.0, 0.0, 0.0, 0.0, 0.0, 0.0, 0.0, 0.0, 0.0, 0.0, 0.0, 0.0, 0.0, 0.0, 0.0, 0.0, 0.0, 0.0, 0.0, 0.0, 0.0, 0.0, 0.0, 0.0, 0.0, 0.0, 0.0, 0.0, 0.0, 0.0, 0.0, 0.0, 0.0, 0.0, 0.0, 0.0, 0.0, 0.0, 0.0, 0.0, 0.0, 0.0, 0.0, 0.0, 0.0, 0.0, 0.0, 0.0, 0.0, 0.0, 0.0, 0.0, 0.0, 0.0, 0.0, 0.0, 0.0, 0.0, 0.0, 0.0, 0.0, 0.0, 0.0, 0.0, 0.0, 0.0, 0.0, 0.0, 0.0, 0.0, 0.0, 0.0, 0.0, 0.0, 0.0, 0.0, 0.0, 0.0, 0.0, 0.0, 0.0, 0.0, 0.0, 0.0, 0.0, 0.0, 0.0, 0.0, 0.0, 0.0, 0.0, 0.0, 0.0, 0.0, 0.0, 0.0, 0.0, 0.0, 0.0, 0.0, 0.0, 0.0, 0.0, 0.0, 0.0, 0.0, 0.0, 0.0, 0.0, 0.0, 0.0, 0.0, 0.0, 0.0, 0.0, 0.0, 0.0, 0.0, 0.0, 0.0, 0.0, 0.0, 0.0, 0.0, 0.0, 0.0, 0.0, 0.0, 0.0, 0.0, 0.0, 0.0, 0.0, 0.0, 0.0, 0.0, 0.0, 0.0, 0.0, 0.0, 0.0, 0.0, 0.0, 0.0, 0.0, 0.0, 0.0, 0.0, 0.0, 0.0, 0.0, 0.0, 0.0, 0.0, 0.0, 0.0, 0.0, 0.0, 0.0, 0.0, 0.0, 0.0, 0.0, 0.0, 0.0, 0.0, 0.0, 0.0, 0.0, 0.0, 0.0, 0.0, 0.0, 0.0, 0.0, 0.0, 0.0, 0.0, 0.0, 0.0, 0.0, 0.0, 0.0, 0.0, 0.0, 0.0, 0.0, 0.0, 0.0, 0.0, 0.0, 0.0, 0.0, 0.0, 0.0, 0.0, 0.0, 0.0, 0.0, 0.0, 0.0, 0.0, 0.0, 0.0, 0.0, 0.0, 0.0, 0.0, 0.0, 0.0, 0.0, 0.0, 0.0, 0.0, 0.0, 0.0, 0.0, 0.0, 0.0, 0.0, 0.0, 0.0, 0.0, 0.0, 0.0, 0.0, 0.0, 0.0, 0.0, 0.0, 0.0, 0.0, 0.0, 0.0, 0.0, 0.0, 0.0, 0.0, 0.0, 0.0, 0.0, 0.0, 0.0, 0.0, 0.0, 0.0, 0.0, 0.0, 0.0, 0.0, 0.0, 0.0, 0.0, 0.0, 0.0, 0.0, 0.0, 0.0, 0.0, 0.0, 0.0, 0.0, 0.0, 0.0, 0.0, 0.0, 0.0, 0.0, 0.0, 0.0, 0.0, 0.0, 0.0, 0.0, 0.0, 0.0, 0.0, 0.0, 0.0, 0.0, 0.0, 0.0, 0.0, 0.0, 0.0, 0.0, 0.0, 0.0, 0.0, 0.0, 0.0, 0.0, 0.0, 0.0, 0.0, 0.0, 0.0, 0.0, 0.0, 0.0, 0.0, 0.0, 0.0, 0.0, 0.0, 0.0, 0.0, 0.0, 0.0, 0.0, 0.0, 0.0, 0.0, 0.0, 0.0, 0.0, 0.0, 0.0, 0.0, 0.0, 0.0, 0.0, 0.0, 0.0, 0.0, 0.0, 0.0, 0.0, 0.0, 0.0, 0.0, 0.0, 0.0, 0.0, 0.0, 0.0, 0.0, 0.0, 0.0, 0.0, 0.0, 0.0, 0.0, 0.0, 0.0, 0.0, 0.0, 0.0, 0.0, 0.0, 0.0, 0.0, 0.0, 0.0, 0.0, 0.0, 0.0, 0.0, 0.0, 0.0, 0.0, 0.0, 0.0, 0.0, 0.0, 0.0, 0.0, 0.0, 0.0, 0.0, 0.0, 0.0, 0.0, 0.0, 0.0, 0.0, 0.0, 0.0, 0.0, 0.0, 0.0, 0.0, 0.0, 0.0, 0.0, 0.0, 0.0, 0.0, 0.0, 0.0, 0.0, 0.0, 0.0, 0.0, 0.0, 0.0, 0.0, 0.0, 0.0, 0.0, 0.0, 0.0, 0.0, 0.0, 0.0, 0.0, 0.0, 0.0, 0.0, 0.0, 0.0, 0.0, 0.0, 0.0, 0.0, 0.0, 0.0, 0.0, 0.0, 0.0, 0.0, 0.0, 0.0, 0.0, 0.0, 0.0, 0.0, 0.0, 0.0, 0.0, 0.0, 0.0, 0.0, 0.0, 0.0, 0.0, 0.0, 0.0, 0.0, 0.0, 0.0, 0.0, 0.0, 0.0, 0.0, 0.0, 0.0, 0.0, 0.0, 0.0, 0.0, 0.0, 0.0, 0.0, 0.0, 0.0, 0.0, 0.0, 0.0, 0.0, 0.0, 0.0, 0.0, 0.0, 0.0, 0.0, 0.0, 0.0, 0.0, 0.0, 0.0, 0.0, 0.0, 0.0, 0.0, 0.0, 0.0, 0.0, 0.0, 0.0, 0.0, 0.0, 0.0, 0.0, 0.0, 0.0, 0.0, 0.0, 0.0, 0.0, 0.0, 0.0, 0.0, 0.0, 0.0, 0.0, 0.0, 0.0, 0.0, 0.0, 0.0, 0.0, 0.0, 0.0, 0.0, 0.0, 0.0, 0.0, 0.0, 0.0, 0.0, 0.0, 0.0, 0.0, 0.0, 0.0, 0.0, 0.0, 0.0, 0.0, 0.0, 0.0, 0.0, 0.0, 0.0, 0.0, 0.0, 0.0, 0.0, 0.0, 0.0, 0.0, 0.0, 0.0, 0.0, 0.0, 0.0, 0.0, 0.0, 0.0, 0.0, 0.0, 0.0, 0.0, 0.0, 0.0, 0.0, 0.0, 0.0, 0.0, 0.0, 0.0, 0.0, 0.0, 0.0, 0.0, 0.0, 0.0, 0.0, 0.0, 0.0, 0.0, 0.0, 0.0, 0.0, 0.0, 0.0, 0.0, 0.0, 0.0, 0.0, 0.0, 0.0, 0.0, 0.0, 0.0, 0.0, 0.0, 0.0, 0.0, 0.0, 0.0, 0.0, 0.0, 0.0, 0.0, 0.0, 0.0, 0.0, 0.0, 0.0, 0.0, 0.0, 0.0, 0.0, 0.0, 0.0, 0.0, 0.0, 0.0, 0.0, 0.0, 0.0, 0.0, 0.0, 0.0, 0.0, 0.0, 0.0, 0.0, 0.0, 0.0, 0.0, 0.0, 0.0, 0.0, 0.0, 0.0, 0.0, 0.0, 0.0, 0.0, 0.0, 0.0, 0.0, 0.0, 0.0, 0.0, 0.0, 0.0, 0.0, 0.0, 0.0, 0.0, 0.0, 0.0, 0.0, 0.0, 0.0, 0.0, 0.0, 0.0, 0.0, 0.0, 0.0, 0.0, 0.0, 0.0, 0.0, 0.0, 0.0, 0.0, 0.0, 0.0, 0.0, 0.0, 0.0, 0.0, 0.0, 0.0, 0.0, 0.0, 0.0, 0.0, 0.0, 0.0, 0.0, 0.0, 0.0, 0.0, 0.0, 0.0, 0.0, 0.0, 0.0, 0.0, 0.0, 0.0, 0.0, 0.0, 0.0, 0.0, 0.0, 0.0, 0.0, 0.0, 0.0, 0.0, 0.0, 0.0, 0.0, 0.0, 0.0, 0.0, 0.0, 0.0, 0.0, 0.0, 0.0, 0.0, 0.0, 0.0, 0.0, 0.0, 0.0, 0.0, 0.0, 0.0, 0.0, 0.0, 0.0, 0.0, 0.0, 0.0, 0.0, 0.0, 0.0, 0.0, 0.0, 0.0, 0.0, 0.0, 0.0, 0.0, 0.0, 0.0, 0.0, 0.0, 0.0, 0.0, 0.0, 0.0, 0.0, 0.0, 0.0, 0.0, 0.0, 0.0, 0.0, 0.0, 0.0, 0.0, 0.0, 0.0, 0.0, 0.0, 0.0, 0.0, 0.0, 0.0, 0.0, 0.0, 0.0, 0.0, 0.0, 0.0, 0.0, 0.0, 0.0, 0.0, 0.0, 0.0, 0.0, 0.0, 0.0, 0.0, 0.0, 0.0, 0.0, 0.0, 0.0, 0.0, 0.0, 0.0, 0.0, 0.0, 0.0, 0.0, 0.0, 0.0, 0.0, 0.0, 0.0, 0.0, 0.0, 0.0, 0.0, 0.0, 0.0, 0.0, 0.0, 0.0, 0.0, 0.0, 0.0, 0.0, 0.0, 0.0, 0.0, 0.0, 0.0, 0.0, 0.0, 0.0, 0.0, 0.0, 0.0, 0.0, 0.0, 0.0, 0.0, 0.0, 0.0, 0.0, 0.0, 0.0, 0.0, 0.0, 0.0, 0.0, 0.0, 0.0, 0.0, 0.0, 0.0, 0.0, 0.0, 0.0, 0.0, 0.0, 0.0, 0.0, 0.0, 0.0, 0.0, 0.0, 0.0, 0.0, 0.0, 0.0, 0.0, 0.0, 0.0, 0.0, 0.0, 0.0, 0.0, 0.0, 0.0, 0.0, 0.0, 0.0, 0.0, 0.0, 0.0, 0.0, 0.0, 0.0, 0.0, 0.0, 0.0, 0.0, 0.0, 0.0, 0.0, 0.0, 0.0, 0.0, 0.0, 0.0, 0.0, 0.0, 0.0, 0.0, 0.0, 0.0, 0.0, 0.0, 0.0, 0.0, 0.0, 0.0, 0.0, 0.0, 0.0, 0.0, 0.0, 0.0, 0.0, 0.0, 0.0, 0.0, 0.0, 0.0, 0.0, 0.0, 0.0, 0.0, 0.0, 0.0, 0.0, 0.0, 0.0, 0.0, 0.0, 0.0, 0.0, 0.0, 0.0, 0.0, 0.0, 0.0, 0.0, 0.0, 0.0, 0.0, 0.0, 0.0, 0.0, 0.0, 0.0, 0.0, 0.0, 0.0, 0.0, 0.0, 0.0, 0.0, 0.0, 0.0, 0.0, 0.0, 0.0, 0.0, 0.0, 0.0, 0.0, 0.0, 0.0, 0.0, 0.0, 0.0, 0.0, 0.0, 0.0, 0.0, 0.0, 0.0, 0.0, 0.0, 0.0, 0.0, 0.0, 0.0, 0.0, 0.0, 0.0, 0.0, 0.0, 0.0, 0.0, 0.0, 0.0, 0.0, 0.0, 0.0, 0.0, 0.0, 0.0, 0.0, 0.0, 0.0, 0.0, 0.0, 0.0, 0.0, 0.0, 0.0, 0.0, 0.0, 0.0, 0.0, 0.0, 0.0, 0.0, 0.0, 0.0, 0.0, 0.0, 0.0, 0.0, 0.0, 0.0, 0.0, 0.0, 0.0, 0.0, 0.0, 0.0, 0.0, 0.0, 0.0, 0.0, 0.0, 0.0], [0.0, 0.0, 0.0, 0.0, 0.0, 0.0, 0.0, 0.0, 0.0, 0.0, 0.0, 0.0, 0.0, 0.0, 0.0, 0.0, 0.0, 0.0, 0.0, 0.0, 0.0, 0.0, 0.0, 0.0, 0.0, 0.0, 0.0, 0.0, 0.0, 0.0, 0.0, 0.0, 0.0, 0.0, 0.0, 0.0, 0.0, 0.0, 0.0, 0.0, 0.0, 0.0, 0.0, 0.0, 0.0, 0.0, 0.0, 0.0, 0.0, 0.0, 0.0, 0.0, 0.0, 0.0, 0.0, 0.0, 0.0, 0.0, 0.0, 0.0, 0.0, 0.0, 0.0, 0.0, 0.0, 0.0, 0.0, 0.0, 0.0, 0.0, 0.0, 0.0, 0.0, 0.0, 0.0, 0.0, 0.0, 0.0, 0.0, 0.0, 0.0, 0.0, 0.0, 0.0, 0.0, 0.0, 0.0, 0.0, 0.0, 0.0, 0.0, 0.0, 0.0, 0.0, 0.0, 0.0, 0.0, 0.0, 0.0, 0.0, 0.0, 0.0, 0.0, 0.0, 0.0, 0.0, 0.0, 0.0, 0.0, 0.0, 0.0, 0.0, 0.0, 0.0, 0.0, 0.0, 0.0, 0.0, 0.0, 0.0, 0.0, 0.0, 0.0, 0.0, 0.0, 0.0, 0.0, 0.0, 0.0, 0.0, 0.0, 0.0, 0.0, 0.0, 0.0, 0.0, 0.0, 0.0, 0.0, 0.0, 0.0, 0.0, 0.0, 0.0, 0.0, 0.0, 0.0, 0.0, 0.0, 0.0, 0.0, 0.0, 0.0, 0.0, 0.0, 0.0, 0.0, 0.0, 0.0, 0.0, 0.0, 0.0, 0.0, 0.0, 0.0, 0.0, 0.0, 0.0, 0.0, 0.0, 0.0, 0.0, 0.0, 0.0, 0.0, 0.0, 0.0, 0.0, 0.0, 0.0, 0.0, 0.0, 0.0, 0.0, 0.0, 0.0, 0.0, 0.0, 0.0, 0.0, 0.0, 0.0, 0.0, 0.0, 0.0, 0.0, 0.0, 0.0, 0.0, 0.0, 0.0, 0.0, 0.0, 0.0, 0.0, 0.0, 0.0, 0.0, 0.0, 0.0, 0.0, 0.0, 0.0, 0.0, 0.0, 0.0, 0.0, 0.0, 0.0, 0.0, 0.0, 0.0, 0.0, 0.0, 0.0, 0.0, 0.0, 0.0, 0.0, 0.0, 0.0, 0.0, 0.0, 0.0, 0.0, 0.0, 0.0, 0.0, 0.0, 0.0, 0.0, 0.0, 0.0, 0.0, 0.0, 0.0, 0.0, 0.0, 0.0, 0.0, 0.0, 0.0, 0.0, 0.0, 0.0, 0.0, 0.0, 0.0, 0.0, 0.0, 0.0, 0.0, 0.0, 0.0, 0.0, 0.0, 0.0, 0.0, 0.0, 0.0, 0.0, 0.0, 0.0, 0.0, 0.0, 0.0, 0.0, 0.0, 0.0, 0.0, 0.0, 0.0, 0.0, 0.0, 0.0, 0.0, 0.0, 0.0, 0.0, 0.0, 0.0, 0.0, 0.0, 0.0, 0.0, 0.0, 0.0, 0.0, 0.0, 0.0, 0.0, 0.0, 0.0, 0.0, 0.0, 0.0, 0.0, 0.0, 0.0, 0.0, 0.0, 0.0, 0.0, 0.0, 0.0, 0.0, 0.0, 0.0, 0.0, 0.0, 0.0, 0.0, 0.0, 0.0, 0.0, 0.0, 0.0, 0.0, 0.0, 0.0, 0.0, 0.0, 0.0, 0.0, 0.0, 0.0, 0.0, 0.0, 0.0, 0.0, 0.0, 0.0, 0.0, 0.0, 0.0, 0.0, 0.0, 0.0, 0.0, 0.0, 0.0, 0.0, 0.0, 0.0, 0.0, 0.0, 0.0, 0.0, 0.0, 0.0, 0.0, 0.0, 0.0, 0.0, 0.0, 0.0, 0.0, 0.0, 0.0, 0.0, 0.0, 0.0, 0.0, 0.0, 0.0, 0.0, 0.0, 0.0, 0.0, 0.0, 0.0, 0.0, 0.0, 0.0, 0.0, 0.0, 0.0, 0.0, 0.0, 0.0, 0.0, 0.0, 0.0, 0.0, 0.0, 0.0, 0.0, 0.0, 0.0, 0.0, 0.0, 0.0, 0.0, 0.0, 0.0, 0.0, 0.0, 0.0, 0.0, 0.0, 0.0, 0.0, 0.0, 0.0, 0.0, 0.0, 0.0, 0.0, 0.0, 0.0, 0.0, 0.0, 0.0, 0.0, 0.0, 0.0, 0.0, 0.0, 0.0, 0.0, 0.0, 0.0, 0.0, 0.0, 0.0, 0.0, 0.0, 0.0, 0.0, 0.0, 0.0, 0.0, 0.0, 0.0, 0.0, 0.0, 0.0, 0.0, 0.0, 0.0, 0.0, 0.0, 0.0, 0.0, 0.0, 0.0, 0.0, 0.0, 0.0, 0.0, 0.0, 0.0, 0.0, 0.0, 0.0, 0.0, 0.0, 0.0, 0.0, 0.0, 0.0, 0.0, 0.0, 0.0, 0.0, 0.0, 0.0, 0.0, 0.0, 0.0, 0.0, 0.0, 0.0, 0.0, 0.0, 0.0, 0.0, 0.0, 0.0, 0.0, 0.0, 0.0, 0.0, 0.0, 0.0, 0.0, 0.0, 0.0, 0.0, 0.0, 0.0, 0.0, 0.0, 0.0, 0.0, 0.0, 0.0, 0.0, 0.0, 0.0, 0.0, 0.0, 0.0, 0.0, 0.0, 0.0, 0.0, 0.0, 0.0, 0.0, 0.0, 0.0, 0.0, 0.0, 0.0, 0.0, 0.0, 0.0, 0.0, 0.0, 0.0, 0.0, 0.0, 0.0, 0.0, 0.0, 0.0, 0.0, 0.0, 0.0, 0.0, 0.0, 0.0, 0.0, 0.0, 0.0, 0.0, 0.0, 0.0, 0.0, 0.0, 0.0, 0.0, 0.0, 0.0, 0.0, 0.0, 0.0, 0.0, 0.0, 0.0, 0.0, 0.0, 0.0, 0.0, 0.0, 0.0, 0.0, 0.0, 0.0, 0.0, 0.0, 0.0, 0.0, 0.0, 0.0, 0.0, 0.0, 0.0, 0.0, 0.0, 0.0, 0.0, 0.0, 0.0, 0.0, 0.0, 0.0, 0.0, 0.0, 0.0, 0.0, 0.0, 0.0, 0.0, 0.0, 0.0, 0.0, 0.0, 0.0, 0.0, 0.0, 0.0, 0.0, 0.0, 0.0, 0.0, 0.0, 0.0, 0.0, 0.0, 0.0, 0.0, 0.0, 0.0, 0.0, 0.0, 0.0, 0.0, 0.0, 0.0, 0.0, 0.0, 0.0, 0.0, 0.0, 0.0, 0.0, 0.0, 0.0, 0.0, 0.0, 0.0, 0.0, 0.0, 0.0, 0.0, 0.0, 0.0, 0.0, 0.0, 0.0, 0.0, 0.0, 0.0, 0.0, 0.0, 0.0, 0.0, 0.0, 0.0, 0.0, 0.0, 0.0, 0.0, 0.0, 0.0, 0.0, 0.0, 0.0, 0.0, 0.0, 0.0, 0.0, 0.0, 0.0, 0.0, 0.0, 0.0, 0.0, 0.0, 0.0, 0.0, 0.0, 0.0, 0.0, 0.0, 0.0, 0.0, 0.0, 0.0, 0.0, 0.0, 0.0, 0.0, 0.0, 0.0, 0.0, 0.0, 0.0, 0.0, 0.0, 0.0, 0.0, 0.0, 0.0, 0.0, 0.0, 0.0, 0.0, 0.0, 0.0, 0.0, 0.0, 0.0, 0.0, 0.0, 0.0, 0.0, 0.0, 0.0, 0.0, 0.0, 0.0, 0.0, 0.0, 0.0, 0.0, 0.0, 0.0, 0.0, 0.0, 0.0, 0.0, 0.0, 0.0, 0.0, 0.0, 0.0, 0.0, 0.0, 0.0, 0.0, 0.0, 0.0, 0.0, 0.0, 0.0, 0.0, 0.0, 0.0, 0.0, 0.0, 0.0, 0.0, 0.0, 0.0, 0.0, 0.0, 0.0, 0.0, 0.0, 0.0, 0.0, 0.0, 0.0, 0.0, 0.0, 0.0, 0.0, 0.0, 0.0, 0.0, 0.0, 0.0, 0.0, 0.0, 0.0, 0.0, 0.0, 0.0, 0.0, 0.0, 0.0, 0.0, 0.0, 0.0, 0.0, 0.0, 0.0, 0.0, 0.0, 0.0, 0.0, 0.0, 0.0, 0.0, 0.0, 0.0, 0.0, 0.0, 0.0, 0.0, 0.0, 0.0, 0.0, 0.0, 0.0, 0.0, 0.0, 0.0, 0.0, 0.0, 0.0, 0.0, 0.0, 0.0, 0.0, 0.0, 0.0, 0.0, 0.0, 0.0, 0.0, 0.0, 0.0, 0.0, 0.0, 0.0, 0.0, 0.0, 0.0, 0.0, 0.0, 0.0, 0.0, 0.0, 0.0, 0.0, 0.0, 0.0, 0.0, 0.0, 0.0, 0.0, 0.0, 0.0, 0.0, 0.0, 0.0, 0.0, 0.0, 0.0, 0.0, 0.0, 0.0, 0.0, 0.0, 0.0, 0.0, 0.0, 0.0, 0.0, 0.0, 0.0, 0.0, 0.0, 0.0, 0.0, 0.0, 0.0, 0.0, 0.0, 0.0, 0.0, 0.0, 0.0, 0.0, 0.0, 0.0, 0.0, 0.0, 0.0, 0.0, 0.0, 0.0, 0.0, 0.0, 0.0, 0.0, 0.0, 0.0, 0.0, 0.0, 0.0, 0.0, 0.0, 0.0, 0.0, 0.0, 0.0, 0.0, 0.0, 0.0, 0.0, 0.0, 0.0, 0.0, 0.0, 0.0, 0.0, 0.0, 0.0, 0.0, 0.0, 0.0, 0.0, 0.0, 0.0, 0.0, 0.0, 0.0, 0.0, 0.0, 0.0, 0.0, 0.0, 0.0, 0.0, 0.0, 0.0, 0.0, 0.0, 0.0, 0.0, 0.0, 0.0, 0.0, 0.0, 0.0, 0.0, 0.0, 0.0, 0.0, 0.0, 0.0, 0.0, 0.0, 0.0, 0.0, 0.0, 0.0, 0.0, 0.0, 0.0, 0.0, 0.0, 0.0, 0.0, 0.0, 0.0, 0.0, 0.0, 0.0, 0.0, 0.0, 0.0, 0.0, 0.0, 0.0, 0.0, 0.0, 0.0, 0.0, 0.0, 0.0, 0.0, 0.0, 0.0, 0.0, 0.0, 0.0, 0.0, 0.0, 0.0, 0.0, 0.0, 0.0, 0.0, 0.0, 0.0, 0.0, 0.0, 0.0, 0.0, 0.0, 0.0, 0.0, 0.0, 0.0, 0.0, 0.0, 0.0, 0.0, 0.0, 0.0, 0.0, 0.0, 0.0, 0.0, 0.0, 0.0, 0.0, 0.0, 0.0, 0.0, 0.0, 0.0, 0.0, 0.0, 0.0, 0.0, 0.0, 0.0, 0.0, 0.0, 0.0, 0.0, 0.0, 0.0, 0.0, 0.0, 0.0, 0.0]]'"
            ]
          },
          "metadata": {
            "tags": []
          },
          "execution_count": 147
        }
      ]
    },
    {
      "cell_type": "code",
      "metadata": {
        "id": "iSJLQ0c_7288"
      },
      "source": [
        "import re\n",
        "print(re.sub('[\\[\\]]', '', np.array_str(a)))"
      ],
      "execution_count": null,
      "outputs": []
    },
    {
      "cell_type": "code",
      "metadata": {
        "id": "Ytu8_P0Q70EP"
      },
      "source": [
        "lst = []\n",
        "lst.append(df.values.tolist())"
      ],
      "execution_count": null,
      "outputs": []
    },
    {
      "cell_type": "code",
      "metadata": {
        "id": "Nuv2HC9J1tXV"
      },
      "source": [
        "dataframe_lst = []\n",
        "dataframe_lst.append(df)\n",
        "\n",
        "dataframe_lst"
      ],
      "execution_count": null,
      "outputs": []
    },
    {
      "cell_type": "code",
      "metadata": {
        "id": "f5hDDMjlYQk6"
      },
      "source": [
        "from sklearn.linear_model import LogisticRegression\n",
        "from sklearn.metrics import f1_score\n",
        "from keras.models import Sequential\n",
        "from keras.layers import Dense\n",
        "from keras.layers import LSTM\n",
        "from keras.layers import Dropout"
      ],
      "execution_count": null,
      "outputs": []
    },
    {
      "cell_type": "code",
      "metadata": {
        "id": "r9EkFzAZitl_"
      },
      "source": [
        "regressor = Sequential()\n",
        "\n",
        "regressor.add(LSTM(units = 50, return_sequences = True, input_shape = (5,1024)))\n",
        "regressor.add(Dropout(0.2))\n",
        "\n",
        "regressor.add(LSTM(units = 50, return_sequences = True))\n",
        "regressor.add(Dropout(0.2))\n",
        "\n",
        "regressor.add(LSTM(units = 50, return_sequences = True))\n",
        "regressor.add(Dropout(0.2))\n",
        "\n",
        "regressor.add(LSTM(units = 50))\n",
        "regressor.add(Dropout(0.2))\n",
        "\n",
        "regressor.add(Dense(units = 1))\n",
        "\n",
        "regressor.compile(optimizer = 'adam', loss = 'mean_squared_error')\n",
        "\n",
        "regressor.fit(X_train, y_train, epochs = 4, batch_size = 32)"
      ],
      "execution_count": null,
      "outputs": []
    },
    {
      "cell_type": "code",
      "metadata": {
        "colab": {
          "base_uri": "https://localhost:8080/"
        },
        "id": "xhDDgKdfxFeB",
        "outputId": "2f8794ac-9a74-48ce-f9d5-082215e114c5"
      },
      "source": [
        "two.shape"
      ],
      "execution_count": null,
      "outputs": [
        {
          "output_type": "execute_result",
          "data": {
            "text/plain": [
              "(200, 1024)"
            ]
          },
          "metadata": {
            "tags": []
          },
          "execution_count": 36
        }
      ]
    },
    {
      "cell_type": "code",
      "metadata": {
        "colab": {
          "base_uri": "https://localhost:8080/"
        },
        "id": "k97tkYmd-jL3",
        "outputId": "72a16aa2-a195-4c0e-d5e2-ccd356e10e19"
      },
      "source": [
        "zsum = 0\n",
        "ztotal = 0 \n",
        "\n",
        "for i, j in enumerate(df_train.Participant_ID.values): \n",
        "  transcript = df_train.text.values[i]\n",
        "  #print(len(transcript))\n",
        "  ztotal+=1\n",
        "  zsum+=len(transcript)\n",
        "\n",
        "print(zsum)\n",
        "print(ztotal)\n",
        "print(zsum/ztotal)"
      ],
      "execution_count": null,
      "outputs": [
        {
          "output_type": "stream",
          "text": [
            "648\n",
            "154\n",
            "4.207792207792208\n"
          ],
          "name": "stdout"
        }
      ]
    }
  ]
}