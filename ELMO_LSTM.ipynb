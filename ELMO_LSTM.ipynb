{
  "nbformat": 4,
  "nbformat_minor": 0,
  "metadata": {
    "colab": {
      "name": "ELMO-LSTM.ipynb",
      "provenance": [],
      "collapsed_sections": [],
      "authorship_tag": "ABX9TyPn261+E+VcIeggst+A9/lN",
      "include_colab_link": true
    },
    "kernelspec": {
      "name": "python3",
      "display_name": "Python 3"
    },
    "language_info": {
      "name": "python"
    }
  },
  "cells": [
    {
      "cell_type": "markdown",
      "metadata": {
        "id": "view-in-github",
        "colab_type": "text"
      },
      "source": [
        "<a href=\"https://colab.research.google.com/github/RickBerends/Domain-Specific-BERT-for-Depression-Detection/blob/main/ELMO_LSTM.ipynb\" target=\"_parent\"><img src=\"https://colab.research.google.com/assets/colab-badge.svg\" alt=\"Open In Colab\"/></a>"
      ]
    },
    {
      "cell_type": "code",
      "metadata": {
        "colab": {
          "base_uri": "https://localhost:8080/"
        },
        "id": "WSGLibCSjiVw",
        "outputId": "e1e705f9-e654-4739-fbae-328c1bec488c"
      },
      "source": [
        "from google.colab import drive\n",
        "drive.mount('/content/drive')"
      ],
      "execution_count": null,
      "outputs": [
        {
          "output_type": "stream",
          "text": [
            "Mounted at /content/drive\n"
          ],
          "name": "stdout"
        }
      ]
    },
    {
      "cell_type": "code",
      "metadata": {
        "colab": {
          "base_uri": "https://localhost:8080/"
        },
        "id": "Kw-4Nm_JjjXL",
        "outputId": "a38de26c-625b-4314-fd41-cb5744c8f848"
      },
      "source": [
        "import numpy as np\n",
        "import pandas as pd\n",
        "import torch\n",
        "import tensorflow\n",
        "import os\n",
        "import glob\n",
        "\n",
        "import nltk\n",
        "nltk.download('popular')\n",
        "from nltk.corpus import stopwords\n",
        "from nltk.stem import WordNetLemmatizer\n",
        "\n",
        "import re"
      ],
      "execution_count": null,
      "outputs": [
        {
          "output_type": "stream",
          "text": [
            "[nltk_data] Downloading collection 'popular'\n",
            "[nltk_data]    | \n",
            "[nltk_data]    | Downloading package cmudict to /root/nltk_data...\n",
            "[nltk_data]    |   Unzipping corpora/cmudict.zip.\n",
            "[nltk_data]    | Downloading package gazetteers to /root/nltk_data...\n",
            "[nltk_data]    |   Unzipping corpora/gazetteers.zip.\n",
            "[nltk_data]    | Downloading package genesis to /root/nltk_data...\n",
            "[nltk_data]    |   Unzipping corpora/genesis.zip.\n",
            "[nltk_data]    | Downloading package gutenberg to /root/nltk_data...\n",
            "[nltk_data]    |   Unzipping corpora/gutenberg.zip.\n",
            "[nltk_data]    | Downloading package inaugural to /root/nltk_data...\n",
            "[nltk_data]    |   Unzipping corpora/inaugural.zip.\n",
            "[nltk_data]    | Downloading package movie_reviews to\n",
            "[nltk_data]    |     /root/nltk_data...\n",
            "[nltk_data]    |   Unzipping corpora/movie_reviews.zip.\n",
            "[nltk_data]    | Downloading package names to /root/nltk_data...\n",
            "[nltk_data]    |   Unzipping corpora/names.zip.\n",
            "[nltk_data]    | Downloading package shakespeare to /root/nltk_data...\n",
            "[nltk_data]    |   Unzipping corpora/shakespeare.zip.\n",
            "[nltk_data]    | Downloading package stopwords to /root/nltk_data...\n",
            "[nltk_data]    |   Unzipping corpora/stopwords.zip.\n",
            "[nltk_data]    | Downloading package treebank to /root/nltk_data...\n",
            "[nltk_data]    |   Unzipping corpora/treebank.zip.\n",
            "[nltk_data]    | Downloading package twitter_samples to\n",
            "[nltk_data]    |     /root/nltk_data...\n",
            "[nltk_data]    |   Unzipping corpora/twitter_samples.zip.\n",
            "[nltk_data]    | Downloading package omw to /root/nltk_data...\n",
            "[nltk_data]    |   Unzipping corpora/omw.zip.\n",
            "[nltk_data]    | Downloading package wordnet to /root/nltk_data...\n",
            "[nltk_data]    |   Unzipping corpora/wordnet.zip.\n",
            "[nltk_data]    | Downloading package wordnet_ic to /root/nltk_data...\n",
            "[nltk_data]    |   Unzipping corpora/wordnet_ic.zip.\n",
            "[nltk_data]    | Downloading package words to /root/nltk_data...\n",
            "[nltk_data]    |   Unzipping corpora/words.zip.\n",
            "[nltk_data]    | Downloading package maxent_ne_chunker to\n",
            "[nltk_data]    |     /root/nltk_data...\n",
            "[nltk_data]    |   Unzipping chunkers/maxent_ne_chunker.zip.\n",
            "[nltk_data]    | Downloading package punkt to /root/nltk_data...\n",
            "[nltk_data]    |   Unzipping tokenizers/punkt.zip.\n",
            "[nltk_data]    | Downloading package snowball_data to\n",
            "[nltk_data]    |     /root/nltk_data...\n",
            "[nltk_data]    | Downloading package averaged_perceptron_tagger to\n",
            "[nltk_data]    |     /root/nltk_data...\n",
            "[nltk_data]    |   Unzipping taggers/averaged_perceptron_tagger.zip.\n",
            "[nltk_data]    | \n",
            "[nltk_data]  Done downloading collection popular\n"
          ],
          "name": "stdout"
        }
      ]
    },
    {
      "cell_type": "code",
      "metadata": {
        "id": "8Rixr9gDjyzZ"
      },
      "source": [
        "os.chdir('/content/drive/My Drive/Splits')\n",
        "\n",
        "#Load train, split = 0 for train. \n",
        "df = pd.read_csv(\"train_split.csv\", usecols=[0,1])\n",
        "df['split'] = 0\n",
        "df['Participant_ID'].astype(int)\n",
        "\n",
        "#Load test split, split = 2 for test.\n",
        "df1 = pd.read_csv(\"full_test_split copy.csv\", sep=';', usecols=[0,1])\n",
        "df1['split'] = 2\n",
        "df1['Participant_ID'].astype(int)\n",
        "df1.rename(columns = {'PHQ_Binary':'PHQ8_Binary'}, inplace = True)\n",
        "\n",
        "#Load dev split, split = 1 for dev.\n",
        "df2 = pd.read_csv(\"dev_split.csv\", usecols=[0,1])\n",
        "df2['split'] = 1\n",
        "df2['Participant_ID'].astype(int)\n",
        "\n",
        "#Get them together\n",
        "final_df = pd.concat([df,df1,df2])\n",
        "final_df.sort_values('Participant_ID', inplace=True)\n",
        "\n",
        "#Building data cleaning. \n",
        "\n",
        "def clean_text(text): \n",
        "  #stop_words = set(stopwords.words('english'))\n",
        "  #lemmatizer = WordNetLemmatizer()\n",
        "\n",
        "  text = text.lower()\n",
        "  text = re.sub(r\"<sync>\", \"\",text)\n",
        "  text = re.sub(r\"he's\", \"he is\", text)\n",
        "  text = re.sub(r\"there's\", \"there is\", text)\n",
        "  text = re.sub(r\"we're\", \"we are\", text)\n",
        "  text = re.sub(r\"That's\", \"That is\", text)\n",
        "  text = re.sub(r\"won't\", \"will not\", text)\n",
        "  text = re.sub(r\"they're\", \"they are\", text)\n",
        "  text = re.sub(r\"can't\", \"cannot\", text)\n",
        "  text = re.sub(r\"wasn't\", \"was not\", text)\n",
        "  text = re.sub(r\"don't\", \"do not\", text)\n",
        "  text = re.sub(r\"aren't\", \"are not\", text)\n",
        "  text = re.sub(r\"isn't\", \"is not\", text)\n",
        "  text = re.sub(r\"what's\", \"what is\", text)\n",
        "  text = re.sub(r\"haven't\", \"have not\", text)\n",
        "  text = re.sub(r\"hasn't\", \"has not\", text)\n",
        "  text = re.sub(r\"there's\", \"there is\", text)\n",
        "  text = re.sub(r\"he's\", \"he is\", text)\n",
        "  text = re.sub(r\"it's\", \"it is\", text)\n",
        "  text = re.sub(r\"you're\", \"you are\", text)\n",
        "  text = re.sub(r\"i'm\", \"i am\", text)\n",
        "  text = re.sub(r\"shouldn't\", \"should not\", text)\n",
        "  text = re.sub(r\"wouldn't\", \"would not\", text)\n",
        "  text = re.sub(r\"isn't\", \"is not\", text)\n",
        "  text = re.sub(r\"here's\", \"here is\", text)\n",
        "  text = re.sub(r\"you've\", \"you have\", text)\n",
        "  text = re.sub(r\"we're\", \"we are\", text)\n",
        "  text = re.sub(r\"what's\", \"what is\", text)\n",
        "  text = re.sub(r\"couldn't\", \"could not\", text)\n",
        "  text = re.sub(r\"we've\", \"we have\", text)\n",
        "  text = re.sub(r\"it's\", \"it is\", text)\n",
        "  text = re.sub(r\"doesn't\", \"does not\", text)\n",
        "  text = re.sub(r\"who's\", \"who is\", text)\n",
        "  text = re.sub(r\"y'all\", \"you all\", text)\n",
        "  text = re.sub(r\"would've\", \"would have\", text)\n",
        "  text = re.sub(r\"it'll\", \"it will\", text)\n",
        "  text = re.sub(r\"we'll\", \"we will\", text)\n",
        "  text = re.sub(r\"we've\", \"we have\", text)\n",
        "  text = re.sub(r\"he'll\", \"he will\", text)\n",
        "  text = re.sub(r\"y'all\", \"you all\", text)\n",
        "  text = re.sub(r\"weren't\", \"Were not\", text)\n",
        "  text = re.sub(r\"didn't\", \"did not\", text)\n",
        "  text = re.sub(r\"they'll\", \"they will\", text)\n",
        "  text = re.sub(r\"they'd\", \"they would\", text)\n",
        "  text = re.sub(r\"don't\", \"do not\", text)\n",
        "  text = re.sub(r\"they've\", \"they have\", text)\n",
        "  text = re.sub(r\"i'd\", \"I would\", text)\n",
        "  text = re.sub(r\"should've\", \"should have\", text)\n",
        "  text = re.sub(r\"where's\", \"where is\", text)\n",
        "  text = re.sub(r\"we'd\", \"we would\", text)\n",
        "  text = re.sub(r\"i'll\", \"i will\", text)\n",
        "  text = re.sub(r\"weren't\", \"were not\", text)\n",
        "  text = re.sub(r\"they're\", \"they are\", text)\n",
        "  text = re.sub(r\"let's\", \"let us\", text)\n",
        "  text = re.sub(r\"it's\", \"it is\", text)\n",
        "  text = re.sub(r\"can't\", \"cannot\", text)\n",
        "  text = re.sub(r\"don't\", \"do not\", text)\n",
        "  text = re.sub(r\"you're\", \"you are\", text)\n",
        "  text = re.sub(r\"i've\", \"i have\", text)\n",
        "  text = re.sub(r\"that's\", \"that is\", text)\n",
        "  text = re.sub(r\"i'll\", \"i will\", text)\n",
        "  text = re.sub(r\"doesn't\", \"does not\", text)\n",
        "  text = re.sub(r\"i'd\", \"i would\", text)\n",
        "  text = re.sub(r\"didn't\", \"did not\", text)\n",
        "  text = re.sub(r\"ain't\", \"am not\", text)\n",
        "  text = re.sub(r\"you'll\", \"you will\", text)\n",
        "  text = re.sub(r\"i've\", \"i have\", text)\n",
        "  text = re.sub(r\"Don't\", \"do not\", text)\n",
        "  text = re.sub(r\"i'll\", \"i will\", text)\n",
        "  text = re.sub(r\"i'd\", \"i would\", text)\n",
        "  text = re.sub(r\"let's\", \"Let us\", text)\n",
        "  text = re.sub(r\"you'd\", \"you would\", text)\n",
        "  text = re.sub(r\"it's\", \"it is\", text)\n",
        "  text = re.sub(r\"ain't\", \"am not\", text)\n",
        "  text = re.sub(r\"haven't\", \"have not\", text)\n",
        "  text = re.sub(r\"could've\", \"could have\", text)\n",
        "  text = re.sub(r\"youve\", \"you have\", text)  \n",
        "  text = re.sub(r\"[-()\\\"#/@;:<>.?,]\",\"\",text)\n",
        "  text = ' '.join(text.split())\n",
        "  text = text.split(' ')\n",
        "  #text = [w for w in text if not w in stop_words]\n",
        "  #text = [lemmatizer.lemmatize(w) for w in text]\n",
        "  text = ' '.join(text)\n",
        "  return text\n",
        "\n",
        "#Loading all the text from the individual transcripts into one dataframe. \n",
        "os.chdir('/content/drive/My Drive/DAICWOZ_transcripts')\n",
        "\n",
        "lst = []\n",
        "labels = []\n",
        "pd.set_option('max_colwidth', 800)\n",
        "\n",
        "for file in glob.glob(\"*.csv\"):\n",
        "    name = file\n",
        "    try: \n",
        "        df = pd.read_csv(name, usecols=[2,3], sep='\\t')\n",
        "        outcome = df['speaker'] == 'Participant' \n",
        "        new_str = ''\n",
        "    except ValueError: \n",
        "        print(name)\n",
        "        continue\n",
        "    for index, j in enumerate(outcome):\n",
        "        if j == False: \n",
        "            continue\n",
        "        else: \n",
        "            response = df['value'][index:index+1]\n",
        "            response = response.to_string(index=False)\n",
        "            new_str+= response\n",
        "    new_str = clean_text(new_str)\n",
        "    lst.append(new_str)\n",
        "    labels.append(name.split('_')[0])\n",
        "\n",
        "final_df['text'] = lst"
      ],
      "execution_count": null,
      "outputs": []
    },
    {
      "cell_type": "code",
      "metadata": {
        "id": "GVK2Glv8j3mI"
      },
      "source": [
        "#Split the text, based on the length of the text. \n",
        "\n",
        "def get_split(text1): \n",
        "  l_total = []\n",
        "  l_partial = []\n",
        "\n",
        "  #Check whether or not the text is bigger than 150 words and should be split.\n",
        "  if len(text1.split())//20>0:\n",
        "    n = len(text1.split())//20\n",
        "  else: \n",
        "    n = 1\n",
        "  \n",
        "  #If that's the case, the first split is smaller than 200, the next split is [150:350], [300:550] etc. \n",
        "  for w in range(n): \n",
        "    if w == 0: \n",
        "      l_partial = text1.split()[:20]\n",
        "      l_total.append(\" \".join(l_partial))\n",
        "\n",
        "    else: \n",
        "      l_partial = text1.split()[w*20: w*20+ 20]\n",
        "      l_total.append(\" \".join(l_partial))\n",
        "  return l_total\n",
        "\n",
        "twohundred_lst = []\n",
        "\n",
        "for i in lst: \n",
        "  twohundred_lst.append(get_split(i))\n",
        "\n",
        "#Finally replace the \"text\" with text, split up in lists.\n",
        "final_df['text'] = twohundred_lst"
      ],
      "execution_count": null,
      "outputs": []
    },
    {
      "cell_type": "code",
      "metadata": {
        "id": "uf453ECdj4Sr"
      },
      "source": [
        "df_train = pd.DataFrame()\n",
        "df_val = pd.DataFrame()\n",
        "df_test = pd.DataFrame()\n",
        "\n",
        "df_train = final_df[final_df['split'] == 0]\n",
        "df_val = final_df[final_df['split'] == 1]\n",
        "df_test = final_df[final_df['split'] == 2]"
      ],
      "execution_count": null,
      "outputs": []
    },
    {
      "cell_type": "code",
      "metadata": {
        "colab": {
          "base_uri": "https://localhost:8080/",
          "height": 1000
        },
        "id": "tHil6mecF8t0",
        "outputId": "a093cf9d-e556-414d-938b-bed7bd8ad1f4"
      },
      "source": [
        "#Copy dataframe to new dataframe\n",
        "df_train_over = df_train.copy()\n",
        "\n",
        "#Sample random rows\n",
        "n = 77 - 30 \n",
        "\n",
        "#Minority class\n",
        "minor = df_train[df_train['PHQ8_Binary'] == 1]\n",
        "\n",
        "rows = minor.sample(47, replace = True)\n",
        "\n",
        "over_train_df = df_train_over.append(rows, ignore_index=True)\n",
        "df_train = over_train_df\n",
        "\n",
        "df_train"
      ],
      "execution_count": null,
      "outputs": [
        {
          "output_type": "execute_result",
          "data": {
            "text/html": [
              "<div>\n",
              "<style scoped>\n",
              "    .dataframe tbody tr th:only-of-type {\n",
              "        vertical-align: middle;\n",
              "    }\n",
              "\n",
              "    .dataframe tbody tr th {\n",
              "        vertical-align: top;\n",
              "    }\n",
              "\n",
              "    .dataframe thead th {\n",
              "        text-align: right;\n",
              "    }\n",
              "</style>\n",
              "<table border=\"1\" class=\"dataframe\">\n",
              "  <thead>\n",
              "    <tr style=\"text-align: right;\">\n",
              "      <th></th>\n",
              "      <th>Participant_ID</th>\n",
              "      <th>PHQ8_Binary</th>\n",
              "      <th>split</th>\n",
              "      <th>text</th>\n",
              "    </tr>\n",
              "  </thead>\n",
              "  <tbody>\n",
              "    <tr>\n",
              "      <th>0</th>\n",
              "      <td>303</td>\n",
              "      <td>0</td>\n",
              "      <td>0</td>\n",
              "      <td>[mm maybe okay i am from california it is sun there is sunshine s sunshine weather mhm what do you, like about l_a laughter what do laughter um i like um sniff i just said i i like li like, the weather the traffic no i do not have the means i studied liberal art a art a i studied, um film because i live in los angeles not really um uh to work i i want to become a, laughter i do not care ca i do not know i i i i do not wanna tell you yeah, okay i am very outgoing because because are you outgoing laughter um sit down sleep um i think about it, and then i stop it is easy um i do not remember um for not changing the battery on my, phone no it was the battery on my car i did not change it and it did not start and, i procrastinated and so yeah yeah that is a bad word you cannot say that i no...</td>\n",
              "    </tr>\n",
              "    <tr>\n",
              "      <th>1</th>\n",
              "      <td>304</td>\n",
              "      <td>0</td>\n",
              "      <td>0</td>\n",
              "      <td>[i am doing alright uh originally i am from california uh born in glendale i am not too happy with, it uh just unemployed at the moment but uh actively seeking uh uh doing what i am supposed to be, doing uh there are some uh some prospects there but hopefully i will learn something today yeah well i have, one it is a girlfriend so i consider her a roommate a lover type thing pardon me um we are, pretty close uh i met her last year and uh we have been through some troubling times but uh we, are starting to see a light at the end of the tunnel uh the troubling times uh i would let, me see uh well i had uh gotten a d_u_i last year and uh lost my job i am a, truck driver by trade so uh that kinda threw me way off uh having a fourteen hundred dollar a week, job uh and then going to nothing ...</td>\n",
              "    </tr>\n",
              "    <tr>\n",
              "      <th>2</th>\n",
              "      <td>305</td>\n",
              "      <td>0</td>\n",
              "      <td>0</td>\n",
              "      <td>[yeah i am totally fine it be confidential or not you know my words wo my words are everybody's get, wild laughter i am doing pretty good hanging out nice weather um i just had a recent change of feeling, just now looking at you laughter the the digitial you that i am saying uh i do not know it, is yeah it is funny um tisk because i just always thought that uh the conveying of emotions or feelings, uh be like better understood with a human interaction as opposed to a non human entity such as yourself yeah, i i think you see what i mean laughter i am from um born and raised in los angeles venice, area mar vista specifically um that is where i am from um well there is a lot more that i, do not like but what i do like is that public transportation is coming up uh that the idea of, certain...</td>\n",
              "    </tr>\n",
              "    <tr>\n",
              "      <th>3</th>\n",
              "      <td>310</td>\n",
              "      <td>0</td>\n",
              "      <td>0</td>\n",
              "      <td>[synch yes pretty good alexandria virginia mhm uh i moved to l_a uh end of two thousand one yeah it, is crazy laughter um a couple times a year usually like for holidays hmm sigh it is sigh it is, very different um i think it is a lot more mellow um it is way more like suburbia it is, nice um it there is something comforting about it but it is always like i get a little restless when, i am there and look forward to coming back here where there is a little more action sniffle i went, to um grad school at u_s_c um it was it was not bad i mean my my program that i, was in was so intense that like for the first year it was so all consuming that i really did, not have much spare time to think about the adjustment it was just like i laughter my life was not, my own so that made it kind of um...</td>\n",
              "    </tr>\n",
              "    <tr>\n",
              "      <th>4</th>\n",
              "      <td>312</td>\n",
              "      <td>0</td>\n",
              "      <td>0</td>\n",
              "      <td>[yes i am doing fine indiana yes uh i do not know maybe ten years ago never uh just do, not like the cold weather l_a has beautiful weather and activities all the time new life uh reasonably easy the, good weather the ocean and there is always something to do hm uh the traffic sometimes seeing new places uh, and visiting new people well a couple years ago i went to the catalina islands for my birthday i was, i spent the whole day uh on the catalina islands i took a boat there uh hopping on the airplane, and leaving indiana for good okay sleeping uh being a filmmaker because it is one job i have not had, yet not too hard shy hm because of my past um i just have trouble making new friends and just, let l trusting people okay uh watch t_v or go to the movies i really do not have a temper,...</td>\n",
              "    </tr>\n",
              "    <tr>\n",
              "      <th>...</th>\n",
              "      <td>...</td>\n",
              "      <td>...</td>\n",
              "      <td>...</td>\n",
              "      <td>...</td>\n",
              "    </tr>\n",
              "    <tr>\n",
              "      <th>149</th>\n",
              "      <td>330</td>\n",
              "      <td>1</td>\n",
              "      <td>0</td>\n",
              "      <td>[synch yeah sure i am fine thank you i am from los angeles well you cannot beat the weather um, and i just think the familiarity of home just uh makes me feel comfortable here smog uh rudeness although it, does not compare to new york it is um laughter people can be unbearable when they are rude um not, as much as I would like lately i traveled more in the past but uh not lately no i just, think seeing different places it is um learning new things uh finding things that are fascinating that peak my interest, um let us see i think laughter spoke of new york earlier i think the first time i went to, new york i was quite amazed i know it is uh still st still only in america but i just, think um being from l_a i did not think anything or any city could be bigger and more uh how, do you say...</td>\n",
              "    </tr>\n",
              "    <tr>\n",
              "      <th>150</th>\n",
              "      <td>348</td>\n",
              "      <td>1</td>\n",
              "      <td>0</td>\n",
              "      <td>[sure mm okay los angeles um well laughter that is a good question um i like the familiarity with everything, i know where everything is in the city mm that is all i can say right now so spread out, so hard to get places is there anything else my dream job i do not think there is a dream, job um for me no there is not one mm i am uh sort of unemployed right now sigh so, am i cough mm that is true sniffle i started i studied urban planning well um i think this um, school shooting thing and uh the n_r_a seeming to not wanna budge on this gun control issue thing that is, it mm um i try to remove myself from that situation that is annoying me sniffle i have gotten better, over the years um most of the time i just try to um you know walk away or you know, control my emotions in terms of you...</td>\n",
              "    </tr>\n",
              "    <tr>\n",
              "      <th>151</th>\n",
              "      <td>412</td>\n",
              "      <td>1</td>\n",
              "      <td>0</td>\n",
              "      <td>[yes clears throat i am actually feel f i feel pretty good 'cause i uh i slept all day yesterday, almost and i usually i am doing something if it is not work it is school if it is not, school it is work and then social life and all that so um i actually did not have work yesterday, and i do not have school i only have school on the weekdays so i actually slept probably like eighty, five percent of the day so i actually feel kinda good but i am actually kinda tired as well and, i have other stuff going on but other than that i am good today i am originally from bakersfield california, really uh i moved to l_a when i was an infant and then i left here when i was around, three or four and i have been move i moved back here in oh seven and i have been living, here um ever since um wow sinc...</td>\n",
              "    </tr>\n",
              "    <tr>\n",
              "      <th>152</th>\n",
              "      <td>348</td>\n",
              "      <td>1</td>\n",
              "      <td>0</td>\n",
              "      <td>[sure mm okay los angeles um well laughter that is a good question um i like the familiarity with everything, i know where everything is in the city mm that is all i can say right now so spread out, so hard to get places is there anything else my dream job i do not think there is a dream, job um for me no there is not one mm i am uh sort of unemployed right now sigh so, am i cough mm that is true sniffle i started i studied urban planning well um i think this um, school shooting thing and uh the n_r_a seeming to not wanna budge on this gun control issue thing that is, it mm um i try to remove myself from that situation that is annoying me sniffle i have gotten better, over the years um most of the time i just try to um you know walk away or you know, control my emotions in terms of you...</td>\n",
              "    </tr>\n",
              "    <tr>\n",
              "      <th>153</th>\n",
              "      <td>380</td>\n",
              "      <td>1</td>\n",
              "      <td>0</td>\n",
              "      <td>[sync yes i am alright south l_a um the weather the women the opportunities that is about it racism police, brutality injustice that is it mm no not much of a exploring type of person um psychology mhm um it, was one of the classes i excelled in the most so i decided to change it from business to psychology, yeah yes no to own my own record label um it it is moderately hard but you know take it, one day at a time just i guess you know stay focused a little bit of both um i tend, to be shy in um situations i am not comfortable with or i am new to and i am outgoing, in places i am more comfortable with yeah laughter um turn the lights down low and listen to soft music, mhm i am getting better over the years um i think i am pretty decent now compared to how i, used to be yes ma'am um due ...</td>\n",
              "    </tr>\n",
              "  </tbody>\n",
              "</table>\n",
              "<p>154 rows × 4 columns</p>\n",
              "</div>"
            ],
            "text/plain": [
              "     Participant_ID  ...                                                                                                                                                                                                                                                                                                                                                                                                                                                                                                                                                                                                                                                                                                                                                                                                                             text\n",
              "0               303  ...  [mm maybe okay i am from california it is sun there is sunshine s sunshine weather mhm what do you, like about l_a laughter what do laughter um i like um sniff i just said i i like li like, the weather the traffic no i do not have the means i studied liberal art a art a i studied, um film because i live in los angeles not really um uh to work i i want to become a, laughter i do not care ca i do not know i i i i do not wanna tell you yeah, okay i am very outgoing because because are you outgoing laughter um sit down sleep um i think about it, and then i stop it is easy um i do not remember um for not changing the battery on my, phone no it was the battery on my car i did not change it and it did not start and, i procrastinated and so yeah yeah that is a bad word you cannot say that i no...\n",
              "1               304  ...  [i am doing alright uh originally i am from california uh born in glendale i am not too happy with, it uh just unemployed at the moment but uh actively seeking uh uh doing what i am supposed to be, doing uh there are some uh some prospects there but hopefully i will learn something today yeah well i have, one it is a girlfriend so i consider her a roommate a lover type thing pardon me um we are, pretty close uh i met her last year and uh we have been through some troubling times but uh we, are starting to see a light at the end of the tunnel uh the troubling times uh i would let, me see uh well i had uh gotten a d_u_i last year and uh lost my job i am a, truck driver by trade so uh that kinda threw me way off uh having a fourteen hundred dollar a week, job uh and then going to nothing ...\n",
              "2               305  ...  [yeah i am totally fine it be confidential or not you know my words wo my words are everybody's get, wild laughter i am doing pretty good hanging out nice weather um i just had a recent change of feeling, just now looking at you laughter the the digitial you that i am saying uh i do not know it, is yeah it is funny um tisk because i just always thought that uh the conveying of emotions or feelings, uh be like better understood with a human interaction as opposed to a non human entity such as yourself yeah, i i think you see what i mean laughter i am from um born and raised in los angeles venice, area mar vista specifically um that is where i am from um well there is a lot more that i, do not like but what i do like is that public transportation is coming up uh that the idea of, certain...\n",
              "3               310  ...  [synch yes pretty good alexandria virginia mhm uh i moved to l_a uh end of two thousand one yeah it, is crazy laughter um a couple times a year usually like for holidays hmm sigh it is sigh it is, very different um i think it is a lot more mellow um it is way more like suburbia it is, nice um it there is something comforting about it but it is always like i get a little restless when, i am there and look forward to coming back here where there is a little more action sniffle i went, to um grad school at u_s_c um it was it was not bad i mean my my program that i, was in was so intense that like for the first year it was so all consuming that i really did, not have much spare time to think about the adjustment it was just like i laughter my life was not, my own so that made it kind of um...\n",
              "4               312  ...  [yes i am doing fine indiana yes uh i do not know maybe ten years ago never uh just do, not like the cold weather l_a has beautiful weather and activities all the time new life uh reasonably easy the, good weather the ocean and there is always something to do hm uh the traffic sometimes seeing new places uh, and visiting new people well a couple years ago i went to the catalina islands for my birthday i was, i spent the whole day uh on the catalina islands i took a boat there uh hopping on the airplane, and leaving indiana for good okay sleeping uh being a filmmaker because it is one job i have not had, yet not too hard shy hm because of my past um i just have trouble making new friends and just, let l trusting people okay uh watch t_v or go to the movies i really do not have a temper,...\n",
              "..              ...  ...                                                                                                                                                                                                                                                                                                                                                                                                                                                                                                                                                                                                                                                                                                                                                                                                                              ...\n",
              "149             330  ...  [synch yeah sure i am fine thank you i am from los angeles well you cannot beat the weather um, and i just think the familiarity of home just uh makes me feel comfortable here smog uh rudeness although it, does not compare to new york it is um laughter people can be unbearable when they are rude um not, as much as I would like lately i traveled more in the past but uh not lately no i just, think seeing different places it is um learning new things uh finding things that are fascinating that peak my interest, um let us see i think laughter spoke of new york earlier i think the first time i went to, new york i was quite amazed i know it is uh still st still only in america but i just, think um being from l_a i did not think anything or any city could be bigger and more uh how, do you say...\n",
              "150             348  ...  [sure mm okay los angeles um well laughter that is a good question um i like the familiarity with everything, i know where everything is in the city mm that is all i can say right now so spread out, so hard to get places is there anything else my dream job i do not think there is a dream, job um for me no there is not one mm i am uh sort of unemployed right now sigh so, am i cough mm that is true sniffle i started i studied urban planning well um i think this um, school shooting thing and uh the n_r_a seeming to not wanna budge on this gun control issue thing that is, it mm um i try to remove myself from that situation that is annoying me sniffle i have gotten better, over the years um most of the time i just try to um you know walk away or you know, control my emotions in terms of you...\n",
              "151             412  ...  [yes clears throat i am actually feel f i feel pretty good 'cause i uh i slept all day yesterday, almost and i usually i am doing something if it is not work it is school if it is not, school it is work and then social life and all that so um i actually did not have work yesterday, and i do not have school i only have school on the weekdays so i actually slept probably like eighty, five percent of the day so i actually feel kinda good but i am actually kinda tired as well and, i have other stuff going on but other than that i am good today i am originally from bakersfield california, really uh i moved to l_a when i was an infant and then i left here when i was around, three or four and i have been move i moved back here in oh seven and i have been living, here um ever since um wow sinc...\n",
              "152             348  ...  [sure mm okay los angeles um well laughter that is a good question um i like the familiarity with everything, i know where everything is in the city mm that is all i can say right now so spread out, so hard to get places is there anything else my dream job i do not think there is a dream, job um for me no there is not one mm i am uh sort of unemployed right now sigh so, am i cough mm that is true sniffle i started i studied urban planning well um i think this um, school shooting thing and uh the n_r_a seeming to not wanna budge on this gun control issue thing that is, it mm um i try to remove myself from that situation that is annoying me sniffle i have gotten better, over the years um most of the time i just try to um you know walk away or you know, control my emotions in terms of you...\n",
              "153             380  ...  [sync yes i am alright south l_a um the weather the women the opportunities that is about it racism police, brutality injustice that is it mm no not much of a exploring type of person um psychology mhm um it, was one of the classes i excelled in the most so i decided to change it from business to psychology, yeah yes no to own my own record label um it it is moderately hard but you know take it, one day at a time just i guess you know stay focused a little bit of both um i tend, to be shy in um situations i am not comfortable with or i am new to and i am outgoing, in places i am more comfortable with yeah laughter um turn the lights down low and listen to soft music, mhm i am getting better over the years um i think i am pretty decent now compared to how i, used to be yes ma'am um due ...\n",
              "\n",
              "[154 rows x 4 columns]"
            ]
          },
          "metadata": {
            "tags": []
          },
          "execution_count": 7
        }
      ]
    },
    {
      "cell_type": "code",
      "metadata": {
        "id": "ZEFaiCcvjMCE"
      },
      "source": [
        "def read_elmo(dataframe, val): \n",
        "\n",
        "  elmo_list = []\n",
        "\n",
        "  for p in dataframe.Participant_ID.values.tolist(): \n",
        "\n",
        "    elmo_file = str(p) + '_elmo.csv'\n",
        "\n",
        "    if val == 1: \n",
        "      elmo_path = '/content/drive/My Drive/elmo/' + elmo_file\n",
        "    elif val == 2: \n",
        "      elmo_path = '/content/drive/My Drive/elmo_val/' + elmo_file\n",
        "    else: \n",
        "      elmo_path = '/content/drive/My Drive/elmo_test/' + elmo_file\n",
        "    \n",
        "    elmo = pd.read_csv(elmo_path, delimiter=',', usecols=range(1,1023), header=None)\n",
        "    elmo_list.append(elmo)\n",
        "\n",
        "  return elmo_list"
      ],
      "execution_count": null,
      "outputs": []
    },
    {
      "cell_type": "code",
      "metadata": {
        "id": "kxXAHW-wt7QU"
      },
      "source": [
        "from sklearn.linear_model import LogisticRegression\n",
        "from sklearn.metrics import f1_score\n",
        "from keras.models import Sequential\n",
        "from keras.layers import Dense\n",
        "from keras.layers import LSTM\n",
        "from keras.layers import Dropout"
      ],
      "execution_count": null,
      "outputs": []
    },
    {
      "cell_type": "code",
      "metadata": {
        "id": "uKQMzb7buYhQ"
      },
      "source": [
        "x_train = read_elmo(df_train, 1)\n",
        "y_train = df_train['PHQ8_Binary']\n",
        "x_val = read_elmo(df_val, 2)\n",
        "y_val = df_val['PHQ8_Binary']\n",
        "x_test = read_elmo(df_test, 3)\n",
        "y_test = df_test['PHQ8_Binary']"
      ],
      "execution_count": null,
      "outputs": []
    },
    {
      "cell_type": "code",
      "metadata": {
        "id": "196lPmvn99hX"
      },
      "source": [
        "x_train=np.asarray(x_train).astype(np.float)\n",
        "y_train=np.asarray(y_train).astype(np.int)\n",
        "x_val = np.asarray(x_val).astype(np.float)\n",
        "y_val = np.asarray(y_val).astype(np.int)\n",
        "x_test = np.asarray(x_test).astype(np.float)\n",
        "y_test = np.asarray(y_test).astype(np.int)"
      ],
      "execution_count": null,
      "outputs": []
    },
    {
      "cell_type": "code",
      "metadata": {
        "id": "gT25aAzGt8RH",
        "colab": {
          "base_uri": "https://localhost:8080/"
        },
        "outputId": "72a2edfe-2dfa-42b2-c6a1-4f7731619e22"
      },
      "source": [
        "regressor = Sequential()\n",
        "\n",
        "regressor.add(LSTM(units = 50, return_sequences = True, input_shape = (5,1022)))\n",
        "regressor.add(Dropout(0.5))\n",
        "\n",
        "regressor.add(LSTM(units = 50, return_sequences = True))\n",
        "regressor.add(Dropout(0.5))\n",
        "\n",
        "regressor.add(LSTM(units = 50, return_sequences = True))\n",
        "regressor.add(Dropout(0.5))\n",
        "\n",
        "regressor.add(LSTM(units = 50))\n",
        "regressor.add(Dropout(0.5))\n",
        "\n",
        "regressor.add(Dense(units = 1, activation='sigmoid'))\n",
        "\n",
        "regressor.compile(optimizer = 'adamW', loss = 'binary_crossentropy', metrics=['accuracy'])\n",
        "regressor.fit(x_train, y_train, validation_data=(x_val, y_val), epochs = 15, batch_size = 64)"
      ],
      "execution_count": null,
      "outputs": [
        {
          "output_type": "stream",
          "text": [
            "Epoch 1/15\n",
            "3/3 [==============================] - 9s 838ms/step - loss: 0.6931 - accuracy: 0.4207 - val_loss: 0.7032 - val_accuracy: 0.3429\n",
            "Epoch 2/15\n",
            "3/3 [==============================] - 0s 59ms/step - loss: 0.6956 - accuracy: 0.5195 - val_loss: 0.6930 - val_accuracy: 0.5714\n",
            "Epoch 3/15\n",
            "3/3 [==============================] - 0s 58ms/step - loss: 0.6938 - accuracy: 0.5240 - val_loss: 0.6859 - val_accuracy: 0.6571\n",
            "Epoch 4/15\n",
            "3/3 [==============================] - 0s 60ms/step - loss: 0.6926 - accuracy: 0.5475 - val_loss: 0.6827 - val_accuracy: 0.6571\n",
            "Epoch 5/15\n",
            "3/3 [==============================] - 0s 60ms/step - loss: 0.6925 - accuracy: 0.4980 - val_loss: 0.6880 - val_accuracy: 0.6571\n",
            "Epoch 6/15\n",
            "3/3 [==============================] - 0s 62ms/step - loss: 0.6905 - accuracy: 0.5943 - val_loss: 0.6939 - val_accuracy: 0.4000\n",
            "Epoch 7/15\n",
            "3/3 [==============================] - 0s 61ms/step - loss: 0.6866 - accuracy: 0.5676 - val_loss: 0.6954 - val_accuracy: 0.3143\n",
            "Epoch 8/15\n",
            "3/3 [==============================] - 0s 61ms/step - loss: 0.6860 - accuracy: 0.5741 - val_loss: 0.6930 - val_accuracy: 0.5143\n",
            "Epoch 9/15\n",
            "3/3 [==============================] - 0s 64ms/step - loss: 0.6863 - accuracy: 0.5930 - val_loss: 0.6919 - val_accuracy: 0.5429\n",
            "Epoch 10/15\n",
            "3/3 [==============================] - 0s 65ms/step - loss: 0.6805 - accuracy: 0.5839 - val_loss: 0.6924 - val_accuracy: 0.5429\n",
            "Epoch 11/15\n",
            "3/3 [==============================] - 0s 63ms/step - loss: 0.6771 - accuracy: 0.6242 - val_loss: 0.6947 - val_accuracy: 0.5429\n",
            "Epoch 12/15\n",
            "3/3 [==============================] - 0s 67ms/step - loss: 0.6584 - accuracy: 0.6619 - val_loss: 0.7037 - val_accuracy: 0.4571\n",
            "Epoch 13/15\n",
            "3/3 [==============================] - 0s 64ms/step - loss: 0.6414 - accuracy: 0.7028 - val_loss: 0.7268 - val_accuracy: 0.4286\n",
            "Epoch 14/15\n",
            "3/3 [==============================] - 0s 61ms/step - loss: 0.6167 - accuracy: 0.7243 - val_loss: 0.7784 - val_accuracy: 0.4000\n",
            "Epoch 15/15\n",
            "3/3 [==============================] - 0s 64ms/step - loss: 0.5965 - accuracy: 0.7490 - val_loss: 0.8104 - val_accuracy: 0.4000\n"
          ],
          "name": "stdout"
        },
        {
          "output_type": "execute_result",
          "data": {
            "text/plain": [
              "<tensorflow.python.keras.callbacks.History at 0x7f0f66a19d10>"
            ]
          },
          "metadata": {
            "tags": []
          },
          "execution_count": 25
        }
      ]
    },
    {
      "cell_type": "code",
      "metadata": {
        "id": "Pztj-Xi5GUFt"
      },
      "source": [
        "y_pred = regressor.predict(x_test)\n",
        "\n",
        "y_pred[y_pred <= 0.5] = 0.\n",
        "y_pred[y_pred > 0.5] = 1."
      ],
      "execution_count": null,
      "outputs": []
    },
    {
      "cell_type": "code",
      "metadata": {
        "colab": {
          "base_uri": "https://localhost:8080/"
        },
        "id": "pqBUKqdHB27E",
        "outputId": "7c853ab2-01ba-44f7-98e5-8a3ff09ca9f7"
      },
      "source": [
        "f1_score(y_test, y_pred=y_pred, average='weighted')"
      ],
      "execution_count": null,
      "outputs": [
        {
          "output_type": "execute_result",
          "data": {
            "text/plain": [
              "0.48936170212765956"
            ]
          },
          "metadata": {
            "tags": []
          },
          "execution_count": 27
        }
      ]
    },
    {
      "cell_type": "code",
      "metadata": {
        "id": "XwdfDuW1fnVo"
      },
      "source": [
        "from sklearn.metrics import confusion_matrix, classification_report"
      ],
      "execution_count": null,
      "outputs": []
    },
    {
      "cell_type": "code",
      "metadata": {
        "id": "ltNpPbg1UNxp",
        "colab": {
          "base_uri": "https://localhost:8080/"
        },
        "outputId": "aa5a3f4a-f88f-48ba-8549-521bd5267a8d"
      },
      "source": [
        "print(classification_report(y_test, y_pred, target_names=['Not depressed', 'Depressed']))"
      ],
      "execution_count": null,
      "outputs": [
        {
          "output_type": "stream",
          "text": [
            "               precision    recall  f1-score   support\n",
            "\n",
            "Not depressed       0.64      0.64      0.64        33\n",
            "    Depressed       0.14      0.14      0.14        14\n",
            "\n",
            "     accuracy                           0.49        47\n",
            "    macro avg       0.39      0.39      0.39        47\n",
            " weighted avg       0.49      0.49      0.49        47\n",
            "\n"
          ],
          "name": "stdout"
        }
      ]
    },
    {
      "cell_type": "code",
      "metadata": {
        "colab": {
          "base_uri": "https://localhost:8080/",
          "height": 404
        },
        "id": "e9N2-ucgUMcd",
        "outputId": "ba107879-8b5f-4bfb-dcbe-0875aad4ab71"
      },
      "source": [
        "history = regressor.fit(x_train, y_train, validation_data=(x_val, y_val), batch_size=64, epochs=10, verbose=0)\n",
        "\n",
        "train_accuracy = history.history['accuracy']\n",
        "val_accuracy = history.history['val_accuracy']\n",
        "train_loss = history.history['loss']\n",
        "val_loss = history.history['val_loss']\n",
        "\n",
        "import matplotlib\n",
        "import matplotlib.pyplot as plt\n",
        "plt.figure(figsize=(18,6))\n",
        "plt.subplot(1,2,1)\n",
        "plt.title('Training and Validation accuracy by epoch', fontsize=16)\n",
        "plt.plot(train_accuracy, label='Training accuracy')\n",
        "plt.plot(val_accuracy, label='Validation accuracy')\n",
        "plt.legend(['Train acc', 'Val acc'])\n",
        "plt.xlabel('Epochs')\n",
        "plt.ylabel('Accuracy')\n",
        "\n",
        "plt.subplot(1,2,2)\n",
        "plt.title('Training and Validation loss by epoch', fontsize=16)\n",
        "plt.plot(train_loss, label='Training loss')\n",
        "plt.plot(val_loss, label='Validation loss')\n",
        "plt.legend(['Train loss', 'Val loss'])\n",
        "plt.xlabel('Epochs')\n",
        "plt.ylabel('Loss')\n",
        "plt.show()"
      ],
      "execution_count": null,
      "outputs": [
        {
          "output_type": "display_data",
          "data": {
            "image/png": "[encoded data removed]",
            "text/plain": [
              "<Figure size 1296x432 with 2 Axes>"
            ]
          },
          "metadata": {
            "tags": [],
            "needs_background": "light"
          }
        }
      ]
    },
    {
      "cell_type": "code",
      "metadata": {
        "colab": {
          "base_uri": "https://localhost:8080/"
        },
        "id": "r4aHY8LZVtp6",
        "outputId": "9bd37db2-0cb5-4021-a734-6ad19a5c1f7d"
      },
      "source": [
        "print(history.history[''])"
      ],
      "execution_count": null,
      "outputs": [
        {
          "output_type": "stream",
          "text": [
            "<tensorflow.python.keras.callbacks.History object at 0x7fa49230f0d0>\n"
          ],
          "name": "stdout"
        }
      ]
    },
    {
      "cell_type": "markdown",
      "metadata": {
        "id": "KJitnd4cjNxg"
      },
      "source": [
        ""
      ]
    }
  ]
}